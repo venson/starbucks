{
 "cells": [
  {
   "cell_type": "markdown",
   "metadata": {},
   "source": [
    "# Starbucks Capstone Challenge\n",
    "\n",
    "### Introduction\n",
    "\n",
    "This data set contains simulated data that mimics customer behavior on the Starbucks rewards mobile app. Once every few days, Starbucks sends out an offer to users of the mobile app. An offer can be merely an advertisement for a drink or an actual offer such as a discount or BOGO (buy one get one free). Some users might not receive any offer during certain weeks. \n",
    "\n",
    "Not all users receive the same offer, and that is the challenge to solve with this data set.\n",
    "\n",
    "Your task is to combine transaction, demographic and offer data to determine which demographic groups respond best to which offer type. This data set is a simplified version of the real Starbucks app because the underlying simulator only has one product whereas Starbucks actually sells dozens of products.\n",
    "\n",
    "Every offer has a validity period before the offer expires. As an example, a BOGO offer might be valid for only 5 days. You'll see in the data set that informational offers have a validity period even though these ads are merely providing information about a product; for example, if an informational offer has 7 days of validity, you can assume the customer is feeling the influence of the offer for 7 days after receiving the advertisement.\n",
    "\n",
    "You'll be given transactional data showing user purchases made on the app including the timestamp of purchase and the amount of money spent on a purchase. This transactional data also has a record for each offer that a user receives as well as a record for when a user actually views the offer. There are also records for when a user completes an offer. \n",
    "\n",
    "Keep in mind as well that someone using the app might make a purchase through the app without having received an offer or seen an offer.\n",
    "\n",
    "### Example\n",
    "\n",
    "To give an example, a user could receive a discount offer buy 10 dollars get 2 off on Monday. The offer is valid for 10 days from receipt. If the customer accumulates at least 10 dollars in purchases during the validity period, the customer completes the offer.\n",
    "\n",
    "However, there are a few things to watch out for in this data set. Customers do not opt into the offers that they receive; in other words, a user can receive an offer, never actually view the offer, and still complete the offer. For example, a user might receive the \"buy 10 dollars get 2 dollars off offer\", but the user never opens the offer during the 10 day validity period. The customer spends 15 dollars during those ten days. There will be an offer completion record in the data set; however, the customer was not influenced by the offer because the customer never viewed the offer.\n",
    "\n",
    "### Cleaning\n",
    "\n",
    "This makes data cleaning especially important and tricky.\n",
    "\n",
    "You'll also want to take into account that some demographic groups will make purchases even if they don't receive an offer. From a business perspective, if a customer is going to make a 10 dollar purchase without an offer anyway, you wouldn't want to send a buy 10 dollars get 2 dollars off offer. You'll want to try to assess what a certain demographic group will buy when not receiving any offers.\n",
    "\n",
    "### Final Advice\n",
    "\n",
    "Because this is a capstone project, you are free to analyze the data any way you see fit. For example, you could build a machine learning model that predicts how much someone will spend based on demographics and offer type. Or you could build a model that predicts whether or not someone will respond to an offer. Or, you don't need to build a machine learning model at all. You could develop a set of heuristics that determine what offer you should send to each customer (i.e., 75 percent of women customers who were 35 years old responded to offer A vs 40 percent from the same demographic to offer B, so send offer A)."
   ]
  },
  {
   "cell_type": "markdown",
   "metadata": {},
   "source": [
    "# Data Sets\n",
    "\n",
    "The data is contained in three files:\n",
    "\n",
    "* portfolio.json - containing offer ids and meta data about each offer (duration, type, etc.)\n",
    "* profile.json - demographic data for each customer\n",
    "* transcript.json - records for transactions, offers received, offers viewed, and offers completed\n",
    "\n",
    "Here is the schema and explanation of each variable in the files:\n",
    "\n",
    "**portfolio.json**\n",
    "* id (string) - offer id\n",
    "* offer_type (string) - type of offer ie BOGO, discount, informational\n",
    "* difficulty (int) - minimum required spend to complete an offer\n",
    "* reward (int) - reward given for completing an offer\n",
    "* duration (int) - time for offer to be open, in days\n",
    "* channels (list of strings)\n",
    "\n",
    "**profile.json**\n",
    "* age (int) - age of the customer \n",
    "* became_member_on (int) - date when customer created an app account\n",
    "* gender (str) - gender of the customer (note some entries contain 'O' for other rather than M or F)\n",
    "* id (str) - customer id\n",
    "* income (float) - customer's income\n",
    "\n",
    "**transcript.json**\n",
    "* event (str) - record description (ie transaction, offer received, offer viewed, etc.)\n",
    "* person (str) - customer id\n",
    "* time (int) - time in hours since start of test. The data begins at time t=0\n",
    "* value - (dict of strings) - either an offer id or transaction amount depending on the record\n",
    "\n",
    "**Note:** If you are using the workspace, you will need to go to the terminal and run the command `conda update pandas` before reading in the files. This is because the version of pandas in the workspace cannot read in the transcript.json file correctly, but the newest version of pandas can. You can access the termnal from the orange icon in the top left of this notebook.  \n",
    "\n",
    "You can see how to access the terminal and how the install works using the two images below.  First you need to access the terminal:\n",
    "\n",
    "<img src=\"pic1.png\"/>\n",
    "\n",
    "Then you will want to run the above command:\n",
    "\n",
    "<img src=\"pic2.png\"/>\n",
    "\n",
    "Finally, when you enter back into the notebook (use the jupyter icon again), you should be able to run the below cell without any errors."
   ]
  },
  {
   "cell_type": "markdown",
   "metadata": {},
   "source": [
    "# Section 1:Business Understaning\n",
    "\n",
    "The starbucks data give a situation about Sale Promotion with cupon. It give the customers a discount of BOGO(buy one get one free), which will prompt the sale if the customer use it. Customer get discount, starbuck get sale promotion and build customer potential consumption pattern.\n",
    "\n",
    "For accuracy we should find out how to use the cupon:\n",
    "1. Is it benifit for starbucks\n",
    "2. if it worthy enough, who should we give the cupon.\n",
    "\n",
    "\n",
    "Final Goal:\n",
    "1. More orders for LOW frequency and new customers.\n",
    "2. Steady order for regular customers.\n",
    "3. Reward for loyal customers."
   ]
  },
  {
   "cell_type": "markdown",
   "metadata": {},
   "source": [
    "# Section 2:Data Understaning"
   ]
  },
  {
   "cell_type": "markdown",
   "metadata": {},
   "source": [
    "## 1. Gather"
   ]
  },
  {
   "cell_type": "code",
   "execution_count": 1,
   "metadata": {},
   "outputs": [],
   "source": [
    "import pandas as pd\n",
    "import numpy as np\n",
    "import matplotlib.pyplot as plt\n",
    "import math\n",
    "import json\n",
    "import re\n",
    "import math\n",
    "import seaborn as sns\n",
    "import scipy.stats as stats\n",
    "from sklearn.model_selection import train_test_split\n",
    "from sklearn.model_selection import RandomizedSearchCV\n",
    "from sklearn.preprocessing import StandardScaler\n",
    "from sklearn.preprocessing import RobustScaler\n",
    "from sklearn.preprocessing import MinMaxScaler\n",
    "from sklearn.linear_model import LinearRegression\n",
    "from sklearn.ensemble import RandomForestRegressor\n",
    "from sklearn.linear_model import LogisticRegression\n",
    "%matplotlib inline\n",
    "\n",
    "### Gaather Data###\n",
    "# read in the json files\n",
    "portfolio = pd.read_json('data/portfolio.json', orient='records', lines=True)\n",
    "profile = pd.read_json('data/profile.json', orient='records', lines=True)\n",
    "transcript = pd.read_json('data/transcript.json', orient='records', lines=True)"
   ]
  },
  {
   "cell_type": "code",
   "execution_count": 2,
   "metadata": {},
   "outputs": [
    {
     "data": {
      "text/html": [
       "<div>\n",
       "<style scoped>\n",
       "    .dataframe tbody tr th:only-of-type {\n",
       "        vertical-align: middle;\n",
       "    }\n",
       "\n",
       "    .dataframe tbody tr th {\n",
       "        vertical-align: top;\n",
       "    }\n",
       "\n",
       "    .dataframe thead th {\n",
       "        text-align: right;\n",
       "    }\n",
       "</style>\n",
       "<table border=\"1\" class=\"dataframe\">\n",
       "  <thead>\n",
       "    <tr style=\"text-align: right;\">\n",
       "      <th></th>\n",
       "      <th>gender</th>\n",
       "      <th>age</th>\n",
       "      <th>id</th>\n",
       "      <th>became_member_on</th>\n",
       "      <th>income</th>\n",
       "    </tr>\n",
       "  </thead>\n",
       "  <tbody>\n",
       "    <tr>\n",
       "      <th>0</th>\n",
       "      <td>None</td>\n",
       "      <td>118</td>\n",
       "      <td>68be06ca386d4c31939f3a4f0e3dd783</td>\n",
       "      <td>20170212</td>\n",
       "      <td>NaN</td>\n",
       "    </tr>\n",
       "    <tr>\n",
       "      <th>1</th>\n",
       "      <td>F</td>\n",
       "      <td>55</td>\n",
       "      <td>0610b486422d4921ae7d2bf64640c50b</td>\n",
       "      <td>20170715</td>\n",
       "      <td>112000.0</td>\n",
       "    </tr>\n",
       "    <tr>\n",
       "      <th>2</th>\n",
       "      <td>None</td>\n",
       "      <td>118</td>\n",
       "      <td>38fe809add3b4fcf9315a9694bb96ff5</td>\n",
       "      <td>20180712</td>\n",
       "      <td>NaN</td>\n",
       "    </tr>\n",
       "    <tr>\n",
       "      <th>3</th>\n",
       "      <td>F</td>\n",
       "      <td>75</td>\n",
       "      <td>78afa995795e4d85b5d9ceeca43f5fef</td>\n",
       "      <td>20170509</td>\n",
       "      <td>100000.0</td>\n",
       "    </tr>\n",
       "    <tr>\n",
       "      <th>4</th>\n",
       "      <td>None</td>\n",
       "      <td>118</td>\n",
       "      <td>a03223e636434f42ac4c3df47e8bac43</td>\n",
       "      <td>20170804</td>\n",
       "      <td>NaN</td>\n",
       "    </tr>\n",
       "  </tbody>\n",
       "</table>\n",
       "</div>"
      ],
      "text/plain": [
       "  gender  age                                id  became_member_on    income\n",
       "0   None  118  68be06ca386d4c31939f3a4f0e3dd783          20170212       NaN\n",
       "1      F   55  0610b486422d4921ae7d2bf64640c50b          20170715  112000.0\n",
       "2   None  118  38fe809add3b4fcf9315a9694bb96ff5          20180712       NaN\n",
       "3      F   75  78afa995795e4d85b5d9ceeca43f5fef          20170509  100000.0\n",
       "4   None  118  a03223e636434f42ac4c3df47e8bac43          20170804       NaN"
      ]
     },
     "execution_count": 2,
     "metadata": {},
     "output_type": "execute_result"
    }
   ],
   "source": [
    "profile.head()"
   ]
  },
  {
   "cell_type": "code",
   "execution_count": 3,
   "metadata": {},
   "outputs": [],
   "source": [
    "from sklearn.metrics import ConfusionMatrixDisplay"
   ]
  },
  {
   "cell_type": "code",
   "execution_count": 4,
   "metadata": {},
   "outputs": [
    {
     "name": "stdout",
     "output_type": "stream",
     "text": [
      "Object `ConfusionMatrixDisplay.from_enumetor` not found.\n"
     ]
    }
   ],
   "source": [
    "ConfusionMatrixDisplay.from_enumetor?"
   ]
  },
  {
   "cell_type": "code",
   "execution_count": 5,
   "metadata": {},
   "outputs": [
    {
     "data": {
      "text/html": [
       "<div>\n",
       "<style scoped>\n",
       "    .dataframe tbody tr th:only-of-type {\n",
       "        vertical-align: middle;\n",
       "    }\n",
       "\n",
       "    .dataframe tbody tr th {\n",
       "        vertical-align: top;\n",
       "    }\n",
       "\n",
       "    .dataframe thead th {\n",
       "        text-align: right;\n",
       "    }\n",
       "</style>\n",
       "<table border=\"1\" class=\"dataframe\">\n",
       "  <thead>\n",
       "    <tr style=\"text-align: right;\">\n",
       "      <th></th>\n",
       "      <th>age</th>\n",
       "      <th>became_member_on</th>\n",
       "      <th>income</th>\n",
       "    </tr>\n",
       "  </thead>\n",
       "  <tbody>\n",
       "    <tr>\n",
       "      <th>count</th>\n",
       "      <td>17000.000000</td>\n",
       "      <td>1.700000e+04</td>\n",
       "      <td>14825.000000</td>\n",
       "    </tr>\n",
       "    <tr>\n",
       "      <th>mean</th>\n",
       "      <td>62.531412</td>\n",
       "      <td>2.016703e+07</td>\n",
       "      <td>65404.991568</td>\n",
       "    </tr>\n",
       "    <tr>\n",
       "      <th>std</th>\n",
       "      <td>26.738580</td>\n",
       "      <td>1.167750e+04</td>\n",
       "      <td>21598.299410</td>\n",
       "    </tr>\n",
       "    <tr>\n",
       "      <th>min</th>\n",
       "      <td>18.000000</td>\n",
       "      <td>2.013073e+07</td>\n",
       "      <td>30000.000000</td>\n",
       "    </tr>\n",
       "    <tr>\n",
       "      <th>25%</th>\n",
       "      <td>45.000000</td>\n",
       "      <td>2.016053e+07</td>\n",
       "      <td>49000.000000</td>\n",
       "    </tr>\n",
       "    <tr>\n",
       "      <th>50%</th>\n",
       "      <td>58.000000</td>\n",
       "      <td>2.017080e+07</td>\n",
       "      <td>64000.000000</td>\n",
       "    </tr>\n",
       "    <tr>\n",
       "      <th>75%</th>\n",
       "      <td>73.000000</td>\n",
       "      <td>2.017123e+07</td>\n",
       "      <td>80000.000000</td>\n",
       "    </tr>\n",
       "    <tr>\n",
       "      <th>max</th>\n",
       "      <td>118.000000</td>\n",
       "      <td>2.018073e+07</td>\n",
       "      <td>120000.000000</td>\n",
       "    </tr>\n",
       "  </tbody>\n",
       "</table>\n",
       "</div>"
      ],
      "text/plain": [
       "                age  became_member_on         income\n",
       "count  17000.000000      1.700000e+04   14825.000000\n",
       "mean      62.531412      2.016703e+07   65404.991568\n",
       "std       26.738580      1.167750e+04   21598.299410\n",
       "min       18.000000      2.013073e+07   30000.000000\n",
       "25%       45.000000      2.016053e+07   49000.000000\n",
       "50%       58.000000      2.017080e+07   64000.000000\n",
       "75%       73.000000      2.017123e+07   80000.000000\n",
       "max      118.000000      2.018073e+07  120000.000000"
      ]
     },
     "execution_count": 5,
     "metadata": {},
     "output_type": "execute_result"
    }
   ],
   "source": [
    "profile.describe()"
   ]
  },
  {
   "cell_type": "code",
   "execution_count": null,
   "metadata": {},
   "outputs": [],
   "source": []
  },
  {
   "cell_type": "code",
   "execution_count": 6,
   "metadata": {},
   "outputs": [
    {
     "data": {
      "text/plain": [
       "0"
      ]
     },
     "execution_count": 6,
     "metadata": {},
     "output_type": "execute_result"
    }
   ],
   "source": [
    "profile.duplicated().sum()"
   ]
  },
  {
   "cell_type": "code",
   "execution_count": 7,
   "metadata": {},
   "outputs": [
    {
     "data": {
      "text/html": [
       "<div>\n",
       "<style scoped>\n",
       "    .dataframe tbody tr th:only-of-type {\n",
       "        vertical-align: middle;\n",
       "    }\n",
       "\n",
       "    .dataframe tbody tr th {\n",
       "        vertical-align: top;\n",
       "    }\n",
       "\n",
       "    .dataframe thead th {\n",
       "        text-align: right;\n",
       "    }\n",
       "</style>\n",
       "<table border=\"1\" class=\"dataframe\">\n",
       "  <thead>\n",
       "    <tr style=\"text-align: right;\">\n",
       "      <th></th>\n",
       "      <th>person</th>\n",
       "      <th>event</th>\n",
       "      <th>value</th>\n",
       "      <th>time</th>\n",
       "    </tr>\n",
       "  </thead>\n",
       "  <tbody>\n",
       "    <tr>\n",
       "      <th>0</th>\n",
       "      <td>78afa995795e4d85b5d9ceeca43f5fef</td>\n",
       "      <td>offer received</td>\n",
       "      <td>{'offer id': '9b98b8c7a33c4b65b9aebfe6a799e6d9'}</td>\n",
       "      <td>0</td>\n",
       "    </tr>\n",
       "    <tr>\n",
       "      <th>1</th>\n",
       "      <td>a03223e636434f42ac4c3df47e8bac43</td>\n",
       "      <td>offer received</td>\n",
       "      <td>{'offer id': '0b1e1539f2cc45b7b9fa7c272da2e1d7'}</td>\n",
       "      <td>0</td>\n",
       "    </tr>\n",
       "    <tr>\n",
       "      <th>2</th>\n",
       "      <td>e2127556f4f64592b11af22de27a7932</td>\n",
       "      <td>offer received</td>\n",
       "      <td>{'offer id': '2906b810c7d4411798c6938adc9daaa5'}</td>\n",
       "      <td>0</td>\n",
       "    </tr>\n",
       "    <tr>\n",
       "      <th>3</th>\n",
       "      <td>8ec6ce2a7e7949b1bf142def7d0e0586</td>\n",
       "      <td>offer received</td>\n",
       "      <td>{'offer id': 'fafdcd668e3743c1bb461111dcafc2a4'}</td>\n",
       "      <td>0</td>\n",
       "    </tr>\n",
       "    <tr>\n",
       "      <th>4</th>\n",
       "      <td>68617ca6246f4fbc85e91a2a49552598</td>\n",
       "      <td>offer received</td>\n",
       "      <td>{'offer id': '4d5c57ea9a6940dd891ad53e9dbe8da0'}</td>\n",
       "      <td>0</td>\n",
       "    </tr>\n",
       "  </tbody>\n",
       "</table>\n",
       "</div>"
      ],
      "text/plain": [
       "                             person           event  \\\n",
       "0  78afa995795e4d85b5d9ceeca43f5fef  offer received   \n",
       "1  a03223e636434f42ac4c3df47e8bac43  offer received   \n",
       "2  e2127556f4f64592b11af22de27a7932  offer received   \n",
       "3  8ec6ce2a7e7949b1bf142def7d0e0586  offer received   \n",
       "4  68617ca6246f4fbc85e91a2a49552598  offer received   \n",
       "\n",
       "                                              value  time  \n",
       "0  {'offer id': '9b98b8c7a33c4b65b9aebfe6a799e6d9'}     0  \n",
       "1  {'offer id': '0b1e1539f2cc45b7b9fa7c272da2e1d7'}     0  \n",
       "2  {'offer id': '2906b810c7d4411798c6938adc9daaa5'}     0  \n",
       "3  {'offer id': 'fafdcd668e3743c1bb461111dcafc2a4'}     0  \n",
       "4  {'offer id': '4d5c57ea9a6940dd891ad53e9dbe8da0'}     0  "
      ]
     },
     "execution_count": 7,
     "metadata": {},
     "output_type": "execute_result"
    }
   ],
   "source": [
    "transcript.head()"
   ]
  },
  {
   "cell_type": "markdown",
   "metadata": {},
   "source": [
    "## 2. Cleaning"
   ]
  },
  {
   "cell_type": "markdown",
   "metadata": {},
   "source": [
    "### 2.1 Cleaning \"profile\""
   ]
  },
  {
   "cell_type": "markdown",
   "metadata": {
    "tags": []
   },
   "source": [
    "1. There are a lot of customers at age 118.Those are the people who do not want to give the age informations. We will consider that as a NaN.\n",
    "2. \"id\" in profile is a hashtag, we will replace it with numbers for clearity."
   ]
  },
  {
   "cell_type": "code",
   "execution_count": 8,
   "metadata": {},
   "outputs": [
    {
     "data": {
      "text/html": [
       "<div>\n",
       "<style scoped>\n",
       "    .dataframe tbody tr th:only-of-type {\n",
       "        vertical-align: middle;\n",
       "    }\n",
       "\n",
       "    .dataframe tbody tr th {\n",
       "        vertical-align: top;\n",
       "    }\n",
       "\n",
       "    .dataframe thead th {\n",
       "        text-align: right;\n",
       "    }\n",
       "</style>\n",
       "<table border=\"1\" class=\"dataframe\">\n",
       "  <thead>\n",
       "    <tr style=\"text-align: right;\">\n",
       "      <th></th>\n",
       "      <th>gender</th>\n",
       "      <th>age</th>\n",
       "      <th>became_member_on</th>\n",
       "      <th>income</th>\n",
       "      <th>person_id</th>\n",
       "    </tr>\n",
       "  </thead>\n",
       "  <tbody>\n",
       "    <tr>\n",
       "      <th>0</th>\n",
       "      <td>None</td>\n",
       "      <td>NaN</td>\n",
       "      <td>20170212</td>\n",
       "      <td>NaN</td>\n",
       "      <td>0</td>\n",
       "    </tr>\n",
       "    <tr>\n",
       "      <th>1</th>\n",
       "      <td>F</td>\n",
       "      <td>55.0</td>\n",
       "      <td>20170715</td>\n",
       "      <td>112000.0</td>\n",
       "      <td>1</td>\n",
       "    </tr>\n",
       "    <tr>\n",
       "      <th>2</th>\n",
       "      <td>None</td>\n",
       "      <td>NaN</td>\n",
       "      <td>20180712</td>\n",
       "      <td>NaN</td>\n",
       "      <td>2</td>\n",
       "    </tr>\n",
       "    <tr>\n",
       "      <th>3</th>\n",
       "      <td>F</td>\n",
       "      <td>75.0</td>\n",
       "      <td>20170509</td>\n",
       "      <td>100000.0</td>\n",
       "      <td>3</td>\n",
       "    </tr>\n",
       "    <tr>\n",
       "      <th>4</th>\n",
       "      <td>None</td>\n",
       "      <td>NaN</td>\n",
       "      <td>20170804</td>\n",
       "      <td>NaN</td>\n",
       "      <td>4</td>\n",
       "    </tr>\n",
       "  </tbody>\n",
       "</table>\n",
       "</div>"
      ],
      "text/plain": [
       "  gender   age  became_member_on    income  person_id\n",
       "0   None   NaN          20170212       NaN          0\n",
       "1      F  55.0          20170715  112000.0          1\n",
       "2   None   NaN          20180712       NaN          2\n",
       "3      F  75.0          20170509  100000.0          3\n",
       "4   None   NaN          20170804       NaN          4"
      ]
     },
     "execution_count": 8,
     "metadata": {},
     "output_type": "execute_result"
    }
   ],
   "source": [
    "def create_user_id_map(data = profile):\n",
    "    user_id_map = pd.DataFrame(\n",
    "        {'person':data['id'],\n",
    "         'person_id': range(len(data['id']))\n",
    "        })\n",
    "    return user_id_map\n",
    "user_id_map = create_user_id_map()\n",
    "\n",
    "def clean_profile(data = profile, user_id_map = user_id_map):\n",
    "    \n",
    "    profile_new = data.merge(user_id_map,how = 'left', left_on = 'id', right_on = 'person')\n",
    "    profile_new.drop(['id', 'person'], axis = 1, inplace = True)\n",
    "    profile_new.loc[profile_new['age'] >= 100 , 'age'] = np.nan\n",
    "    #profile_new['income']  = np.log10(profile_new['income'])\n",
    "    return profile_new\n",
    "clean_profile = clean_profile()\n",
    "\n",
    "\n",
    "clean_profile.head()"
   ]
  },
  {
   "cell_type": "markdown",
   "metadata": {
    "tags": []
   },
   "source": [
    "### 2.2 Cleaning \"portfolio\". \n",
    "\n",
    "1. Replace id with offer_id base on id mapping table.\n",
    "2. Split channels into columns."
   ]
  },
  {
   "cell_type": "code",
   "execution_count": 9,
   "metadata": {},
   "outputs": [
    {
     "data": {
      "text/html": [
       "<div>\n",
       "<style scoped>\n",
       "    .dataframe tbody tr th:only-of-type {\n",
       "        vertical-align: middle;\n",
       "    }\n",
       "\n",
       "    .dataframe tbody tr th {\n",
       "        vertical-align: top;\n",
       "    }\n",
       "\n",
       "    .dataframe thead th {\n",
       "        text-align: right;\n",
       "    }\n",
       "</style>\n",
       "<table border=\"1\" class=\"dataframe\">\n",
       "  <thead>\n",
       "    <tr style=\"text-align: right;\">\n",
       "      <th></th>\n",
       "      <th>reward</th>\n",
       "      <th>channels</th>\n",
       "      <th>difficulty</th>\n",
       "      <th>duration</th>\n",
       "      <th>offer_type</th>\n",
       "      <th>id</th>\n",
       "    </tr>\n",
       "  </thead>\n",
       "  <tbody>\n",
       "    <tr>\n",
       "      <th>0</th>\n",
       "      <td>10</td>\n",
       "      <td>[email, mobile, social]</td>\n",
       "      <td>10</td>\n",
       "      <td>7</td>\n",
       "      <td>bogo</td>\n",
       "      <td>ae264e3637204a6fb9bb56bc8210ddfd</td>\n",
       "    </tr>\n",
       "    <tr>\n",
       "      <th>1</th>\n",
       "      <td>10</td>\n",
       "      <td>[web, email, mobile, social]</td>\n",
       "      <td>10</td>\n",
       "      <td>5</td>\n",
       "      <td>bogo</td>\n",
       "      <td>4d5c57ea9a6940dd891ad53e9dbe8da0</td>\n",
       "    </tr>\n",
       "    <tr>\n",
       "      <th>2</th>\n",
       "      <td>0</td>\n",
       "      <td>[web, email, mobile]</td>\n",
       "      <td>0</td>\n",
       "      <td>4</td>\n",
       "      <td>informational</td>\n",
       "      <td>3f207df678b143eea3cee63160fa8bed</td>\n",
       "    </tr>\n",
       "    <tr>\n",
       "      <th>3</th>\n",
       "      <td>5</td>\n",
       "      <td>[web, email, mobile]</td>\n",
       "      <td>5</td>\n",
       "      <td>7</td>\n",
       "      <td>bogo</td>\n",
       "      <td>9b98b8c7a33c4b65b9aebfe6a799e6d9</td>\n",
       "    </tr>\n",
       "    <tr>\n",
       "      <th>4</th>\n",
       "      <td>5</td>\n",
       "      <td>[web, email]</td>\n",
       "      <td>20</td>\n",
       "      <td>10</td>\n",
       "      <td>discount</td>\n",
       "      <td>0b1e1539f2cc45b7b9fa7c272da2e1d7</td>\n",
       "    </tr>\n",
       "    <tr>\n",
       "      <th>5</th>\n",
       "      <td>3</td>\n",
       "      <td>[web, email, mobile, social]</td>\n",
       "      <td>7</td>\n",
       "      <td>7</td>\n",
       "      <td>discount</td>\n",
       "      <td>2298d6c36e964ae4a3e7e9706d1fb8c2</td>\n",
       "    </tr>\n",
       "    <tr>\n",
       "      <th>6</th>\n",
       "      <td>2</td>\n",
       "      <td>[web, email, mobile, social]</td>\n",
       "      <td>10</td>\n",
       "      <td>10</td>\n",
       "      <td>discount</td>\n",
       "      <td>fafdcd668e3743c1bb461111dcafc2a4</td>\n",
       "    </tr>\n",
       "    <tr>\n",
       "      <th>7</th>\n",
       "      <td>0</td>\n",
       "      <td>[email, mobile, social]</td>\n",
       "      <td>0</td>\n",
       "      <td>3</td>\n",
       "      <td>informational</td>\n",
       "      <td>5a8bc65990b245e5a138643cd4eb9837</td>\n",
       "    </tr>\n",
       "    <tr>\n",
       "      <th>8</th>\n",
       "      <td>5</td>\n",
       "      <td>[web, email, mobile, social]</td>\n",
       "      <td>5</td>\n",
       "      <td>5</td>\n",
       "      <td>bogo</td>\n",
       "      <td>f19421c1d4aa40978ebb69ca19b0e20d</td>\n",
       "    </tr>\n",
       "    <tr>\n",
       "      <th>9</th>\n",
       "      <td>2</td>\n",
       "      <td>[web, email, mobile]</td>\n",
       "      <td>10</td>\n",
       "      <td>7</td>\n",
       "      <td>discount</td>\n",
       "      <td>2906b810c7d4411798c6938adc9daaa5</td>\n",
       "    </tr>\n",
       "  </tbody>\n",
       "</table>\n",
       "</div>"
      ],
      "text/plain": [
       "   reward                      channels  difficulty  duration     offer_type  \\\n",
       "0      10       [email, mobile, social]          10         7           bogo   \n",
       "1      10  [web, email, mobile, social]          10         5           bogo   \n",
       "2       0          [web, email, mobile]           0         4  informational   \n",
       "3       5          [web, email, mobile]           5         7           bogo   \n",
       "4       5                  [web, email]          20        10       discount   \n",
       "5       3  [web, email, mobile, social]           7         7       discount   \n",
       "6       2  [web, email, mobile, social]          10        10       discount   \n",
       "7       0       [email, mobile, social]           0         3  informational   \n",
       "8       5  [web, email, mobile, social]           5         5           bogo   \n",
       "9       2          [web, email, mobile]          10         7       discount   \n",
       "\n",
       "                                 id  \n",
       "0  ae264e3637204a6fb9bb56bc8210ddfd  \n",
       "1  4d5c57ea9a6940dd891ad53e9dbe8da0  \n",
       "2  3f207df678b143eea3cee63160fa8bed  \n",
       "3  9b98b8c7a33c4b65b9aebfe6a799e6d9  \n",
       "4  0b1e1539f2cc45b7b9fa7c272da2e1d7  \n",
       "5  2298d6c36e964ae4a3e7e9706d1fb8c2  \n",
       "6  fafdcd668e3743c1bb461111dcafc2a4  \n",
       "7  5a8bc65990b245e5a138643cd4eb9837  \n",
       "8  f19421c1d4aa40978ebb69ca19b0e20d  \n",
       "9  2906b810c7d4411798c6938adc9daaa5  "
      ]
     },
     "execution_count": 9,
     "metadata": {},
     "output_type": "execute_result"
    }
   ],
   "source": [
    "portfolio"
   ]
  },
  {
   "cell_type": "code",
   "execution_count": 10,
   "metadata": {},
   "outputs": [
    {
     "data": {
      "text/html": [
       "<div>\n",
       "<style scoped>\n",
       "    .dataframe tbody tr th:only-of-type {\n",
       "        vertical-align: middle;\n",
       "    }\n",
       "\n",
       "    .dataframe tbody tr th {\n",
       "        vertical-align: top;\n",
       "    }\n",
       "\n",
       "    .dataframe thead th {\n",
       "        text-align: right;\n",
       "    }\n",
       "</style>\n",
       "<table border=\"1\" class=\"dataframe\">\n",
       "  <thead>\n",
       "    <tr style=\"text-align: right;\">\n",
       "      <th></th>\n",
       "      <th>offer_id</th>\n",
       "      <th>portfolio_id</th>\n",
       "    </tr>\n",
       "  </thead>\n",
       "  <tbody>\n",
       "    <tr>\n",
       "      <th>0</th>\n",
       "      <td>BOGO_r10_d10_u7</td>\n",
       "      <td>ae264e3637204a6fb9bb56bc8210ddfd</td>\n",
       "    </tr>\n",
       "    <tr>\n",
       "      <th>1</th>\n",
       "      <td>BOGO_r10_d10_u5</td>\n",
       "      <td>4d5c57ea9a6940dd891ad53e9dbe8da0</td>\n",
       "    </tr>\n",
       "    <tr>\n",
       "      <th>2</th>\n",
       "      <td>INFO_u4</td>\n",
       "      <td>3f207df678b143eea3cee63160fa8bed</td>\n",
       "    </tr>\n",
       "    <tr>\n",
       "      <th>3</th>\n",
       "      <td>BOGO_r5_d5_u7</td>\n",
       "      <td>9b98b8c7a33c4b65b9aebfe6a799e6d9</td>\n",
       "    </tr>\n",
       "    <tr>\n",
       "      <th>4</th>\n",
       "      <td>DIS_r5_d20_u10</td>\n",
       "      <td>0b1e1539f2cc45b7b9fa7c272da2e1d7</td>\n",
       "    </tr>\n",
       "    <tr>\n",
       "      <th>5</th>\n",
       "      <td>DIS_r3_d7_u7</td>\n",
       "      <td>2298d6c36e964ae4a3e7e9706d1fb8c2</td>\n",
       "    </tr>\n",
       "    <tr>\n",
       "      <th>6</th>\n",
       "      <td>DIS_r2_d10_u10</td>\n",
       "      <td>fafdcd668e3743c1bb461111dcafc2a4</td>\n",
       "    </tr>\n",
       "    <tr>\n",
       "      <th>7</th>\n",
       "      <td>INFO_u3</td>\n",
       "      <td>5a8bc65990b245e5a138643cd4eb9837</td>\n",
       "    </tr>\n",
       "    <tr>\n",
       "      <th>8</th>\n",
       "      <td>BOGO_r5_d5_u5</td>\n",
       "      <td>f19421c1d4aa40978ebb69ca19b0e20d</td>\n",
       "    </tr>\n",
       "    <tr>\n",
       "      <th>9</th>\n",
       "      <td>DIS_r2_d10_u7</td>\n",
       "      <td>2906b810c7d4411798c6938adc9daaa5</td>\n",
       "    </tr>\n",
       "  </tbody>\n",
       "</table>\n",
       "</div>"
      ],
      "text/plain": [
       "          offer_id                      portfolio_id\n",
       "0  BOGO_r10_d10_u7  ae264e3637204a6fb9bb56bc8210ddfd\n",
       "1  BOGO_r10_d10_u5  4d5c57ea9a6940dd891ad53e9dbe8da0\n",
       "2          INFO_u4  3f207df678b143eea3cee63160fa8bed\n",
       "3    BOGO_r5_d5_u7  9b98b8c7a33c4b65b9aebfe6a799e6d9\n",
       "4   DIS_r5_d20_u10  0b1e1539f2cc45b7b9fa7c272da2e1d7\n",
       "5     DIS_r3_d7_u7  2298d6c36e964ae4a3e7e9706d1fb8c2\n",
       "6   DIS_r2_d10_u10  fafdcd668e3743c1bb461111dcafc2a4\n",
       "7          INFO_u3  5a8bc65990b245e5a138643cd4eb9837\n",
       "8    BOGO_r5_d5_u5  f19421c1d4aa40978ebb69ca19b0e20d\n",
       "9    DIS_r2_d10_u7  2906b810c7d4411798c6938adc9daaa5"
      ]
     },
     "execution_count": 10,
     "metadata": {},
     "output_type": "execute_result"
    }
   ],
   "source": [
    "map_dict = {'offer_id': ['BOGO_r10_d10_u7',\n",
    "                         'BOGO_r10_d10_u5',\n",
    "                         'INFO_u4',\n",
    "                         'BOGO_r5_d5_u7',\n",
    "                         'DIS_r5_d20_u10',\n",
    "                         'DIS_r3_d7_u7',\n",
    "                         'DIS_r2_d10_u10',\n",
    "                         'INFO_u3',\n",
    "                         'BOGO_r5_d5_u5',\n",
    "                         'DIS_r2_d10_u7']}\n",
    "offer_id_map = pd.DataFrame(map_dict)\n",
    "offer_id_map = offer_id_map.merge(portfolio.loc[:,'id'], left_index = True, right_index = True)\n",
    "offer_id_map.rename(columns = {'id':'portfolio_id'}, inplace = True)\n",
    "offer_id_map"
   ]
  },
  {
   "cell_type": "code",
   "execution_count": 11,
   "metadata": {},
   "outputs": [],
   "source": [
    "def clean_portfolio(portfolio = portfolio, offer_id_map = offer_id_map):\n",
    "    \"\"\"\n",
    "    clean the portfolio data, change \"ID\" into \"offer_id\" according to offer_id_map\n",
    "    split channels into columns\n",
    "    \n",
    "    \n",
    "    \"\"\"\n",
    "    port_clean = portfolio.copy()\n",
    "    channel_list = []\n",
    "    for channel in portfolio['channels']:\n",
    "        channel_list.extend(channel)\n",
    "    channel_set = set(channel_list)\n",
    "    \n",
    "    # convert channels into dummies\n",
    "    for channel in channel_set:\n",
    "        port_clean['channel_' + channel] = port_clean['channels'].apply(lambda x: x.count(channel)>0)\n",
    "        \n",
    "    # change id according to offer_id_map\n",
    "    \n",
    "    port_clean = port_clean.merge(offer_id_map, left_on= 'id', right_on = 'portfolio_id')\n",
    "        \n",
    "    \n",
    "    port_clean.drop(['channels','id', 'portfolio_id'], axis = 1, inplace = True)\n",
    "    return port_clean\n",
    "\n",
    "portfolio_clean = clean_portfolio()"
   ]
  },
  {
   "cell_type": "code",
   "execution_count": 12,
   "metadata": {},
   "outputs": [
    {
     "data": {
      "text/html": [
       "<div>\n",
       "<style scoped>\n",
       "    .dataframe tbody tr th:only-of-type {\n",
       "        vertical-align: middle;\n",
       "    }\n",
       "\n",
       "    .dataframe tbody tr th {\n",
       "        vertical-align: top;\n",
       "    }\n",
       "\n",
       "    .dataframe thead th {\n",
       "        text-align: right;\n",
       "    }\n",
       "</style>\n",
       "<table border=\"1\" class=\"dataframe\">\n",
       "  <thead>\n",
       "    <tr style=\"text-align: right;\">\n",
       "      <th></th>\n",
       "      <th>reward</th>\n",
       "      <th>difficulty</th>\n",
       "      <th>duration</th>\n",
       "      <th>offer_type</th>\n",
       "      <th>channel_web</th>\n",
       "      <th>channel_email</th>\n",
       "      <th>channel_mobile</th>\n",
       "      <th>channel_social</th>\n",
       "      <th>offer_id</th>\n",
       "    </tr>\n",
       "  </thead>\n",
       "  <tbody>\n",
       "    <tr>\n",
       "      <th>0</th>\n",
       "      <td>10</td>\n",
       "      <td>10</td>\n",
       "      <td>7</td>\n",
       "      <td>bogo</td>\n",
       "      <td>False</td>\n",
       "      <td>True</td>\n",
       "      <td>True</td>\n",
       "      <td>True</td>\n",
       "      <td>BOGO_r10_d10_u7</td>\n",
       "    </tr>\n",
       "    <tr>\n",
       "      <th>1</th>\n",
       "      <td>10</td>\n",
       "      <td>10</td>\n",
       "      <td>5</td>\n",
       "      <td>bogo</td>\n",
       "      <td>True</td>\n",
       "      <td>True</td>\n",
       "      <td>True</td>\n",
       "      <td>True</td>\n",
       "      <td>BOGO_r10_d10_u5</td>\n",
       "    </tr>\n",
       "    <tr>\n",
       "      <th>2</th>\n",
       "      <td>0</td>\n",
       "      <td>0</td>\n",
       "      <td>4</td>\n",
       "      <td>informational</td>\n",
       "      <td>True</td>\n",
       "      <td>True</td>\n",
       "      <td>True</td>\n",
       "      <td>False</td>\n",
       "      <td>INFO_u4</td>\n",
       "    </tr>\n",
       "    <tr>\n",
       "      <th>3</th>\n",
       "      <td>5</td>\n",
       "      <td>5</td>\n",
       "      <td>7</td>\n",
       "      <td>bogo</td>\n",
       "      <td>True</td>\n",
       "      <td>True</td>\n",
       "      <td>True</td>\n",
       "      <td>False</td>\n",
       "      <td>BOGO_r5_d5_u7</td>\n",
       "    </tr>\n",
       "    <tr>\n",
       "      <th>4</th>\n",
       "      <td>5</td>\n",
       "      <td>20</td>\n",
       "      <td>10</td>\n",
       "      <td>discount</td>\n",
       "      <td>True</td>\n",
       "      <td>True</td>\n",
       "      <td>False</td>\n",
       "      <td>False</td>\n",
       "      <td>DIS_r5_d20_u10</td>\n",
       "    </tr>\n",
       "    <tr>\n",
       "      <th>5</th>\n",
       "      <td>3</td>\n",
       "      <td>7</td>\n",
       "      <td>7</td>\n",
       "      <td>discount</td>\n",
       "      <td>True</td>\n",
       "      <td>True</td>\n",
       "      <td>True</td>\n",
       "      <td>True</td>\n",
       "      <td>DIS_r3_d7_u7</td>\n",
       "    </tr>\n",
       "    <tr>\n",
       "      <th>6</th>\n",
       "      <td>2</td>\n",
       "      <td>10</td>\n",
       "      <td>10</td>\n",
       "      <td>discount</td>\n",
       "      <td>True</td>\n",
       "      <td>True</td>\n",
       "      <td>True</td>\n",
       "      <td>True</td>\n",
       "      <td>DIS_r2_d10_u10</td>\n",
       "    </tr>\n",
       "    <tr>\n",
       "      <th>7</th>\n",
       "      <td>0</td>\n",
       "      <td>0</td>\n",
       "      <td>3</td>\n",
       "      <td>informational</td>\n",
       "      <td>False</td>\n",
       "      <td>True</td>\n",
       "      <td>True</td>\n",
       "      <td>True</td>\n",
       "      <td>INFO_u3</td>\n",
       "    </tr>\n",
       "    <tr>\n",
       "      <th>8</th>\n",
       "      <td>5</td>\n",
       "      <td>5</td>\n",
       "      <td>5</td>\n",
       "      <td>bogo</td>\n",
       "      <td>True</td>\n",
       "      <td>True</td>\n",
       "      <td>True</td>\n",
       "      <td>True</td>\n",
       "      <td>BOGO_r5_d5_u5</td>\n",
       "    </tr>\n",
       "    <tr>\n",
       "      <th>9</th>\n",
       "      <td>2</td>\n",
       "      <td>10</td>\n",
       "      <td>7</td>\n",
       "      <td>discount</td>\n",
       "      <td>True</td>\n",
       "      <td>True</td>\n",
       "      <td>True</td>\n",
       "      <td>False</td>\n",
       "      <td>DIS_r2_d10_u7</td>\n",
       "    </tr>\n",
       "  </tbody>\n",
       "</table>\n",
       "</div>"
      ],
      "text/plain": [
       "   reward  difficulty  duration     offer_type  channel_web  channel_email  \\\n",
       "0      10          10         7           bogo        False           True   \n",
       "1      10          10         5           bogo         True           True   \n",
       "2       0           0         4  informational         True           True   \n",
       "3       5           5         7           bogo         True           True   \n",
       "4       5          20        10       discount         True           True   \n",
       "5       3           7         7       discount         True           True   \n",
       "6       2          10        10       discount         True           True   \n",
       "7       0           0         3  informational        False           True   \n",
       "8       5           5         5           bogo         True           True   \n",
       "9       2          10         7       discount         True           True   \n",
       "\n",
       "   channel_mobile  channel_social         offer_id  \n",
       "0            True            True  BOGO_r10_d10_u7  \n",
       "1            True            True  BOGO_r10_d10_u5  \n",
       "2            True           False          INFO_u4  \n",
       "3            True           False    BOGO_r5_d5_u7  \n",
       "4           False           False   DIS_r5_d20_u10  \n",
       "5            True            True     DIS_r3_d7_u7  \n",
       "6            True            True   DIS_r2_d10_u10  \n",
       "7            True            True          INFO_u3  \n",
       "8            True            True    BOGO_r5_d5_u5  \n",
       "9            True           False    DIS_r2_d10_u7  "
      ]
     },
     "execution_count": 12,
     "metadata": {},
     "output_type": "execute_result"
    }
   ],
   "source": [
    "portfolio_clean"
   ]
  },
  {
   "cell_type": "markdown",
   "metadata": {
    "tags": []
   },
   "source": [
    "### 2.3 Cleaning \"transcript\""
   ]
  },
  {
   "cell_type": "markdown",
   "metadata": {
    "tags": []
   },
   "source": [
    "1. replace person hashvalue with numeric person_id.\n",
    "2. extract information from value column.\n",
    "3. replace offer hashvalue with numeric offer_id."
   ]
  },
  {
   "cell_type": "code",
   "execution_count": 13,
   "metadata": {},
   "outputs": [
    {
     "name": "stdout",
     "output_type": "stream",
     "text": [
      "['offer received' 'offer viewed' 'transaction' 'offer completed']\n"
     ]
    },
    {
     "data": {
      "text/html": [
       "<div>\n",
       "<style scoped>\n",
       "    .dataframe tbody tr th:only-of-type {\n",
       "        vertical-align: middle;\n",
       "    }\n",
       "\n",
       "    .dataframe tbody tr th {\n",
       "        vertical-align: top;\n",
       "    }\n",
       "\n",
       "    .dataframe thead th {\n",
       "        text-align: right;\n",
       "    }\n",
       "</style>\n",
       "<table border=\"1\" class=\"dataframe\">\n",
       "  <thead>\n",
       "    <tr style=\"text-align: right;\">\n",
       "      <th></th>\n",
       "      <th>event</th>\n",
       "      <th>time</th>\n",
       "      <th>person_id</th>\n",
       "      <th>amount</th>\n",
       "      <th>reward</th>\n",
       "      <th>offer_id</th>\n",
       "    </tr>\n",
       "  </thead>\n",
       "  <tbody>\n",
       "    <tr>\n",
       "      <th>0</th>\n",
       "      <td>offer received</td>\n",
       "      <td>0</td>\n",
       "      <td>3</td>\n",
       "      <td>NaN</td>\n",
       "      <td>NaN</td>\n",
       "      <td>BOGO_r5_d5_u7</td>\n",
       "    </tr>\n",
       "    <tr>\n",
       "      <th>1</th>\n",
       "      <td>offer viewed</td>\n",
       "      <td>6</td>\n",
       "      <td>3</td>\n",
       "      <td>NaN</td>\n",
       "      <td>NaN</td>\n",
       "      <td>BOGO_r5_d5_u7</td>\n",
       "    </tr>\n",
       "    <tr>\n",
       "      <th>2</th>\n",
       "      <td>transaction</td>\n",
       "      <td>132</td>\n",
       "      <td>3</td>\n",
       "      <td>19.89</td>\n",
       "      <td>NaN</td>\n",
       "      <td>NaN</td>\n",
       "    </tr>\n",
       "    <tr>\n",
       "      <th>3</th>\n",
       "      <td>offer completed</td>\n",
       "      <td>132</td>\n",
       "      <td>3</td>\n",
       "      <td>NaN</td>\n",
       "      <td>5.0</td>\n",
       "      <td>BOGO_r5_d5_u7</td>\n",
       "    </tr>\n",
       "    <tr>\n",
       "      <th>4</th>\n",
       "      <td>transaction</td>\n",
       "      <td>144</td>\n",
       "      <td>3</td>\n",
       "      <td>17.78</td>\n",
       "      <td>NaN</td>\n",
       "      <td>NaN</td>\n",
       "    </tr>\n",
       "  </tbody>\n",
       "</table>\n",
       "</div>"
      ],
      "text/plain": [
       "             event  time  person_id  amount  reward       offer_id\n",
       "0   offer received     0          3     NaN     NaN  BOGO_r5_d5_u7\n",
       "1     offer viewed     6          3     NaN     NaN  BOGO_r5_d5_u7\n",
       "2      transaction   132          3   19.89     NaN            NaN\n",
       "3  offer completed   132          3     NaN     5.0  BOGO_r5_d5_u7\n",
       "4      transaction   144          3   17.78     NaN            NaN"
      ]
     },
     "execution_count": 13,
     "metadata": {},
     "output_type": "execute_result"
    }
   ],
   "source": [
    "### Clean ###\n",
    "def elementary_transcript(transcript = transcript, portfolio = portfolio_clean, offer_id_map = offer_id_map, user_id_map = user_id_map):\n",
    "    \"\"\"\n",
    "    clean the transcript data, use person_id, offer_id instead of hash number.\n",
    "    \n",
    "    Parameters\n",
    "    ------------\n",
    "    \n",
    "    \n",
    "    Returns\n",
    "    ------------\n",
    "    \n",
    "    \n",
    "    \"\"\"\n",
    "    \n",
    "    # simplify person to person_id\n",
    "    transcript_clean = transcript.copy()    \n",
    "\n",
    "    transcript_clean = transcript_clean.merge(user_id_map, on = 'person')    \n",
    "    print(transcript_clean.event.unique())\n",
    "    # \n",
    "    \n",
    "    transcript_clean['portfolio_id'] = transcript_clean['value'].apply(\n",
    "        lambda x : x.get('offer_id', np.nan) if (x.get('offer id', np.nan) is np.nan) else x.get('offer id', np.nan)\n",
    "    )\n",
    "\n",
    "\n",
    "    transcript_clean['amount'] = transcript_clean['value'].apply(lambda x :x.get('amount', np.nan))\n",
    "\n",
    "    transcript_clean['reward'] = transcript_clean['value'].apply(lambda x :x.get('reward', np.nan))\n",
    "    transcript_clean = transcript_clean.merge(offer_id_map,how = 'left', on = 'portfolio_id')\n",
    "#    transcript_clean['offer_id'] = transcript_clean['offer_id'].astype('Int64')\n",
    "    transcript_clean.drop(['person','value', 'portfolio_id'], axis = 1, inplace = True)\n",
    "\n",
    "    return transcript_clean\n",
    "\n",
    "elementary_trans = elementary_transcript()\n",
    "elementary_trans.head()"
   ]
  },
  {
   "cell_type": "markdown",
   "metadata": {},
   "source": [
    "## 3 Data Explore "
   ]
  },
  {
   "cell_type": "markdown",
   "metadata": {},
   "source": [
    "### 3.1 Basic histogram\n"
   ]
  },
  {
   "cell_type": "code",
   "execution_count": 14,
   "metadata": {},
   "outputs": [
    {
     "data": {
      "image/png": "[encoded data removed]",
      "text/plain": [
       "<Figure size 1296x432 with 3 Axes>"
      ]
     },
     "metadata": {
      "needs_background": "light"
     },
     "output_type": "display_data"
    }
   ],
   "source": [
    "### Visualize ###\n",
    "fig, (ax1, ax2, ax3) = plt.subplots(nrows = 1, ncols = 3, figsize = (18,6))\n",
    "sns.histplot(clean_profile, x = 'age', hue = 'gender', ax = ax1, multiple = 'stack' ,bins = range(0, 120, 10))\n",
    "ax1.set_title('Histogram of Age by \"Gender\"')\n",
    "ax1.set_xlabel('Age')\n",
    "\n",
    "sns.histplot(clean_profile, x = 'income', hue = 'gender', ax = ax2, multiple = 'stack' ,bins = 10)\n",
    "ax2.set_title('Histogram of Income by \"Gender\"')\n",
    "ax2.set_xlabel('Income')\n",
    "\n",
    "sns.histplot(clean_profile, x = 'gender', ax = ax3)\n",
    "ax3.set_title('Histogram of Gender')\n",
    "ax3.set_xlabel('Gender')\n",
    "plt.show()"
   ]
  },
  {
   "cell_type": "markdown",
   "metadata": {
    "tags": []
   },
   "source": [
    "### 3.2 Anaylize \n"
   ]
  },
  {
   "cell_type": "markdown",
   "metadata": {},
   "source": [
    "The most import information is how the comsumers responed to offers. So we will dig deeper in \"transaction\" "
   ]
  },
  {
   "cell_type": "code",
   "execution_count": 15,
   "metadata": {},
   "outputs": [
    {
     "data": {
      "text/html": [
       "<div>\n",
       "<style scoped>\n",
       "    .dataframe tbody tr th:only-of-type {\n",
       "        vertical-align: middle;\n",
       "    }\n",
       "\n",
       "    .dataframe tbody tr th {\n",
       "        vertical-align: top;\n",
       "    }\n",
       "\n",
       "    .dataframe thead th {\n",
       "        text-align: right;\n",
       "    }\n",
       "</style>\n",
       "<table border=\"1\" class=\"dataframe\">\n",
       "  <thead>\n",
       "    <tr style=\"text-align: right;\">\n",
       "      <th></th>\n",
       "      <th>event</th>\n",
       "      <th>time</th>\n",
       "      <th>person_id</th>\n",
       "      <th>amount</th>\n",
       "      <th>reward</th>\n",
       "      <th>BOGO_r10_d10_u5</th>\n",
       "      <th>BOGO_r10_d10_u7</th>\n",
       "      <th>BOGO_r5_d5_u5</th>\n",
       "      <th>BOGO_r5_d5_u7</th>\n",
       "      <th>DIS_r2_d10_u10</th>\n",
       "      <th>DIS_r2_d10_u7</th>\n",
       "      <th>DIS_r3_d7_u7</th>\n",
       "      <th>DIS_r5_d20_u10</th>\n",
       "      <th>offer_used</th>\n",
       "      <th>bogo</th>\n",
       "      <th>discount</th>\n",
       "    </tr>\n",
       "  </thead>\n",
       "  <tbody>\n",
       "    <tr>\n",
       "      <th>0</th>\n",
       "      <td>transaction</td>\n",
       "      <td>132</td>\n",
       "      <td>3</td>\n",
       "      <td>19.89</td>\n",
       "      <td>5.0</td>\n",
       "      <td>NaN</td>\n",
       "      <td>NaN</td>\n",
       "      <td>NaN</td>\n",
       "      <td>1.0</td>\n",
       "      <td>NaN</td>\n",
       "      <td>NaN</td>\n",
       "      <td>NaN</td>\n",
       "      <td>NaN</td>\n",
       "      <td>1.0</td>\n",
       "      <td>True</td>\n",
       "      <td>False</td>\n",
       "    </tr>\n",
       "    <tr>\n",
       "      <th>1</th>\n",
       "      <td>transaction</td>\n",
       "      <td>144</td>\n",
       "      <td>3</td>\n",
       "      <td>17.78</td>\n",
       "      <td>NaN</td>\n",
       "      <td>NaN</td>\n",
       "      <td>NaN</td>\n",
       "      <td>NaN</td>\n",
       "      <td>NaN</td>\n",
       "      <td>NaN</td>\n",
       "      <td>NaN</td>\n",
       "      <td>NaN</td>\n",
       "      <td>NaN</td>\n",
       "      <td>NaN</td>\n",
       "      <td>False</td>\n",
       "      <td>False</td>\n",
       "    </tr>\n",
       "    <tr>\n",
       "      <th>2</th>\n",
       "      <td>transaction</td>\n",
       "      <td>222</td>\n",
       "      <td>3</td>\n",
       "      <td>19.67</td>\n",
       "      <td>NaN</td>\n",
       "      <td>NaN</td>\n",
       "      <td>NaN</td>\n",
       "      <td>NaN</td>\n",
       "      <td>NaN</td>\n",
       "      <td>NaN</td>\n",
       "      <td>NaN</td>\n",
       "      <td>NaN</td>\n",
       "      <td>NaN</td>\n",
       "      <td>NaN</td>\n",
       "      <td>False</td>\n",
       "      <td>False</td>\n",
       "    </tr>\n",
       "    <tr>\n",
       "      <th>3</th>\n",
       "      <td>transaction</td>\n",
       "      <td>240</td>\n",
       "      <td>3</td>\n",
       "      <td>29.72</td>\n",
       "      <td>NaN</td>\n",
       "      <td>NaN</td>\n",
       "      <td>NaN</td>\n",
       "      <td>NaN</td>\n",
       "      <td>NaN</td>\n",
       "      <td>NaN</td>\n",
       "      <td>NaN</td>\n",
       "      <td>NaN</td>\n",
       "      <td>NaN</td>\n",
       "      <td>NaN</td>\n",
       "      <td>False</td>\n",
       "      <td>False</td>\n",
       "    </tr>\n",
       "    <tr>\n",
       "      <th>4</th>\n",
       "      <td>transaction</td>\n",
       "      <td>378</td>\n",
       "      <td>3</td>\n",
       "      <td>23.93</td>\n",
       "      <td>NaN</td>\n",
       "      <td>NaN</td>\n",
       "      <td>NaN</td>\n",
       "      <td>NaN</td>\n",
       "      <td>NaN</td>\n",
       "      <td>NaN</td>\n",
       "      <td>NaN</td>\n",
       "      <td>NaN</td>\n",
       "      <td>NaN</td>\n",
       "      <td>NaN</td>\n",
       "      <td>False</td>\n",
       "      <td>False</td>\n",
       "    </tr>\n",
       "  </tbody>\n",
       "</table>\n",
       "</div>"
      ],
      "text/plain": [
       "         event  time  person_id  amount  reward  BOGO_r10_d10_u5  \\\n",
       "0  transaction   132          3   19.89     5.0              NaN   \n",
       "1  transaction   144          3   17.78     NaN              NaN   \n",
       "2  transaction   222          3   19.67     NaN              NaN   \n",
       "3  transaction   240          3   29.72     NaN              NaN   \n",
       "4  transaction   378          3   23.93     NaN              NaN   \n",
       "\n",
       "   BOGO_r10_d10_u7  BOGO_r5_d5_u5  BOGO_r5_d5_u7  DIS_r2_d10_u10  \\\n",
       "0              NaN            NaN            1.0             NaN   \n",
       "1              NaN            NaN            NaN             NaN   \n",
       "2              NaN            NaN            NaN             NaN   \n",
       "3              NaN            NaN            NaN             NaN   \n",
       "4              NaN            NaN            NaN             NaN   \n",
       "\n",
       "   DIS_r2_d10_u7  DIS_r3_d7_u7  DIS_r5_d20_u10  offer_used   bogo  discount  \n",
       "0            NaN           NaN             NaN         1.0   True     False  \n",
       "1            NaN           NaN             NaN         NaN  False     False  \n",
       "2            NaN           NaN             NaN         NaN  False     False  \n",
       "3            NaN           NaN             NaN         NaN  False     False  \n",
       "4            NaN           NaN             NaN         NaN  False     False  "
      ]
     },
     "execution_count": 15,
     "metadata": {},
     "output_type": "execute_result"
    }
   ],
   "source": [
    "### Clean ###\n",
    "def trans_reward(transcript = elementary_trans):\n",
    "    sum_reward = elementary_trans[elementary_trans['event'] == 'offer completed'].groupby(['person_id', 'time']).sum()['reward'].reset_index()\n",
    "\n",
    "    count_complete_offer = elementary_trans[elementary_trans['event'] == 'offer completed'].groupby(['person_id', 'time','offer_id']).count()['reward'].unstack()\n",
    "    count_complete_offer['offer_used'] = count_complete_offer.sum(axis = 1)\n",
    "    trans = elementary_trans[elementary_trans['event'] == 'transaction']\n",
    "    trans = trans.drop(['reward', 'offer_id'], axis = 1)\n",
    "\n",
    "    trans_reward = trans.merge(sum_reward, on = ['person_id','time'], how = 'left')\n",
    "    trans_reward = trans_reward.merge(count_complete_offer, on = ['person_id','time'], how = 'left')\n",
    "    trans_reward['bogo'] = trans_reward.filter(regex = '^BOGO', axis = 1).any(axis = 1)\n",
    "    trans_reward['discount'] = trans_reward.filter(regex = '^DIS', axis = 1).any(axis = 1)\n",
    "\n",
    "    return trans_reward\n",
    "\n",
    "trans_reward = trans_reward()\n",
    "trans_reward.head()"
   ]
  },
  {
   "cell_type": "code",
   "execution_count": 16,
   "metadata": {},
   "outputs": [
    {
     "name": "stdout",
     "output_type": "stream",
     "text": [
      "About 1% of the transactions use both BOGO and DISCOUNT. \n"
     ]
    }
   ],
   "source": [
    "bogo_discount = trans_reward['bogo'] & trans_reward['discount']\n",
    "print('About {}% of the transactions use both BOGO and DISCOUNT. '.format(round(bogo_discount.mean()*100)))"
   ]
  },
  {
   "cell_type": "markdown",
   "metadata": {},
   "source": [
    "About 1% of the transactions use both BOGO and Discount, for better modeling, we will remove those transactions."
   ]
  },
  {
   "cell_type": "code",
   "execution_count": 17,
   "metadata": {},
   "outputs": [
    {
     "data": {
      "text/html": [
       "<div>\n",
       "<style scoped>\n",
       "    .dataframe tbody tr th:only-of-type {\n",
       "        vertical-align: middle;\n",
       "    }\n",
       "\n",
       "    .dataframe tbody tr th {\n",
       "        vertical-align: top;\n",
       "    }\n",
       "\n",
       "    .dataframe thead th {\n",
       "        text-align: right;\n",
       "    }\n",
       "</style>\n",
       "<table border=\"1\" class=\"dataframe\">\n",
       "  <thead>\n",
       "    <tr style=\"text-align: right;\">\n",
       "      <th></th>\n",
       "      <th>event</th>\n",
       "      <th>time</th>\n",
       "      <th>person_id</th>\n",
       "      <th>amount</th>\n",
       "      <th>reward</th>\n",
       "      <th>BOGO_r10_d10_u5</th>\n",
       "      <th>BOGO_r10_d10_u7</th>\n",
       "      <th>BOGO_r5_d5_u5</th>\n",
       "      <th>BOGO_r5_d5_u7</th>\n",
       "      <th>DIS_r2_d10_u10</th>\n",
       "      <th>DIS_r2_d10_u7</th>\n",
       "      <th>DIS_r3_d7_u7</th>\n",
       "      <th>DIS_r5_d20_u10</th>\n",
       "      <th>offer_used</th>\n",
       "      <th>bogo</th>\n",
       "      <th>discount</th>\n",
       "    </tr>\n",
       "  </thead>\n",
       "  <tbody>\n",
       "    <tr>\n",
       "      <th>0</th>\n",
       "      <td>transaction</td>\n",
       "      <td>132</td>\n",
       "      <td>3</td>\n",
       "      <td>19.89</td>\n",
       "      <td>5.0</td>\n",
       "      <td>NaN</td>\n",
       "      <td>NaN</td>\n",
       "      <td>NaN</td>\n",
       "      <td>1.0</td>\n",
       "      <td>NaN</td>\n",
       "      <td>NaN</td>\n",
       "      <td>NaN</td>\n",
       "      <td>NaN</td>\n",
       "      <td>1.0</td>\n",
       "      <td>True</td>\n",
       "      <td>False</td>\n",
       "    </tr>\n",
       "    <tr>\n",
       "      <th>1</th>\n",
       "      <td>transaction</td>\n",
       "      <td>144</td>\n",
       "      <td>3</td>\n",
       "      <td>17.78</td>\n",
       "      <td>NaN</td>\n",
       "      <td>NaN</td>\n",
       "      <td>NaN</td>\n",
       "      <td>NaN</td>\n",
       "      <td>NaN</td>\n",
       "      <td>NaN</td>\n",
       "      <td>NaN</td>\n",
       "      <td>NaN</td>\n",
       "      <td>NaN</td>\n",
       "      <td>NaN</td>\n",
       "      <td>False</td>\n",
       "      <td>False</td>\n",
       "    </tr>\n",
       "    <tr>\n",
       "      <th>2</th>\n",
       "      <td>transaction</td>\n",
       "      <td>222</td>\n",
       "      <td>3</td>\n",
       "      <td>19.67</td>\n",
       "      <td>NaN</td>\n",
       "      <td>NaN</td>\n",
       "      <td>NaN</td>\n",
       "      <td>NaN</td>\n",
       "      <td>NaN</td>\n",
       "      <td>NaN</td>\n",
       "      <td>NaN</td>\n",
       "      <td>NaN</td>\n",
       "      <td>NaN</td>\n",
       "      <td>NaN</td>\n",
       "      <td>False</td>\n",
       "      <td>False</td>\n",
       "    </tr>\n",
       "    <tr>\n",
       "      <th>3</th>\n",
       "      <td>transaction</td>\n",
       "      <td>240</td>\n",
       "      <td>3</td>\n",
       "      <td>29.72</td>\n",
       "      <td>NaN</td>\n",
       "      <td>NaN</td>\n",
       "      <td>NaN</td>\n",
       "      <td>NaN</td>\n",
       "      <td>NaN</td>\n",
       "      <td>NaN</td>\n",
       "      <td>NaN</td>\n",
       "      <td>NaN</td>\n",
       "      <td>NaN</td>\n",
       "      <td>NaN</td>\n",
       "      <td>False</td>\n",
       "      <td>False</td>\n",
       "    </tr>\n",
       "    <tr>\n",
       "      <th>4</th>\n",
       "      <td>transaction</td>\n",
       "      <td>378</td>\n",
       "      <td>3</td>\n",
       "      <td>23.93</td>\n",
       "      <td>NaN</td>\n",
       "      <td>NaN</td>\n",
       "      <td>NaN</td>\n",
       "      <td>NaN</td>\n",
       "      <td>NaN</td>\n",
       "      <td>NaN</td>\n",
       "      <td>NaN</td>\n",
       "      <td>NaN</td>\n",
       "      <td>NaN</td>\n",
       "      <td>NaN</td>\n",
       "      <td>False</td>\n",
       "      <td>False</td>\n",
       "    </tr>\n",
       "  </tbody>\n",
       "</table>\n",
       "</div>"
      ],
      "text/plain": [
       "         event  time  person_id  amount  reward  BOGO_r10_d10_u5  \\\n",
       "0  transaction   132          3   19.89     5.0              NaN   \n",
       "1  transaction   144          3   17.78     NaN              NaN   \n",
       "2  transaction   222          3   19.67     NaN              NaN   \n",
       "3  transaction   240          3   29.72     NaN              NaN   \n",
       "4  transaction   378          3   23.93     NaN              NaN   \n",
       "\n",
       "   BOGO_r10_d10_u7  BOGO_r5_d5_u5  BOGO_r5_d5_u7  DIS_r2_d10_u10  \\\n",
       "0              NaN            NaN            1.0             NaN   \n",
       "1              NaN            NaN            NaN             NaN   \n",
       "2              NaN            NaN            NaN             NaN   \n",
       "3              NaN            NaN            NaN             NaN   \n",
       "4              NaN            NaN            NaN             NaN   \n",
       "\n",
       "   DIS_r2_d10_u7  DIS_r3_d7_u7  DIS_r5_d20_u10  offer_used   bogo  discount  \n",
       "0            NaN           NaN             NaN         1.0   True     False  \n",
       "1            NaN           NaN             NaN         NaN  False     False  \n",
       "2            NaN           NaN             NaN         NaN  False     False  \n",
       "3            NaN           NaN             NaN         NaN  False     False  \n",
       "4            NaN           NaN             NaN         NaN  False     False  "
      ]
     },
     "execution_count": 17,
     "metadata": {},
     "output_type": "execute_result"
    }
   ],
   "source": [
    "trans_reward = trans_reward[~bogo_discount]\n",
    "trans_reward.head()"
   ]
  },
  {
   "cell_type": "code",
   "execution_count": 18,
   "metadata": {
    "tags": []
   },
   "outputs": [
    {
     "data": {
      "image/png": "[encoded data removed]",
      "text/plain": [
       "<Figure size 864x432 with 2 Axes>"
      ]
     },
     "metadata": {
      "needs_background": "light"
     },
     "output_type": "display_data"
    }
   ],
   "source": [
    "fig, (ax1, ax2) = plt.subplots(nrows = 1, ncols = 2, figsize = (12,6))\n",
    "\n",
    "sns.histplot(trans_reward, x = 'amount', bins = 50, ax = ax1, stat = 'percent')\n",
    "ax1.set_title('Histogram of the Price of each order')\n",
    "ax1.set_xlabel('Price of each order')\n",
    "\n",
    "sns.histplot(trans_reward, x = 'reward', bins = 20, ax = ax2, stat = 'percent')\n",
    "ax2.set_title('Histogram of Reward of each order')\n",
    "\n",
    "plt.show()"
   ]
  },
  {
   "cell_type": "markdown",
   "metadata": {},
   "source": [
    "Since most of the order are below 100, we will draw a histogram below 100."
   ]
  },
  {
   "cell_type": "code",
   "execution_count": 19,
   "metadata": {},
   "outputs": [
    {
     "data": {
      "image/png": "[encoded data removed]",
      "text/plain": [
       "<Figure size 864x432 with 2 Axes>"
      ]
     },
     "metadata": {
      "needs_background": "light"
     },
     "output_type": "display_data"
    }
   ],
   "source": [
    "fig, (ax1, ax2) = plt.subplots(nrows = 1, ncols = 2, figsize = (12,6))\n",
    "\n",
    "\n",
    "sns.histplot(trans_reward, x = 'amount', bins = range(0,100,5), ax = ax1, stat = 'percent')\n",
    "ax1.set_title('Histogram of the Price of each order(<100)')\n",
    "ax1.set_xlabel('Price of each order')\n",
    "\n",
    "sns.histplot(trans_reward, x = 'offer_used', ax = ax2, stat = 'percent')\n",
    "ax2.set_title('Histogram of the Offer Used per Order')\n",
    "ax2.set_xlabel('Offer Used per Order')\n",
    "\n",
    "plt.show()"
   ]
  },
  {
   "cell_type": "markdown",
   "metadata": {},
   "source": [
    "We will try to find out that the use of offer realy change the amount for each order."
   ]
  },
  {
   "cell_type": "code",
   "execution_count": 20,
   "metadata": {},
   "outputs": [],
   "source": [
    "### Assess ###\n",
    "### T test ###\n",
    "def ttest_user(without_offer, with_offer):\n",
    "\n",
    "    if (len(with_offer) > 1) and (len(without_offer) > 1):\n",
    "        pvalue = stats.ttest_ind(without_offer, with_offer)[1]\n",
    "    elif (len(with_offer) > 0) and (len(without_offer) > 1):\n",
    "        pvalue = stats.ttest_1samp(a=without_offer, popmean = with_offer, alternative = 'two-sided')[1][0]\n",
    "    else:\n",
    "        pvalue = np.nan\n",
    "    return pvalue\n",
    "\n",
    "\n",
    "def ttest_offer(data = trans_reward):\n",
    "    pvalue_df = pd.DataFrame(columns = ['person_id', 'pvalue'])\n",
    "    user_set = data['person_id'].unique()\n",
    "    for user in user_set:\n",
    "        user_data = data[data['person_id']==user]\n",
    "        reward_isnan = user_data['reward'].isnull()\n",
    "\n",
    "        if sum(reward_isnan) > 0:\n",
    "            without_offer = user_data[reward_isnan]['amount'].to_numpy()\n",
    "\n",
    "        else:\n",
    "            without_offer = np.array([])\n",
    "        if sum(~reward_isnan) > 0:\n",
    "            with_offer = user_data[~reward_isnan][['amount', 'reward']].sum(axis = 1).to_numpy()\n",
    "            \n",
    "        else:\n",
    "            with_offer = np.array([])\n",
    "\n",
    "        pvalue = ttest_user(without_offer, with_offer)\n",
    "        pvalue_df = pvalue_df.append({'person_id': user,'pvalue':pvalue}, ignore_index = True)\n",
    "\n",
    "    return pvalue_df\n",
    "\n",
    "discount_pvalue_df = ttest_offer(trans_reward[~trans_reward['bogo']])\n",
    "bogo_pvalue_df = ttest_offer(trans_reward[~trans_reward['discount']])"
   ]
  },
  {
   "cell_type": "code",
   "execution_count": 21,
   "metadata": {},
   "outputs": [
    {
     "data": {
      "image/png": "[encoded data removed]",
      "text/plain": [
       "<Figure size 864x432 with 2 Axes>"
      ]
     },
     "metadata": {
      "needs_background": "light"
     },
     "output_type": "display_data"
    }
   ],
   "source": [
    "### Visualize ###\n",
    "### For T test ###\n",
    "\n",
    "\n",
    "fig, (ax1, ax2) = plt.subplots(nrows = 1, ncols = 2, figsize = (12, 6))\n",
    "\n",
    "sns.histplot(data = discount_pvalue_df, x = 'pvalue' , stat = 'percent',bins = 20, ax = ax1)\n",
    "ax1.axvline(x = 0.05, color = 'r')\n",
    "ax1.set_xlabel('P value of T test for the comparison of discount useage.')\n",
    "\n",
    "sns.histplot(data = bogo_pvalue_df, x = 'pvalue', stat = 'percent', bins = 20 ,ax = ax2)\n",
    "ax2.axvline(x = 0.05, color = 'r')\n",
    "ax2.set_xlabel('P value of T test for the comparison of BOGO useage.')\n",
    "plt.show()"
   ]
  },
  {
   "cell_type": "markdown",
   "metadata": {},
   "source": [
    "Since we want to find out the effect of discount and bogo offers, we will focus on the difference between offer useage.\n"
   ]
  },
  {
   "cell_type": "markdown",
   "metadata": {},
   "source": [
    "As we can see that nearly 50% people do have a statistical difference when using offers"
   ]
  },
  {
   "cell_type": "code",
   "execution_count": 22,
   "metadata": {},
   "outputs": [
    {
     "data": {
      "text/html": [
       "<div>\n",
       "<style scoped>\n",
       "    .dataframe tbody tr th:only-of-type {\n",
       "        vertical-align: middle;\n",
       "    }\n",
       "\n",
       "    .dataframe tbody tr th {\n",
       "        vertical-align: top;\n",
       "    }\n",
       "\n",
       "    .dataframe thead th {\n",
       "        text-align: right;\n",
       "    }\n",
       "</style>\n",
       "<table border=\"1\" class=\"dataframe\">\n",
       "  <thead>\n",
       "    <tr style=\"text-align: right;\">\n",
       "      <th></th>\n",
       "      <th>event</th>\n",
       "      <th>time</th>\n",
       "      <th>person_id</th>\n",
       "      <th>amount</th>\n",
       "      <th>reward</th>\n",
       "      <th>BOGO_r10_d10_u5</th>\n",
       "      <th>BOGO_r10_d10_u7</th>\n",
       "      <th>BOGO_r5_d5_u5</th>\n",
       "      <th>BOGO_r5_d5_u7</th>\n",
       "      <th>DIS_r2_d10_u10</th>\n",
       "      <th>...</th>\n",
       "      <th>bogo</th>\n",
       "      <th>discount</th>\n",
       "      <th>reward_cost</th>\n",
       "      <th>mean_profit_without_offer</th>\n",
       "      <th>profit</th>\n",
       "      <th>profit_diff</th>\n",
       "      <th>gender</th>\n",
       "      <th>age</th>\n",
       "      <th>became_member_on</th>\n",
       "      <th>income</th>\n",
       "    </tr>\n",
       "  </thead>\n",
       "  <tbody>\n",
       "    <tr>\n",
       "      <th>0</th>\n",
       "      <td>transaction</td>\n",
       "      <td>132</td>\n",
       "      <td>3</td>\n",
       "      <td>19.89</td>\n",
       "      <td>5.0</td>\n",
       "      <td>NaN</td>\n",
       "      <td>NaN</td>\n",
       "      <td>NaN</td>\n",
       "      <td>1.0</td>\n",
       "      <td>NaN</td>\n",
       "      <td>...</td>\n",
       "      <td>True</td>\n",
       "      <td>False</td>\n",
       "      <td>3.0</td>\n",
       "      <td>9.412800</td>\n",
       "      <td>4.956</td>\n",
       "      <td>-4.456800</td>\n",
       "      <td>F</td>\n",
       "      <td>75.0</td>\n",
       "      <td>20170509</td>\n",
       "      <td>100000.0</td>\n",
       "    </tr>\n",
       "    <tr>\n",
       "      <th>1</th>\n",
       "      <td>transaction</td>\n",
       "      <td>510</td>\n",
       "      <td>3</td>\n",
       "      <td>21.72</td>\n",
       "      <td>15.0</td>\n",
       "      <td>NaN</td>\n",
       "      <td>1.0</td>\n",
       "      <td>1.0</td>\n",
       "      <td>NaN</td>\n",
       "      <td>NaN</td>\n",
       "      <td>...</td>\n",
       "      <td>True</td>\n",
       "      <td>False</td>\n",
       "      <td>9.0</td>\n",
       "      <td>9.412800</td>\n",
       "      <td>-0.312</td>\n",
       "      <td>-9.724800</td>\n",
       "      <td>F</td>\n",
       "      <td>75.0</td>\n",
       "      <td>20170509</td>\n",
       "      <td>100000.0</td>\n",
       "    </tr>\n",
       "    <tr>\n",
       "      <th>2</th>\n",
       "      <td>transaction</td>\n",
       "      <td>60</td>\n",
       "      <td>8</td>\n",
       "      <td>9.54</td>\n",
       "      <td>5.0</td>\n",
       "      <td>NaN</td>\n",
       "      <td>NaN</td>\n",
       "      <td>1.0</td>\n",
       "      <td>NaN</td>\n",
       "      <td>NaN</td>\n",
       "      <td>...</td>\n",
       "      <td>True</td>\n",
       "      <td>False</td>\n",
       "      <td>3.0</td>\n",
       "      <td>NaN</td>\n",
       "      <td>0.816</td>\n",
       "      <td>NaN</td>\n",
       "      <td>M</td>\n",
       "      <td>65.0</td>\n",
       "      <td>20180209</td>\n",
       "      <td>53000.0</td>\n",
       "    </tr>\n",
       "    <tr>\n",
       "      <th>3</th>\n",
       "      <td>transaction</td>\n",
       "      <td>684</td>\n",
       "      <td>10</td>\n",
       "      <td>54.61</td>\n",
       "      <td>10.0</td>\n",
       "      <td>NaN</td>\n",
       "      <td>1.0</td>\n",
       "      <td>NaN</td>\n",
       "      <td>NaN</td>\n",
       "      <td>NaN</td>\n",
       "      <td>...</td>\n",
       "      <td>True</td>\n",
       "      <td>False</td>\n",
       "      <td>6.0</td>\n",
       "      <td>0.590000</td>\n",
       "      <td>15.844</td>\n",
       "      <td>15.254000</td>\n",
       "      <td>None</td>\n",
       "      <td>NaN</td>\n",
       "      <td>20170824</td>\n",
       "      <td>NaN</td>\n",
       "    </tr>\n",
       "    <tr>\n",
       "      <th>4</th>\n",
       "      <td>transaction</td>\n",
       "      <td>456</td>\n",
       "      <td>12</td>\n",
       "      <td>7.14</td>\n",
       "      <td>2.0</td>\n",
       "      <td>NaN</td>\n",
       "      <td>NaN</td>\n",
       "      <td>NaN</td>\n",
       "      <td>NaN</td>\n",
       "      <td>1.0</td>\n",
       "      <td>...</td>\n",
       "      <td>False</td>\n",
       "      <td>True</td>\n",
       "      <td>1.2</td>\n",
       "      <td>1.130667</td>\n",
       "      <td>1.656</td>\n",
       "      <td>0.525333</td>\n",
       "      <td>M</td>\n",
       "      <td>58.0</td>\n",
       "      <td>20171111</td>\n",
       "      <td>51000.0</td>\n",
       "    </tr>\n",
       "  </tbody>\n",
       "</table>\n",
       "<p>5 rows × 24 columns</p>\n",
       "</div>"
      ],
      "text/plain": [
       "         event  time  person_id  amount  reward  BOGO_r10_d10_u5  \\\n",
       "0  transaction   132          3   19.89     5.0              NaN   \n",
       "1  transaction   510          3   21.72    15.0              NaN   \n",
       "2  transaction    60          8    9.54     5.0              NaN   \n",
       "3  transaction   684         10   54.61    10.0              NaN   \n",
       "4  transaction   456         12    7.14     2.0              NaN   \n",
       "\n",
       "   BOGO_r10_d10_u7  BOGO_r5_d5_u5  BOGO_r5_d5_u7  DIS_r2_d10_u10  ...   bogo  \\\n",
       "0              NaN            NaN            1.0             NaN  ...   True   \n",
       "1              1.0            1.0            NaN             NaN  ...   True   \n",
       "2              NaN            1.0            NaN             NaN  ...   True   \n",
       "3              1.0            NaN            NaN             NaN  ...   True   \n",
       "4              NaN            NaN            NaN             1.0  ...  False   \n",
       "\n",
       "   discount  reward_cost  mean_profit_without_offer  profit  profit_diff  \\\n",
       "0     False          3.0                   9.412800   4.956    -4.456800   \n",
       "1     False          9.0                   9.412800  -0.312    -9.724800   \n",
       "2     False          3.0                        NaN   0.816          NaN   \n",
       "3     False          6.0                   0.590000  15.844    15.254000   \n",
       "4      True          1.2                   1.130667   1.656     0.525333   \n",
       "\n",
       "   gender   age  became_member_on    income  \n",
       "0       F  75.0          20170509  100000.0  \n",
       "1       F  75.0          20170509  100000.0  \n",
       "2       M  65.0          20180209   53000.0  \n",
       "3    None   NaN          20170824       NaN  \n",
       "4       M  58.0          20171111   51000.0  \n",
       "\n",
       "[5 rows x 24 columns]"
      ]
     },
     "execution_count": 22,
     "metadata": {},
     "output_type": "execute_result"
    }
   ],
   "source": [
    "def trans_profit(trans_reward = trans_reward, gross_profit = 0.4):\n",
    "    \"\"\"\n",
    "    caculate each transaction profit for modeling\n",
    "    \"\"\"\n",
    "    reward_list = trans_reward['reward'].notnull()\n",
    "    \n",
    "    # caculate the mean of the transactions without offer\n",
    "    mean_trans_without_offer = trans_reward[~reward_list].groupby('person_id').mean()['amount']\n",
    "   # caculate the mean of the profit without offer\n",
    "    mean_profit_without_offer = mean_trans_without_offer * gross_profit\n",
    "    mean_profit_without_offer.rename('mean_profit_without_offer', inplace = True)\n",
    "    \n",
    "    trans_with_offer = trans_reward[reward_list].copy()\n",
    "    trans_with_offer['reward_cost'] = trans_with_offer['reward'] * (1 - gross_profit)\n",
    "\n",
    "    trans_profit = trans_with_offer.merge(mean_profit_without_offer, on = 'person_id', how = 'left')\n",
    "    trans_profit['profit'] = trans_profit['amount'] * gross_profit - trans_profit['reward_cost']\n",
    "    trans_profit['profit_diff'] = trans_profit['profit'] - trans_profit['mean_profit_without_offer']\n",
    "    return trans_profit\n",
    "\n",
    "trans_profit = trans_profit()\n",
    "\n",
    "trans_profit = trans_profit.merge(clean_profile, on = 'person_id', how = 'left')\n",
    "trans_profit.head()"
   ]
  },
  {
   "cell_type": "code",
   "execution_count": 23,
   "metadata": {},
   "outputs": [
    {
     "data": {
      "text/html": [
       "<div>\n",
       "<style scoped>\n",
       "    .dataframe tbody tr th:only-of-type {\n",
       "        vertical-align: middle;\n",
       "    }\n",
       "\n",
       "    .dataframe tbody tr th {\n",
       "        vertical-align: top;\n",
       "    }\n",
       "\n",
       "    .dataframe thead th {\n",
       "        text-align: right;\n",
       "    }\n",
       "</style>\n",
       "<table border=\"1\" class=\"dataframe\">\n",
       "  <thead>\n",
       "    <tr style=\"text-align: right;\">\n",
       "      <th></th>\n",
       "      <th>event</th>\n",
       "      <th>time</th>\n",
       "      <th>person_id</th>\n",
       "      <th>amount</th>\n",
       "      <th>reward</th>\n",
       "      <th>BOGO_r10_d10_u5</th>\n",
       "      <th>BOGO_r10_d10_u7</th>\n",
       "      <th>BOGO_r5_d5_u5</th>\n",
       "      <th>BOGO_r5_d5_u7</th>\n",
       "      <th>DIS_r2_d10_u10</th>\n",
       "      <th>...</th>\n",
       "      <th>bogo</th>\n",
       "      <th>discount</th>\n",
       "      <th>reward_cost</th>\n",
       "      <th>mean_profit_without_offer</th>\n",
       "      <th>profit</th>\n",
       "      <th>profit_diff</th>\n",
       "      <th>gender</th>\n",
       "      <th>age</th>\n",
       "      <th>became_member_on</th>\n",
       "      <th>income</th>\n",
       "    </tr>\n",
       "  </thead>\n",
       "  <tbody>\n",
       "    <tr>\n",
       "      <th>1</th>\n",
       "      <td>transaction</td>\n",
       "      <td>510</td>\n",
       "      <td>3</td>\n",
       "      <td>21.72</td>\n",
       "      <td>15.0</td>\n",
       "      <td>NaN</td>\n",
       "      <td>1.0</td>\n",
       "      <td>1.0</td>\n",
       "      <td>NaN</td>\n",
       "      <td>NaN</td>\n",
       "      <td>...</td>\n",
       "      <td>True</td>\n",
       "      <td>False</td>\n",
       "      <td>9.0</td>\n",
       "      <td>9.412800</td>\n",
       "      <td>-0.312</td>\n",
       "      <td>-9.724800</td>\n",
       "      <td>F</td>\n",
       "      <td>75.0</td>\n",
       "      <td>20170509</td>\n",
       "      <td>100000.0</td>\n",
       "    </tr>\n",
       "    <tr>\n",
       "      <th>5</th>\n",
       "      <td>transaction</td>\n",
       "      <td>210</td>\n",
       "      <td>13</td>\n",
       "      <td>12.33</td>\n",
       "      <td>10.0</td>\n",
       "      <td>1.0</td>\n",
       "      <td>NaN</td>\n",
       "      <td>NaN</td>\n",
       "      <td>NaN</td>\n",
       "      <td>NaN</td>\n",
       "      <td>...</td>\n",
       "      <td>True</td>\n",
       "      <td>False</td>\n",
       "      <td>6.0</td>\n",
       "      <td>5.961333</td>\n",
       "      <td>-1.068</td>\n",
       "      <td>-7.029333</td>\n",
       "      <td>F</td>\n",
       "      <td>61.0</td>\n",
       "      <td>20170911</td>\n",
       "      <td>57000.0</td>\n",
       "    </tr>\n",
       "    <tr>\n",
       "      <th>19</th>\n",
       "      <td>transaction</td>\n",
       "      <td>210</td>\n",
       "      <td>24</td>\n",
       "      <td>12.94</td>\n",
       "      <td>10.0</td>\n",
       "      <td>1.0</td>\n",
       "      <td>NaN</td>\n",
       "      <td>NaN</td>\n",
       "      <td>NaN</td>\n",
       "      <td>NaN</td>\n",
       "      <td>...</td>\n",
       "      <td>True</td>\n",
       "      <td>False</td>\n",
       "      <td>6.0</td>\n",
       "      <td>6.390000</td>\n",
       "      <td>-0.824</td>\n",
       "      <td>-7.214000</td>\n",
       "      <td>M</td>\n",
       "      <td>42.0</td>\n",
       "      <td>20130811</td>\n",
       "      <td>69000.0</td>\n",
       "    </tr>\n",
       "    <tr>\n",
       "      <th>22</th>\n",
       "      <td>transaction</td>\n",
       "      <td>498</td>\n",
       "      <td>26</td>\n",
       "      <td>2.63</td>\n",
       "      <td>2.0</td>\n",
       "      <td>NaN</td>\n",
       "      <td>NaN</td>\n",
       "      <td>NaN</td>\n",
       "      <td>NaN</td>\n",
       "      <td>1.0</td>\n",
       "      <td>...</td>\n",
       "      <td>False</td>\n",
       "      <td>True</td>\n",
       "      <td>1.2</td>\n",
       "      <td>0.780800</td>\n",
       "      <td>-0.148</td>\n",
       "      <td>-0.928800</td>\n",
       "      <td>None</td>\n",
       "      <td>NaN</td>\n",
       "      <td>20170330</td>\n",
       "      <td>NaN</td>\n",
       "    </tr>\n",
       "    <tr>\n",
       "      <th>29</th>\n",
       "      <td>transaction</td>\n",
       "      <td>12</td>\n",
       "      <td>34</td>\n",
       "      <td>5.47</td>\n",
       "      <td>5.0</td>\n",
       "      <td>NaN</td>\n",
       "      <td>NaN</td>\n",
       "      <td>NaN</td>\n",
       "      <td>1.0</td>\n",
       "      <td>NaN</td>\n",
       "      <td>...</td>\n",
       "      <td>True</td>\n",
       "      <td>False</td>\n",
       "      <td>3.0</td>\n",
       "      <td>1.091385</td>\n",
       "      <td>-0.812</td>\n",
       "      <td>-1.903385</td>\n",
       "      <td>M</td>\n",
       "      <td>40.0</td>\n",
       "      <td>20160709</td>\n",
       "      <td>33000.0</td>\n",
       "    </tr>\n",
       "    <tr>\n",
       "      <th>...</th>\n",
       "      <td>...</td>\n",
       "      <td>...</td>\n",
       "      <td>...</td>\n",
       "      <td>...</td>\n",
       "      <td>...</td>\n",
       "      <td>...</td>\n",
       "      <td>...</td>\n",
       "      <td>...</td>\n",
       "      <td>...</td>\n",
       "      <td>...</td>\n",
       "      <td>...</td>\n",
       "      <td>...</td>\n",
       "      <td>...</td>\n",
       "      <td>...</td>\n",
       "      <td>...</td>\n",
       "      <td>...</td>\n",
       "      <td>...</td>\n",
       "      <td>...</td>\n",
       "      <td>...</td>\n",
       "      <td>...</td>\n",
       "      <td>...</td>\n",
       "    </tr>\n",
       "    <tr>\n",
       "      <th>29206</th>\n",
       "      <td>transaction</td>\n",
       "      <td>576</td>\n",
       "      <td>10561</td>\n",
       "      <td>11.71</td>\n",
       "      <td>20.0</td>\n",
       "      <td>NaN</td>\n",
       "      <td>2.0</td>\n",
       "      <td>NaN</td>\n",
       "      <td>NaN</td>\n",
       "      <td>NaN</td>\n",
       "      <td>...</td>\n",
       "      <td>True</td>\n",
       "      <td>False</td>\n",
       "      <td>12.0</td>\n",
       "      <td>1.169000</td>\n",
       "      <td>-7.316</td>\n",
       "      <td>-8.485000</td>\n",
       "      <td>M</td>\n",
       "      <td>32.0</td>\n",
       "      <td>20180425</td>\n",
       "      <td>59000.0</td>\n",
       "    </tr>\n",
       "    <tr>\n",
       "      <th>29209</th>\n",
       "      <td>transaction</td>\n",
       "      <td>552</td>\n",
       "      <td>12129</td>\n",
       "      <td>16.88</td>\n",
       "      <td>15.0</td>\n",
       "      <td>1.0</td>\n",
       "      <td>NaN</td>\n",
       "      <td>NaN</td>\n",
       "      <td>1.0</td>\n",
       "      <td>NaN</td>\n",
       "      <td>...</td>\n",
       "      <td>True</td>\n",
       "      <td>False</td>\n",
       "      <td>9.0</td>\n",
       "      <td>5.302000</td>\n",
       "      <td>-2.248</td>\n",
       "      <td>-7.550000</td>\n",
       "      <td>F</td>\n",
       "      <td>78.0</td>\n",
       "      <td>20170224</td>\n",
       "      <td>78000.0</td>\n",
       "    </tr>\n",
       "    <tr>\n",
       "      <th>29216</th>\n",
       "      <td>transaction</td>\n",
       "      <td>510</td>\n",
       "      <td>13698</td>\n",
       "      <td>13.29</td>\n",
       "      <td>10.0</td>\n",
       "      <td>1.0</td>\n",
       "      <td>NaN</td>\n",
       "      <td>NaN</td>\n",
       "      <td>NaN</td>\n",
       "      <td>NaN</td>\n",
       "      <td>...</td>\n",
       "      <td>True</td>\n",
       "      <td>False</td>\n",
       "      <td>6.0</td>\n",
       "      <td>3.896000</td>\n",
       "      <td>-0.684</td>\n",
       "      <td>-4.580000</td>\n",
       "      <td>M</td>\n",
       "      <td>33.0</td>\n",
       "      <td>20150816</td>\n",
       "      <td>39000.0</td>\n",
       "    </tr>\n",
       "    <tr>\n",
       "      <th>29219</th>\n",
       "      <td>transaction</td>\n",
       "      <td>576</td>\n",
       "      <td>15917</td>\n",
       "      <td>6.40</td>\n",
       "      <td>5.0</td>\n",
       "      <td>NaN</td>\n",
       "      <td>NaN</td>\n",
       "      <td>NaN</td>\n",
       "      <td>1.0</td>\n",
       "      <td>NaN</td>\n",
       "      <td>...</td>\n",
       "      <td>True</td>\n",
       "      <td>False</td>\n",
       "      <td>3.0</td>\n",
       "      <td>1.552000</td>\n",
       "      <td>-0.440</td>\n",
       "      <td>-1.992000</td>\n",
       "      <td>M</td>\n",
       "      <td>56.0</td>\n",
       "      <td>20170916</td>\n",
       "      <td>43000.0</td>\n",
       "    </tr>\n",
       "    <tr>\n",
       "      <th>29222</th>\n",
       "      <td>transaction</td>\n",
       "      <td>588</td>\n",
       "      <td>9526</td>\n",
       "      <td>14.80</td>\n",
       "      <td>10.0</td>\n",
       "      <td>1.0</td>\n",
       "      <td>NaN</td>\n",
       "      <td>NaN</td>\n",
       "      <td>NaN</td>\n",
       "      <td>NaN</td>\n",
       "      <td>...</td>\n",
       "      <td>True</td>\n",
       "      <td>False</td>\n",
       "      <td>6.0</td>\n",
       "      <td>10.123000</td>\n",
       "      <td>-0.080</td>\n",
       "      <td>-10.203000</td>\n",
       "      <td>M</td>\n",
       "      <td>58.0</td>\n",
       "      <td>20160912</td>\n",
       "      <td>118000.0</td>\n",
       "    </tr>\n",
       "  </tbody>\n",
       "</table>\n",
       "<p>5077 rows × 24 columns</p>\n",
       "</div>"
      ],
      "text/plain": [
       "             event  time  person_id  amount  reward  BOGO_r10_d10_u5  \\\n",
       "1      transaction   510          3   21.72    15.0              NaN   \n",
       "5      transaction   210         13   12.33    10.0              1.0   \n",
       "19     transaction   210         24   12.94    10.0              1.0   \n",
       "22     transaction   498         26    2.63     2.0              NaN   \n",
       "29     transaction    12         34    5.47     5.0              NaN   \n",
       "...            ...   ...        ...     ...     ...              ...   \n",
       "29206  transaction   576      10561   11.71    20.0              NaN   \n",
       "29209  transaction   552      12129   16.88    15.0              1.0   \n",
       "29216  transaction   510      13698   13.29    10.0              1.0   \n",
       "29219  transaction   576      15917    6.40     5.0              NaN   \n",
       "29222  transaction   588       9526   14.80    10.0              1.0   \n",
       "\n",
       "       BOGO_r10_d10_u7  BOGO_r5_d5_u5  BOGO_r5_d5_u7  DIS_r2_d10_u10  ...  \\\n",
       "1                  1.0            1.0            NaN             NaN  ...   \n",
       "5                  NaN            NaN            NaN             NaN  ...   \n",
       "19                 NaN            NaN            NaN             NaN  ...   \n",
       "22                 NaN            NaN            NaN             1.0  ...   \n",
       "29                 NaN            NaN            1.0             NaN  ...   \n",
       "...                ...            ...            ...             ...  ...   \n",
       "29206              2.0            NaN            NaN             NaN  ...   \n",
       "29209              NaN            NaN            1.0             NaN  ...   \n",
       "29216              NaN            NaN            NaN             NaN  ...   \n",
       "29219              NaN            NaN            1.0             NaN  ...   \n",
       "29222              NaN            NaN            NaN             NaN  ...   \n",
       "\n",
       "        bogo  discount  reward_cost  mean_profit_without_offer  profit  \\\n",
       "1       True     False          9.0                   9.412800  -0.312   \n",
       "5       True     False          6.0                   5.961333  -1.068   \n",
       "19      True     False          6.0                   6.390000  -0.824   \n",
       "22     False      True          1.2                   0.780800  -0.148   \n",
       "29      True     False          3.0                   1.091385  -0.812   \n",
       "...      ...       ...          ...                        ...     ...   \n",
       "29206   True     False         12.0                   1.169000  -7.316   \n",
       "29209   True     False          9.0                   5.302000  -2.248   \n",
       "29216   True     False          6.0                   3.896000  -0.684   \n",
       "29219   True     False          3.0                   1.552000  -0.440   \n",
       "29222   True     False          6.0                  10.123000  -0.080   \n",
       "\n",
       "       profit_diff  gender   age  became_member_on    income  \n",
       "1        -9.724800       F  75.0          20170509  100000.0  \n",
       "5        -7.029333       F  61.0          20170911   57000.0  \n",
       "19       -7.214000       M  42.0          20130811   69000.0  \n",
       "22       -0.928800    None   NaN          20170330       NaN  \n",
       "29       -1.903385       M  40.0          20160709   33000.0  \n",
       "...            ...     ...   ...               ...       ...  \n",
       "29206    -8.485000       M  32.0          20180425   59000.0  \n",
       "29209    -7.550000       F  78.0          20170224   78000.0  \n",
       "29216    -4.580000       M  33.0          20150816   39000.0  \n",
       "29219    -1.992000       M  56.0          20170916   43000.0  \n",
       "29222   -10.203000       M  58.0          20160912  118000.0  \n",
       "\n",
       "[5077 rows x 24 columns]"
      ]
     },
     "execution_count": 23,
     "metadata": {},
     "output_type": "execute_result"
    }
   ],
   "source": [
    "trans_profit[trans_profit['profit'] < 0]"
   ]
  },
  {
   "cell_type": "code",
   "execution_count": 76,
   "metadata": {},
   "outputs": [],
   "source": [
    "def mean_amount(trans_reward = trans_reward, gross_profit = 0.4):\n",
    "    \"\"\"\n",
    "    Function to summary the trans_reward dataframe, \n",
    "    to get the mean amount and mean amount plus reward for each person for futher model\n",
    "    \n",
    "    \"\"\"\n",
    "    trans_reward.loc[trans_reward['bogo'],'reward'] *= (1-gross_profit)\n",
    "\n",
    "    reward_isnan = trans_reward['reward'].isnull()\n",
    "    amount_reward = trans_reward[~reward_isnan].copy()\n",
    "    amount_reward['profit'] = amount_reward['amount'] * gross_profit - amount_reward['reward']* (1-gross_profit)\n",
    "    amount = trans_reward[reward_isnan].copy()\n",
    "    \n",
    "    profit_without_offer = amount.groupby('person_id').mean()['amount']* gross_profit\n",
    "    profit_without_offer = profit_without_offer.reset_index()\n",
    "    profit_without_offer = profit_without_offer.rename(columns = {'amount':'mean_profit_without_offer'})\n",
    "    \n",
    "    count_without_offer = amount.groupby('person_id').count()['amount'].reset_index()\n",
    "    count_without_offer = count_without_offer.rename(columns = {'amount':'count_without_offer'})\n",
    "    \n",
    "    count_offer_total = amount_reward.groupby('person_id').count()['reward'].reset_index()\n",
    "    count_offer_total = count_offer_total.rename(columns = {'reward':'count_offer'})\n",
    "    \n",
    "    offer_sum = amount_reward.groupby('person_id').sum().filter(regex = '^BOGO|DIS', axis = 1)\n",
    "    profit_with_offer = amount_reward.groupby('person_id').mean()['profit'].reset_index()\n",
    "    profit_with_offer = profit_with_offer.rename(columns = {'profit':'profit_with_offer'})\n",
    "\n",
    "    mean_amount = profit_with_offer.merge(profit_without_offer, on = 'person_id', how = 'outer')\n",
    "    mean_amount = mean_amount.merge(count_without_offer, on = 'person_id', how = 'outer')  \n",
    "    mean_amount = mean_amount.merge(count_offer_total, on = 'person_id', how = 'outer') \n",
    "    mean_amount = mean_amount.merge(offer_sum, on = 'person_id', how = 'left') \n",
    "    mean_amount['profit_diff'] = mean_amount['mean_profit_without_offer'] - mean_amount['profit_with_offer']\n",
    "    \n",
    "    return mean_amount\n",
    "    \n",
    "mean_amount = mean_amount()\n",
    "mean_amount = mean_amount.merge(clean_profile, on = 'person_id', how = 'left')\n",
    "\n"
   ]
  },
  {
   "cell_type": "code",
   "execution_count": 77,
   "metadata": {},
   "outputs": [
    {
     "data": {
      "text/html": [
       "<div>\n",
       "<style scoped>\n",
       "    .dataframe tbody tr th:only-of-type {\n",
       "        vertical-align: middle;\n",
       "    }\n",
       "\n",
       "    .dataframe tbody tr th {\n",
       "        vertical-align: top;\n",
       "    }\n",
       "\n",
       "    .dataframe thead th {\n",
       "        text-align: right;\n",
       "    }\n",
       "</style>\n",
       "<table border=\"1\" class=\"dataframe\">\n",
       "  <thead>\n",
       "    <tr style=\"text-align: right;\">\n",
       "      <th></th>\n",
       "      <th>person_id</th>\n",
       "      <th>profit_with_offer</th>\n",
       "      <th>mean_profit_without_offer</th>\n",
       "      <th>count_without_offer</th>\n",
       "      <th>count_offer</th>\n",
       "      <th>BOGO_r10_d10_u5</th>\n",
       "      <th>BOGO_r10_d10_u7</th>\n",
       "      <th>BOGO_r5_d5_u5</th>\n",
       "      <th>BOGO_r5_d5_u7</th>\n",
       "      <th>DIS_r2_d10_u10</th>\n",
       "      <th>DIS_r2_d10_u7</th>\n",
       "      <th>DIS_r3_d7_u7</th>\n",
       "      <th>DIS_r5_d20_u10</th>\n",
       "      <th>profit_diff</th>\n",
       "      <th>age</th>\n",
       "      <th>became_member_on</th>\n",
       "      <th>income</th>\n",
       "    </tr>\n",
       "  </thead>\n",
       "  <tbody>\n",
       "    <tr>\n",
       "      <th>count</th>\n",
       "      <td>16553.000000</td>\n",
       "      <td>12528.000000</td>\n",
       "      <td>16156.000000</td>\n",
       "      <td>16156.000000</td>\n",
       "      <td>12528.000000</td>\n",
       "      <td>12528.000000</td>\n",
       "      <td>12528.000000</td>\n",
       "      <td>12528.000000</td>\n",
       "      <td>12528.000000</td>\n",
       "      <td>12528.000000</td>\n",
       "      <td>12528.000000</td>\n",
       "      <td>12528.000000</td>\n",
       "      <td>12528.000000</td>\n",
       "      <td>12131.000000</td>\n",
       "      <td>14450.000000</td>\n",
       "      <td>1.655300e+04</td>\n",
       "      <td>14467.000000</td>\n",
       "    </tr>\n",
       "    <tr>\n",
       "      <th>mean</th>\n",
       "      <td>8502.212107</td>\n",
       "      <td>6.104785</td>\n",
       "      <td>5.088963</td>\n",
       "      <td>6.705620</td>\n",
       "      <td>2.332934</td>\n",
       "      <td>0.242577</td>\n",
       "      <td>0.266284</td>\n",
       "      <td>0.316491</td>\n",
       "      <td>0.312580</td>\n",
       "      <td>0.395115</td>\n",
       "      <td>0.294540</td>\n",
       "      <td>0.386414</td>\n",
       "      <td>0.238426</td>\n",
       "      <td>0.069974</td>\n",
       "      <td>54.236886</td>\n",
       "      <td>2.016682e+07</td>\n",
       "      <td>65188.981821</td>\n",
       "    </tr>\n",
       "    <tr>\n",
       "      <th>std</th>\n",
       "      <td>4909.825582</td>\n",
       "      <td>11.069044</td>\n",
       "      <td>6.843831</td>\n",
       "      <td>4.503583</td>\n",
       "      <td>1.194782</td>\n",
       "      <td>0.500962</td>\n",
       "      <td>0.525070</td>\n",
       "      <td>0.548452</td>\n",
       "      <td>0.547856</td>\n",
       "      <td>0.601890</td>\n",
       "      <td>0.539577</td>\n",
       "      <td>0.596842</td>\n",
       "      <td>0.492526</td>\n",
       "      <td>12.351775</td>\n",
       "      <td>17.378621</td>\n",
       "      <td>1.169835e+04</td>\n",
       "      <td>21597.404940</td>\n",
       "    </tr>\n",
       "    <tr>\n",
       "      <th>min</th>\n",
       "      <td>0.000000</td>\n",
       "      <td>-3.140000</td>\n",
       "      <td>0.020000</td>\n",
       "      <td>1.000000</td>\n",
       "      <td>1.000000</td>\n",
       "      <td>0.000000</td>\n",
       "      <td>0.000000</td>\n",
       "      <td>0.000000</td>\n",
       "      <td>0.000000</td>\n",
       "      <td>0.000000</td>\n",
       "      <td>0.000000</td>\n",
       "      <td>0.000000</td>\n",
       "      <td>0.000000</td>\n",
       "      <td>-395.362667</td>\n",
       "      <td>18.000000</td>\n",
       "      <td>2.013073e+07</td>\n",
       "      <td>30000.000000</td>\n",
       "    </tr>\n",
       "    <tr>\n",
       "      <th>25%</th>\n",
       "      <td>4251.000000</td>\n",
       "      <td>2.383667</td>\n",
       "      <td>1.113929</td>\n",
       "      <td>3.000000</td>\n",
       "      <td>1.000000</td>\n",
       "      <td>0.000000</td>\n",
       "      <td>0.000000</td>\n",
       "      <td>0.000000</td>\n",
       "      <td>0.000000</td>\n",
       "      <td>0.000000</td>\n",
       "      <td>0.000000</td>\n",
       "      <td>0.000000</td>\n",
       "      <td>0.000000</td>\n",
       "      <td>-0.647333</td>\n",
       "      <td>42.000000</td>\n",
       "      <td>2.016052e+07</td>\n",
       "      <td>49000.000000</td>\n",
       "    </tr>\n",
       "    <tr>\n",
       "      <th>50%</th>\n",
       "      <td>8496.000000</td>\n",
       "      <td>5.010000</td>\n",
       "      <td>4.074200</td>\n",
       "      <td>6.000000</td>\n",
       "      <td>2.000000</td>\n",
       "      <td>0.000000</td>\n",
       "      <td>0.000000</td>\n",
       "      <td>0.000000</td>\n",
       "      <td>0.000000</td>\n",
       "      <td>0.000000</td>\n",
       "      <td>0.000000</td>\n",
       "      <td>0.000000</td>\n",
       "      <td>0.000000</td>\n",
       "      <td>0.591111</td>\n",
       "      <td>55.000000</td>\n",
       "      <td>2.017073e+07</td>\n",
       "      <td>63000.000000</td>\n",
       "    </tr>\n",
       "    <tr>\n",
       "      <th>75%</th>\n",
       "      <td>12753.000000</td>\n",
       "      <td>7.540000</td>\n",
       "      <td>7.732167</td>\n",
       "      <td>9.000000</td>\n",
       "      <td>3.000000</td>\n",
       "      <td>0.000000</td>\n",
       "      <td>0.000000</td>\n",
       "      <td>1.000000</td>\n",
       "      <td>1.000000</td>\n",
       "      <td>1.000000</td>\n",
       "      <td>1.000000</td>\n",
       "      <td>1.000000</td>\n",
       "      <td>0.000000</td>\n",
       "      <td>1.901556</td>\n",
       "      <td>66.000000</td>\n",
       "      <td>2.017122e+07</td>\n",
       "      <td>79000.000000</td>\n",
       "    </tr>\n",
       "    <tr>\n",
       "      <th>max</th>\n",
       "      <td>16999.000000</td>\n",
       "      <td>404.996000</td>\n",
       "      <td>220.266000</td>\n",
       "      <td>33.000000</td>\n",
       "      <td>6.000000</td>\n",
       "      <td>4.000000</td>\n",
       "      <td>4.000000</td>\n",
       "      <td>3.000000</td>\n",
       "      <td>4.000000</td>\n",
       "      <td>4.000000</td>\n",
       "      <td>4.000000</td>\n",
       "      <td>4.000000</td>\n",
       "      <td>3.000000</td>\n",
       "      <td>209.028000</td>\n",
       "      <td>99.000000</td>\n",
       "      <td>2.018073e+07</td>\n",
       "      <td>120000.000000</td>\n",
       "    </tr>\n",
       "  </tbody>\n",
       "</table>\n",
       "</div>"
      ],
      "text/plain": [
       "          person_id  profit_with_offer  mean_profit_without_offer  \\\n",
       "count  16553.000000       12528.000000               16156.000000   \n",
       "mean    8502.212107           6.104785                   5.088963   \n",
       "std     4909.825582          11.069044                   6.843831   \n",
       "min        0.000000          -3.140000                   0.020000   \n",
       "25%     4251.000000           2.383667                   1.113929   \n",
       "50%     8496.000000           5.010000                   4.074200   \n",
       "75%    12753.000000           7.540000                   7.732167   \n",
       "max    16999.000000         404.996000                 220.266000   \n",
       "\n",
       "       count_without_offer   count_offer  BOGO_r10_d10_u5  BOGO_r10_d10_u7  \\\n",
       "count         16156.000000  12528.000000     12528.000000     12528.000000   \n",
       "mean              6.705620      2.332934         0.242577         0.266284   \n",
       "std               4.503583      1.194782         0.500962         0.525070   \n",
       "min               1.000000      1.000000         0.000000         0.000000   \n",
       "25%               3.000000      1.000000         0.000000         0.000000   \n",
       "50%               6.000000      2.000000         0.000000         0.000000   \n",
       "75%               9.000000      3.000000         0.000000         0.000000   \n",
       "max              33.000000      6.000000         4.000000         4.000000   \n",
       "\n",
       "       BOGO_r5_d5_u5  BOGO_r5_d5_u7  DIS_r2_d10_u10  DIS_r2_d10_u7  \\\n",
       "count   12528.000000   12528.000000    12528.000000   12528.000000   \n",
       "mean        0.316491       0.312580        0.395115       0.294540   \n",
       "std         0.548452       0.547856        0.601890       0.539577   \n",
       "min         0.000000       0.000000        0.000000       0.000000   \n",
       "25%         0.000000       0.000000        0.000000       0.000000   \n",
       "50%         0.000000       0.000000        0.000000       0.000000   \n",
       "75%         1.000000       1.000000        1.000000       1.000000   \n",
       "max         3.000000       4.000000        4.000000       4.000000   \n",
       "\n",
       "       DIS_r3_d7_u7  DIS_r5_d20_u10   profit_diff           age  \\\n",
       "count  12528.000000    12528.000000  12131.000000  14450.000000   \n",
       "mean       0.386414        0.238426      0.069974     54.236886   \n",
       "std        0.596842        0.492526     12.351775     17.378621   \n",
       "min        0.000000        0.000000   -395.362667     18.000000   \n",
       "25%        0.000000        0.000000     -0.647333     42.000000   \n",
       "50%        0.000000        0.000000      0.591111     55.000000   \n",
       "75%        1.000000        0.000000      1.901556     66.000000   \n",
       "max        4.000000        3.000000    209.028000     99.000000   \n",
       "\n",
       "       became_member_on         income  \n",
       "count      1.655300e+04   14467.000000  \n",
       "mean       2.016682e+07   65188.981821  \n",
       "std        1.169835e+04   21597.404940  \n",
       "min        2.013073e+07   30000.000000  \n",
       "25%        2.016052e+07   49000.000000  \n",
       "50%        2.017073e+07   63000.000000  \n",
       "75%        2.017122e+07   79000.000000  \n",
       "max        2.018073e+07  120000.000000  "
      ]
     },
     "execution_count": 77,
     "metadata": {},
     "output_type": "execute_result"
    }
   ],
   "source": [
    "mean_amount.describe()"
   ]
  },
  {
   "cell_type": "code",
   "execution_count": 78,
   "metadata": {},
   "outputs": [
    {
     "data": {
      "text/plain": [
       "-395.3626666666667"
      ]
     },
     "execution_count": 78,
     "metadata": {},
     "output_type": "execute_result"
    }
   ],
   "source": [
    "mean_amount['profit_diff'].min()"
   ]
  },
  {
   "cell_type": "code",
   "execution_count": 80,
   "metadata": {},
   "outputs": [
    {
     "data": {
      "image/png": "[encoded data removed]",
      "text/plain": [
       "<Figure size 864x864 with 4 Axes>"
      ]
     },
     "metadata": {
      "needs_background": "light"
     },
     "output_type": "display_data"
    }
   ],
   "source": [
    "fig, ((ax0, ax1), (ax2, ax3)) = plt.subplots(nrows = 2, ncols = 2,figsize  = (12,12))\n",
    "fig.subplots_adjust(left=0.1, right=0.95, bottom=0.15)\n",
    "sns.histplot(data = mean_amount, x = 'mean_profit_without_offer', bins = range(0, 100, 5),stat = 'percent', hue = 'gender',multiple = 'stack', ax = ax0)\n",
    "ax0.set_xlabel('The Average Profit per Customer(Without Offer)')\n",
    "ax0.set_title('Histogram of Averge profit per Customer(Without Offer, Gross Profit Margin = 0.3)')\n",
    "\n",
    "sns.histplot(data = mean_amount, x = 'profit_with_offer',bins = range(-15, 85,5), stat = 'percent',hue = 'gender',multiple = 'stack', ax = ax1)\n",
    "ax1.set_xlabel('The Average Profit per Customer(With Offer)')\n",
    "ax1.set_title('Histogram of Averge Profit per Customer /n (With Offer, Gross Profit Margin = 0.3)')\n",
    "\n",
    "\n",
    "sns.histplot(data = mean_amount, x= 'count_without_offer',stat = 'percent', hue = 'gender',multiple = 'stack', ax = ax2)\n",
    "ax2.set_xlabel('The Count of orders without offer')\n",
    "ax2.set_title('Histogram of The Count of orders without offer')\n",
    "\n",
    "sns.histplot(data = mean_amount, x = 'count_offer',stat = 'percent', hue = 'gender',multiple = 'stack', ax = ax3)\n",
    "ax3.set_xlabel('The Count of orders with offer')\n",
    "ax3.set_title('Histogram of The Count of orders with offer')\n",
    "plt.show()"
   ]
  },
  {
   "cell_type": "code",
   "execution_count": 36,
   "metadata": {},
   "outputs": [
    {
     "data": {
      "image/png": "[encoded data removed]",
      "text/plain": [
       "<Figure size 864x864 with 4 Axes>"
      ]
     },
     "metadata": {
      "needs_background": "light"
     },
     "output_type": "display_data"
    }
   ],
   "source": [
    "fig, ((ax0, ax1), (ax2, ax3)) = plt.subplots(nrows = 2, ncols = 2,figsize  = (12,12))\n",
    "fig.subplots_adjust(left=0.1, right=0.95, bottom=0.15)\n",
    "sns.histplot(data = trans_profit, x = 'profit', bins = range(-20, 30, 1),stat = 'percent', hue = 'gender',element = 'poly', ax = ax0)\n",
    "ax0.set_xlabel('The Profit of each order(With Offer)')\n",
    "ax0.set_title('Histogram of profit of each order(With Offer, GPM = 0.3)')\n",
    "\n",
    "sns.histplot(data = trans_profit, x = 'profit_diff',bins = range(-30,30 ,1), stat = 'percent',hue = 'gender',element = 'poly', ax = ax1)\n",
    "ax1.set_xlabel('The Profit difference from average profit(without offer)')\n",
    "ax1.set_title('Histogram of Porfit difference (GPM= 0.3)')\n",
    "\n",
    "\n",
    "sns.histplot(data = trans_profit, x= 'reward_cost',stat = 'percent', hue = 'gender',multiple = 'stack', ax = ax2)\n",
    "ax2.set_xlabel('The Count of orders without offer')\n",
    "ax2.set_title('Histogram of The Count of orders without offer')\n",
    "\n",
    "sns.histplot(data = trans_profit, x = 'amount',stat = 'percent', hue = 'gender',multiple = 'stack', ax = ax3)\n",
    "ax3.set_xlabel('The Count of orders with offer')\n",
    "ax3.set_title('Histogram of The Count of orders with offer')\n",
    "plt.show()"
   ]
  },
  {
   "cell_type": "markdown",
   "metadata": {},
   "source": [
    "**1. Female tend to have higher average price.**\n",
    "\n",
    "**2. Male tend to have more orders without offer**\n",
    "\n",
    "**3. Female tend to use offers more.**"
   ]
  },
  {
   "cell_type": "markdown",
   "metadata": {},
   "source": [
    "1. The customers that only come to startbuck if they have offers ,which takes about 2.54%.\n",
    "2. The customers that never use offers, which takes about 22.84%."
   ]
  },
  {
   "cell_type": "markdown",
   "metadata": {
    "tags": []
   },
   "source": [
    "# Section 3: Data Preparation"
   ]
  },
  {
   "cell_type": "markdown",
   "metadata": {},
   "source": [
    "We would build a model to predict the difference "
   ]
  },
  {
   "cell_type": "code",
   "execution_count": 151,
   "metadata": {},
   "outputs": [
    {
     "data": {
      "image/png": "[encoded data removed]",
      "text/plain": [
       "<Figure size 864x864 with 2 Axes>"
      ]
     },
     "metadata": {
      "needs_background": "light"
     },
     "output_type": "display_data"
    }
   ],
   "source": [
    "df = mean_amount.drop(['profit_with_offer', 'count_offer', 'became_member_on', 'person_id'], axis = 1)\n",
    "\n",
    "df = df.dropna(subset = ['profit_diff', 'income', 'age'], axis = 0)\n",
    "f, ax = plt.subplots(figsize = (12,12))\n",
    "ax = sns.heatmap(df.corr(), annot = True, fmt = \".2f\",square = True)\n",
    "\n"
   ]
  },
  {
   "cell_type": "code",
   "execution_count": 38,
   "metadata": {},
   "outputs": [
    {
     "data": {
      "text/html": [
       "<div>\n",
       "<style scoped>\n",
       "    .dataframe tbody tr th:only-of-type {\n",
       "        vertical-align: middle;\n",
       "    }\n",
       "\n",
       "    .dataframe tbody tr th {\n",
       "        vertical-align: top;\n",
       "    }\n",
       "\n",
       "    .dataframe thead th {\n",
       "        text-align: right;\n",
       "    }\n",
       "</style>\n",
       "<table border=\"1\" class=\"dataframe\">\n",
       "  <thead>\n",
       "    <tr style=\"text-align: right;\">\n",
       "      <th></th>\n",
       "      <th>event</th>\n",
       "      <th>time</th>\n",
       "      <th>person_id</th>\n",
       "      <th>amount</th>\n",
       "      <th>reward</th>\n",
       "      <th>BOGO_r10_d10_u5</th>\n",
       "      <th>BOGO_r10_d10_u7</th>\n",
       "      <th>BOGO_r5_d5_u5</th>\n",
       "      <th>BOGO_r5_d5_u7</th>\n",
       "      <th>DIS_r2_d10_u10</th>\n",
       "      <th>...</th>\n",
       "      <th>bogo</th>\n",
       "      <th>discount</th>\n",
       "      <th>reward_cost</th>\n",
       "      <th>mean_profit_without_offer</th>\n",
       "      <th>profit</th>\n",
       "      <th>profit_diff</th>\n",
       "      <th>gender</th>\n",
       "      <th>age</th>\n",
       "      <th>became_member_on</th>\n",
       "      <th>income</th>\n",
       "    </tr>\n",
       "  </thead>\n",
       "  <tbody>\n",
       "    <tr>\n",
       "      <th>0</th>\n",
       "      <td>transaction</td>\n",
       "      <td>132</td>\n",
       "      <td>3</td>\n",
       "      <td>19.89</td>\n",
       "      <td>5.0</td>\n",
       "      <td>NaN</td>\n",
       "      <td>NaN</td>\n",
       "      <td>NaN</td>\n",
       "      <td>1.0</td>\n",
       "      <td>NaN</td>\n",
       "      <td>...</td>\n",
       "      <td>True</td>\n",
       "      <td>False</td>\n",
       "      <td>3.0</td>\n",
       "      <td>9.412800</td>\n",
       "      <td>4.956</td>\n",
       "      <td>-4.456800</td>\n",
       "      <td>F</td>\n",
       "      <td>75.0</td>\n",
       "      <td>20170509</td>\n",
       "      <td>100000.0</td>\n",
       "    </tr>\n",
       "    <tr>\n",
       "      <th>1</th>\n",
       "      <td>transaction</td>\n",
       "      <td>510</td>\n",
       "      <td>3</td>\n",
       "      <td>21.72</td>\n",
       "      <td>15.0</td>\n",
       "      <td>NaN</td>\n",
       "      <td>1.0</td>\n",
       "      <td>1.0</td>\n",
       "      <td>NaN</td>\n",
       "      <td>NaN</td>\n",
       "      <td>...</td>\n",
       "      <td>True</td>\n",
       "      <td>False</td>\n",
       "      <td>9.0</td>\n",
       "      <td>9.412800</td>\n",
       "      <td>-0.312</td>\n",
       "      <td>-9.724800</td>\n",
       "      <td>F</td>\n",
       "      <td>75.0</td>\n",
       "      <td>20170509</td>\n",
       "      <td>100000.0</td>\n",
       "    </tr>\n",
       "    <tr>\n",
       "      <th>2</th>\n",
       "      <td>transaction</td>\n",
       "      <td>60</td>\n",
       "      <td>8</td>\n",
       "      <td>9.54</td>\n",
       "      <td>5.0</td>\n",
       "      <td>NaN</td>\n",
       "      <td>NaN</td>\n",
       "      <td>1.0</td>\n",
       "      <td>NaN</td>\n",
       "      <td>NaN</td>\n",
       "      <td>...</td>\n",
       "      <td>True</td>\n",
       "      <td>False</td>\n",
       "      <td>3.0</td>\n",
       "      <td>NaN</td>\n",
       "      <td>0.816</td>\n",
       "      <td>NaN</td>\n",
       "      <td>M</td>\n",
       "      <td>65.0</td>\n",
       "      <td>20180209</td>\n",
       "      <td>53000.0</td>\n",
       "    </tr>\n",
       "    <tr>\n",
       "      <th>3</th>\n",
       "      <td>transaction</td>\n",
       "      <td>684</td>\n",
       "      <td>10</td>\n",
       "      <td>54.61</td>\n",
       "      <td>10.0</td>\n",
       "      <td>NaN</td>\n",
       "      <td>1.0</td>\n",
       "      <td>NaN</td>\n",
       "      <td>NaN</td>\n",
       "      <td>NaN</td>\n",
       "      <td>...</td>\n",
       "      <td>True</td>\n",
       "      <td>False</td>\n",
       "      <td>6.0</td>\n",
       "      <td>0.590000</td>\n",
       "      <td>15.844</td>\n",
       "      <td>15.254000</td>\n",
       "      <td>None</td>\n",
       "      <td>NaN</td>\n",
       "      <td>20170824</td>\n",
       "      <td>NaN</td>\n",
       "    </tr>\n",
       "    <tr>\n",
       "      <th>4</th>\n",
       "      <td>transaction</td>\n",
       "      <td>456</td>\n",
       "      <td>12</td>\n",
       "      <td>7.14</td>\n",
       "      <td>2.0</td>\n",
       "      <td>NaN</td>\n",
       "      <td>NaN</td>\n",
       "      <td>NaN</td>\n",
       "      <td>NaN</td>\n",
       "      <td>1.0</td>\n",
       "      <td>...</td>\n",
       "      <td>False</td>\n",
       "      <td>True</td>\n",
       "      <td>1.2</td>\n",
       "      <td>1.130667</td>\n",
       "      <td>1.656</td>\n",
       "      <td>0.525333</td>\n",
       "      <td>M</td>\n",
       "      <td>58.0</td>\n",
       "      <td>20171111</td>\n",
       "      <td>51000.0</td>\n",
       "    </tr>\n",
       "  </tbody>\n",
       "</table>\n",
       "<p>5 rows × 24 columns</p>\n",
       "</div>"
      ],
      "text/plain": [
       "         event  time  person_id  amount  reward  BOGO_r10_d10_u5  \\\n",
       "0  transaction   132          3   19.89     5.0              NaN   \n",
       "1  transaction   510          3   21.72    15.0              NaN   \n",
       "2  transaction    60          8    9.54     5.0              NaN   \n",
       "3  transaction   684         10   54.61    10.0              NaN   \n",
       "4  transaction   456         12    7.14     2.0              NaN   \n",
       "\n",
       "   BOGO_r10_d10_u7  BOGO_r5_d5_u5  BOGO_r5_d5_u7  DIS_r2_d10_u10  ...   bogo  \\\n",
       "0              NaN            NaN            1.0             NaN  ...   True   \n",
       "1              1.0            1.0            NaN             NaN  ...   True   \n",
       "2              NaN            1.0            NaN             NaN  ...   True   \n",
       "3              1.0            NaN            NaN             NaN  ...   True   \n",
       "4              NaN            NaN            NaN             1.0  ...  False   \n",
       "\n",
       "   discount  reward_cost  mean_profit_without_offer  profit  profit_diff  \\\n",
       "0     False          3.0                   9.412800   4.956    -4.456800   \n",
       "1     False          9.0                   9.412800  -0.312    -9.724800   \n",
       "2     False          3.0                        NaN   0.816          NaN   \n",
       "3     False          6.0                   0.590000  15.844    15.254000   \n",
       "4      True          1.2                   1.130667   1.656     0.525333   \n",
       "\n",
       "   gender   age  became_member_on    income  \n",
       "0       F  75.0          20170509  100000.0  \n",
       "1       F  75.0          20170509  100000.0  \n",
       "2       M  65.0          20180209   53000.0  \n",
       "3    None   NaN          20170824       NaN  \n",
       "4       M  58.0          20171111   51000.0  \n",
       "\n",
       "[5 rows x 24 columns]"
      ]
     },
     "execution_count": 38,
     "metadata": {},
     "output_type": "execute_result"
    }
   ],
   "source": [
    "trans_profit.head()"
   ]
  },
  {
   "cell_type": "code",
   "execution_count": 133,
   "metadata": {},
   "outputs": [
    {
     "data": {
      "text/html": [
       "<div>\n",
       "<style scoped>\n",
       "    .dataframe tbody tr th:only-of-type {\n",
       "        vertical-align: middle;\n",
       "    }\n",
       "\n",
       "    .dataframe tbody tr th {\n",
       "        vertical-align: top;\n",
       "    }\n",
       "\n",
       "    .dataframe thead th {\n",
       "        text-align: right;\n",
       "    }\n",
       "</style>\n",
       "<table border=\"1\" class=\"dataframe\">\n",
       "  <thead>\n",
       "    <tr style=\"text-align: right;\">\n",
       "      <th></th>\n",
       "      <th>mean_profit_without_offer</th>\n",
       "      <th>count_without_offer</th>\n",
       "      <th>BOGO_r10_d10_u5</th>\n",
       "      <th>BOGO_r10_d10_u7</th>\n",
       "      <th>BOGO_r5_d5_u5</th>\n",
       "      <th>BOGO_r5_d5_u7</th>\n",
       "      <th>DIS_r2_d10_u10</th>\n",
       "      <th>DIS_r2_d10_u7</th>\n",
       "      <th>DIS_r3_d7_u7</th>\n",
       "      <th>DIS_r5_d20_u10</th>\n",
       "      <th>profit_diff</th>\n",
       "      <th>age</th>\n",
       "      <th>income</th>\n",
       "      <th>income_nan</th>\n",
       "      <th>age_nan</th>\n",
       "      <th>gender_M</th>\n",
       "      <th>gender_O</th>\n",
       "      <th>gender_nan</th>\n",
       "    </tr>\n",
       "  </thead>\n",
       "  <tbody>\n",
       "    <tr>\n",
       "      <th>0</th>\n",
       "      <td>0.914000</td>\n",
       "      <td>8.0</td>\n",
       "      <td>0</td>\n",
       "      <td>0</td>\n",
       "      <td>0</td>\n",
       "      <td>0</td>\n",
       "      <td>1</td>\n",
       "      <td>0</td>\n",
       "      <td>1</td>\n",
       "      <td>0</td>\n",
       "      <td>3.066000</td>\n",
       "      <td>0</td>\n",
       "      <td>0</td>\n",
       "      <td>1</td>\n",
       "      <td>1</td>\n",
       "      <td>0</td>\n",
       "      <td>0</td>\n",
       "      <td>1</td>\n",
       "    </tr>\n",
       "    <tr>\n",
       "      <th>1</th>\n",
       "      <td>10.758000</td>\n",
       "      <td>2.0</td>\n",
       "      <td>0</td>\n",
       "      <td>0</td>\n",
       "      <td>0</td>\n",
       "      <td>1</td>\n",
       "      <td>0</td>\n",
       "      <td>0</td>\n",
       "      <td>0</td>\n",
       "      <td>0</td>\n",
       "      <td>2.118000</td>\n",
       "      <td>0</td>\n",
       "      <td>0</td>\n",
       "      <td>0</td>\n",
       "      <td>0</td>\n",
       "      <td>0</td>\n",
       "      <td>0</td>\n",
       "      <td>0</td>\n",
       "    </tr>\n",
       "    <tr>\n",
       "      <th>2</th>\n",
       "      <td>9.412800</td>\n",
       "      <td>5.0</td>\n",
       "      <td>0</td>\n",
       "      <td>1</td>\n",
       "      <td>1</td>\n",
       "      <td>1</td>\n",
       "      <td>0</td>\n",
       "      <td>0</td>\n",
       "      <td>0</td>\n",
       "      <td>0</td>\n",
       "      <td>2.386800</td>\n",
       "      <td>0</td>\n",
       "      <td>0</td>\n",
       "      <td>0</td>\n",
       "      <td>0</td>\n",
       "      <td>0</td>\n",
       "      <td>0</td>\n",
       "      <td>0</td>\n",
       "    </tr>\n",
       "    <tr>\n",
       "      <th>4</th>\n",
       "      <td>0.830400</td>\n",
       "      <td>5.0</td>\n",
       "      <td>0</td>\n",
       "      <td>0</td>\n",
       "      <td>0</td>\n",
       "      <td>1</td>\n",
       "      <td>0</td>\n",
       "      <td>0</td>\n",
       "      <td>0</td>\n",
       "      <td>0</td>\n",
       "      <td>-0.617600</td>\n",
       "      <td>0</td>\n",
       "      <td>0</td>\n",
       "      <td>1</td>\n",
       "      <td>1</td>\n",
       "      <td>0</td>\n",
       "      <td>0</td>\n",
       "      <td>1</td>\n",
       "    </tr>\n",
       "    <tr>\n",
       "      <th>5</th>\n",
       "      <td>0.590000</td>\n",
       "      <td>8.0</td>\n",
       "      <td>0</td>\n",
       "      <td>1</td>\n",
       "      <td>0</td>\n",
       "      <td>0</td>\n",
       "      <td>0</td>\n",
       "      <td>0</td>\n",
       "      <td>0</td>\n",
       "      <td>0</td>\n",
       "      <td>-19.958000</td>\n",
       "      <td>0</td>\n",
       "      <td>0</td>\n",
       "      <td>1</td>\n",
       "      <td>1</td>\n",
       "      <td>0</td>\n",
       "      <td>0</td>\n",
       "      <td>1</td>\n",
       "    </tr>\n",
       "    <tr>\n",
       "      <th>...</th>\n",
       "      <td>...</td>\n",
       "      <td>...</td>\n",
       "      <td>...</td>\n",
       "      <td>...</td>\n",
       "      <td>...</td>\n",
       "      <td>...</td>\n",
       "      <td>...</td>\n",
       "      <td>...</td>\n",
       "      <td>...</td>\n",
       "      <td>...</td>\n",
       "      <td>...</td>\n",
       "      <td>...</td>\n",
       "      <td>...</td>\n",
       "      <td>...</td>\n",
       "      <td>...</td>\n",
       "      <td>...</td>\n",
       "      <td>...</td>\n",
       "      <td>...</td>\n",
       "    </tr>\n",
       "    <tr>\n",
       "      <th>12523</th>\n",
       "      <td>3.517818</td>\n",
       "      <td>11.0</td>\n",
       "      <td>0</td>\n",
       "      <td>0</td>\n",
       "      <td>1</td>\n",
       "      <td>0</td>\n",
       "      <td>1</td>\n",
       "      <td>0</td>\n",
       "      <td>1</td>\n",
       "      <td>1</td>\n",
       "      <td>0.478818</td>\n",
       "      <td>0</td>\n",
       "      <td>0</td>\n",
       "      <td>0</td>\n",
       "      <td>0</td>\n",
       "      <td>0</td>\n",
       "      <td>0</td>\n",
       "      <td>0</td>\n",
       "    </tr>\n",
       "    <tr>\n",
       "      <th>12524</th>\n",
       "      <td>9.397000</td>\n",
       "      <td>4.0</td>\n",
       "      <td>0</td>\n",
       "      <td>0</td>\n",
       "      <td>0</td>\n",
       "      <td>0</td>\n",
       "      <td>0</td>\n",
       "      <td>1</td>\n",
       "      <td>0</td>\n",
       "      <td>0</td>\n",
       "      <td>1.949000</td>\n",
       "      <td>0</td>\n",
       "      <td>0</td>\n",
       "      <td>0</td>\n",
       "      <td>0</td>\n",
       "      <td>1</td>\n",
       "      <td>0</td>\n",
       "      <td>0</td>\n",
       "    </tr>\n",
       "    <tr>\n",
       "      <th>12525</th>\n",
       "      <td>1.300667</td>\n",
       "      <td>6.0</td>\n",
       "      <td>0</td>\n",
       "      <td>0</td>\n",
       "      <td>0</td>\n",
       "      <td>1</td>\n",
       "      <td>0</td>\n",
       "      <td>0</td>\n",
       "      <td>0</td>\n",
       "      <td>0</td>\n",
       "      <td>-0.635333</td>\n",
       "      <td>0</td>\n",
       "      <td>0</td>\n",
       "      <td>0</td>\n",
       "      <td>0</td>\n",
       "      <td>1</td>\n",
       "      <td>0</td>\n",
       "      <td>0</td>\n",
       "    </tr>\n",
       "    <tr>\n",
       "      <th>12526</th>\n",
       "      <td>5.648000</td>\n",
       "      <td>11.0</td>\n",
       "      <td>1</td>\n",
       "      <td>1</td>\n",
       "      <td>0</td>\n",
       "      <td>1</td>\n",
       "      <td>0</td>\n",
       "      <td>0</td>\n",
       "      <td>0</td>\n",
       "      <td>0</td>\n",
       "      <td>2.148000</td>\n",
       "      <td>0</td>\n",
       "      <td>0</td>\n",
       "      <td>0</td>\n",
       "      <td>0</td>\n",
       "      <td>0</td>\n",
       "      <td>0</td>\n",
       "      <td>0</td>\n",
       "    </tr>\n",
       "    <tr>\n",
       "      <th>12527</th>\n",
       "      <td>9.090000</td>\n",
       "      <td>4.0</td>\n",
       "      <td>0</td>\n",
       "      <td>0</td>\n",
       "      <td>1</td>\n",
       "      <td>0</td>\n",
       "      <td>0</td>\n",
       "      <td>0</td>\n",
       "      <td>1</td>\n",
       "      <td>0</td>\n",
       "      <td>-0.110000</td>\n",
       "      <td>0</td>\n",
       "      <td>0</td>\n",
       "      <td>0</td>\n",
       "      <td>0</td>\n",
       "      <td>0</td>\n",
       "      <td>0</td>\n",
       "      <td>0</td>\n",
       "    </tr>\n",
       "  </tbody>\n",
       "</table>\n",
       "<p>11883 rows × 18 columns</p>\n",
       "</div>"
      ],
      "text/plain": [
       "       mean_profit_without_offer  count_without_offer  BOGO_r10_d10_u5  \\\n",
       "0                       0.914000                  8.0                0   \n",
       "1                      10.758000                  2.0                0   \n",
       "2                       9.412800                  5.0                0   \n",
       "4                       0.830400                  5.0                0   \n",
       "5                       0.590000                  8.0                0   \n",
       "...                          ...                  ...              ...   \n",
       "12523                   3.517818                 11.0                0   \n",
       "12524                   9.397000                  4.0                0   \n",
       "12525                   1.300667                  6.0                0   \n",
       "12526                   5.648000                 11.0                1   \n",
       "12527                   9.090000                  4.0                0   \n",
       "\n",
       "       BOGO_r10_d10_u7  BOGO_r5_d5_u5  BOGO_r5_d5_u7  DIS_r2_d10_u10  \\\n",
       "0                    0              0              0               1   \n",
       "1                    0              0              1               0   \n",
       "2                    1              1              1               0   \n",
       "4                    0              0              1               0   \n",
       "5                    1              0              0               0   \n",
       "...                ...            ...            ...             ...   \n",
       "12523                0              1              0               1   \n",
       "12524                0              0              0               0   \n",
       "12525                0              0              1               0   \n",
       "12526                1              0              1               0   \n",
       "12527                0              1              0               0   \n",
       "\n",
       "       DIS_r2_d10_u7  DIS_r3_d7_u7  DIS_r5_d20_u10  profit_diff  age  income  \\\n",
       "0                  0             1               0     3.066000    0       0   \n",
       "1                  0             0               0     2.118000    0       0   \n",
       "2                  0             0               0     2.386800    0       0   \n",
       "4                  0             0               0    -0.617600    0       0   \n",
       "5                  0             0               0   -19.958000    0       0   \n",
       "...              ...           ...             ...          ...  ...     ...   \n",
       "12523              0             1               1     0.478818    0       0   \n",
       "12524              1             0               0     1.949000    0       0   \n",
       "12525              0             0               0    -0.635333    0       0   \n",
       "12526              0             0               0     2.148000    0       0   \n",
       "12527              0             1               0    -0.110000    0       0   \n",
       "\n",
       "       income_nan  age_nan  gender_M  gender_O  gender_nan  \n",
       "0               1        1         0         0           1  \n",
       "1               0        0         0         0           0  \n",
       "2               0        0         0         0           0  \n",
       "4               1        1         0         0           1  \n",
       "5               1        1         0         0           1  \n",
       "...           ...      ...       ...       ...         ...  \n",
       "12523           0        0         0         0           0  \n",
       "12524           0        0         1         0           0  \n",
       "12525           0        0         1         0           0  \n",
       "12526           0        0         0         0           0  \n",
       "12527           0        0         0         0           0  \n",
       "\n",
       "[11883 rows x 18 columns]"
      ]
     },
     "execution_count": 133,
     "metadata": {},
     "output_type": "execute_result"
    },
    {
     "data": {
      "image/png": "[encoded data removed]",
      "text/plain": [
       "<Figure size 864x864 with 2 Axes>"
      ]
     },
     "metadata": {
      "needs_background": "light"
     },
     "output_type": "display_data"
    }
   ],
   "source": [
    "\n",
    "df_ = trans_profit.drop(['event','amount', 'time', 'reward', 'bogo', 'discount', 'reward_cost', 'profit', 'became_member_on', 'person_id'], axis = 1)\n",
    "\n",
    "df_ = df_.dropna(subset = ['profit_diff','age','income'], axis = 0)\n",
    "f, ax = plt.subplots(figsize = (12,12))\n",
    "ax = sns.heatmap(df_.corr(), annot = True, fmt = \".2f\",square = True)\n",
    "df"
   ]
  },
  {
   "cell_type": "code",
   "execution_count": 40,
   "metadata": {},
   "outputs": [
    {
     "data": {
      "text/html": [
       "<div>\n",
       "<style scoped>\n",
       "    .dataframe tbody tr th:only-of-type {\n",
       "        vertical-align: middle;\n",
       "    }\n",
       "\n",
       "    .dataframe tbody tr th {\n",
       "        vertical-align: top;\n",
       "    }\n",
       "\n",
       "    .dataframe thead th {\n",
       "        text-align: right;\n",
       "    }\n",
       "</style>\n",
       "<table border=\"1\" class=\"dataframe\">\n",
       "  <thead>\n",
       "    <tr style=\"text-align: right;\">\n",
       "      <th></th>\n",
       "      <th>BOGO_r10_d10_u5</th>\n",
       "      <th>BOGO_r10_d10_u7</th>\n",
       "      <th>BOGO_r5_d5_u5</th>\n",
       "      <th>BOGO_r5_d5_u7</th>\n",
       "      <th>DIS_r2_d10_u10</th>\n",
       "      <th>DIS_r2_d10_u7</th>\n",
       "      <th>DIS_r3_d7_u7</th>\n",
       "      <th>DIS_r5_d20_u10</th>\n",
       "      <th>offer_used</th>\n",
       "      <th>mean_profit_without_offer</th>\n",
       "      <th>profit_diff</th>\n",
       "      <th>gender</th>\n",
       "      <th>age</th>\n",
       "      <th>income</th>\n",
       "    </tr>\n",
       "  </thead>\n",
       "  <tbody>\n",
       "    <tr>\n",
       "      <th>0</th>\n",
       "      <td>NaN</td>\n",
       "      <td>NaN</td>\n",
       "      <td>NaN</td>\n",
       "      <td>1.0</td>\n",
       "      <td>NaN</td>\n",
       "      <td>NaN</td>\n",
       "      <td>NaN</td>\n",
       "      <td>NaN</td>\n",
       "      <td>1.0</td>\n",
       "      <td>9.412800</td>\n",
       "      <td>-4.456800</td>\n",
       "      <td>F</td>\n",
       "      <td>75.0</td>\n",
       "      <td>100000.0</td>\n",
       "    </tr>\n",
       "    <tr>\n",
       "      <th>1</th>\n",
       "      <td>NaN</td>\n",
       "      <td>1.0</td>\n",
       "      <td>1.0</td>\n",
       "      <td>NaN</td>\n",
       "      <td>NaN</td>\n",
       "      <td>NaN</td>\n",
       "      <td>NaN</td>\n",
       "      <td>NaN</td>\n",
       "      <td>2.0</td>\n",
       "      <td>9.412800</td>\n",
       "      <td>-9.724800</td>\n",
       "      <td>F</td>\n",
       "      <td>75.0</td>\n",
       "      <td>100000.0</td>\n",
       "    </tr>\n",
       "    <tr>\n",
       "      <th>3</th>\n",
       "      <td>NaN</td>\n",
       "      <td>1.0</td>\n",
       "      <td>NaN</td>\n",
       "      <td>NaN</td>\n",
       "      <td>NaN</td>\n",
       "      <td>NaN</td>\n",
       "      <td>NaN</td>\n",
       "      <td>NaN</td>\n",
       "      <td>1.0</td>\n",
       "      <td>0.590000</td>\n",
       "      <td>15.254000</td>\n",
       "      <td>None</td>\n",
       "      <td>NaN</td>\n",
       "      <td>NaN</td>\n",
       "    </tr>\n",
       "    <tr>\n",
       "      <th>4</th>\n",
       "      <td>NaN</td>\n",
       "      <td>NaN</td>\n",
       "      <td>NaN</td>\n",
       "      <td>NaN</td>\n",
       "      <td>1.0</td>\n",
       "      <td>NaN</td>\n",
       "      <td>NaN</td>\n",
       "      <td>NaN</td>\n",
       "      <td>1.0</td>\n",
       "      <td>1.130667</td>\n",
       "      <td>0.525333</td>\n",
       "      <td>M</td>\n",
       "      <td>58.0</td>\n",
       "      <td>51000.0</td>\n",
       "    </tr>\n",
       "    <tr>\n",
       "      <th>5</th>\n",
       "      <td>1.0</td>\n",
       "      <td>NaN</td>\n",
       "      <td>NaN</td>\n",
       "      <td>NaN</td>\n",
       "      <td>NaN</td>\n",
       "      <td>NaN</td>\n",
       "      <td>NaN</td>\n",
       "      <td>NaN</td>\n",
       "      <td>1.0</td>\n",
       "      <td>5.961333</td>\n",
       "      <td>-7.029333</td>\n",
       "      <td>F</td>\n",
       "      <td>61.0</td>\n",
       "      <td>57000.0</td>\n",
       "    </tr>\n",
       "    <tr>\n",
       "      <th>...</th>\n",
       "      <td>...</td>\n",
       "      <td>...</td>\n",
       "      <td>...</td>\n",
       "      <td>...</td>\n",
       "      <td>...</td>\n",
       "      <td>...</td>\n",
       "      <td>...</td>\n",
       "      <td>...</td>\n",
       "      <td>...</td>\n",
       "      <td>...</td>\n",
       "      <td>...</td>\n",
       "      <td>...</td>\n",
       "      <td>...</td>\n",
       "      <td>...</td>\n",
       "    </tr>\n",
       "    <tr>\n",
       "      <th>29222</th>\n",
       "      <td>1.0</td>\n",
       "      <td>NaN</td>\n",
       "      <td>NaN</td>\n",
       "      <td>NaN</td>\n",
       "      <td>NaN</td>\n",
       "      <td>NaN</td>\n",
       "      <td>NaN</td>\n",
       "      <td>NaN</td>\n",
       "      <td>1.0</td>\n",
       "      <td>10.123000</td>\n",
       "      <td>-10.203000</td>\n",
       "      <td>M</td>\n",
       "      <td>58.0</td>\n",
       "      <td>118000.0</td>\n",
       "    </tr>\n",
       "    <tr>\n",
       "      <th>29223</th>\n",
       "      <td>NaN</td>\n",
       "      <td>NaN</td>\n",
       "      <td>NaN</td>\n",
       "      <td>1.0</td>\n",
       "      <td>NaN</td>\n",
       "      <td>NaN</td>\n",
       "      <td>NaN</td>\n",
       "      <td>NaN</td>\n",
       "      <td>1.0</td>\n",
       "      <td>0.296000</td>\n",
       "      <td>0.488000</td>\n",
       "      <td>None</td>\n",
       "      <td>NaN</td>\n",
       "      <td>NaN</td>\n",
       "    </tr>\n",
       "    <tr>\n",
       "      <th>29224</th>\n",
       "      <td>NaN</td>\n",
       "      <td>NaN</td>\n",
       "      <td>1.0</td>\n",
       "      <td>NaN</td>\n",
       "      <td>NaN</td>\n",
       "      <td>NaN</td>\n",
       "      <td>NaN</td>\n",
       "      <td>NaN</td>\n",
       "      <td>1.0</td>\n",
       "      <td>9.836000</td>\n",
       "      <td>-6.556000</td>\n",
       "      <td>F</td>\n",
       "      <td>60.0</td>\n",
       "      <td>94000.0</td>\n",
       "    </tr>\n",
       "    <tr>\n",
       "      <th>29225</th>\n",
       "      <td>NaN</td>\n",
       "      <td>NaN</td>\n",
       "      <td>NaN</td>\n",
       "      <td>NaN</td>\n",
       "      <td>NaN</td>\n",
       "      <td>NaN</td>\n",
       "      <td>1.0</td>\n",
       "      <td>NaN</td>\n",
       "      <td>1.0</td>\n",
       "      <td>9.836000</td>\n",
       "      <td>-3.232000</td>\n",
       "      <td>F</td>\n",
       "      <td>60.0</td>\n",
       "      <td>94000.0</td>\n",
       "    </tr>\n",
       "    <tr>\n",
       "      <th>29226</th>\n",
       "      <td>NaN</td>\n",
       "      <td>NaN</td>\n",
       "      <td>NaN</td>\n",
       "      <td>NaN</td>\n",
       "      <td>1.0</td>\n",
       "      <td>NaN</td>\n",
       "      <td>NaN</td>\n",
       "      <td>NaN</td>\n",
       "      <td>1.0</td>\n",
       "      <td>1.028000</td>\n",
       "      <td>2.828000</td>\n",
       "      <td>None</td>\n",
       "      <td>NaN</td>\n",
       "      <td>NaN</td>\n",
       "    </tr>\n",
       "  </tbody>\n",
       "</table>\n",
       "<p>28496 rows × 14 columns</p>\n",
       "</div>"
      ],
      "text/plain": [
       "       BOGO_r10_d10_u5  BOGO_r10_d10_u7  BOGO_r5_d5_u5  BOGO_r5_d5_u7  \\\n",
       "0                  NaN              NaN            NaN            1.0   \n",
       "1                  NaN              1.0            1.0            NaN   \n",
       "3                  NaN              1.0            NaN            NaN   \n",
       "4                  NaN              NaN            NaN            NaN   \n",
       "5                  1.0              NaN            NaN            NaN   \n",
       "...                ...              ...            ...            ...   \n",
       "29222              1.0              NaN            NaN            NaN   \n",
       "29223              NaN              NaN            NaN            1.0   \n",
       "29224              NaN              NaN            1.0            NaN   \n",
       "29225              NaN              NaN            NaN            NaN   \n",
       "29226              NaN              NaN            NaN            NaN   \n",
       "\n",
       "       DIS_r2_d10_u10  DIS_r2_d10_u7  DIS_r3_d7_u7  DIS_r5_d20_u10  \\\n",
       "0                 NaN            NaN           NaN             NaN   \n",
       "1                 NaN            NaN           NaN             NaN   \n",
       "3                 NaN            NaN           NaN             NaN   \n",
       "4                 1.0            NaN           NaN             NaN   \n",
       "5                 NaN            NaN           NaN             NaN   \n",
       "...               ...            ...           ...             ...   \n",
       "29222             NaN            NaN           NaN             NaN   \n",
       "29223             NaN            NaN           NaN             NaN   \n",
       "29224             NaN            NaN           NaN             NaN   \n",
       "29225             NaN            NaN           1.0             NaN   \n",
       "29226             1.0            NaN           NaN             NaN   \n",
       "\n",
       "       offer_used  mean_profit_without_offer  profit_diff gender   age  \\\n",
       "0             1.0                   9.412800    -4.456800      F  75.0   \n",
       "1             2.0                   9.412800    -9.724800      F  75.0   \n",
       "3             1.0                   0.590000    15.254000   None   NaN   \n",
       "4             1.0                   1.130667     0.525333      M  58.0   \n",
       "5             1.0                   5.961333    -7.029333      F  61.0   \n",
       "...           ...                        ...          ...    ...   ...   \n",
       "29222         1.0                  10.123000   -10.203000      M  58.0   \n",
       "29223         1.0                   0.296000     0.488000   None   NaN   \n",
       "29224         1.0                   9.836000    -6.556000      F  60.0   \n",
       "29225         1.0                   9.836000    -3.232000      F  60.0   \n",
       "29226         1.0                   1.028000     2.828000   None   NaN   \n",
       "\n",
       "         income  \n",
       "0      100000.0  \n",
       "1      100000.0  \n",
       "3           NaN  \n",
       "4       51000.0  \n",
       "5       57000.0  \n",
       "...         ...  \n",
       "29222  118000.0  \n",
       "29223       NaN  \n",
       "29224   94000.0  \n",
       "29225   94000.0  \n",
       "29226       NaN  \n",
       "\n",
       "[28496 rows x 14 columns]"
      ]
     },
     "execution_count": 40,
     "metadata": {},
     "output_type": "execute_result"
    }
   ],
   "source": [
    "df_"
   ]
  },
  {
   "cell_type": "markdown",
   "metadata": {},
   "source": [
    "## 1. Cleaning"
   ]
  },
  {
   "cell_type": "markdown",
   "metadata": {},
   "source": [
    "### 1. create column for income and age Nan."
   ]
  },
  {
   "cell_type": "code",
   "execution_count": 152,
   "metadata": {},
   "outputs": [],
   "source": [
    "df['income'] = df['income'].astype(int)\n",
    "df['age'] = df['age'].astype(int)\n",
    "offer_columns = df.columns.to_series().str.contains('^DIS|BOGO')\n",
    "df.loc[:,offer_columns] = df.loc[:,offer_columns].fillna(0).astype(int)\n",
    "\n",
    "#df.filter(regex = '^DIS|BOGO',axis = 1).fillna(0, inplace = True)\n",
    "#df.filter(regex = '^DIS|BOGO',axis = 1).astype(int, inplace = True)\n",
    "cate_vars = ['gender']\n",
    "#df.loc[:, ['age', 'income']] = df.loc[:, ['age', 'income']].fillna(value = 0)\n",
    "df['age'] = df['age'].fillna(value = df['age'].mean())\n",
    "df['income'] = df['income'].fillna(value = df['income'].mean())\n",
    "\n",
    "for cate in cate_vars:\n",
    "    df = pd.concat([df.drop(cate ,axis = 1), pd.get_dummies(df[cate], prefix = cate, prefix_sep = '_', drop_first = True)], axis = 1)\n",
    "\n"
   ]
  },
  {
   "cell_type": "code",
   "execution_count": 153,
   "metadata": {},
   "outputs": [],
   "source": [
    "df_back = df.copy()"
   ]
  },
  {
   "cell_type": "code",
   "execution_count": null,
   "metadata": {},
   "outputs": [],
   "source": [
    "\n"
   ]
  },
  {
   "cell_type": "code",
   "execution_count": 154,
   "metadata": {},
   "outputs": [],
   "source": [
    "\n",
    "profit_without_offer_top = df_back['mean_profit_without_offer'].mean() + 3 * df_back['mean_profit_without_offer'].std() \n",
    "profit_without_offer_bottom = df_back['mean_profit_without_offer'].mean() - 3 * df_back['mean_profit_without_offer'].std()\n",
    "\n",
    "profit_diff_top = df_back['profit_diff'].mean() + 3 * df_back['profit_diff'].std() \n",
    "profit_diff_bottom = df_back['profit_diff'].mean() - 3 * df_back['profit_diff'].std()\n",
    "\n",
    "df = df_back[(df_back['mean_profit_without_offer'] < profit_without_offer_top) &\n",
    "             (df_back['mean_profit_without_offer'] > profit_without_offer_bottom) &\n",
    "             (df_back['profit_diff'] < profit_diff_top) &\n",
    "             (df_back['profit_diff'] > profit_diff_bottom) ]\n",
    "\n",
    "y = df['profit_diff']\n",
    "x = df.drop(['profit_diff'], axis = 1)\n",
    "STDS = StandardScaler()\n",
    "MMS = MinMaxScaler()\n",
    "\n",
    "std_list = ['age', 'income', 'count_without_offer', 'mean_profit_without_offer']\n",
    "offer_list = ['BOGO_r10_d10_u5', 'BOGO_r10_d10_u7', 'BOGO_r5_d5_u5', 'BOGO_r5_d5_u7', 'DIS_r2_d10_u10', 'DIS_r2_d10_u7', 'DIS_r3_d7_u7', 'DIS_r5_d20_u10']\n",
    "\n",
    "for column in std_list:\n",
    "    x[column] = STDS.fit_transform(x[column].values.reshape(-1,1))\n",
    "\n",
    "#for column in offer_list:\n",
    "#    x[column] = MMS.fit_transform(x[column].values.reshape(-1,1))\n",
    "for column in offer_list:\n",
    "    x.loc[x[column] >= 1,column] = 1\n",
    "    \n",
    "x_train, x_test, y_train, y_test = train_test_split(x, y, random_state =42)"
   ]
  },
  {
   "cell_type": "code",
   "execution_count": 149,
   "metadata": {},
   "outputs": [
    {
     "data": {
      "text/html": [
       "<div>\n",
       "<style scoped>\n",
       "    .dataframe tbody tr th:only-of-type {\n",
       "        vertical-align: middle;\n",
       "    }\n",
       "\n",
       "    .dataframe tbody tr th {\n",
       "        vertical-align: top;\n",
       "    }\n",
       "\n",
       "    .dataframe thead th {\n",
       "        text-align: right;\n",
       "    }\n",
       "</style>\n",
       "<table border=\"1\" class=\"dataframe\">\n",
       "  <thead>\n",
       "    <tr style=\"text-align: right;\">\n",
       "      <th></th>\n",
       "      <th>mean_profit_without_offer</th>\n",
       "      <th>count_without_offer</th>\n",
       "      <th>BOGO_r10_d10_u5</th>\n",
       "      <th>BOGO_r10_d10_u7</th>\n",
       "      <th>BOGO_r5_d5_u5</th>\n",
       "      <th>BOGO_r5_d5_u7</th>\n",
       "      <th>DIS_r2_d10_u10</th>\n",
       "      <th>DIS_r2_d10_u7</th>\n",
       "      <th>DIS_r3_d7_u7</th>\n",
       "      <th>DIS_r5_d20_u10</th>\n",
       "      <th>age</th>\n",
       "      <th>income</th>\n",
       "      <th>gender_M</th>\n",
       "      <th>gender_O</th>\n",
       "      <th>gender_nan</th>\n",
       "    </tr>\n",
       "  </thead>\n",
       "  <tbody>\n",
       "    <tr>\n",
       "      <th>8053</th>\n",
       "      <td>0.066438</td>\n",
       "      <td>0.201578</td>\n",
       "      <td>0</td>\n",
       "      <td>0</td>\n",
       "      <td>0</td>\n",
       "      <td>0</td>\n",
       "      <td>0</td>\n",
       "      <td>1</td>\n",
       "      <td>1</td>\n",
       "      <td>1</td>\n",
       "      <td>-0.286901</td>\n",
       "      <td>-0.651659</td>\n",
       "      <td>0</td>\n",
       "      <td>0</td>\n",
       "      <td>0</td>\n",
       "    </tr>\n",
       "    <tr>\n",
       "      <th>475</th>\n",
       "      <td>0.477631</td>\n",
       "      <td>-1.058225</td>\n",
       "      <td>1</td>\n",
       "      <td>0</td>\n",
       "      <td>0</td>\n",
       "      <td>0</td>\n",
       "      <td>0</td>\n",
       "      <td>0</td>\n",
       "      <td>1</td>\n",
       "      <td>1</td>\n",
       "      <td>0.065044</td>\n",
       "      <td>0.133620</td>\n",
       "      <td>0</td>\n",
       "      <td>0</td>\n",
       "      <td>0</td>\n",
       "    </tr>\n",
       "    <tr>\n",
       "      <th>11907</th>\n",
       "      <td>0.295455</td>\n",
       "      <td>0.831480</td>\n",
       "      <td>1</td>\n",
       "      <td>0</td>\n",
       "      <td>0</td>\n",
       "      <td>0</td>\n",
       "      <td>1</td>\n",
       "      <td>0</td>\n",
       "      <td>1</td>\n",
       "      <td>0</td>\n",
       "      <td>0.241017</td>\n",
       "      <td>0.087427</td>\n",
       "      <td>1</td>\n",
       "      <td>0</td>\n",
       "      <td>0</td>\n",
       "    </tr>\n",
       "    <tr>\n",
       "      <th>8440</th>\n",
       "      <td>0.648077</td>\n",
       "      <td>-1.268192</td>\n",
       "      <td>0</td>\n",
       "      <td>0</td>\n",
       "      <td>0</td>\n",
       "      <td>1</td>\n",
       "      <td>0</td>\n",
       "      <td>1</td>\n",
       "      <td>1</td>\n",
       "      <td>1</td>\n",
       "      <td>0.416989</td>\n",
       "      <td>1.981334</td>\n",
       "      <td>0</td>\n",
       "      <td>0</td>\n",
       "      <td>0</td>\n",
       "    </tr>\n",
       "    <tr>\n",
       "      <th>10507</th>\n",
       "      <td>-1.132729</td>\n",
       "      <td>-0.428323</td>\n",
       "      <td>0</td>\n",
       "      <td>0</td>\n",
       "      <td>0</td>\n",
       "      <td>0</td>\n",
       "      <td>0</td>\n",
       "      <td>0</td>\n",
       "      <td>1</td>\n",
       "      <td>0</td>\n",
       "      <td>1.003564</td>\n",
       "      <td>0.041234</td>\n",
       "      <td>1</td>\n",
       "      <td>0</td>\n",
       "      <td>0</td>\n",
       "    </tr>\n",
       "    <tr>\n",
       "      <th>...</th>\n",
       "      <td>...</td>\n",
       "      <td>...</td>\n",
       "      <td>...</td>\n",
       "      <td>...</td>\n",
       "      <td>...</td>\n",
       "      <td>...</td>\n",
       "      <td>...</td>\n",
       "      <td>...</td>\n",
       "      <td>...</td>\n",
       "      <td>...</td>\n",
       "      <td>...</td>\n",
       "      <td>...</td>\n",
       "      <td>...</td>\n",
       "      <td>...</td>\n",
       "      <td>...</td>\n",
       "    </tr>\n",
       "    <tr>\n",
       "      <th>6481</th>\n",
       "      <td>-1.426021</td>\n",
       "      <td>2.511217</td>\n",
       "      <td>0</td>\n",
       "      <td>0</td>\n",
       "      <td>0</td>\n",
       "      <td>1</td>\n",
       "      <td>1</td>\n",
       "      <td>0</td>\n",
       "      <td>0</td>\n",
       "      <td>0</td>\n",
       "      <td>-0.169586</td>\n",
       "      <td>-1.621709</td>\n",
       "      <td>0</td>\n",
       "      <td>0</td>\n",
       "      <td>0</td>\n",
       "    </tr>\n",
       "    <tr>\n",
       "      <th>5854</th>\n",
       "      <td>-0.179417</td>\n",
       "      <td>-0.218356</td>\n",
       "      <td>0</td>\n",
       "      <td>0</td>\n",
       "      <td>0</td>\n",
       "      <td>0</td>\n",
       "      <td>0</td>\n",
       "      <td>1</td>\n",
       "      <td>1</td>\n",
       "      <td>0</td>\n",
       "      <td>-0.169586</td>\n",
       "      <td>-0.097345</td>\n",
       "      <td>1</td>\n",
       "      <td>0</td>\n",
       "      <td>0</td>\n",
       "    </tr>\n",
       "    <tr>\n",
       "      <th>6087</th>\n",
       "      <td>-0.656342</td>\n",
       "      <td>0.621513</td>\n",
       "      <td>0</td>\n",
       "      <td>0</td>\n",
       "      <td>0</td>\n",
       "      <td>0</td>\n",
       "      <td>0</td>\n",
       "      <td>1</td>\n",
       "      <td>1</td>\n",
       "      <td>0</td>\n",
       "      <td>-1.284079</td>\n",
       "      <td>-1.252166</td>\n",
       "      <td>0</td>\n",
       "      <td>0</td>\n",
       "      <td>0</td>\n",
       "    </tr>\n",
       "    <tr>\n",
       "      <th>986</th>\n",
       "      <td>1.640505</td>\n",
       "      <td>0.201578</td>\n",
       "      <td>1</td>\n",
       "      <td>0</td>\n",
       "      <td>0</td>\n",
       "      <td>1</td>\n",
       "      <td>0</td>\n",
       "      <td>0</td>\n",
       "      <td>0</td>\n",
       "      <td>1</td>\n",
       "      <td>-0.286901</td>\n",
       "      <td>0.872705</td>\n",
       "      <td>1</td>\n",
       "      <td>0</td>\n",
       "      <td>0</td>\n",
       "    </tr>\n",
       "    <tr>\n",
       "      <th>8206</th>\n",
       "      <td>0.346759</td>\n",
       "      <td>0.621513</td>\n",
       "      <td>0</td>\n",
       "      <td>1</td>\n",
       "      <td>1</td>\n",
       "      <td>0</td>\n",
       "      <td>0</td>\n",
       "      <td>1</td>\n",
       "      <td>1</td>\n",
       "      <td>0</td>\n",
       "      <td>-1.811996</td>\n",
       "      <td>-0.143537</td>\n",
       "      <td>0</td>\n",
       "      <td>0</td>\n",
       "      <td>0</td>\n",
       "    </tr>\n",
       "  </tbody>\n",
       "</table>\n",
       "<p>8334 rows × 15 columns</p>\n",
       "</div>"
      ],
      "text/plain": [
       "       mean_profit_without_offer  count_without_offer  BOGO_r10_d10_u5  \\\n",
       "8053                    0.066438             0.201578                0   \n",
       "475                     0.477631            -1.058225                1   \n",
       "11907                   0.295455             0.831480                1   \n",
       "8440                    0.648077            -1.268192                0   \n",
       "10507                  -1.132729            -0.428323                0   \n",
       "...                          ...                  ...              ...   \n",
       "6481                   -1.426021             2.511217                0   \n",
       "5854                   -0.179417            -0.218356                0   \n",
       "6087                   -0.656342             0.621513                0   \n",
       "986                     1.640505             0.201578                1   \n",
       "8206                    0.346759             0.621513                0   \n",
       "\n",
       "       BOGO_r10_d10_u7  BOGO_r5_d5_u5  BOGO_r5_d5_u7  DIS_r2_d10_u10  \\\n",
       "8053                 0              0              0               0   \n",
       "475                  0              0              0               0   \n",
       "11907                0              0              0               1   \n",
       "8440                 0              0              1               0   \n",
       "10507                0              0              0               0   \n",
       "...                ...            ...            ...             ...   \n",
       "6481                 0              0              1               1   \n",
       "5854                 0              0              0               0   \n",
       "6087                 0              0              0               0   \n",
       "986                  0              0              1               0   \n",
       "8206                 1              1              0               0   \n",
       "\n",
       "       DIS_r2_d10_u7  DIS_r3_d7_u7  DIS_r5_d20_u10       age    income  \\\n",
       "8053               1             1               1 -0.286901 -0.651659   \n",
       "475                0             1               1  0.065044  0.133620   \n",
       "11907              0             1               0  0.241017  0.087427   \n",
       "8440               1             1               1  0.416989  1.981334   \n",
       "10507              0             1               0  1.003564  0.041234   \n",
       "...              ...           ...             ...       ...       ...   \n",
       "6481               0             0               0 -0.169586 -1.621709   \n",
       "5854               1             1               0 -0.169586 -0.097345   \n",
       "6087               1             1               0 -1.284079 -1.252166   \n",
       "986                0             0               1 -0.286901  0.872705   \n",
       "8206               1             1               0 -1.811996 -0.143537   \n",
       "\n",
       "       gender_M  gender_O  gender_nan  \n",
       "8053          0         0           0  \n",
       "475           0         0           0  \n",
       "11907         1         0           0  \n",
       "8440          0         0           0  \n",
       "10507         1         0           0  \n",
       "...         ...       ...         ...  \n",
       "6481          0         0           0  \n",
       "5854          1         0           0  \n",
       "6087          0         0           0  \n",
       "986           1         0           0  \n",
       "8206          0         0           0  \n",
       "\n",
       "[8334 rows x 15 columns]"
      ]
     },
     "execution_count": 149,
     "metadata": {},
     "output_type": "execute_result"
    }
   ],
   "source": [
    "x_train"
   ]
  },
  {
   "cell_type": "code",
   "execution_count": 174,
   "metadata": {},
   "outputs": [],
   "source": [
    "\n",
    "df_ = trans_profit.drop(['event','offer_used','amount', 'time', 'reward', 'bogo', 'discount', 'reward_cost', 'profit', 'became_member_on', 'person_id'], axis = 1)\n",
    "\n",
    "#df_ = df_.dropna(subset = ['profit_diff','age', 'income'], axis = 0)\n",
    "df_ = df_.dropna(subset = ['profit_diff','age', 'income','gender'], axis = 0)\n",
    "\n",
    "#df_['income_nan'] = df_['income'].isna().astype(int)\n",
    "#df_['age_nan'] = df_['age'].isna().astype(int)\n",
    "df_['income'] = df_['income'].astype(int)\n",
    "df_['age'] = df_['age'].astype(int)\n",
    "\n",
    "offer_columns = df_.columns.to_series().str.contains('^DIS|BOGO')\n",
    "df_.loc[:,offer_columns] = df_.loc[:,offer_columns].fillna(0).astype(int)\n",
    "cate_vars = ['gender']\n",
    "#df.loc[:, ['age', 'income']] = df.loc[:, ['age', 'income']].fillna(value = 0)\n",
    "\n",
    "#df_['age'] = df_['age'].fillna(value = df_['age'].mean())\n",
    "#df_['income'] = df_['income'].fillna(value = df_['income'].mean() )\n",
    "\n",
    "for cate in cate_vars:\n",
    "    df_ = pd.concat([df_.drop(cate ,axis = 1), pd.get_dummies(df_[cate], prefix = cate, prefix_sep = '_', drop_first = True)], axis = 1)\n",
    "\n",
    "    \n",
    "\n",
    "profit_without_offer_top = df_['mean_profit_without_offer'].mean() + 3 * df_['mean_profit_without_offer'].std() \n",
    "profit_without_offer_bottom = df_['mean_profit_without_offer'].mean() - 3 * df_['mean_profit_without_offer'].std()\n",
    "\n",
    "profit_diff_top = df_['profit_diff'].mean() + 3 * df_['profit_diff'].std() \n",
    "profit_diff_bottom = df_['profit_diff'].mean() - 3 * df_['profit_diff'].std()\n",
    "\n",
    "df_ = df_[(df_['mean_profit_without_offer'] < profit_without_offer_top) &\n",
    "             (df_['mean_profit_without_offer'] > profit_without_offer_bottom) &\n",
    "             (df_['profit_diff'] < profit_diff_top) &\n",
    "             (df_['profit_diff'] > profit_diff_bottom) ]    \n",
    "y_ = df_['profit_diff']\n",
    "x_ = df_.drop(['profit_diff'], axis = 1)\n",
    "STDS = StandardScaler()\n",
    "RBS = RobustScaler(quantile_range = (15,85))\n",
    "MMS = MinMaxScaler()\n",
    "\n",
    "std_list = ['age', 'income']\n",
    "offer_list = ['BOGO_r10_d10_u5', 'BOGO_r10_d10_u7', 'BOGO_r5_d5_u5', 'BOGO_r5_d5_u7', 'DIS_r2_d10_u10', 'DIS_r2_d10_u7', 'DIS_r3_d7_u7', 'DIS_r5_d20_u10']\n",
    "\n",
    "for column in std_list:\n",
    "    x_[column] = STDS.fit_transform(x_[column].values.reshape(-1,1))\n",
    "\n",
    "for column in offer_list:\n",
    "    x_[column] = x_[column].fillna(0)\n",
    "    x.loc[x[column] >= 1,column] = 1\n",
    "#for column in offer_list:\n",
    "    \n",
    "    #x_[column] = MMS.fit_transform(x_[column].values.reshape(-1,1))\n",
    "x_['mean_profit_without_offer'] = RBS.fit_transform(x_['mean_profit_without_offer'].values.reshape(-1,1))\n",
    "x_train_, x_test_, y_train_, y_test_ = train_test_split(x_, y_, random_state =42)\n",
    "\n",
    "\n",
    "\n"
   ]
  },
  {
   "cell_type": "code",
   "execution_count": null,
   "metadata": {},
   "outputs": [],
   "source": [
    "x_train.describe()"
   ]
  },
  {
   "cell_type": "markdown",
   "metadata": {
    "tags": []
   },
   "source": [
    "# Secsion 4:Modeling"
   ]
  },
  {
   "cell_type": "markdown",
   "metadata": {},
   "source": [
    "## 1. Regression"
   ]
  },
  {
   "cell_type": "markdown",
   "metadata": {
    "tags": []
   },
   "source": [
    "### 1.1 Linear Regression"
   ]
  },
  {
   "cell_type": "code",
   "execution_count": 198,
   "metadata": {},
   "outputs": [],
   "source": [
    "from sklearn.metrics import classification_report\n",
    "from sklearn.metrics import matthews_corrcoef\n",
    "from sklearn.feature_selection import mutual_info_regression\n",
    "from sklearn.feature_selection import chi2\n",
    "from sklearn.feature_selection import f_classif\n",
    "\n",
    "import statsmodels.api as sm"
   ]
  },
  {
   "cell_type": "code",
   "execution_count": 158,
   "metadata": {},
   "outputs": [
    {
     "data": {
      "text/plain": [
       "array([2.03270081e-01, 3.96313477e-02, 0.00000000e+00, 0.00000000e+00,\n",
       "       8.87625569e-05, 0.00000000e+00, 4.47427642e-03, 0.00000000e+00,\n",
       "       2.08023840e-02, 1.62505802e-02, 1.11236617e-02, 6.80760259e-02,\n",
       "       1.30732468e-02, 1.13005186e-03])"
      ]
     },
     "execution_count": 158,
     "metadata": {},
     "output_type": "execute_result"
    }
   ],
   "source": [
    "mutual_info_regression(x_train, y_train)"
   ]
  },
  {
   "cell_type": "code",
   "execution_count": 199,
   "metadata": {},
   "outputs": [
    {
     "data": {
      "text/plain": [
       "(array([1.15186761e+03, 2.91245340e+01, 5.67187359e+00, 3.89306293e+00,\n",
       "        2.09248671e+01, 4.12585879e+01, 3.34764800e+00, 7.75662570e+00,\n",
       "        1.10587106e+02, 1.69702171e+02, 2.65217199e+01, 1.86919204e+02,\n",
       "        4.69743706e+01, 4.60740699e-02]),\n",
       " array([1.31482928e-236, 6.97374374e-008, 1.72613550e-002, 4.85189217e-002,\n",
       "        4.84556406e-006, 1.40673258e-010, 6.73368245e-002, 5.36366876e-003,\n",
       "        1.05530318e-025, 2.03628044e-038, 2.66555238e-007, 4.24838211e-042,\n",
       "        7.70392781e-012, 8.30046465e-001]))"
      ]
     },
     "execution_count": 199,
     "metadata": {},
     "output_type": "execute_result"
    }
   ],
   "source": [
    "f_classif(x_train,y_train_two)"
   ]
  },
  {
   "cell_type": "code",
   "execution_count": 163,
   "metadata": {},
   "outputs": [
    {
     "data": {
      "text/html": [
       "<div>\n",
       "<style scoped>\n",
       "    .dataframe tbody tr th:only-of-type {\n",
       "        vertical-align: middle;\n",
       "    }\n",
       "\n",
       "    .dataframe tbody tr th {\n",
       "        vertical-align: top;\n",
       "    }\n",
       "\n",
       "    .dataframe thead th {\n",
       "        text-align: right;\n",
       "    }\n",
       "</style>\n",
       "<table border=\"1\" class=\"dataframe\">\n",
       "  <thead>\n",
       "    <tr style=\"text-align: right;\">\n",
       "      <th></th>\n",
       "      <th>mean_profit_without_offer</th>\n",
       "      <th>count_without_offer</th>\n",
       "      <th>BOGO_r10_d10_u5</th>\n",
       "      <th>BOGO_r10_d10_u7</th>\n",
       "      <th>BOGO_r5_d5_u5</th>\n",
       "      <th>BOGO_r5_d5_u7</th>\n",
       "      <th>DIS_r2_d10_u10</th>\n",
       "      <th>DIS_r2_d10_u7</th>\n",
       "      <th>DIS_r3_d7_u7</th>\n",
       "      <th>DIS_r5_d20_u10</th>\n",
       "      <th>age</th>\n",
       "      <th>income</th>\n",
       "      <th>gender_M</th>\n",
       "      <th>gender_O</th>\n",
       "    </tr>\n",
       "  </thead>\n",
       "  <tbody>\n",
       "    <tr>\n",
       "      <th>0</th>\n",
       "      <td>1959.905755</td>\n",
       "      <td>5.294921e+01</td>\n",
       "      <td>5.676198</td>\n",
       "      <td>1.196085</td>\n",
       "      <td>1.513576</td>\n",
       "      <td>2.778907</td>\n",
       "      <td>0.608628</td>\n",
       "      <td>1.453824</td>\n",
       "      <td>3.596052e+01</td>\n",
       "      <td>4.965048e+01</td>\n",
       "      <td>2.493234e+01</td>\n",
       "      <td>1.920341e+02</td>\n",
       "      <td>3.621407e+01</td>\n",
       "      <td>0.201233</td>\n",
       "    </tr>\n",
       "    <tr>\n",
       "      <th>1</th>\n",
       "      <td>0.000000</td>\n",
       "      <td>3.733638e-13</td>\n",
       "      <td>0.017219</td>\n",
       "      <td>0.274137</td>\n",
       "      <td>0.218629</td>\n",
       "      <td>0.095551</td>\n",
       "      <td>0.435327</td>\n",
       "      <td>0.227950</td>\n",
       "      <td>2.097449e-09</td>\n",
       "      <td>1.983550e-12</td>\n",
       "      <td>6.058252e-07</td>\n",
       "      <td>3.439981e-43</td>\n",
       "      <td>1.842588e-09</td>\n",
       "      <td>0.653739</td>\n",
       "    </tr>\n",
       "  </tbody>\n",
       "</table>\n",
       "</div>"
      ],
      "text/plain": [
       "   mean_profit_without_offer  count_without_offer  BOGO_r10_d10_u5  \\\n",
       "0                1959.905755         5.294921e+01         5.676198   \n",
       "1                   0.000000         3.733638e-13         0.017219   \n",
       "\n",
       "   BOGO_r10_d10_u7  BOGO_r5_d5_u5  BOGO_r5_d5_u7  DIS_r2_d10_u10  \\\n",
       "0         1.196085       1.513576       2.778907        0.608628   \n",
       "1         0.274137       0.218629       0.095551        0.435327   \n",
       "\n",
       "   DIS_r2_d10_u7  DIS_r3_d7_u7  DIS_r5_d20_u10           age        income  \\\n",
       "0       1.453824  3.596052e+01    4.965048e+01  2.493234e+01  1.920341e+02   \n",
       "1       0.227950  2.097449e-09    1.983550e-12  6.058252e-07  3.439981e-43   \n",
       "\n",
       "       gender_M  gender_O  \n",
       "0  3.621407e+01  0.201233  \n",
       "1  1.842588e-09  0.653739  "
      ]
     },
     "execution_count": 163,
     "metadata": {},
     "output_type": "execute_result"
    }
   ],
   "source": [
    "from sklearn.feature_selection import f_regression\n",
    "f_reg = pd.DataFrame(f_regression(x_train,y_train), columns = x_train.columns)\n",
    "f_reg"
   ]
  },
  {
   "cell_type": "code",
   "execution_count": 165,
   "metadata": {},
   "outputs": [
    {
     "data": {
      "text/html": [
       "<div>\n",
       "<style scoped>\n",
       "    .dataframe tbody tr th:only-of-type {\n",
       "        vertical-align: middle;\n",
       "    }\n",
       "\n",
       "    .dataframe tbody tr th {\n",
       "        vertical-align: top;\n",
       "    }\n",
       "\n",
       "    .dataframe thead th {\n",
       "        text-align: right;\n",
       "    }\n",
       "</style>\n",
       "<table border=\"1\" class=\"dataframe\">\n",
       "  <thead>\n",
       "    <tr style=\"text-align: right;\">\n",
       "      <th></th>\n",
       "      <th>BOGO_r10_d10_u5</th>\n",
       "      <th>BOGO_r10_d10_u7</th>\n",
       "      <th>BOGO_r5_d5_u5</th>\n",
       "      <th>BOGO_r5_d5_u7</th>\n",
       "      <th>DIS_r2_d10_u10</th>\n",
       "      <th>DIS_r2_d10_u7</th>\n",
       "      <th>DIS_r3_d7_u7</th>\n",
       "      <th>DIS_r5_d20_u10</th>\n",
       "      <th>mean_profit_without_offer</th>\n",
       "      <th>age</th>\n",
       "      <th>income</th>\n",
       "      <th>gender_M</th>\n",
       "      <th>gender_O</th>\n",
       "    </tr>\n",
       "  </thead>\n",
       "  <tbody>\n",
       "    <tr>\n",
       "      <th>0</th>\n",
       "      <td>1551.354139</td>\n",
       "      <td>1565.030444</td>\n",
       "      <td>3.127366e+01</td>\n",
       "      <td>3.164864e+01</td>\n",
       "      <td>6.736187e+02</td>\n",
       "      <td>5.711461e+02</td>\n",
       "      <td>2.072740e+02</td>\n",
       "      <td>2.780778e+01</td>\n",
       "      <td>5075.48244</td>\n",
       "      <td>3.258202e+01</td>\n",
       "      <td>3.177198e+02</td>\n",
       "      <td>7.082625e+01</td>\n",
       "      <td>0.747666</td>\n",
       "    </tr>\n",
       "    <tr>\n",
       "      <th>1</th>\n",
       "      <td>0.000000</td>\n",
       "      <td>0.000000</td>\n",
       "      <td>2.269922e-08</td>\n",
       "      <td>1.871841e-08</td>\n",
       "      <td>3.980153e-146</td>\n",
       "      <td>1.670191e-124</td>\n",
       "      <td>9.196242e-47</td>\n",
       "      <td>1.353619e-07</td>\n",
       "      <td>0.00000</td>\n",
       "      <td>1.158646e-08</td>\n",
       "      <td>1.572420e-70</td>\n",
       "      <td>4.156945e-17</td>\n",
       "      <td>0.387226</td>\n",
       "    </tr>\n",
       "  </tbody>\n",
       "</table>\n",
       "</div>"
      ],
      "text/plain": [
       "   BOGO_r10_d10_u5  BOGO_r10_d10_u7  BOGO_r5_d5_u5  BOGO_r5_d5_u7  \\\n",
       "0      1551.354139      1565.030444   3.127366e+01   3.164864e+01   \n",
       "1         0.000000         0.000000   2.269922e-08   1.871841e-08   \n",
       "\n",
       "   DIS_r2_d10_u10  DIS_r2_d10_u7  DIS_r3_d7_u7  DIS_r5_d20_u10  \\\n",
       "0    6.736187e+02   5.711461e+02  2.072740e+02    2.780778e+01   \n",
       "1   3.980153e-146  1.670191e-124  9.196242e-47    1.353619e-07   \n",
       "\n",
       "   mean_profit_without_offer           age        income      gender_M  \\\n",
       "0                 5075.48244  3.258202e+01  3.177198e+02  7.082625e+01   \n",
       "1                    0.00000  1.158646e-08  1.572420e-70  4.156945e-17   \n",
       "\n",
       "   gender_O  \n",
       "0  0.747666  \n",
       "1  0.387226  "
      ]
     },
     "execution_count": 165,
     "metadata": {},
     "output_type": "execute_result"
    }
   ],
   "source": [
    "f_reg = pd.DataFrame(f_regression(x_train_,y_train_), columns = x_train_.columns)\n",
    "f_reg"
   ]
  },
  {
   "cell_type": "code",
   "execution_count": 155,
   "metadata": {},
   "outputs": [
    {
     "name": "stdout",
     "output_type": "stream",
     "text": [
      "                            OLS Regression Results                            \n",
      "==============================================================================\n",
      "Dep. Variable:            profit_diff   R-squared:                       0.276\n",
      "Model:                            OLS   Adj. R-squared:                  0.275\n",
      "Method:                 Least Squares   F-statistic:                     226.9\n",
      "Date:                Fri, 26 Nov 2021   Prob (F-statistic):               0.00\n",
      "Time:                        21:40:45   Log-Likelihood:                -20844.\n",
      "No. Observations:                8334   AIC:                         4.172e+04\n",
      "Df Residuals:                    8319   BIC:                         4.182e+04\n",
      "Df Model:                          14                                         \n",
      "Covariance Type:            nonrobust                                         \n",
      "=============================================================================================\n",
      "                                coef    std err          t      P>|t|      [0.025      0.975]\n",
      "---------------------------------------------------------------------------------------------\n",
      "const                         1.0382      0.091     11.461      0.000       0.861       1.216\n",
      "mean_profit_without_offer     2.6537      0.050     52.672      0.000       2.555       2.752\n",
      "count_without_offer           0.2474      0.038      6.567      0.000       0.174       0.321\n",
      "BOGO_r10_d10_u5              -0.5728      0.080     -7.140      0.000      -0.730      -0.416\n",
      "BOGO_r10_d10_u7              -0.7251      0.078     -9.286      0.000      -0.878      -0.572\n",
      "BOGO_r5_d5_u5                -0.4246      0.074     -5.742      0.000      -0.570      -0.280\n",
      "BOGO_r5_d5_u7                -0.4234      0.074     -5.735      0.000      -0.568      -0.279\n",
      "DIS_r2_d10_u10               -0.1381      0.072     -1.925      0.054      -0.279       0.003\n",
      "DIS_r2_d10_u7                -0.2425      0.075     -3.251      0.001      -0.389      -0.096\n",
      "DIS_r3_d7_u7                  0.3697      0.071      5.186      0.000       0.230       0.509\n",
      "DIS_r5_d20_u10                0.0389      0.080      0.488      0.625      -0.117       0.195\n",
      "age                          -0.1099      0.035     -3.183      0.001      -0.178      -0.042\n",
      "income                       -1.1617      0.048    -23.983      0.000      -1.257      -1.067\n",
      "gender_M                      0.2153      0.068      3.161      0.002       0.082       0.349\n",
      "gender_O                      0.2162      0.268      0.807      0.420      -0.309       0.742\n",
      "==============================================================================\n",
      "Omnibus:                     9278.397   Durbin-Watson:                   1.996\n",
      "Prob(Omnibus):                  0.000   Jarque-Bera (JB):          1002765.973\n",
      "Skew:                          -5.676   Prob(JB):                         0.00\n",
      "Kurtosis:                      55.525   Cond. No.                         12.6\n",
      "==============================================================================\n",
      "\n",
      "Notes:\n",
      "[1] Standard Errors assume that the covariance matrix of the errors is correctly specified.\n"
     ]
    }
   ],
   "source": [
    "X  = sm.add_constant(x_train)\n",
    "mod = sm.OLS(y_train, X)\n",
    "res = mod.fit()\n",
    "print(res.summary())"
   ]
  },
  {
   "cell_type": "code",
   "execution_count": 130,
   "metadata": {},
   "outputs": [
    {
     "name": "stdout",
     "output_type": "stream",
     "text": [
      "                            OLS Regression Results                            \n",
      "==============================================================================\n",
      "Dep. Variable:            profit_diff   R-squared:                       0.434\n",
      "Model:                            OLS   Adj. R-squared:                  0.433\n",
      "Method:                 Least Squares   F-statistic:                     1192.\n",
      "Date:                Fri, 26 Nov 2021   Prob (F-statistic):               0.00\n",
      "Time:                        19:39:59   Log-Likelihood:                -51590.\n",
      "No. Observations:               20253   AIC:                         1.032e+05\n",
      "Df Residuals:                   20239   BIC:                         1.033e+05\n",
      "Df Model:                          13                                         \n",
      "Covariance Type:            nonrobust                                         \n",
      "=============================================================================================\n",
      "                                coef    std err          t      P>|t|      [0.025      0.975]\n",
      "---------------------------------------------------------------------------------------------\n",
      "const                         0.1977      0.109      1.808      0.071      -0.017       0.412\n",
      "BOGO_r10_d10_u5              -5.0525      0.119    -42.530      0.000      -5.285      -4.820\n",
      "BOGO_r10_d10_u7              -4.9896      0.116    -43.103      0.000      -5.216      -4.763\n",
      "BOGO_r5_d5_u5                -2.8163      0.117    -24.132      0.000      -3.045      -2.588\n",
      "BOGO_r5_d5_u7                -2.6977      0.114    -23.567      0.000      -2.922      -2.473\n",
      "DIS_r2_d10_u10               -1.0127      0.112     -9.075      0.000      -1.231      -0.794\n",
      "DIS_r2_d10_u7                -0.6828      0.113     -6.036      0.000      -0.905      -0.461\n",
      "DIS_r3_d7_u7                 -1.8443      0.113    -16.364      0.000      -2.065      -1.623\n",
      "DIS_r5_d20_u10               -1.6983      0.112    -15.118      0.000      -1.918      -1.478\n",
      "mean_profit_without_offer    -6.2231      0.069    -89.777      0.000      -6.359      -6.087\n",
      "age                           0.1399      0.023      6.112      0.000       0.095       0.185\n",
      "income                        1.4807      0.031     47.839      0.000       1.420       1.541\n",
      "gender_M                     -0.2771      0.045     -6.158      0.000      -0.365      -0.189\n",
      "gender_O                      0.0242      0.177      0.136      0.892      -0.324       0.372\n",
      "==============================================================================\n",
      "Omnibus:                    19477.256   Durbin-Watson:                   1.999\n",
      "Prob(Omnibus):                  0.000   Jarque-Bera (JB):          1883289.825\n",
      "Skew:                           4.430   Prob(JB):                         0.00\n",
      "Kurtosis:                      49.403   Cond. No.                         16.9\n",
      "==============================================================================\n",
      "\n",
      "Notes:\n",
      "[1] Standard Errors assume that the covariance matrix of the errors is correctly specified.\n"
     ]
    }
   ],
   "source": [
    "\n",
    "X  = sm.add_constant(x_train_)\n",
    "mod = sm.OLS(y_train_, X)\n",
    "res = mod.fit()\n",
    "print(res.summary())"
   ]
  },
  {
   "cell_type": "code",
   "execution_count": 160,
   "metadata": {},
   "outputs": [
    {
     "name": "stdout",
     "output_type": "stream",
     "text": [
      ">>> Train set Score:\n",
      "0.2763221812665415\n",
      ">>> Test set Score:\n",
      "0.2630007264342412\n",
      "[ 2.65367004  0.24744945 -0.57279376 -0.72509792 -0.4245777  -0.42342457\n",
      " -0.13808675 -0.24250126  0.36971002  0.03886241 -0.10986919 -1.16165597\n",
      "  0.21528243  0.21618057]\n"
     ]
    }
   ],
   "source": [
    "model = LinearRegression()\n",
    "model.fit(x_train,y_train)\n",
    "\n",
    "print('>>> Train set Score:')\n",
    "print(model.score(x_train,y_train))\n",
    "print('>>> Test set Score:')\n",
    "print(model.score(x_test,y_test))\n",
    "print(model.coef_)\n"
   ]
  },
  {
   "cell_type": "code",
   "execution_count": 124,
   "metadata": {},
   "outputs": [
    {
     "name": "stdout",
     "output_type": "stream",
     "text": [
      ">>> Train set Score:\n",
      "0.34583015309700504\n",
      ">>> Test set Score:\n",
      "0.32397224774516775\n"
     ]
    }
   ],
   "source": [
    "from sklearn.neural_network import MLPRegressor\n",
    "model = MLPRegressor(random_state=42,alpha = 1, max_iter=1000)\n",
    "model.fit(x_train,y_train)\n",
    "\n",
    "print('>>> Train set Score:')\n",
    "print(model.score(x_train,y_train))\n",
    "print('>>> Test set Score:')\n",
    "print(model.score(x_test, y_test))"
   ]
  },
  {
   "cell_type": "code",
   "execution_count": 175,
   "metadata": {},
   "outputs": [
    {
     "name": "stdout",
     "output_type": "stream",
     "text": [
      ">>> Train set Score:\n",
      "0.43356308846681346\n",
      ">>> Test set Score:\n",
      "0.3852136158575278\n"
     ]
    }
   ],
   "source": [
    "model = LinearRegression()\n",
    "model.fit(x_train_,y_train_)\n",
    "\n",
    "print('>>> Train set Score:')\n",
    "print(model.score(x_train_,y_train_))\n",
    "print('>>> Test set Score:')\n",
    "print(model.score(x_test_,y_test_))"
   ]
  },
  {
   "cell_type": "code",
   "execution_count": 176,
   "metadata": {},
   "outputs": [
    {
     "name": "stdout",
     "output_type": "stream",
     "text": [
      ">>> Train set Score:\n",
      "0.5026311818807778\n",
      ">>> Test set Score:\n",
      "0.40803615852849373\n"
     ]
    }
   ],
   "source": [
    "from sklearn.neural_network import MLPRegressor\n",
    "model = MLPRegressor(random_state=42,alpha = 0.01, max_iter=5000)\n",
    "model.fit(x_train_,y_train_)\n",
    "\n",
    "print('>>> Train set Score:')\n",
    "print(model.score(x_train_,y_train_))\n",
    "print('>>> Test set Score:')\n",
    "print(model.score(x_test_,y_test_))"
   ]
  },
  {
   "cell_type": "markdown",
   "metadata": {},
   "source": [
    "### 1.2 Random Forest"
   ]
  },
  {
   "cell_type": "code",
   "execution_count": null,
   "metadata": {},
   "outputs": [],
   "source": [
    "from sklearn.ensemble import RandomForestRegressor\n",
    "from sklearn.model_selection import GridSearchCV\n",
    "\n",
    "param_grid = {\n",
    "    'max_depth': [5, 10, 15, 20, None],\n",
    "    'max_features': ['auto', 'sqrt', 'log2'],\n",
    "    'min_samples_leaf': [1,2,3,4],\n",
    "    'min_samples_split': [2,5, 8,10],\n",
    "    'n_estimators': [ 200, 400, 600, 800]}\n",
    "\n",
    "RFR = RandomForestRegressor(random_state = 42)\n",
    "grid_search = GridSearchCV(estimator = RFR, param_grid = param_grid, cv = 3, n_jobs = 4)\n",
    "grid_search.fit(x_train, y_train)\n",
    "print(grid_search.best_params_)\n",
    "#RFR.fit(x_train, y_train)\n",
    "\n",
    "#print('>>> Train set Score:')\n",
    "#print(RFR.score(x_train,y_train))\n",
    "#print('>>> Test set Score:')\n",
    "#print(RFR.score(x_test,y_test))"
   ]
  },
  {
   "cell_type": "code",
   "execution_count": 125,
   "metadata": {},
   "outputs": [
    {
     "name": "stdout",
     "output_type": "stream",
     "text": [
      ">>> Train set Score:\n",
      "0.3099847154774322\n",
      ">>> Test set Score:\n",
      "0.2812324620134561\n"
     ]
    }
   ],
   "source": [
    "from sklearn.ensemble import RandomForestRegressor\n",
    "\n",
    "\n",
    "RFR = RandomForestRegressor(random_state = 42, n_estimators = 400, max_depth = 5, min_samples_leaf = 2, min_samples_split = 2)\n",
    "RFR.fit(x_train, y_train)\n",
    "\n",
    "print('>>> Train set Score:')\n",
    "print(RFR.score(x_train,y_train))\n",
    "print('>>> Test set Score:')\n",
    "print(RFR.score(x_test,y_test))"
   ]
  },
  {
   "cell_type": "code",
   "execution_count": 172,
   "metadata": {},
   "outputs": [
    {
     "name": "stdout",
     "output_type": "stream",
     "text": [
      ">>> Train set Score:\n",
      "0.41765937590392965\n",
      ">>> Test set Score:\n",
      "0.3298086883023609\n"
     ]
    }
   ],
   "source": [
    "from sklearn.ensemble import RandomForestRegressor\n",
    "\n",
    "\n",
    "RFR = RandomForestRegressor(random_state = 42, n_estimators = 400, max_depth = 5, min_samples_leaf = 2, min_samples_split = 2)\n",
    "RFR.fit(x_train_, y_train_)\n",
    "\n",
    "print('>>> Train set Score:')\n",
    "print(RFR.score(x_train_,y_train_))\n",
    "print('>>> Test set Score:')\n",
    "print(RFR.score(x_test_,y_test_))"
   ]
  },
  {
   "cell_type": "code",
   "execution_count": null,
   "metadata": {},
   "outputs": [],
   "source": [
    "x_train_short = x_train.filter(regex = '^(?!BOGO|DIS)',axis = 1)\n",
    "x_test_short = x_test.filter(regex = '^(?!BOGO|DIS)',axis = 1)\n",
    "\n",
    "x_train_short"
   ]
  },
  {
   "cell_type": "code",
   "execution_count": null,
   "metadata": {},
   "outputs": [],
   "source": [
    "x_train_short.head()"
   ]
  },
  {
   "cell_type": "code",
   "execution_count": null,
   "metadata": {},
   "outputs": [],
   "source": [
    "x_test_short.head()"
   ]
  },
  {
   "cell_type": "markdown",
   "metadata": {},
   "source": [
    "R-squared is quite low for an effective model, it may be impossible to predict the exact difference."
   ]
  },
  {
   "cell_type": "code",
   "execution_count": null,
   "metadata": {},
   "outputs": [],
   "source": []
  },
  {
   "cell_type": "code",
   "execution_count": 166,
   "metadata": {},
   "outputs": [
    {
     "data": {
      "text/plain": [
       "<AxesSubplot:>"
      ]
     },
     "execution_count": 166,
     "metadata": {},
     "output_type": "execute_result"
    },
    {
     "data": {
      "image/png": "[encoded data removed]",
      "text/plain": [
       "<Figure size 432x288 with 1 Axes>"
      ]
     },
     "metadata": {
      "needs_background": "light"
     },
     "output_type": "display_data"
    }
   ],
   "source": [
    "y.hist(bins = range(-20,20, 1))"
   ]
  },
  {
   "cell_type": "code",
   "execution_count": 168,
   "metadata": {},
   "outputs": [
    {
     "name": "stdout",
     "output_type": "stream",
     "text": [
      "              precision    recall  f1-score   support\n",
      "\n",
      "   Negative2       0.60      0.76      0.67      1381\n",
      "   Positive1       0.75      0.39      0.51      4093\n",
      "   Positive2       0.18      0.47      0.26       810\n",
      "   Positive4       0.19      0.29      0.23       468\n",
      "\n",
      "    accuracy                           0.47      6752\n",
      "   macro avg       0.43      0.48      0.42      6752\n",
      "weighted avg       0.61      0.47      0.49      6752\n",
      "\n",
      "0.4653436018957346\n"
     ]
    },
    {
     "data": {
      "text/plain": [
       "<sklearn.metrics._plot.confusion_matrix.ConfusionMatrixDisplay at 0x7fb2d1cfd130>"
      ]
     },
     "execution_count": 168,
     "metadata": {},
     "output_type": "execute_result"
    },
    {
     "data": {
      "image/png": "[encoded data removed]",
      "text/plain": [
       "<Figure size 432x288 with 2 Axes>"
      ]
     },
     "metadata": {
      "needs_background": "light"
     },
     "output_type": "display_data"
    }
   ],
   "source": [
    "from sklearn.multiclass import OneVsRestClassifier\n",
    "from sklearn.svm import LinearSVC\n",
    "from sklearn.svm import SVC\n",
    "from sklearn.metrics import ConfusionMatrixDisplay, confusion_matrix\n",
    "def cate_diff(diff):\n",
    "    if diff < -5:\n",
    "        return 'Negative2'\n",
    "    elif diff < 0:\n",
    "        return 'Positive1'\n",
    "\n",
    "    elif diff < 2:\n",
    "        return 'Positive2'\n",
    "    else:\n",
    "        return 'Positive4'\n",
    "    \n",
    "#    if diff < 0.5:\n",
    "#        return 'Negative'\n",
    "#    else:\n",
    "#        return 'Positive'\n",
    "y_train_new_ = y_train_.apply(cate_diff)\n",
    "y_test_new_ = y_test_.apply(cate_diff)\n",
    "#MCF = OneVsRestClassifier(LinearSVC(random_state = 42) )\n",
    "MCF = OneVsRestClassifier(LinearSVC(random_state = 42,\n",
    "                                    dual = False, \n",
    "                                    multi_class = 'crammer_singer' , \n",
    "                                    max_iter = 300000, \n",
    "                                    class_weight = 'balanced') )\n",
    "\n",
    "MCF.fit(x_train_, y_train_new_)\n",
    "\n",
    "y_pred_ = MCF.predict(x_test_)\n",
    "print(classification_report(y_test_new_,y_pred_, target_names = MCF.classes_))\n",
    "\n",
    "print(MCF.score(x_test_, y_test_new_))\n",
    "ConfusionMatrixDisplay.from_estimator( MCF,x_test_, y_test_new_, normalize = 'pred')\n",
    "\n",
    "#cm = confusion_matrix(y_test_new_, y_pred_, labels = MCF.classes_)\n",
    "#dist = ConfusionMatrixDisplay(cm, display_labels=MCF.classes_, )\n",
    "#dist.plot()\n",
    "#plt.show()\n"
   ]
  },
  {
   "cell_type": "code",
   "execution_count": 180,
   "metadata": {},
   "outputs": [
    {
     "name": "stdout",
     "output_type": "stream",
     "text": [
      "              precision    recall  f1-score   support\n",
      "\n",
      "   Negative2       0.63      0.59      0.61      1381\n",
      "   Positive1       0.68      0.81      0.74      4093\n",
      "   Positive2       0.22      0.12      0.16       810\n",
      "   Positive4       0.22      0.09      0.12       468\n",
      "\n",
      "    accuracy                           0.63      6752\n",
      "   macro avg       0.44      0.40      0.41      6752\n",
      "weighted avg       0.58      0.63      0.60      6752\n",
      "\n",
      "0.6300355450236966\n"
     ]
    },
    {
     "data": {
      "text/plain": [
       "<sklearn.metrics._plot.confusion_matrix.ConfusionMatrixDisplay at 0x7fb2d0e34220>"
      ]
     },
     "execution_count": 180,
     "metadata": {},
     "output_type": "execute_result"
    },
    {
     "data": {
      "image/png": "[encoded data removed]",
      "text/plain": [
       "<Figure size 432x288 with 2 Axes>"
      ]
     },
     "metadata": {
      "needs_background": "light"
     },
     "output_type": "display_data"
    }
   ],
   "source": [
    "\n",
    "from sklearn.ensemble import RandomForestClassifier\n",
    "RFC = RandomForestClassifier(n_estimators = 400, random_state = 42, class_weight = 'balanced')\n",
    "\n",
    "RFC.fit(x_train_, y_train_new_)\n",
    "\n",
    "y_pred_ = RFC.predict(x_test_)\n",
    "print(classification_report(y_test_new_,y_pred_, target_names = RFC.classes_))\n",
    "\n",
    "print(RFC.score(x_test_, y_test_new_))\n",
    "ConfusionMatrixDisplay.from_estimator( RFC,x_test_, y_test_new_, normalize = 'true')\n",
    "#cm = confusion_matrix(y_test_new_, y_pred_, labels = RFC.classes_)\n",
    "#dist = ConfusionMatrixDisplay(cm, display_labels=RFC.classes_, )\n",
    "#dist.plot()\n",
    "#plt.show()"
   ]
  },
  {
   "cell_type": "code",
   "execution_count": 178,
   "metadata": {},
   "outputs": [
    {
     "data": {
      "text/plain": [
       "(20253, 13)"
      ]
     },
     "execution_count": 178,
     "metadata": {},
     "output_type": "execute_result"
    }
   ],
   "source": [
    "x_train_.shape"
   ]
  },
  {
   "cell_type": "code",
   "execution_count": 179,
   "metadata": {},
   "outputs": [
    {
     "data": {
      "text/plain": [
       "(6752, 13)"
      ]
     },
     "execution_count": 179,
     "metadata": {},
     "output_type": "execute_result"
    }
   ],
   "source": [
    "x_test_.shape"
   ]
  },
  {
   "cell_type": "code",
   "execution_count": null,
   "metadata": {},
   "outputs": [],
   "source": [
    "plt.show()"
   ]
  },
  {
   "cell_type": "code",
   "execution_count": null,
   "metadata": {},
   "outputs": [],
   "source": []
  },
  {
   "cell_type": "code",
   "execution_count": 102,
   "metadata": {},
   "outputs": [
    {
     "name": "stdout",
     "output_type": "stream",
     "text": [
      "0.4394988460270359\n",
      "              precision    recall  f1-score   support\n",
      "\n",
      "   Negative2       0.20      0.27      0.23       325\n",
      "   Positive1       0.46      0.45      0.46       911\n",
      "   Positive2       0.50      0.33      0.40      1150\n",
      "   Positive4       0.48      0.71      0.57       647\n",
      "\n",
      "    accuracy                           0.44      3033\n",
      "   macro avg       0.41      0.44      0.41      3033\n",
      "weighted avg       0.45      0.44      0.43      3033\n",
      "\n"
     ]
    },
    {
     "data": {
      "text/plain": [
       "<sklearn.metrics._plot.confusion_matrix.ConfusionMatrixDisplay at 0x7fdac61cbfd0>"
      ]
     },
     "execution_count": 102,
     "metadata": {},
     "output_type": "execute_result"
    },
    {
     "data": {
      "image/png": "[encoded data removed]",
      "text/plain": [
       "<Figure size 432x288 with 2 Axes>"
      ]
     },
     "metadata": {
      "needs_background": "light"
     },
     "output_type": "display_data"
    }
   ],
   "source": [
    "#MCF = OneVsRestClassifier(LinearSVC(random_state = 42) )\n",
    "MCF = OneVsRestClassifier(LinearSVC(random_state = 42,dual = False, max_iter = 200000, class_weight = 'balanced') )\n",
    "\n",
    "MCF.fit(x_train, y_train_new)\n",
    "print(MCF.score(x_test,y_test_new))\n",
    "y_pred = MCF.predict(x_test)\n",
    "print(classification_report(y_test_new,y_pred, target_names = MCF.classes_))\n",
    "ConfusionMatrixDisplay.from_estimator( MCF,x_test, y_test_new, normalize = 'pred')"
   ]
  },
  {
   "cell_type": "code",
   "execution_count": null,
   "metadata": {},
   "outputs": [],
   "source": [
    "MCF.classes_"
   ]
  },
  {
   "cell_type": "code",
   "execution_count": 103,
   "metadata": {},
   "outputs": [
    {
     "name": "stdout",
     "output_type": "stream",
     "text": [
      "0.43752060666007253\n",
      "              precision    recall  f1-score   support\n",
      "\n",
      "   Negative2       0.22      0.36      0.27       325\n",
      "   Positive1       0.47      0.40      0.43       911\n",
      "   Positive2       0.50      0.33      0.40      1150\n",
      "   Positive4       0.48      0.71      0.58       647\n",
      "\n",
      "    accuracy                           0.44      3033\n",
      "   macro avg       0.42      0.45      0.42      3033\n",
      "weighted avg       0.46      0.44      0.43      3033\n",
      "\n"
     ]
    },
    {
     "data": {
      "text/plain": [
       "<sklearn.metrics._plot.confusion_matrix.ConfusionMatrixDisplay at 0x7fdac6150d00>"
      ]
     },
     "execution_count": 103,
     "metadata": {},
     "output_type": "execute_result"
    },
    {
     "data": {
      "image/png": "[encoded data removed]",
      "text/plain": [
       "<Figure size 432x288 with 2 Axes>"
      ]
     },
     "metadata": {
      "needs_background": "light"
     },
     "output_type": "display_data"
    }
   ],
   "source": [
    "#MCF = OneVsRestClassifier(LinearSVC(random_state = 42,penalty = 'l1', dual = False ,loss = 'hinge', max_iter = 100000, class_weight = 'balanced') )\n",
    "MCF = OneVsRestClassifier(LinearSVC(random_state = 42,loss = 'hinge', max_iter = 100000, class_weight = 'balanced') )\n",
    "\n",
    "MCF.fit(x_train, y_train_new)\n",
    "print(MCF.score(x_test, y_test_new))\n",
    "y_pred = MCF.predict(x_test)\n",
    "print(classification_report(y_test_new,y_pred, target_names = MCF.classes_))\n",
    "ConfusionMatrixDisplay.from_estimator( MCF,x_test, y_test_new, normalize = 'pred')"
   ]
  },
  {
   "cell_type": "code",
   "execution_count": 104,
   "metadata": {},
   "outputs": [
    {
     "name": "stdout",
     "output_type": "stream",
     "text": [
      "              precision    recall  f1-score   support\n",
      "\n",
      "   Negative2       0.20      0.27      0.23       325\n",
      "   Positive1       0.46      0.45      0.46       911\n",
      "   Positive2       0.50      0.33      0.40      1150\n",
      "   Positive4       0.48      0.71      0.57       647\n",
      "\n",
      "    accuracy                           0.44      3033\n",
      "   macro avg       0.41      0.44      0.41      3033\n",
      "weighted avg       0.45      0.44      0.43      3033\n",
      "\n"
     ]
    },
    {
     "data": {
      "text/plain": [
       "<sklearn.metrics._plot.confusion_matrix.ConfusionMatrixDisplay at 0x7fdac60d3df0>"
      ]
     },
     "execution_count": 104,
     "metadata": {},
     "output_type": "execute_result"
    },
    {
     "data": {
      "image/png": "[encoded data removed]",
      "text/plain": [
       "<Figure size 432x288 with 2 Axes>"
      ]
     },
     "metadata": {
      "needs_background": "light"
     },
     "output_type": "display_data"
    }
   ],
   "source": [
    "#MCF = OneVsRestClassifier(LinearSVC(random_state = 42,penalty = 'l1', dual = False ,loss = 'hinge', max_iter = 100000, class_weight = 'balanced') )\n",
    "MCF = OneVsRestClassifier(LinearSVC(random_state = 42, max_iter = 100000, class_weight = 'balanced') )\n",
    "\n",
    "MCF.fit(x_train, y_train_new)\n",
    "y_pred = MCF.predict(x_test)\n",
    "print(classification_report(y_test_new,y_pred, target_names = MCF.classes_))\n",
    "ConfusionMatrixDisplay.from_estimator( MCF,x_test, y_test_new, normalize = 'pred')"
   ]
  },
  {
   "cell_type": "code",
   "execution_count": null,
   "metadata": {},
   "outputs": [],
   "source": [
    "x_train.drop('count_without_offer', axis = 1, inplace = True)\n",
    "x_test.drop('count_without_offer', axis = 1, inplace = True)\n",
    "x_train"
   ]
  },
  {
   "cell_type": "code",
   "execution_count": 169,
   "metadata": {},
   "outputs": [
    {
     "name": "stdout",
     "output_type": "stream",
     "text": [
      "              precision    recall  f1-score   support\n",
      "\n",
      "    Negative       0.65      0.65      0.65      1271\n",
      "    Positive       0.71      0.71      0.71      1508\n",
      "\n",
      "    accuracy                           0.68      2779\n",
      "   macro avg       0.68      0.68      0.68      2779\n",
      "weighted avg       0.68      0.68      0.68      2779\n",
      "\n"
     ]
    },
    {
     "data": {
      "text/plain": [
       "<sklearn.metrics._plot.confusion_matrix.ConfusionMatrixDisplay at 0x7fb2d08acd90>"
      ]
     },
     "execution_count": 169,
     "metadata": {},
     "output_type": "execute_result"
    },
    {
     "data": {
      "image/png": "[encoded data removed]",
      "text/plain": [
       "<Figure size 432x288 with 2 Axes>"
      ]
     },
     "metadata": {
      "needs_background": "light"
     },
     "output_type": "display_data"
    }
   ],
   "source": [
    "def two_cate_diff(diff):\n",
    "    if diff < 0.4:\n",
    "        return 'Negative'\n",
    "    else:\n",
    "        return 'Positive'\n",
    "    \n",
    "y_train_two = y_train.apply(two_cate_diff)\n",
    "y_test_two = y_test.apply(two_cate_diff)\n",
    "\n",
    "MCF = OneVsRestClassifier(LinearSVC(random_state = 42,dual = False, max_iter = 100000, class_weight = 'balanced') )\n",
    "\n",
    "MCF.fit(x_train, y_train_two)\n",
    "y_pred = MCF.predict(x_test)\n",
    "print(classification_report(y_test_two,y_pred, target_names = MCF.classes_))\n",
    "ConfusionMatrixDisplay.from_estimator( MCF,x_test, y_test_two, normalize = 'pred')"
   ]
  },
  {
   "cell_type": "code",
   "execution_count": 170,
   "metadata": {},
   "outputs": [
    {
     "name": "stdout",
     "output_type": "stream",
     "text": [
      "              precision    recall  f1-score   support\n",
      "\n",
      "    Negative       0.71      0.61      0.66      1329\n",
      "    Positive       0.68      0.78      0.73      1450\n",
      "\n",
      "    accuracy                           0.70      2779\n",
      "   macro avg       0.70      0.69      0.69      2779\n",
      "weighted avg       0.70      0.70      0.69      2779\n",
      "\n"
     ]
    },
    {
     "data": {
      "text/plain": [
       "<sklearn.metrics._plot.confusion_matrix.ConfusionMatrixDisplay at 0x7fb2d0b3aca0>"
      ]
     },
     "execution_count": 170,
     "metadata": {},
     "output_type": "execute_result"
    },
    {
     "data": {
      "image/png": "[encoded data removed]",
      "text/plain": [
       "<Figure size 432x288 with 2 Axes>"
      ]
     },
     "metadata": {
      "needs_background": "light"
     },
     "output_type": "display_data"
    }
   ],
   "source": [
    "def two_cate_diff(diff):\n",
    "    if diff < 0.5:\n",
    "        return 'Negative'\n",
    "    else:\n",
    "        return 'Positive'\n",
    "    \n",
    "y_train_two = y_train.apply(two_cate_diff)\n",
    "y_test_two = y_test.apply(two_cate_diff)\n",
    "from sklearn.ensemble import RandomForestClassifier\n",
    "RFC = RandomForestClassifier(n_estimators = 400, random_state = 42, class_weight = 'balanced')\n",
    "\n",
    "RFC.fit(x_train, y_train_two)\n",
    "y_pred = RFC.predict(x_test)\n",
    "print(classification_report(y_test_two,y_pred, target_names = RFC.classes_))\n",
    "ConfusionMatrixDisplay.from_estimator(RFC,x_test, y_test_two, normalize = 'pred')"
   ]
  },
  {
   "cell_type": "code",
   "execution_count": null,
   "metadata": {},
   "outputs": [],
   "source": [
    "coef = pd.DataFrame(columns = x_train.columns)\n",
    "coef.loc[0,:] = MCF.coef_[0]\n",
    "coef"
   ]
  },
  {
   "cell_type": "code",
   "execution_count": null,
   "metadata": {},
   "outputs": [],
   "source": [
    "pd.Series(MCF.coef_[0])"
   ]
  },
  {
   "cell_type": "code",
   "execution_count": 116,
   "metadata": {},
   "outputs": [
    {
     "name": "stdout",
     "output_type": "stream",
     "text": [
      "0.46653478404220244\n",
      "              precision    recall  f1-score   support\n",
      "\n",
      "   Negative2       0.26      0.37      0.30       325\n",
      "   Positive1       0.52      0.42      0.46       911\n",
      "   Positive2       0.52      0.42      0.47      1150\n",
      "   Positive4       0.48      0.66      0.56       647\n",
      "\n",
      "    accuracy                           0.47      3033\n",
      "   macro avg       0.44      0.47      0.45      3033\n",
      "weighted avg       0.48      0.47      0.47      3033\n",
      "\n"
     ]
    },
    {
     "data": {
      "text/plain": [
       "<sklearn.metrics._plot.confusion_matrix.ConfusionMatrixDisplay at 0x7fdac602cca0>"
      ]
     },
     "execution_count": 116,
     "metadata": {},
     "output_type": "execute_result"
    },
    {
     "data": {
      "image/png": "[encoded data removed]",
      "text/plain": [
       "<Figure size 432x288 with 2 Axes>"
      ]
     },
     "metadata": {
      "needs_background": "light"
     },
     "output_type": "display_data"
    }
   ],
   "source": [
    "#MCF = OneVsRestClassifier(LinearSVC(random_state = 42,penalty = 'l1', dual = False ,loss = 'hinge', max_iter = 100000, class_weight = 'balanced') )\n",
    "MCF = OneVsRestClassifier(SVC(random_state = 42, max_iter = 100000, class_weight = 'balanced') )\n",
    "\n",
    "MCF.fit(x_train, y_train_new)\n",
    "print(MCF.score(x_test, y_test_new))\n",
    "y_pred = MCF.predict(x_test)\n",
    "print(classification_report(y_test_new,y_pred, target_names = MCF.classes_))\n",
    "ConfusionMatrixDisplay.from_estimator( MCF,x_test, y_test_new, normalize = 'true')"
   ]
  },
  {
   "cell_type": "code",
   "execution_count": 194,
   "metadata": {},
   "outputs": [
    {
     "name": "stdout",
     "output_type": "stream",
     "text": [
      "0.6977329974811083\n",
      "<< Matthews Correlation:\n",
      "0.3939782115964903\n",
      "              precision    recall  f1-score   support\n",
      "\n",
      "    Negative       0.69      0.68      0.68      1329\n",
      "    Positive       0.71      0.72      0.71      1450\n",
      "\n",
      "    accuracy                           0.70      2779\n",
      "   macro avg       0.70      0.70      0.70      2779\n",
      "weighted avg       0.70      0.70      0.70      2779\n",
      "\n"
     ]
    },
    {
     "data": {
      "text/plain": [
       "<sklearn.metrics._plot.confusion_matrix.ConfusionMatrixDisplay at 0x7fb2d1c99ca0>"
      ]
     },
     "execution_count": 194,
     "metadata": {},
     "output_type": "execute_result"
    },
    {
     "data": {
      "image/png": "[encoded data removed]",
      "text/plain": [
       "<Figure size 432x288 with 2 Axes>"
      ]
     },
     "metadata": {
      "needs_background": "light"
     },
     "output_type": "display_data"
    }
   ],
   "source": [
    "def two_cate_diff(diff):\n",
    "    if diff < 0.5:\n",
    "        return 'Negative'\n",
    "    else:\n",
    "        return 'Positive'\n",
    "    \n",
    "y_train_two = y_train.apply(two_cate_diff)\n",
    "y_test_two = y_test.apply(two_cate_diff)\n",
    "#MCF = OneVsRestClassifier(LinearSVC(random_state = 42,penalty = 'l1', dual = False ,loss = 'hinge', max_iter = 100000, class_weight = 'balanced') )\n",
    "MCF = OneVsRestClassifier(SVC(random_state = 42,\n",
    "                              kernel = 'rbf', \n",
    "                              max_iter = 100000, class_weight = 'balanced') )\n",
    "\n",
    "MCF.fit(x_train, y_train_two)\n",
    "print(MCF.score(x_test, y_test_two))\n",
    "y_pred = MCF.predict(x_test)\n",
    "print('<< Matthews Correlation:')\n",
    "print(matthews_corrcoef(y_test_two, y_pred))\n",
    "print(classification_report(y_test_two,y_pred, target_names = MCF.classes_))\n",
    "ConfusionMatrixDisplay.from_estimator( MCF,x_test, y_test_two, normalize = 'true')"
   ]
  },
  {
   "cell_type": "code",
   "execution_count": 118,
   "metadata": {},
   "outputs": [
    {
     "name": "stdout",
     "output_type": "stream",
     "text": [
      "0.46653478404220244\n"
     ]
    },
    {
     "data": {
      "text/plain": [
       "<sklearn.metrics._plot.confusion_matrix.ConfusionMatrixDisplay at 0x7fdac97f9460>"
      ]
     },
     "execution_count": 118,
     "metadata": {},
     "output_type": "execute_result"
    },
    {
     "data": {
      "image/png": "[encoded data removed]",
      "text/plain": [
       "<Figure size 432x288 with 2 Axes>"
      ]
     },
     "metadata": {
      "needs_background": "light"
     },
     "output_type": "display_data"
    }
   ],
   "source": [
    "#MCF = OneVsRestClassifier(LinearSVC(random_state = 42,penalty = 'l1', dual = False ,loss = 'hinge', max_iter = 100000, class_weight = 'balanced') )\n",
    "MCF = OneVsRestClassifier(SVC(random_state = 42,kernel = 'rbf', max_iter = 100000, class_weight = 'balanced') )\n",
    "\n",
    "MCF.fit(x_train, y_train_new)\n",
    "print(MCF.score(x_test, y_test_new))\n",
    "ConfusionMatrixDisplay.from_estimator( MCF,x_test, y_test_new, normalize = 'true')"
   ]
  },
  {
   "cell_type": "code",
   "execution_count": null,
   "metadata": {},
   "outputs": [],
   "source": [
    "y_train_two.describe()"
   ]
  },
  {
   "cell_type": "code",
   "execution_count": 191,
   "metadata": {},
   "outputs": [
    {
     "name": "stdout",
     "output_type": "stream",
     "text": [
      "0.7042101475350846\n",
      "<< Matthews Correlation:\n",
      "0.40675390950447476\n",
      "              precision    recall  f1-score   support\n",
      "\n",
      "    Negative       0.71      0.64      0.67      1329\n",
      "    Positive       0.70      0.76      0.73      1450\n",
      "\n",
      "    accuracy                           0.70      2779\n",
      "   macro avg       0.71      0.70      0.70      2779\n",
      "weighted avg       0.70      0.70      0.70      2779\n",
      "\n"
     ]
    },
    {
     "data": {
      "text/plain": [
       "<sklearn.metrics._plot.confusion_matrix.ConfusionMatrixDisplay at 0x7fb2d0dae5b0>"
      ]
     },
     "execution_count": 191,
     "metadata": {},
     "output_type": "execute_result"
    },
    {
     "data": {
      "image/png": "[encoded data removed]",
      "text/plain": [
       "<Figure size 432x288 with 2 Axes>"
      ]
     },
     "metadata": {
      "needs_background": "light"
     },
     "output_type": "display_data"
    }
   ],
   "source": [
    "def two_cate_diff(diff):\n",
    "    if diff < 0.5:\n",
    "        return 'Negative'\n",
    "    else:\n",
    "        return 'Positive'\n",
    "y_train_two = y_train.apply(two_cate_diff)\n",
    "y_test_two = y_test.apply(two_cate_diff)\n",
    "from sklearn.neural_network import MLPClassifier\n",
    "MLP = MLPClassifier(random_state = 42, alpha = 0.05,  max_iter = 5000)\n",
    "#MLP.fit(x_train, y_train_new)\n",
    "#print(MLP.score(x_test, y_test_new))\n",
    "#ConfusionMatrixDisplay.from_estimator( MLP,x_test, y_test_new, normalize = 'true')  \n",
    "MLP.fit(x_train, y_train_two)\n",
    "print(MLP.score(x_test, y_test_two))\n",
    "y_pred = MLP.predict(x_test)\n",
    "print('<< Matthews Correlation:')\n",
    "print(matthews_corrcoef(y_test_two, y_pred))\n",
    "print(classification_report(y_test_two,y_pred, target_names = MLP.classes_))\n",
    "ConfusionMatrixDisplay.from_estimator( MLP,x_test, y_test_two, normalize = 'pred')  "
   ]
  },
  {
   "cell_type": "code",
   "execution_count": 113,
   "metadata": {},
   "outputs": [
    {
     "name": "stdout",
     "output_type": "stream",
     "text": [
      "0.498846027035938\n",
      "              precision    recall  f1-score   support\n",
      "\n",
      "   Negative2       0.18      0.01      0.01       325\n",
      "   Positive1       0.51      0.40      0.45       911\n",
      "   Positive2       0.47      0.72      0.57      1150\n",
      "   Positive4       0.58      0.50      0.54       647\n",
      "\n",
      "    accuracy                           0.50      3033\n",
      "   macro avg       0.44      0.41      0.39      3033\n",
      "weighted avg       0.47      0.50      0.47      3033\n",
      "\n"
     ]
    },
    {
     "data": {
      "text/plain": [
       "<sklearn.metrics._plot.confusion_matrix.ConfusionMatrixDisplay at 0x7fdac97ac610>"
      ]
     },
     "execution_count": 113,
     "metadata": {},
     "output_type": "execute_result"
    },
    {
     "data": {
      "image/png": "[encoded data removed]",
      "text/plain": [
       "<Figure size 432x288 with 2 Axes>"
      ]
     },
     "metadata": {
      "needs_background": "light"
     },
     "output_type": "display_data"
    }
   ],
   "source": [
    "from sklearn.neural_network import MLPClassifier\n",
    "MLP = MLPClassifier(alpha=0.01,random_state = 42,max_iter = 500, activation = 'logistic')\n",
    "MLP.fit(x_train, y_train_new)\n",
    "print(MLP.score(x_test, y_test_new))\n",
    "y_pred = MLP.predict(x_test)\n",
    "print(classification_report(y_test_new,y_pred, target_names = MLP.classes_))\n",
    "ConfusionMatrixDisplay.from_estimator( MLP,x_test, y_test_new, normalize = 'pred')  "
   ]
  },
  {
   "cell_type": "code",
   "execution_count": 119,
   "metadata": {},
   "outputs": [
    {
     "name": "stdout",
     "output_type": "stream",
     "text": [
      "0.5235740191229805\n",
      "              precision    recall  f1-score   support\n",
      "\n",
      "   Negative2       0.59      0.19      0.29       325\n",
      "   Positive1       0.54      0.47      0.50       911\n",
      "   Positive2       0.50      0.64      0.56      1150\n",
      "   Positive4       0.55      0.57      0.56       647\n",
      "\n",
      "    accuracy                           0.52      3033\n",
      "   macro avg       0.54      0.47      0.48      3033\n",
      "weighted avg       0.53      0.52      0.51      3033\n",
      "\n"
     ]
    },
    {
     "data": {
      "text/plain": [
       "<sklearn.metrics._plot.confusion_matrix.ConfusionMatrixDisplay at 0x7fdac94e8970>"
      ]
     },
     "execution_count": 119,
     "metadata": {},
     "output_type": "execute_result"
    },
    {
     "data": {
      "image/png": "[encoded data removed]",
      "text/plain": [
       "<Figure size 432x288 with 2 Axes>"
      ]
     },
     "metadata": {
      "needs_background": "light"
     },
     "output_type": "display_data"
    }
   ],
   "source": [
    "from sklearn.neural_network import MLPClassifier\n",
    "MLP = MLPClassifier(alpha=0.01,random_state = 42,max_iter = 500)\n",
    "MLP.fit(x_train, y_train_new)\n",
    "print(MLP.score(x_test, y_test_new))\n",
    "y_pred = MLP.predict(x_test)\n",
    "print(classification_report(y_test_new,y_pred, target_names = MLP.classes_))\n",
    "ConfusionMatrixDisplay.from_estimator( MLP,x_test, y_test_new, normalize = 'pred')  "
   ]
  },
  {
   "cell_type": "code",
   "execution_count": 190,
   "metadata": {},
   "outputs": [
    {
     "name": "stdout",
     "output_type": "stream",
     "text": [
      "              precision    recall  f1-score   support\n",
      "\n",
      "    Negative       0.83      0.98      0.89      5474\n",
      "    Positive       0.54      0.11      0.19      1278\n",
      "\n",
      "    accuracy                           0.81      6752\n",
      "   macro avg       0.68      0.55      0.54      6752\n",
      "weighted avg       0.77      0.81      0.76      6752\n",
      "\n",
      "<< Matthews Correlation:\n",
      "0.18256446430471424\n"
     ]
    },
    {
     "data": {
      "text/plain": [
       "<sklearn.metrics._plot.confusion_matrix.ConfusionMatrixDisplay at 0x7fb2d10b7250>"
      ]
     },
     "execution_count": 190,
     "metadata": {},
     "output_type": "execute_result"
    },
    {
     "data": {
      "image/png": "[encoded data removed]",
      "text/plain": [
       "<Figure size 432x288 with 2 Axes>"
      ]
     },
     "metadata": {
      "needs_background": "light"
     },
     "output_type": "display_data"
    }
   ],
   "source": [
    "from sklearn.neural_network import MLPClassifier\n",
    "\n",
    "def two_cate_diff(diff):\n",
    "    if diff <0:\n",
    "        return 'Negative'\n",
    "    else:\n",
    "        return 'Positive'\n",
    "y_train_two_ = y_train_.apply(two_cate_diff)\n",
    "y_test_two_ = y_test_.apply(two_cate_diff)\n",
    "MLP = MLPClassifier(alpha=0.05,random_state = 42,max_iter = 5000)\n",
    "MLP.fit(x_train_, y_train_two_)\n",
    "y_pred = MLP.predict(x_test_)\n",
    "print(classification_report(y_test_two_,y_pred, target_names = MLP.classes_))\n",
    "print('<< Matthews Correlation:')\n",
    "print(matthews_corrcoef(y_test_two_, y_pred))\n",
    "ConfusionMatrixDisplay.from_estimator( MLP,x_test_, y_test_two_, normalize = 'pred') \n"
   ]
  },
  {
   "cell_type": "markdown",
   "metadata": {},
   "source": [
    "## 3. Explore Data"
   ]
  },
  {
   "cell_type": "markdown",
   "metadata": {},
   "source": [
    "### 1. The transactions without offer"
   ]
  },
  {
   "cell_type": "markdown",
   "metadata": {},
   "source": [
    "1. The overall effect of offers"
   ]
  },
  {
   "cell_type": "markdown",
   "metadata": {},
   "source": [
    "**Many order is under 5 without offer**\n",
    "\n",
    "**With the help of offers, the average price per customer increase a lot. But we need to look deeper to get the whole picture.**"
   ]
  },
  {
   "cell_type": "markdown",
   "metadata": {},
   "source": [
    "2. Does people behave different beacuse of gender?"
   ]
  },
  {
   "cell_type": "code",
   "execution_count": null,
   "metadata": {},
   "outputs": [],
   "source": [
    "fig, ((ax0, ax1), (ax2, ax3)) = plt.subplots(nrows = 2, ncols = 2,figsize  = (12,12))\n",
    "\n",
    "gender_df = summary_df.loc[:,['gender', 'mean_trans_with_offer','mean_trans_without_offer','count_trans_with_offer','count_trans_without_offer']]\n",
    "gender_df['gender'].replace('F', 'Female', inplace = True)\n",
    "gender_df['gender'].replace('M', 'Male', inplace = True)\n",
    "gender_df['gender'].replace('O', 'Oblivious', inplace = True)\n",
    "\n",
    "\n",
    "\n",
    "\n",
    "sns.histplot(data = gender_df, x = 'mean_trans_with_offer', hue = 'gender',ax = ax0, stat = 'density', bins = range(0,200,10))\n",
    "ax0.set_xlabel('Average Price per Customer(with offer)')\n",
    "\n",
    "\n",
    "\n",
    "\n",
    "sns.histplot(data = gender_df, x = 'mean_trans_without_offer', hue = 'gender',ax = ax1, stat = 'density', bins = range(0,200, 10))\n",
    "\n",
    "ax1.set_xlabel('Average Price per Customer(without offer)')\n",
    "\n",
    "\n",
    "\n",
    "sns.histplot(data = gender_df, x = 'count_trans_with_offer', hue = 'gender',ax = ax2)\n",
    "\n",
    "ax2.set_xlabel('Number of Orders per Customer(with offer)')\n",
    "\n",
    "\n",
    "sns.histplot(data = gender_df, x = 'count_trans_without_offer', hue = 'gender',ax = ax3, bins = range(0, 40,5))\n",
    "\n",
    "\n",
    "ax3.set_xlabel('Number of Orders per Customer(without offer)')\n",
    "\n",
    "plt.show()"
   ]
  },
  {
   "cell_type": "markdown",
   "metadata": {},
   "source": [
    "3. We are more interested in the people who have a increase in price with offers.\n",
    "    As we see that the oder with offer have a information with the offer info at the same time. So we will look at the transactions and offers"
   ]
  },
  {
   "cell_type": "code",
   "execution_count": null,
   "metadata": {},
   "outputs": [],
   "source": [
    "offer_trans = clean_trans[clean_trans['event'].isin(['transaction', 'offer completed'])]\n",
    "offer_trans.head()"
   ]
  },
  {
   "cell_type": "markdown",
   "metadata": {},
   "source": [
    "    Would people use one offer a time or more offers a time"
   ]
  },
  {
   "cell_type": "code",
   "execution_count": null,
   "metadata": {},
   "outputs": [],
   "source": [
    "offer_count_per_order = offer_trans.groupby(['person_id', 'time'])['offer_id'].count()\n",
    "sns.histplot(offer_count_per_order, stat = 'density', binwidth = 1)\n",
    "plt.show()"
   ]
  },
  {
   "cell_type": "markdown",
   "metadata": {},
   "source": [
    "    Let's focus on the order with one offer"
   ]
  },
  {
   "cell_type": "code",
   "execution_count": null,
   "metadata": {},
   "outputs": [],
   "source": [
    "offer_sum_per_order = offer_trans.groupby(['person_id', 'time']).sum()\n",
    "\n",
    "\n",
    "offer_sum_per_order_one_offer = offer_sum_per_order.loc[offer_count_per_order==1,:]\n",
    "offer_sum_per_order_two_offer = offer_sum_per_order.loc[offer_count_per_order==2,:]"
   ]
  },
  {
   "cell_type": "code",
   "execution_count": null,
   "metadata": {},
   "outputs": [],
   "source": [
    "offer_sum_per_order_one_offer.head()"
   ]
  },
  {
   "cell_type": "markdown",
   "metadata": {},
   "source": [
    "3.1. split bogo and discount"
   ]
  },
  {
   "cell_type": "code",
   "execution_count": null,
   "metadata": {},
   "outputs": [],
   "source": [
    "offer_sum_one_offer_bogo = offer_sum_per_order_one_offer[offer_sum_per_order_one_offer['offer_id'].isin([1,11,21,31])]\n",
    "offer_sum_one_offer_discount = offer_sum_per_order_one_offer[offer_sum_per_order_one_offer['offer_id'].isin([101,111,121,131])]\n",
    "offer_sum_one_offer_bogo.head()"
   ]
  },
  {
   "cell_type": "code",
   "execution_count": null,
   "metadata": {},
   "outputs": [],
   "source": [
    "offer_sum_one_offer_bogo = offer_sum_one_offer_bogo.reset_index(level = 'person_id')\n",
    "offer_sum_one_offer_discount = offer_sum_one_offer_discount.reset_index(level = 'person_id')"
   ]
  },
  {
   "cell_type": "code",
   "execution_count": null,
   "metadata": {},
   "outputs": [],
   "source": [
    "offer_mean_one_offer_bogo = offer_sum_one_offer_bogo.groupby('person_id').mean()\n",
    "offer_mean_one_offer_discount = offer_sum_one_offer_discount.groupby('person_id').mean()"
   ]
  },
  {
   "cell_type": "code",
   "execution_count": null,
   "metadata": {},
   "outputs": [],
   "source": [
    "summary_df.head()"
   ]
  },
  {
   "cell_type": "code",
   "execution_count": null,
   "metadata": {},
   "outputs": [],
   "source": [
    "one_offer_bogo_df = offer_mean_one_offer_bogo.merge(summary_df[['mean_trans_without_offer', 'gender', 'age', 'income(k)']], left_index = True, right_index = True, how = 'left')\n",
    "one_offer_discount_df = offer_mean_one_offer_discount.merge(summary_df[['mean_trans_without_offer', 'gender', 'age', 'income(k)']], left_index = True, right_index = True, how = 'left') "
   ]
  },
  {
   "cell_type": "code",
   "execution_count": null,
   "metadata": {},
   "outputs": [],
   "source": [
    "offer_mean_one_offer_bogo_df"
   ]
  },
  {
   "cell_type": "code",
   "execution_count": null,
   "metadata": {},
   "outputs": [],
   "source": [
    "one_offer_bogo_df['offer_diff'] = one_offer_bogo_df['amount'] + one_offer_bogo_df['reward'] - one_offer_bogo_df['mean_trans_without_offer']\n",
    "one_offer_discount_df['offer_diff'] = one_offer_discount_df['amount'] + one_offer_discount_df['reward'] - one_offer_discount_df['mean_trans_without_offer']"
   ]
  },
  {
   "cell_type": "code",
   "execution_count": null,
   "metadata": {},
   "outputs": [],
   "source": [
    "np.nan"
   ]
  },
  {
   "cell_type": "code",
   "execution_count": null,
   "metadata": {},
   "outputs": [],
   "source": [
    "np.isnan(np.nan)"
   ]
  },
  {
   "cell_type": "code",
   "execution_count": null,
   "metadata": {},
   "outputs": [],
   "source": [
    "def my_cate(df, col , by , n = 6):\n",
    "    \"\"\"\n",
    "    create box plot for dataframe , automatic divide dataframe into n part and a NA \n",
    "    \"\"\"\n",
    "\n",
    "    df_new = df.loc[:,[col, by, 'gender']]\n",
    "\n",
    "        \n",
    "    df_new['gender'].replace('M', 'Male', inplace = True)\n",
    "    df_new['gender'].replace('F', 'Female', inplace = True)\n",
    "    df_new['gender'].replace('O', 'Oblivious', inplace = True)\n",
    "    df_new['gender'].fillna('None', inplace = True)\n",
    "    by_max = df_new[by].max()\n",
    "    by_min = df_new[by].min()\n",
    "\n",
    "    by_min_len = len(str(int(round(by_min))))\n",
    "\n",
    "    if by_min_len > 0:\n",
    "        by_bottom = math.floor(by_min/(10** (by_min_len - 1))) * 10** (by_min_len - 1)\n",
    "    else:\n",
    "        by_bottom = 0\n",
    "    \n",
    "    by_step_init = (by_max - by_bottom) / (n )\n",
    "\n",
    "    by_step = math.ceil(by_step_init) \n",
    "\n",
    "    by_border = range(by_bottom, by_bottom + by_step* n+1, by_step)\n",
    "\n",
    "    labels = []\n",
    "    labels.append('Na')\n",
    "    for i in range(0,n):\n",
    "        labels.append('{}-{}'.format(by_border[i], by_border[i+1]))\n",
    "    \n",
    "\n",
    "        \n",
    "    for index, item in df_new[by].items():\n",
    "        if np.isnan(item):\n",
    "            df_new.loc[index, 'by_cate'] = 'Na'\n",
    "        else:\n",
    "            i = 0\n",
    "            while i < n:\n",
    "                if (item < by_border[i+1]):\n",
    "                    df_new.loc[index, 'by_cate'] = '{}-{}'.format(by_border[i],by_border[i+1])\n",
    "                    break\n",
    "                i += 1 \n",
    "\n",
    "\n",
    "    return df_new, labels\n"
   ]
  },
  {
   "cell_type": "markdown",
   "metadata": {},
   "source": []
  },
  {
   "cell_type": "code",
   "execution_count": null,
   "metadata": {},
   "outputs": [],
   "source": [
    "one_offer_bogo_by_income , income_label = my_cate(one_offer_bogo_df, col = 'offer_diff' , by = 'income(k)' )\n",
    "one_offer_discount_by_income , income_label = my_cate(one_offer_discount_df, col = 'offer_diff' , by = 'income(k)' )\n",
    "\n",
    "one_offer_bogo_by_income.rename(columns = {'by_cate':'Income(k) range'}, inplace = True)\n",
    "one_offer_discount_by_income.rename(columns = {'by_cate':'Income(k) range'}, inplace = True)"
   ]
  },
  {
   "cell_type": "code",
   "execution_count": null,
   "metadata": {},
   "outputs": [],
   "source": [
    "one_offer_bogo_by_income.head()"
   ]
  },
  {
   "cell_type": "code",
   "execution_count": null,
   "metadata": {},
   "outputs": [],
   "source": [
    "fig, ((ax0, ax1),(ax2, ax3)) = plt.subplots(nrows =2, ncols = 2, figsize = (18,12))\n",
    "\n",
    "sns.histplot(one_offer_bogo_by_income, x = 'offer_diff' , hue = 'Income(k) range', multiple = 'stack',  bins = range(-50, 50, 5), ax = ax0, hue_order = income_label)\n",
    "ax0.set_xlabel('Mean of the order(with BOGO) + BOGO reward - Mean of order(without offer)')\n",
    "ax0.set_title('Histogram of The Order Mean Price Difference with and without BOGO')\n",
    "ax0.axvline(0, ls = '--')\n",
    "\n",
    "sns.histplot(one_offer_discount_by_income, x = 'offer_diff' , hue = 'Income(k) range', multiple = 'stack',  bins = range(-50, 50, 5), ax = ax1, hue_order = income_label)\n",
    "ax1.set_xlabel('Mean of the order(with DISCOUNT) + DISCOUNT reward - Mean of order(without offer)')\n",
    "ax1.set_title('Histogram of The Order Mean Price Difference with and without DISCOUNT')\n",
    "ax1.axvline(0, ls = '--')\n",
    "\n",
    "sns.boxplot(data = one_offer_bogo_by_income, x = 'Income(k) range', y = 'offer_diff', hue = 'gender', ax = ax2, showfliers = False, hue_order = ['None', 'Female', 'Male', 'Oblivious'],order = income_label)\n",
    "ax2.axhline(0, ls = '--')\n",
    "ax2.set_xlabel('Income(k)')\n",
    "ax2.set_ylabel('Mean of the order(with BOGO) + BOGO reward \\n - Mean of order(without offer)')\n",
    "ax2.set_title('Boxplot of The Order Mean Price Difference with and without BOGO')\n",
    "\n",
    "sns.boxplot(data = one_offer_discount_by_income, x = 'Income(k) range', y = 'offer_diff', hue = 'gender', ax = ax3, showfliers = False,  hue_order = ['None', 'Female', 'Male', 'Oblivious'],order = income_label)\n",
    "ax3.axhline(0, ls = '--')\n",
    "ax3.set_xlabel('Income(k)')\n",
    "ax3.set_ylabel('Mean of the order(with DISCOUNT) + DISCOUNT reward  \\n - Mean of order(without offer)')\n",
    "ax3.set_title('Boxplot of The Order Mean Price Difference with and without DISCOUNT')\n",
    "\n",
    "plt.show()"
   ]
  },
  {
   "cell_type": "markdown",
   "metadata": {},
   "source": [
    "1. BOGO and DISCOUNT both have a positive effort on some customers, BOGO seems do better.\n",
    "\n",
    "2. While with higher income, the order mean price difference begin to decline, even below zero.\n",
    "\n",
    "3. Male have a higer order price difference than female\n",
    "\n",
    "4. We will go deeper with T-test\n"
   ]
  },
  {
   "cell_type": "markdown",
   "metadata": {},
   "source": [
    "Because the standard diviation of mean price without offer is to large, we will use the price under 99 percentile."
   ]
  },
  {
   "cell_type": "code",
   "execution_count": null,
   "metadata": {},
   "outputs": [],
   "source": [
    "bogo_99 = pd.concat([one_offer_bogo_df['mean_trans_without_offer'],one_offer_bogo_df['mean_trans_without_offer']]) .quantile(0.99)\n",
    "bogo_99"
   ]
  },
  {
   "cell_type": "code",
   "execution_count": null,
   "metadata": {},
   "outputs": [],
   "source": [
    "total_99 = pd.concat([one_offer_bogo_df['mean_trans_without_offer'],one_offer_bogo_df['mean_trans_without_offer']]) .quantile(0.99)\n",
    "\n",
    "\n",
    "one_offer_bogo_99_df = one_offer_bogo_df[one_offer_bogo_df['mean_trans_without_offer'] <= total_99]\n",
    "one_offer_discount_99_df = one_offer_discount_df[one_offer_discount_df['mean_trans_without_offer'] <= total_99]\n",
    "\n",
    "one_offer_bogo_by_mean_price , bogo_mean_price_label = my_cate(one_offer_bogo_99_df, col = 'offer_diff' , by = 'mean_trans_without_offer' )\n",
    "one_offer_discount_by_mean_price , discount_mean_price_label = my_cate(one_offer_discount_99_df, col = 'offer_diff' , by = 'mean_trans_without_offer' )\n",
    "\n",
    "one_offer_bogo_by_mean_price.head()"
   ]
  },
  {
   "cell_type": "code",
   "execution_count": null,
   "metadata": {},
   "outputs": [],
   "source": [
    "one_offer_bogo_by_mean_price.rename(columns = {'by_cate':'Mean Price without offer'}, inplace = True)\n",
    "one_offer_discount_by_mean_price.rename(columns = {'by_cate':'Mean Price without offer'}, inplace = True)"
   ]
  },
  {
   "cell_type": "code",
   "execution_count": null,
   "metadata": {},
   "outputs": [],
   "source": [
    "fig, ((ax0, ax1),(ax2, ax3)) = plt.subplots(nrows =2, ncols = 2, figsize = (18,12))\n",
    "\n",
    "sns.histplot(one_offer_bogo_by_mean_price, x = 'offer_diff' , hue = 'Mean Price without offer', multiple = 'stack',bins = range(-50, 50, 5),   ax = ax0, hue_order = bogo_mean_price_label)\n",
    "ax0.set_xlabel('Mean of the order(with BOGO) + BOGO reward - Mean of order(without offer)')\n",
    "ax0.set_title('Histogram of The Order Mean Price Difference with and without BOGO')\n",
    "ax0.axvline(0, ls = '--')\n",
    "\n",
    "\n",
    "\n",
    "sns.histplot(one_offer_discount_by_mean_price, x = 'offer_diff' , hue = 'Mean Price without offer', multiple = 'stack',bins = range(-50, 50, 5), ax = ax1, hue_order = discount_mean_price_label)\n",
    "ax1.set_xlabel('Mean of the order(with DISCOUNT) + DISCOUNT reward - Mean of order(without offer)')\n",
    "ax1.set_title('Histogram of The Order Mean Price Difference with and without DISCOUNT')\n",
    "ax1.axvline(0, ls = '--')\n",
    "\n",
    "sns.boxplot(data = one_offer_bogo_by_mean_price, x = 'Mean Price without offer', y = 'offer_diff', hue = 'gender', ax = ax2, showfliers = False, hue_order = ['None', 'Female', 'Male', 'Oblivious'],order = bogo_mean_price_label)\n",
    "ax2.axhline(0, ls = '--')\n",
    "ax2.set_xlabel('Mean Order Price Without offer')\n",
    "ax2.set_ylabel('Mean of the order(with BOGO) + BOGO reward \\n - Mean of order(without offer)')\n",
    "ax2.set_title('Boxplot of The Order Mean Price Difference with and without BOGO')\n",
    "\n",
    "sns.boxplot(data = one_offer_discount_by_mean_price, x = 'Mean Price without offer', y = 'offer_diff', hue = 'gender', ax = ax3, showfliers = False,  hue_order = ['None', 'Female', 'Male', 'Oblivious'],order = discount_mean_price_label)\n",
    "ax3.axhline(0, ls = '--')\n",
    "ax3.set_xlabel('Mean Order Price Without offer')\n",
    "ax3.set_ylabel('Mean of the order(with DISCOUNT) + DISCOUNT reward  \\n - Mean of order(without offer)')\n",
    "ax3.set_title('Boxplot of The Order Mean Price Difference with and without DISCOUNT')\n",
    "\n",
    "plt.show()"
   ]
  },
  {
   "cell_type": "markdown",
   "metadata": {},
   "source": [
    "1. For the mean order price without offer, offers will have more effective for the people with low mean order price without offer.\n",
    "\n",
    "2. Females are less effective than the other gender.\n"
   ]
  },
  {
   "cell_type": "code",
   "execution_count": null,
   "metadata": {},
   "outputs": [],
   "source": [
    "offer_mean_one_offer_bogo_df"
   ]
  },
  {
   "cell_type": "code",
   "execution_count": null,
   "metadata": {},
   "outputs": [],
   "source": [
    "offer_mean_one_offer_bogo_mean , income_label = my_cate(offer_mean_one_offer_bogo_df, col = 'offer_diff' , by = 'income(k)' )\n",
    "offer_mean_one_offer_discount_df , income_label = my_cate(offer_mean_one_offer_discount_df, col = 'offer_diff' , by = 'income(k)' )"
   ]
  },
  {
   "cell_type": "code",
   "execution_count": null,
   "metadata": {},
   "outputs": [],
   "source": [
    "total_amount = summary_df.loc[:, ['mean_trans_without_offer','count_trans_without_offer', 'gender', 'income(k)']]\n",
    "total_amount['total_amt'] = total_amount['mean_trans_without_offer'] * total_amount['count_trans_without_offer']\n",
    "                                  \n",
    "fig4 = my_boxplot(total_amount, 'total_amt', 'income(k)', log = False, showfliers = False)\n",
    "fig4.title('Boxplot for Total Amount By Income')\n",
    "fig4.xlabel('Income range(k)')\n",
    "fig4.ylabel('Total Amount')\n",
    "plt.show()"
   ]
  },
  {
   "cell_type": "markdown",
   "metadata": {},
   "source": [
    "**The total amount without offers increse with income.**\n",
    "\n",
    "**total amount for Male lower than Female when income below 90k**\n"
   ]
  },
  {
   "cell_type": "code",
   "execution_count": null,
   "metadata": {},
   "outputs": [],
   "source": [
    "mean_diff_df = summary_df.loc[:, ['mean_trans_without_offer','mean_trans_with_offer','reward' ,'gender', 'income(k)']]\n",
    "mean_diff_df['mean_diff'] = mean_diff_df['mean_trans_without_offer']  -  mean_diff_df['mean_trans_with_offer'] \n",
    "mean_diff_df['mean_reward_diff'] = mean_diff_df['mean_trans_without_offer']  -  mean_diff_df['mean_trans_with_offer'] - mean_diff_df['reward'] \n",
    "\n",
    "mean_diff_df\n",
    "fig5 = my_boxplot(mean_diff_df, 'mean_reward_diff', 'income(k)', log = False, showfliers = False)\n",
    "fig5.title('Boxplot for Average price difference with offer By Income')\n",
    "fig5.xlabel('Income range(k)')\n",
    "fig5.ylabel('Average Pirce difference')\n",
    "plt.show()"
   ]
  },
  {
   "cell_type": "code",
   "execution_count": null,
   "metadata": {},
   "outputs": [],
   "source": [
    "sns.histplot(mean_diff_df, x = 'mean_diff', bins = range(-100, 100, 5))\n",
    "plt.show()"
   ]
  },
  {
   "cell_type": "code",
   "execution_count": null,
   "metadata": {},
   "outputs": [],
   "source": [
    "sns.histplot(mean_diff_df, x = 'mean_reward_diff', bins = range(-100, 100, 5))\n",
    "plt.show()"
   ]
  },
  {
   "cell_type": "markdown",
   "metadata": {},
   "source": [
    "5. Does bogo and discount have different pattern"
   ]
  },
  {
   "cell_type": "code",
   "execution_count": null,
   "metadata": {},
   "outputs": [],
   "source": [
    "c_c.head()"
   ]
  },
  {
   "cell_type": "code",
   "execution_count": null,
   "metadata": {},
   "outputs": [],
   "source": [
    "bogo_df = summary_df.loc[bogo_index,:]\n",
    "discount_df = summary_df.loc[discount_index,:]"
   ]
  },
  {
   "cell_type": "code",
   "execution_count": null,
   "metadata": {},
   "outputs": [],
   "source": [
    "bogo_df.describe()"
   ]
  },
  {
   "cell_type": "code",
   "execution_count": null,
   "metadata": {},
   "outputs": [],
   "source": [
    "summary_df.shape"
   ]
  },
  {
   "cell_type": "code",
   "execution_count": null,
   "metadata": {},
   "outputs": [],
   "source": [
    "bogo_mean_diff_df = bogo_df.loc[:, ['mean_trans_without_offer','mean_trans_with_offer','reward' ,'gender', 'income(k)']]\n",
    "bogo_mean_diff_df['mean_diff'] = bogo_mean_diff_df['mean_trans_without_offer']  -  bogo_mean_diff_df['mean_trans_with_offer'] \n",
    "bogo_mean_diff_df['mean_reward_diff'] = bogo_mean_diff_df['mean_trans_without_offer']  -  bogo_mean_diff_df['mean_trans_with_offer'] - bogo_mean_diff_df['reward'] \n",
    "\n",
    "\n",
    "fig5 = my_boxplot(bogo_mean_diff_df, 'mean_reward_diff', 'income(k)', log = False, showfliers = False)\n",
    "fig5.title('Boxplot for Average price difference with offer By Income')\n",
    "fig5.xlabel('Income range(k)')\n",
    "fig5.ylabel('Average Pirce difference')\n",
    "plt.show()"
   ]
  },
  {
   "cell_type": "code",
   "execution_count": null,
   "metadata": {},
   "outputs": [],
   "source": [
    "clean_trans.head()"
   ]
  },
  {
   "cell_type": "code",
   "execution_count": null,
   "metadata": {},
   "outputs": [],
   "source": [
    "trans = clean_trans[clean_trans.duplicated(['time','person_id'], keep = False)]\n",
    "groupbytrans = trans.groupby(['person_id', 'time'])['offer_id'].count()\n"
   ]
  },
  {
   "cell_type": "code",
   "execution_count": null,
   "metadata": {},
   "outputs": [],
   "source": [
    "trans.groupby(['person_id', 'time']).sum()"
   ]
  },
  {
   "cell_type": "code",
   "execution_count": null,
   "metadata": {},
   "outputs": [],
   "source": [
    "trans[trans['person_id'] == 0]"
   ]
  },
  {
   "cell_type": "markdown",
   "metadata": {},
   "source": [
    "**With offers, people are more tend to spend more than usual, even some people spend more than the reward from offers.**"
   ]
  },
  {
   "cell_type": "code",
   "execution_count": null,
   "metadata": {},
   "outputs": [],
   "source": [
    "clean_trans.groupby(['person_id', 'time'"
   ]
  },
  {
   "cell_type": "code",
   "execution_count": null,
   "metadata": {},
   "outputs": [],
   "source": [
    "summary_df['income(k)'].hist()\n",
    "plt.show()\n",
    "summary_df[['mean_trans_without_offer','gender']].hist(bins = range(0,100, 5))\n",
    "plt.show()\n",
    "summary_df['mean_trans_with_offer'].hist(bins = range(0,100, 5))\n",
    "plt.show()"
   ]
  },
  {
   "cell_type": "code",
   "execution_count": null,
   "metadata": {},
   "outputs": [],
   "source": [
    "(summary_df['mean_trans_without_offer'] *summary_df['count_trans_without_offer']).hist(bins = range(0,1000,5))"
   ]
  },
  {
   "cell_type": "code",
   "execution_count": null,
   "metadata": {},
   "outputs": [],
   "source": [
    "summary_df['count_trans_without_offer'].hist()"
   ]
  },
  {
   "cell_type": "code",
   "execution_count": null,
   "metadata": {},
   "outputs": [],
   "source": [
    "def create_offer_received_completed_matrix(data, profile = profile_new ):\n",
    "    event_offer_cp = data['event'] == 'offer completed'\n",
    "    event_offer_re = data['event'] == 'offer received'\n",
    "    event_offer_vi = data['event'] == 'offer viewed' \n",
    "    event_offer_ta = data['event'] == 'offer transaction' \n",
    "    \n",
    "    trans_offer_tag = data[data['event'].isin(['offer completed', 'transaction'])]\n",
    "    time_duplicated = trans_offer_tag.duplicated(['time', 'person_id'], keep = False)\n",
    "    \n",
    "    # all transaction \n",
    "\n",
    "    # trans with out offer\n",
    "    trans_without_offer_df = trans_offer_tag[~ time_duplicated]\n",
    "    # trans with offer \n",
    "    trans_with_offer_df = trans_offer_tag[time_duplicated]\n",
    "\n",
    "    \n",
    "    \n",
    "    # count completed offer\n",
    "    offer_completed_count = data[event_offer_cp].groupby(['person_id', 'offer_id'])['person_id'].count().unstack(1)\n",
    "\n",
    "    # offer_completed_count = offer_completed_count.add_suffix('_completed')\n",
    "    # count received offer\n",
    "    offer_received_count = data[event_offer_re].groupby(['person_id', 'offer_id'])['person_id'].count().unstack(1)\n",
    "\n",
    "\n",
    "    #offer_received_count = offer_received_count.add_suffix('_received')    \n",
    "\n",
    "    #    offer_received_count = data[event_offer_re].groupby(['person_id', 'offer_id'])['person_id'].count().unstack(1)\n",
    "    # offer_received_count = offer_received_count.add_suffix('_received')    \n",
    "    reward_ = data[event_offer_cp].groupby(['person_id','time'])['reward'].sum()\n",
    "    reward_nozero = reward_[reward_!=0]\n",
    "    mean_reward = reward_nozero.groupby(level = [0]).mean()\n",
    "\n",
    "    # feature_matrix = offer_completed_count.merge(offer_received_count, on = 'person_id')\n",
    "    row = offer_received_count.index\n",
    "    column = offer_received_count.columns\n",
    "    \n",
    "    feature_matrix = pd.DataFrame(np.nan, index = row, columns = column)\n",
    "    for i in row:\n",
    "        for j in column:\n",
    "            try:\n",
    "                if pd.isna(offer_received_count.loc[i,j]):\n",
    "                    feature_matrix.loc[i,j] = np.nan\n",
    "                elif pd.isna(offer_completed_count.loc[i,j]):\n",
    "                    feature_matrix.loc[i,j] = 0\n",
    "                else:\n",
    "                    feature_matrix.loc[i,j] = 100 * offer_completed_count.loc[i,j] / offer_received_count.loc[i,j]\n",
    "            except:\n",
    "                feature_matrix.loc[i,j] = 0\n",
    "                continue\n",
    "    # feature_matrix = offer_completed_count / offer_received_count\n",
    "    \n",
    "\n",
    "    \n",
    "    # get mean amount without offer\n",
    "    trans_mean_without_offer = trans_without_offer_df.groupby(['person_id'])['amount'].mean()\n",
    "    trans_mean_without_offer.rename('mean_trans_without_offer', inplace = True)\n",
    "    # trans_count_without_offer = trans_without_offer_df.groupby(['person_id'])['amount'].count()\n",
    "    # trans_count_without_offer.rename('count_trans_without_offer')\n",
    "    # get mean amount with offer\n",
    "    trans_mean_with_offer = trans_with_offer_df.groupby(['person_id'])['amount'].mean()\n",
    "    \n",
    "    trans_mean_with_offer.rename(\"mean_trans_with_offer\", inplace = True)\n",
    "#    trans_count_with_offer = trans_with_offer_df.groupby(['person_id'])['amount'].count()\n",
    "#    trans_count_with_offer.rename('count_trans_with_offer')    \n",
    "    feature_matrix = feature_matrix.merge(trans_mean_without_offer, how = 'left', on = 'person_id')\n",
    "    feature_matrix = feature_matrix.merge(trans_mean_with_offer,how = 'left', on = 'person_id')\n",
    "    feature_matrix = feature_matrix.merge(mean_reward,how = 'left', on = 'person_id')\n",
    "    feature_matrix = feature_matrix.merge(profile_new,how = 'left', on = 'person_id')\n",
    "    feature_matrix.loc[feature_matrix['gender'] == 'M' , 'gender'] = 100\n",
    "    feature_matrix.loc[feature_matrix['gender'] == 'F' , 'gender'] = 0\n",
    "    feature_matrix.loc[feature_matrix['gender'] == 'O' , 'gender'] = 50\n",
    "    feature_matrix['gender'].fillna(np.nan, inplace = True)\n",
    "    feature_matrix['gender'].astype(float)\n",
    "    feature_matrix.drop(['became_member_on', 'person_id'],axis = 1, inplace = True)\n",
    "    feature_matrix['income'] = feature_matrix['income']/1000\n",
    "    return feature_matrix\n",
    "#trans_feature = create_matrix(clean_trans)\n",
    "trans_df = create_offer_received_completed_matrix(clean_trans)\n",
    "\n",
    "trans_df.head()"
   ]
  },
  {
   "cell_type": "code",
   "execution_count": null,
   "metadata": {},
   "outputs": [],
   "source": [
    "trans_df.describe()"
   ]
  },
  {
   "cell_type": "code",
   "execution_count": null,
   "metadata": {},
   "outputs": [],
   "source": [
    "trans_df[trans_df['mean_trans_without_offer']<= 1]"
   ]
  },
  {
   "cell_type": "code",
   "execution_count": null,
   "metadata": {},
   "outputs": [],
   "source": [
    "trans_df['mean_trans_without_offer'].hist(bins = range(0, 100, 5))"
   ]
  },
  {
   "cell_type": "code",
   "execution_count": null,
   "metadata": {},
   "outputs": [],
   "source": [
    "trans_mat_df = trans_df.drop([2,7],axis = 1)\n",
    "trans_mat = trans_mat_df.to_numpy()\n",
    "trans_mat.shape"
   ]
  },
  {
   "cell_type": "code",
   "execution_count": null,
   "metadata": {},
   "outputs": [],
   "source": [
    "trans_mat_df_funk = trans_mat_df.drop(\n",
    "    ['mean_trans_without_offer',\n",
    "     'mean_trans_with_offer',\n",
    "     'reward', 'gender','age',\n",
    "     'income'],\n",
    "    axis = 1)\n",
    "trans_mat_funk = trans_mat_df_funk.to_numpy()"
   ]
  },
  {
   "cell_type": "code",
   "execution_count": null,
   "metadata": {},
   "outputs": [],
   "source": [
    "trans_mat_df_funk.describe()"
   ]
  },
  {
   "cell_type": "code",
   "execution_count": null,
   "metadata": {},
   "outputs": [],
   "source": [
    "def FunkSVD(trans_mat , latent_features=14, learning_rate=0.0001, iters=100):\n",
    "    '''\n",
    "    This function performs matrix factorization using a basic form of FunkSVD with no regularization\n",
    "    \n",
    "    INPUT:\n",
    "    ratings_mat - (numpy array) a matrix with users as rows, movies as columns, and ratings as values\n",
    "    latent_features - (int) the number of latent features used\n",
    "    learning_rate - (float) the learning rate \n",
    "    iters - (int) the number of iterations\n",
    "    \n",
    "    OUTPUT:\n",
    "    user_mat - (numpy array) a user by latent feature matrix\n",
    "    movie_mat - (numpy array) a latent feature by movie matrix\n",
    "    '''\n",
    "    \n",
    "    # Set up useful values to be used through the rest of the function\n",
    "    n_users = trans_mat.shape[0] # number of rows in the matrix\n",
    "    n_feature = trans_mat.shape[1] # number of movies in the matrix\n",
    "    num_ratings = n_feature*n_users - np.isnan(trans_mat).sum() # total number of ratings in the matrix\n",
    "    \n",
    "    # initialize the user and movie matrices with random values\n",
    "    # helpful link: https://docs.scipy.org/doc/numpy/reference/generated/numpy.random.rand.html\n",
    "    user_mat = np.random.rand(n_users, latent_features).astype('float64') # user matrix filled with random values of shape user x latent \n",
    "    feature_mat = np.random.rand(latent_features, n_feature).astype('float64') # movie matrix filled with random values of shape latent x movies\n",
    "    print(user_mat.dtype)\n",
    "    \n",
    "    # initialize sse at 0 for first iteration\n",
    "    sse_accum = 0\n",
    "    \n",
    "    # header for running results\n",
    "    print(\"Optimization Statistics\")\n",
    "    print(\"Iterations | Mean Squared Error \")\n",
    "    \n",
    "    # for each iteration\n",
    "    for i in range(iters):\n",
    "        # update our sse\n",
    "        sse_accum = 0.0\n",
    "        max_error = 0\n",
    "#        print(sse_accum.dtype)\n",
    "        # For each user-movie pair\n",
    "        for row in range(n_users):\n",
    "            for column in range(n_feature):\n",
    "                # if the rating exists\n",
    "                if np.isnan(trans_mat[row,column]) ==False :\n",
    "                    # compute the error as the actual minus the dot product of the user and movie latent features\n",
    "                    error_mat = trans_mat[row,column] - np.dot(user_mat[row,:],feature_mat[:,column])\n",
    "                    # Keep track of the total sum of squared errors for the matrix\n",
    "                    if abs(error_mat) > max_error:\n",
    "                        max_error = abs(error_mat)\n",
    "                    \n",
    "                    sse_accum += error_mat**2\n",
    "                    # update the values in each matrix in the direction of the gradient\n",
    "                    user_mat[row,:] +=  learning_rate*2*error_mat*feature_mat[:,column]\n",
    "                    feature_mat[:,column] += + learning_rate*2*error_mat*user_mat[row,:]\n",
    "                    # print results for iteration\n",
    "        print('SSE for {} iter: {} {}'.format(i+1,max_error, sse_accum))\n",
    "\n",
    "\n",
    "    return user_mat, feature_mat "
   ]
  },
  {
   "cell_type": "code",
   "execution_count": null,
   "metadata": {},
   "outputs": [],
   "source": [
    "user_mat2, feature_mat2 = FunkSVD(trans_mat,latent_features=30, learning_rate = 0.00005,iters = 100)"
   ]
  },
  {
   "cell_type": "markdown",
   "metadata": {},
   "source": [
    "Funk SVD\n"
   ]
  },
  {
   "cell_type": "code",
   "execution_count": null,
   "metadata": {},
   "outputs": [],
   "source": [
    "trans_mat"
   ]
  },
  {
   "cell_type": "code",
   "execution_count": null,
   "metadata": {},
   "outputs": [],
   "source": [
    "pred = np.dot(user_mat,feature_mat)"
   ]
  },
  {
   "cell_type": "code",
   "execution_count": null,
   "metadata": {},
   "outputs": [],
   "source": [
    "pred2 = np.dot(user_mat2,feature_mat2)\n",
    "pred_df2 = pd.DataFrame(pred2, index = trans_mat_df.index, columns = trans_mat_df.columns )\n",
    "pred_df2.head(10)"
   ]
  },
  {
   "cell_type": "code",
   "execution_count": null,
   "metadata": {},
   "outputs": [],
   "source": [
    "trans_mat_df.head(10)"
   ]
  },
  {
   "cell_type": "code",
   "execution_count": null,
   "metadata": {},
   "outputs": [],
   "source": [
    "pred_df = pd.DataFrame(pred, index = trans_mat_df_funk.index, columns = trans_mat_df_funk.columns )\n",
    "pred_df.head()"
   ]
  },
  {
   "cell_type": "code",
   "execution_count": null,
   "metadata": {},
   "outputs": [],
   "source": [
    "trans_mat_df_funk.head()"
   ]
  },
  {
   "cell_type": "code",
   "execution_count": null,
   "metadata": {},
   "outputs": [],
   "source": [
    "trans_mat_df_funk.apply(pd.unique)"
   ]
  },
  {
   "cell_type": "code",
   "execution_count": null,
   "metadata": {},
   "outputs": [],
   "source": []
  }
 ],
 "metadata": {
  "kernelspec": {
   "display_name": "Python 3 (ipykernel)",
   "language": "python",
   "name": "python3"
  },
  "language_info": {
   "codemirror_mode": {
    "name": "ipython",
    "version": 3
   },
   "file_extension": ".py",
   "mimetype": "text/x-python",
   "name": "python",
   "nbconvert_exporter": "python",
   "pygments_lexer": "ipython3",
   "version": "3.9.7"
  }
 },
 "nbformat": 4,
 "nbformat_minor": 4
}
