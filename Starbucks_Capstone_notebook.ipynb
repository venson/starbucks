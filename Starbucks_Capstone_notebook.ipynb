{
 "cells": [
  {
   "cell_type": "markdown",
   "metadata": {},
   "source": [
    "# Starbucks Capstone Challenge\n",
    "\n",
    "### Introduction\n",
    "\n",
    "This data set contains simulated data that mimics customer behavior on the Starbucks rewards mobile app. Once every few days, Starbucks sends out an offer to users of the mobile app. An offer can be merely an advertisement for a drink or an actual offer such as a discount or BOGO (buy one get one free). Some users might not receive any offer during certain weeks. \n",
    "\n",
    "Not all users receive the same offer, and that is the challenge to solve with this data set.\n",
    "\n",
    "Your task is to combine transaction, demographic and offer data to determine which demographic groups respond best to which offer type. This data set is a simplified version of the real Starbucks app because the underlying simulator only has one product whereas Starbucks actually sells dozens of products.\n",
    "\n",
    "Every offer has a validity period before the offer expires. As an example, a BOGO offer might be valid for only 5 days. You'll see in the data set that informational offers have a validity period even though these ads are merely providing information about a product; for example, if an informational offer has 7 days of validity, you can assume the customer is feeling the influence of the offer for 7 days after receiving the advertisement.\n",
    "\n",
    "You'll be given transactional data showing user purchases made on the app including the timestamp of purchase and the amount of money spent on a purchase. This transactional data also has a record for each offer that a user receives as well as a record for when a user actually views the offer. There are also records for when a user completes an offer. \n",
    "\n",
    "Keep in mind as well that someone using the app might make a purchase through the app without having received an offer or seen an offer.\n",
    "\n",
    "### Example\n",
    "\n",
    "To give an example, a user could receive a discount offer buy 10 dollars get 2 off on Monday. The offer is valid for 10 days from receipt. If the customer accumulates at least 10 dollars in purchases during the validity period, the customer completes the offer.\n",
    "\n",
    "However, there are a few things to watch out for in this data set. Customers do not opt into the offers that they receive; in other words, a user can receive an offer, never actually view the offer, and still complete the offer. For example, a user might receive the \"buy 10 dollars get 2 dollars off offer\", but the user never opens the offer during the 10 day validity period. The customer spends 15 dollars during those ten days. There will be an offer completion record in the data set; however, the customer was not influenced by the offer because the customer never viewed the offer.\n",
    "\n",
    "### Cleaning\n",
    "\n",
    "This makes data cleaning especially important and tricky.\n",
    "\n",
    "You'll also want to take into account that some demographic groups will make purchases even if they don't receive an offer. From a business perspective, if a customer is going to make a 10 dollar purchase without an offer anyway, you wouldn't want to send a buy 10 dollars get 2 dollars off offer. You'll want to try to assess what a certain demographic group will buy when not receiving any offers.\n",
    "\n",
    "### Final Advice\n",
    "\n",
    "Because this is a capstone project, you are free to analyze the data any way you see fit. For example, you could build a machine learning model that predicts how much someone will spend based on demographics and offer type. Or you could build a model that predicts whether or not someone will respond to an offer. Or, you don't need to build a machine learning model at all. You could develop a set of heuristics that determine what offer you should send to each customer (i.e., 75 percent of women customers who were 35 years old responded to offer A vs 40 percent from the same demographic to offer B, so send offer A)."
   ]
  },
  {
   "cell_type": "markdown",
   "metadata": {},
   "source": [
    "# Data Sets\n",
    "\n",
    "The data is contained in three files:\n",
    "\n",
    "* portfolio.json - containing offer ids and meta data about each offer (duration, type, etc.)\n",
    "* profile.json - demographic data for each customer\n",
    "* transcript.json - records for transactions, offers received, offers viewed, and offers completed\n",
    "\n",
    "Here is the schema and explanation of each variable in the files:\n",
    "\n",
    "**portfolio.json**\n",
    "* id (string) - offer id\n",
    "* offer_type (string) - type of offer ie BOGO, discount, informational\n",
    "* difficulty (int) - minimum required spend to complete an offer\n",
    "* reward (int) - reward given for completing an offer\n",
    "* duration (int) - time for offer to be open, in days\n",
    "* channels (list of strings)\n",
    "\n",
    "**profile.json**\n",
    "* age (int) - age of the customer \n",
    "* became_member_on (int) - date when customer created an app account\n",
    "* gender (str) - gender of the customer (note some entries contain 'O' for other rather than M or F)\n",
    "* id (str) - customer id\n",
    "* income (float) - customer's income\n",
    "\n",
    "**transcript.json**\n",
    "* event (str) - record description (ie transaction, offer received, offer viewed, etc.)\n",
    "* person (str) - customer id\n",
    "* time (int) - time in hours since start of test. The data begins at time t=0\n",
    "* value - (dict of strings) - either an offer id or transaction amount depending on the record\n",
    "\n",
    "**Note:** If you are using the workspace, you will need to go to the terminal and run the command `conda update pandas` before reading in the files. This is because the version of pandas in the workspace cannot read in the transcript.json file correctly, but the newest version of pandas can. You can access the termnal from the orange icon in the top left of this notebook.  \n",
    "\n",
    "You can see how to access the terminal and how the install works using the two images below.  First you need to access the terminal:\n",
    "\n",
    "<img src=\"pic1.png\"/>\n",
    "\n",
    "Then you will want to run the above command:\n",
    "\n",
    "<img src=\"pic2.png\"/>\n",
    "\n",
    "Finally, when you enter back into the notebook (use the jupyter icon again), you should be able to run the below cell without any errors."
   ]
  },
  {
   "cell_type": "markdown",
   "metadata": {},
   "source": [
    "# Section 1:Business Understaning\n",
    "\n",
    "The starbucks data give a situation about Sale Promotion with cupon. It give the customers a discount of BOGO(buy one get one free), which will prompt the sale if the customer use it. Customer get discount, starbuck get sale promotion and build customer potential consumption pattern.\n",
    "\n",
    "For accuracy we should find out how to use the cupon:\n",
    "1. Is it benifit for starbucks\n",
    "2. if it worthy enough, who should we give the cupon.\n",
    "\n",
    "\n",
    "Final Goal:\n",
    "1. More orders for LOW frequency and new customers.\n",
    "2. Steady order for regular customers.\n",
    "3. Reward for loyal customers."
   ]
  },
  {
   "cell_type": "markdown",
   "metadata": {},
   "source": [
    "# Section 2:Data Understaning"
   ]
  },
  {
   "cell_type": "markdown",
   "metadata": {},
   "source": [
    "## 1. Gather"
   ]
  },
  {
   "cell_type": "code",
   "execution_count": 1,
   "metadata": {},
   "outputs": [],
   "source": [
    "import pandas as pd\n",
    "import numpy as np\n",
    "import matplotlib.pyplot as plt\n",
    "import math\n",
    "import json\n",
    "import re\n",
    "import math\n",
    "import seaborn as sns\n",
    "import scipy.stats as stats\n",
    "from sklearn.model_selection import train_test_split\n",
    "from sklearn.model_selection import RandomizedSearchCV\n",
    "from sklearn.preprocessing import StandardScaler\n",
    "from sklearn.preprocessing import RobustScaler\n",
    "from sklearn.preprocessing import MinMaxScaler\n",
    "from sklearn.linear_model import LinearRegression\n",
    "from sklearn.ensemble import RandomForestRegressor\n",
    "from sklearn.linear_model import LogisticRegression\n",
    "%matplotlib inline\n",
    "\n",
    "# Gaather Data#\n",
    "# read in the json files\n",
    "portfolio = pd.read_json('data/portfolio.json', orient='records', lines=True)\n",
    "profile = pd.read_json('data/profile.json', orient='records', lines=True)\n",
    "transcript = pd.read_json('data/transcript.json', orient='records', lines=True)"
   ]
  },
  {
   "cell_type": "code",
   "execution_count": 2,
   "metadata": {},
   "outputs": [
    {
     "data": {
      "text/html": [
       "<div>\n",
       "<style scoped>\n",
       "    .dataframe tbody tr th:only-of-type {\n",
       "        vertical-align: middle;\n",
       "    }\n",
       "\n",
       "    .dataframe tbody tr th {\n",
       "        vertical-align: top;\n",
       "    }\n",
       "\n",
       "    .dataframe thead th {\n",
       "        text-align: right;\n",
       "    }\n",
       "</style>\n",
       "<table border=\"1\" class=\"dataframe\">\n",
       "  <thead>\n",
       "    <tr style=\"text-align: right;\">\n",
       "      <th></th>\n",
       "      <th>gender</th>\n",
       "      <th>age</th>\n",
       "      <th>id</th>\n",
       "      <th>became_member_on</th>\n",
       "      <th>income</th>\n",
       "    </tr>\n",
       "  </thead>\n",
       "  <tbody>\n",
       "    <tr>\n",
       "      <th>0</th>\n",
       "      <td>None</td>\n",
       "      <td>118</td>\n",
       "      <td>68be06ca386d4c31939f3a4f0e3dd783</td>\n",
       "      <td>20170212</td>\n",
       "      <td>NaN</td>\n",
       "    </tr>\n",
       "    <tr>\n",
       "      <th>1</th>\n",
       "      <td>F</td>\n",
       "      <td>55</td>\n",
       "      <td>0610b486422d4921ae7d2bf64640c50b</td>\n",
       "      <td>20170715</td>\n",
       "      <td>112000.0</td>\n",
       "    </tr>\n",
       "    <tr>\n",
       "      <th>2</th>\n",
       "      <td>None</td>\n",
       "      <td>118</td>\n",
       "      <td>38fe809add3b4fcf9315a9694bb96ff5</td>\n",
       "      <td>20180712</td>\n",
       "      <td>NaN</td>\n",
       "    </tr>\n",
       "    <tr>\n",
       "      <th>3</th>\n",
       "      <td>F</td>\n",
       "      <td>75</td>\n",
       "      <td>78afa995795e4d85b5d9ceeca43f5fef</td>\n",
       "      <td>20170509</td>\n",
       "      <td>100000.0</td>\n",
       "    </tr>\n",
       "    <tr>\n",
       "      <th>4</th>\n",
       "      <td>None</td>\n",
       "      <td>118</td>\n",
       "      <td>a03223e636434f42ac4c3df47e8bac43</td>\n",
       "      <td>20170804</td>\n",
       "      <td>NaN</td>\n",
       "    </tr>\n",
       "  </tbody>\n",
       "</table>\n",
       "</div>"
      ],
      "text/plain": [
       "  gender  age                                id  became_member_on    income\n",
       "0   None  118  68be06ca386d4c31939f3a4f0e3dd783          20170212       NaN\n",
       "1      F   55  0610b486422d4921ae7d2bf64640c50b          20170715  112000.0\n",
       "2   None  118  38fe809add3b4fcf9315a9694bb96ff5          20180712       NaN\n",
       "3      F   75  78afa995795e4d85b5d9ceeca43f5fef          20170509  100000.0\n",
       "4   None  118  a03223e636434f42ac4c3df47e8bac43          20170804       NaN"
      ]
     },
     "execution_count": 2,
     "metadata": {},
     "output_type": "execute_result"
    }
   ],
   "source": [
    "profile.head()"
   ]
  },
  {
   "cell_type": "code",
   "execution_count": 3,
   "metadata": {},
   "outputs": [
    {
     "data": {
      "text/html": [
       "<div>\n",
       "<style scoped>\n",
       "    .dataframe tbody tr th:only-of-type {\n",
       "        vertical-align: middle;\n",
       "    }\n",
       "\n",
       "    .dataframe tbody tr th {\n",
       "        vertical-align: top;\n",
       "    }\n",
       "\n",
       "    .dataframe thead th {\n",
       "        text-align: right;\n",
       "    }\n",
       "</style>\n",
       "<table border=\"1\" class=\"dataframe\">\n",
       "  <thead>\n",
       "    <tr style=\"text-align: right;\">\n",
       "      <th></th>\n",
       "      <th>age</th>\n",
       "      <th>became_member_on</th>\n",
       "      <th>income</th>\n",
       "    </tr>\n",
       "  </thead>\n",
       "  <tbody>\n",
       "    <tr>\n",
       "      <th>count</th>\n",
       "      <td>17000.000000</td>\n",
       "      <td>1.700000e+04</td>\n",
       "      <td>14825.000000</td>\n",
       "    </tr>\n",
       "    <tr>\n",
       "      <th>mean</th>\n",
       "      <td>62.531412</td>\n",
       "      <td>2.016703e+07</td>\n",
       "      <td>65404.991568</td>\n",
       "    </tr>\n",
       "    <tr>\n",
       "      <th>std</th>\n",
       "      <td>26.738580</td>\n",
       "      <td>1.167750e+04</td>\n",
       "      <td>21598.299410</td>\n",
       "    </tr>\n",
       "    <tr>\n",
       "      <th>min</th>\n",
       "      <td>18.000000</td>\n",
       "      <td>2.013073e+07</td>\n",
       "      <td>30000.000000</td>\n",
       "    </tr>\n",
       "    <tr>\n",
       "      <th>25%</th>\n",
       "      <td>45.000000</td>\n",
       "      <td>2.016053e+07</td>\n",
       "      <td>49000.000000</td>\n",
       "    </tr>\n",
       "    <tr>\n",
       "      <th>50%</th>\n",
       "      <td>58.000000</td>\n",
       "      <td>2.017080e+07</td>\n",
       "      <td>64000.000000</td>\n",
       "    </tr>\n",
       "    <tr>\n",
       "      <th>75%</th>\n",
       "      <td>73.000000</td>\n",
       "      <td>2.017123e+07</td>\n",
       "      <td>80000.000000</td>\n",
       "    </tr>\n",
       "    <tr>\n",
       "      <th>max</th>\n",
       "      <td>118.000000</td>\n",
       "      <td>2.018073e+07</td>\n",
       "      <td>120000.000000</td>\n",
       "    </tr>\n",
       "  </tbody>\n",
       "</table>\n",
       "</div>"
      ],
      "text/plain": [
       "                age  became_member_on         income\n",
       "count  17000.000000      1.700000e+04   14825.000000\n",
       "mean      62.531412      2.016703e+07   65404.991568\n",
       "std       26.738580      1.167750e+04   21598.299410\n",
       "min       18.000000      2.013073e+07   30000.000000\n",
       "25%       45.000000      2.016053e+07   49000.000000\n",
       "50%       58.000000      2.017080e+07   64000.000000\n",
       "75%       73.000000      2.017123e+07   80000.000000\n",
       "max      118.000000      2.018073e+07  120000.000000"
      ]
     },
     "execution_count": 3,
     "metadata": {},
     "output_type": "execute_result"
    }
   ],
   "source": [
    "profile.describe()"
   ]
  },
  {
   "cell_type": "code",
   "execution_count": 4,
   "metadata": {},
   "outputs": [
    {
     "data": {
      "text/plain": [
       "0"
      ]
     },
     "execution_count": 4,
     "metadata": {},
     "output_type": "execute_result"
    }
   ],
   "source": [
    "profile.duplicated().sum()"
   ]
  },
  {
   "cell_type": "code",
   "execution_count": 5,
   "metadata": {},
   "outputs": [
    {
     "data": {
      "text/html": [
       "<div>\n",
       "<style scoped>\n",
       "    .dataframe tbody tr th:only-of-type {\n",
       "        vertical-align: middle;\n",
       "    }\n",
       "\n",
       "    .dataframe tbody tr th {\n",
       "        vertical-align: top;\n",
       "    }\n",
       "\n",
       "    .dataframe thead th {\n",
       "        text-align: right;\n",
       "    }\n",
       "</style>\n",
       "<table border=\"1\" class=\"dataframe\">\n",
       "  <thead>\n",
       "    <tr style=\"text-align: right;\">\n",
       "      <th></th>\n",
       "      <th>person</th>\n",
       "      <th>event</th>\n",
       "      <th>value</th>\n",
       "      <th>time</th>\n",
       "    </tr>\n",
       "  </thead>\n",
       "  <tbody>\n",
       "    <tr>\n",
       "      <th>0</th>\n",
       "      <td>78afa995795e4d85b5d9ceeca43f5fef</td>\n",
       "      <td>offer received</td>\n",
       "      <td>{'offer id': '9b98b8c7a33c4b65b9aebfe6a799e6d9'}</td>\n",
       "      <td>0</td>\n",
       "    </tr>\n",
       "    <tr>\n",
       "      <th>1</th>\n",
       "      <td>a03223e636434f42ac4c3df47e8bac43</td>\n",
       "      <td>offer received</td>\n",
       "      <td>{'offer id': '0b1e1539f2cc45b7b9fa7c272da2e1d7'}</td>\n",
       "      <td>0</td>\n",
       "    </tr>\n",
       "    <tr>\n",
       "      <th>2</th>\n",
       "      <td>e2127556f4f64592b11af22de27a7932</td>\n",
       "      <td>offer received</td>\n",
       "      <td>{'offer id': '2906b810c7d4411798c6938adc9daaa5'}</td>\n",
       "      <td>0</td>\n",
       "    </tr>\n",
       "    <tr>\n",
       "      <th>3</th>\n",
       "      <td>8ec6ce2a7e7949b1bf142def7d0e0586</td>\n",
       "      <td>offer received</td>\n",
       "      <td>{'offer id': 'fafdcd668e3743c1bb461111dcafc2a4'}</td>\n",
       "      <td>0</td>\n",
       "    </tr>\n",
       "    <tr>\n",
       "      <th>4</th>\n",
       "      <td>68617ca6246f4fbc85e91a2a49552598</td>\n",
       "      <td>offer received</td>\n",
       "      <td>{'offer id': '4d5c57ea9a6940dd891ad53e9dbe8da0'}</td>\n",
       "      <td>0</td>\n",
       "    </tr>\n",
       "  </tbody>\n",
       "</table>\n",
       "</div>"
      ],
      "text/plain": [
       "                             person           event  \\\n",
       "0  78afa995795e4d85b5d9ceeca43f5fef  offer received   \n",
       "1  a03223e636434f42ac4c3df47e8bac43  offer received   \n",
       "2  e2127556f4f64592b11af22de27a7932  offer received   \n",
       "3  8ec6ce2a7e7949b1bf142def7d0e0586  offer received   \n",
       "4  68617ca6246f4fbc85e91a2a49552598  offer received   \n",
       "\n",
       "                                              value  time  \n",
       "0  {'offer id': '9b98b8c7a33c4b65b9aebfe6a799e6d9'}     0  \n",
       "1  {'offer id': '0b1e1539f2cc45b7b9fa7c272da2e1d7'}     0  \n",
       "2  {'offer id': '2906b810c7d4411798c6938adc9daaa5'}     0  \n",
       "3  {'offer id': 'fafdcd668e3743c1bb461111dcafc2a4'}     0  \n",
       "4  {'offer id': '4d5c57ea9a6940dd891ad53e9dbe8da0'}     0  "
      ]
     },
     "execution_count": 5,
     "metadata": {},
     "output_type": "execute_result"
    }
   ],
   "source": [
    "transcript.head()"
   ]
  },
  {
   "cell_type": "markdown",
   "metadata": {},
   "source": [
    "## 2. Cleaning"
   ]
  },
  {
   "cell_type": "markdown",
   "metadata": {},
   "source": [
    "### 2.1 Cleaning \"profile\""
   ]
  },
  {
   "cell_type": "markdown",
   "metadata": {
    "tags": []
   },
   "source": [
    "1. There are a lot of customers at age 118.Those are the people who do not want to give the age informations. We will consider that as a NaN.\n",
    "2. \"id\" in profile is a hashtag, we will replace it with numbers for clearity."
   ]
  },
  {
   "cell_type": "code",
   "execution_count": 6,
   "metadata": {},
   "outputs": [
    {
     "data": {
      "text/html": [
       "<div>\n",
       "<style scoped>\n",
       "    .dataframe tbody tr th:only-of-type {\n",
       "        vertical-align: middle;\n",
       "    }\n",
       "\n",
       "    .dataframe tbody tr th {\n",
       "        vertical-align: top;\n",
       "    }\n",
       "\n",
       "    .dataframe thead th {\n",
       "        text-align: right;\n",
       "    }\n",
       "</style>\n",
       "<table border=\"1\" class=\"dataframe\">\n",
       "  <thead>\n",
       "    <tr style=\"text-align: right;\">\n",
       "      <th></th>\n",
       "      <th>gender</th>\n",
       "      <th>age</th>\n",
       "      <th>became_member_on</th>\n",
       "      <th>income</th>\n",
       "      <th>person_id</th>\n",
       "    </tr>\n",
       "  </thead>\n",
       "  <tbody>\n",
       "    <tr>\n",
       "      <th>0</th>\n",
       "      <td>None</td>\n",
       "      <td>NaN</td>\n",
       "      <td>20170212</td>\n",
       "      <td>NaN</td>\n",
       "      <td>0</td>\n",
       "    </tr>\n",
       "    <tr>\n",
       "      <th>1</th>\n",
       "      <td>F</td>\n",
       "      <td>55.0</td>\n",
       "      <td>20170715</td>\n",
       "      <td>112000.0</td>\n",
       "      <td>1</td>\n",
       "    </tr>\n",
       "    <tr>\n",
       "      <th>2</th>\n",
       "      <td>None</td>\n",
       "      <td>NaN</td>\n",
       "      <td>20180712</td>\n",
       "      <td>NaN</td>\n",
       "      <td>2</td>\n",
       "    </tr>\n",
       "    <tr>\n",
       "      <th>3</th>\n",
       "      <td>F</td>\n",
       "      <td>75.0</td>\n",
       "      <td>20170509</td>\n",
       "      <td>100000.0</td>\n",
       "      <td>3</td>\n",
       "    </tr>\n",
       "    <tr>\n",
       "      <th>4</th>\n",
       "      <td>None</td>\n",
       "      <td>NaN</td>\n",
       "      <td>20170804</td>\n",
       "      <td>NaN</td>\n",
       "      <td>4</td>\n",
       "    </tr>\n",
       "  </tbody>\n",
       "</table>\n",
       "</div>"
      ],
      "text/plain": [
       "  gender   age  became_member_on    income  person_id\n",
       "0   None   NaN          20170212       NaN          0\n",
       "1      F  55.0          20170715  112000.0          1\n",
       "2   None   NaN          20180712       NaN          2\n",
       "3      F  75.0          20170509  100000.0          3\n",
       "4   None   NaN          20170804       NaN          4"
      ]
     },
     "execution_count": 6,
     "metadata": {},
     "output_type": "execute_result"
    }
   ],
   "source": [
    "def create_user_id_map(data=profile):\n",
    "    \"\"\"\n",
    "    Create a map for hashed 'person' in profile to simplify the data\n",
    "    Parameters\n",
    "    -------\n",
    "    data : the profile dataframe\n",
    "    Returns\n",
    "    ---------\n",
    "    user_id_map: The map DataFrame between hashed person informations and\n",
    "    interger numbers\n",
    "    \"\"\"\n",
    "    user_id_map = pd.DataFrame(\n",
    "        {'person': data['id'],\n",
    "         'person_id': range(len(data['id']))}\n",
    "    )\n",
    "    return user_id_map\n",
    "\n",
    "\n",
    "user_id_map = create_user_id_map()\n",
    "\n",
    "\n",
    "def clean_profile_(data=profile, user_id_map=user_id_map):\n",
    "    \"\"\"\n",
    "    Clean the profile dataframe.\n",
    "    1. if the ages are above 117, treat this as Nan\n",
    "    2. replace hashed 'person' into 'person_id'\n",
    "    Parameters\n",
    "    ------\n",
    "    data : The profile dataframe.\n",
    "    user_id_map : The dataframe contains the relations between hashed 'person' and 'person_id'\n",
    "    Returns\n",
    "    -------\n",
    "    profile_new : The cleaned version of profile\n",
    "    \"\"\"\n",
    "    profile_new = data.merge(user_id_map, how='left', left_on='id', right_on='person')\n",
    "    profile_new.drop(['id', 'person'], axis=1, inplace=True)\n",
    "    profile_new.loc[profile_new['age'] >= 117, 'age'] = np.nan\n",
    "    # profile_new['income']  = np.log10(profile_new['income'])\n",
    "    return profile_new\n",
    "\n",
    "\n",
    "clean_profile = clean_profile_()\n",
    "clean_profile.head()"
   ]
  },
  {
   "cell_type": "markdown",
   "metadata": {
    "tags": []
   },
   "source": [
    "### 2.2 Cleaning \"portfolio\". \n",
    "\n",
    "1. Replace id with offer_id base on id mapping table.\n",
    "2. Split channels into columns."
   ]
  },
  {
   "cell_type": "code",
   "execution_count": 7,
   "metadata": {},
   "outputs": [
    {
     "data": {
      "text/html": [
       "<div>\n",
       "<style scoped>\n",
       "    .dataframe tbody tr th:only-of-type {\n",
       "        vertical-align: middle;\n",
       "    }\n",
       "\n",
       "    .dataframe tbody tr th {\n",
       "        vertical-align: top;\n",
       "    }\n",
       "\n",
       "    .dataframe thead th {\n",
       "        text-align: right;\n",
       "    }\n",
       "</style>\n",
       "<table border=\"1\" class=\"dataframe\">\n",
       "  <thead>\n",
       "    <tr style=\"text-align: right;\">\n",
       "      <th></th>\n",
       "      <th>reward</th>\n",
       "      <th>channels</th>\n",
       "      <th>difficulty</th>\n",
       "      <th>duration</th>\n",
       "      <th>offer_type</th>\n",
       "      <th>id</th>\n",
       "    </tr>\n",
       "  </thead>\n",
       "  <tbody>\n",
       "    <tr>\n",
       "      <th>0</th>\n",
       "      <td>10</td>\n",
       "      <td>[email, mobile, social]</td>\n",
       "      <td>10</td>\n",
       "      <td>7</td>\n",
       "      <td>bogo</td>\n",
       "      <td>ae264e3637204a6fb9bb56bc8210ddfd</td>\n",
       "    </tr>\n",
       "    <tr>\n",
       "      <th>1</th>\n",
       "      <td>10</td>\n",
       "      <td>[web, email, mobile, social]</td>\n",
       "      <td>10</td>\n",
       "      <td>5</td>\n",
       "      <td>bogo</td>\n",
       "      <td>4d5c57ea9a6940dd891ad53e9dbe8da0</td>\n",
       "    </tr>\n",
       "    <tr>\n",
       "      <th>2</th>\n",
       "      <td>0</td>\n",
       "      <td>[web, email, mobile]</td>\n",
       "      <td>0</td>\n",
       "      <td>4</td>\n",
       "      <td>informational</td>\n",
       "      <td>3f207df678b143eea3cee63160fa8bed</td>\n",
       "    </tr>\n",
       "    <tr>\n",
       "      <th>3</th>\n",
       "      <td>5</td>\n",
       "      <td>[web, email, mobile]</td>\n",
       "      <td>5</td>\n",
       "      <td>7</td>\n",
       "      <td>bogo</td>\n",
       "      <td>9b98b8c7a33c4b65b9aebfe6a799e6d9</td>\n",
       "    </tr>\n",
       "    <tr>\n",
       "      <th>4</th>\n",
       "      <td>5</td>\n",
       "      <td>[web, email]</td>\n",
       "      <td>20</td>\n",
       "      <td>10</td>\n",
       "      <td>discount</td>\n",
       "      <td>0b1e1539f2cc45b7b9fa7c272da2e1d7</td>\n",
       "    </tr>\n",
       "    <tr>\n",
       "      <th>5</th>\n",
       "      <td>3</td>\n",
       "      <td>[web, email, mobile, social]</td>\n",
       "      <td>7</td>\n",
       "      <td>7</td>\n",
       "      <td>discount</td>\n",
       "      <td>2298d6c36e964ae4a3e7e9706d1fb8c2</td>\n",
       "    </tr>\n",
       "    <tr>\n",
       "      <th>6</th>\n",
       "      <td>2</td>\n",
       "      <td>[web, email, mobile, social]</td>\n",
       "      <td>10</td>\n",
       "      <td>10</td>\n",
       "      <td>discount</td>\n",
       "      <td>fafdcd668e3743c1bb461111dcafc2a4</td>\n",
       "    </tr>\n",
       "    <tr>\n",
       "      <th>7</th>\n",
       "      <td>0</td>\n",
       "      <td>[email, mobile, social]</td>\n",
       "      <td>0</td>\n",
       "      <td>3</td>\n",
       "      <td>informational</td>\n",
       "      <td>5a8bc65990b245e5a138643cd4eb9837</td>\n",
       "    </tr>\n",
       "    <tr>\n",
       "      <th>8</th>\n",
       "      <td>5</td>\n",
       "      <td>[web, email, mobile, social]</td>\n",
       "      <td>5</td>\n",
       "      <td>5</td>\n",
       "      <td>bogo</td>\n",
       "      <td>f19421c1d4aa40978ebb69ca19b0e20d</td>\n",
       "    </tr>\n",
       "    <tr>\n",
       "      <th>9</th>\n",
       "      <td>2</td>\n",
       "      <td>[web, email, mobile]</td>\n",
       "      <td>10</td>\n",
       "      <td>7</td>\n",
       "      <td>discount</td>\n",
       "      <td>2906b810c7d4411798c6938adc9daaa5</td>\n",
       "    </tr>\n",
       "  </tbody>\n",
       "</table>\n",
       "</div>"
      ],
      "text/plain": [
       "   reward                      channels  difficulty  duration     offer_type  \\\n",
       "0      10       [email, mobile, social]          10         7           bogo   \n",
       "1      10  [web, email, mobile, social]          10         5           bogo   \n",
       "2       0          [web, email, mobile]           0         4  informational   \n",
       "3       5          [web, email, mobile]           5         7           bogo   \n",
       "4       5                  [web, email]          20        10       discount   \n",
       "5       3  [web, email, mobile, social]           7         7       discount   \n",
       "6       2  [web, email, mobile, social]          10        10       discount   \n",
       "7       0       [email, mobile, social]           0         3  informational   \n",
       "8       5  [web, email, mobile, social]           5         5           bogo   \n",
       "9       2          [web, email, mobile]          10         7       discount   \n",
       "\n",
       "                                 id  \n",
       "0  ae264e3637204a6fb9bb56bc8210ddfd  \n",
       "1  4d5c57ea9a6940dd891ad53e9dbe8da0  \n",
       "2  3f207df678b143eea3cee63160fa8bed  \n",
       "3  9b98b8c7a33c4b65b9aebfe6a799e6d9  \n",
       "4  0b1e1539f2cc45b7b9fa7c272da2e1d7  \n",
       "5  2298d6c36e964ae4a3e7e9706d1fb8c2  \n",
       "6  fafdcd668e3743c1bb461111dcafc2a4  \n",
       "7  5a8bc65990b245e5a138643cd4eb9837  \n",
       "8  f19421c1d4aa40978ebb69ca19b0e20d  \n",
       "9  2906b810c7d4411798c6938adc9daaa5  "
      ]
     },
     "execution_count": 7,
     "metadata": {},
     "output_type": "execute_result"
    }
   ],
   "source": [
    "portfolio"
   ]
  },
  {
   "cell_type": "code",
   "execution_count": 8,
   "metadata": {},
   "outputs": [
    {
     "data": {
      "text/html": [
       "<div>\n",
       "<style scoped>\n",
       "    .dataframe tbody tr th:only-of-type {\n",
       "        vertical-align: middle;\n",
       "    }\n",
       "\n",
       "    .dataframe tbody tr th {\n",
       "        vertical-align: top;\n",
       "    }\n",
       "\n",
       "    .dataframe thead th {\n",
       "        text-align: right;\n",
       "    }\n",
       "</style>\n",
       "<table border=\"1\" class=\"dataframe\">\n",
       "  <thead>\n",
       "    <tr style=\"text-align: right;\">\n",
       "      <th></th>\n",
       "      <th>offer_id</th>\n",
       "      <th>portfolio_id</th>\n",
       "    </tr>\n",
       "  </thead>\n",
       "  <tbody>\n",
       "    <tr>\n",
       "      <th>0</th>\n",
       "      <td>BOGO_r10_d10_u7</td>\n",
       "      <td>ae264e3637204a6fb9bb56bc8210ddfd</td>\n",
       "    </tr>\n",
       "    <tr>\n",
       "      <th>1</th>\n",
       "      <td>BOGO_r10_d10_u5</td>\n",
       "      <td>4d5c57ea9a6940dd891ad53e9dbe8da0</td>\n",
       "    </tr>\n",
       "    <tr>\n",
       "      <th>2</th>\n",
       "      <td>INFO_u4</td>\n",
       "      <td>3f207df678b143eea3cee63160fa8bed</td>\n",
       "    </tr>\n",
       "    <tr>\n",
       "      <th>3</th>\n",
       "      <td>BOGO_r5_d5_u7</td>\n",
       "      <td>9b98b8c7a33c4b65b9aebfe6a799e6d9</td>\n",
       "    </tr>\n",
       "    <tr>\n",
       "      <th>4</th>\n",
       "      <td>DIS_r5_d20_u10</td>\n",
       "      <td>0b1e1539f2cc45b7b9fa7c272da2e1d7</td>\n",
       "    </tr>\n",
       "    <tr>\n",
       "      <th>5</th>\n",
       "      <td>DIS_r3_d7_u7</td>\n",
       "      <td>2298d6c36e964ae4a3e7e9706d1fb8c2</td>\n",
       "    </tr>\n",
       "    <tr>\n",
       "      <th>6</th>\n",
       "      <td>DIS_r2_d10_u10</td>\n",
       "      <td>fafdcd668e3743c1bb461111dcafc2a4</td>\n",
       "    </tr>\n",
       "    <tr>\n",
       "      <th>7</th>\n",
       "      <td>INFO_u3</td>\n",
       "      <td>5a8bc65990b245e5a138643cd4eb9837</td>\n",
       "    </tr>\n",
       "    <tr>\n",
       "      <th>8</th>\n",
       "      <td>BOGO_r5_d5_u5</td>\n",
       "      <td>f19421c1d4aa40978ebb69ca19b0e20d</td>\n",
       "    </tr>\n",
       "    <tr>\n",
       "      <th>9</th>\n",
       "      <td>DIS_r2_d10_u7</td>\n",
       "      <td>2906b810c7d4411798c6938adc9daaa5</td>\n",
       "    </tr>\n",
       "  </tbody>\n",
       "</table>\n",
       "</div>"
      ],
      "text/plain": [
       "          offer_id                      portfolio_id\n",
       "0  BOGO_r10_d10_u7  ae264e3637204a6fb9bb56bc8210ddfd\n",
       "1  BOGO_r10_d10_u5  4d5c57ea9a6940dd891ad53e9dbe8da0\n",
       "2          INFO_u4  3f207df678b143eea3cee63160fa8bed\n",
       "3    BOGO_r5_d5_u7  9b98b8c7a33c4b65b9aebfe6a799e6d9\n",
       "4   DIS_r5_d20_u10  0b1e1539f2cc45b7b9fa7c272da2e1d7\n",
       "5     DIS_r3_d7_u7  2298d6c36e964ae4a3e7e9706d1fb8c2\n",
       "6   DIS_r2_d10_u10  fafdcd668e3743c1bb461111dcafc2a4\n",
       "7          INFO_u3  5a8bc65990b245e5a138643cd4eb9837\n",
       "8    BOGO_r5_d5_u5  f19421c1d4aa40978ebb69ca19b0e20d\n",
       "9    DIS_r2_d10_u7  2906b810c7d4411798c6938adc9daaa5"
      ]
     },
     "execution_count": 8,
     "metadata": {},
     "output_type": "execute_result"
    }
   ],
   "source": [
    "# map dict for hashed offer id \n",
    "map_dict = {'offer_id': ['BOGO_r10_d10_u7',\n",
    "                         'BOGO_r10_d10_u5',\n",
    "                         'INFO_u4',\n",
    "                         'BOGO_r5_d5_u7',\n",
    "                         'DIS_r5_d20_u10',\n",
    "                         'DIS_r3_d7_u7',\n",
    "                         'DIS_r2_d10_u10',\n",
    "                         'INFO_u3',\n",
    "                         'BOGO_r5_d5_u5',\n",
    "                         'DIS_r2_d10_u7']}\n",
    "offer_id_map = pd.DataFrame(map_dict)\n",
    "offer_id_map = offer_id_map.merge(portfolio.loc[:, 'id'], left_index=True, right_index=True)\n",
    "offer_id_map.rename(columns={'id': 'portfolio_id'}, inplace=True)\n",
    "offer_id_map"
   ]
  },
  {
   "cell_type": "code",
   "execution_count": 10,
   "metadata": {},
   "outputs": [],
   "source": [
    "def clean_portfolio(portfolio=portfolio, offer_id_map=offer_id_map):\n",
    "    \"\"\"\n",
    "    clean the portfolio data, change hashed \"ID\" into \"offer_id\" according to offer_id_map\n",
    "    split channels into columns\n",
    "    Parameters\n",
    "    -----\n",
    "    portfolio : The original profile dataframe\n",
    "    offer_id_map : The dataFrame map between hased 'id' and more readable 'offer_id'.\n",
    "    Returns\n",
    "    -----\n",
    "    port_clean : the cleaned version of profile\n",
    "    \"\"\"\n",
    "    port_clean = portfolio.copy()\n",
    "    channel_list = []\n",
    "    for channel in portfolio['channels']:\n",
    "        channel_list.extend(channel)\n",
    "    channel_set = set(channel_list)\n",
    "    \n",
    "    # convert channels into dummies\n",
    "    for channel in channel_set:\n",
    "        port_clean['channel_' + channel] = port_clean['channels'].apply(lambda x: 1 if  x.count(channel)>0 else 0)\n",
    "        \n",
    "    # change id according to offer_id_map\n",
    "    \n",
    "    port_clean = port_clean.merge(offer_id_map, left_on= 'id', right_on = 'portfolio_id')\n",
    "        \n",
    "    \n",
    "    port_clean.drop(['channels','id', 'portfolio_id'], axis = 1, inplace = True)\n",
    "    return port_clean\n",
    "\n",
    "\n",
    "portfolio_clean = clean_portfolio()"
   ]
  },
  {
   "cell_type": "code",
   "execution_count": 11,
   "metadata": {},
   "outputs": [
    {
     "data": {
      "text/html": [
       "<div>\n",
       "<style scoped>\n",
       "    .dataframe tbody tr th:only-of-type {\n",
       "        vertical-align: middle;\n",
       "    }\n",
       "\n",
       "    .dataframe tbody tr th {\n",
       "        vertical-align: top;\n",
       "    }\n",
       "\n",
       "    .dataframe thead th {\n",
       "        text-align: right;\n",
       "    }\n",
       "</style>\n",
       "<table border=\"1\" class=\"dataframe\">\n",
       "  <thead>\n",
       "    <tr style=\"text-align: right;\">\n",
       "      <th></th>\n",
       "      <th>reward</th>\n",
       "      <th>difficulty</th>\n",
       "      <th>duration</th>\n",
       "      <th>offer_type</th>\n",
       "      <th>channel_web</th>\n",
       "      <th>channel_mobile</th>\n",
       "      <th>channel_social</th>\n",
       "      <th>channel_email</th>\n",
       "      <th>offer_id</th>\n",
       "    </tr>\n",
       "  </thead>\n",
       "  <tbody>\n",
       "    <tr>\n",
       "      <th>0</th>\n",
       "      <td>10</td>\n",
       "      <td>10</td>\n",
       "      <td>7</td>\n",
       "      <td>bogo</td>\n",
       "      <td>0</td>\n",
       "      <td>1</td>\n",
       "      <td>1</td>\n",
       "      <td>1</td>\n",
       "      <td>BOGO_r10_d10_u7</td>\n",
       "    </tr>\n",
       "    <tr>\n",
       "      <th>1</th>\n",
       "      <td>10</td>\n",
       "      <td>10</td>\n",
       "      <td>5</td>\n",
       "      <td>bogo</td>\n",
       "      <td>1</td>\n",
       "      <td>1</td>\n",
       "      <td>1</td>\n",
       "      <td>1</td>\n",
       "      <td>BOGO_r10_d10_u5</td>\n",
       "    </tr>\n",
       "    <tr>\n",
       "      <th>2</th>\n",
       "      <td>0</td>\n",
       "      <td>0</td>\n",
       "      <td>4</td>\n",
       "      <td>informational</td>\n",
       "      <td>1</td>\n",
       "      <td>1</td>\n",
       "      <td>0</td>\n",
       "      <td>1</td>\n",
       "      <td>INFO_u4</td>\n",
       "    </tr>\n",
       "    <tr>\n",
       "      <th>3</th>\n",
       "      <td>5</td>\n",
       "      <td>5</td>\n",
       "      <td>7</td>\n",
       "      <td>bogo</td>\n",
       "      <td>1</td>\n",
       "      <td>1</td>\n",
       "      <td>0</td>\n",
       "      <td>1</td>\n",
       "      <td>BOGO_r5_d5_u7</td>\n",
       "    </tr>\n",
       "    <tr>\n",
       "      <th>4</th>\n",
       "      <td>5</td>\n",
       "      <td>20</td>\n",
       "      <td>10</td>\n",
       "      <td>discount</td>\n",
       "      <td>1</td>\n",
       "      <td>0</td>\n",
       "      <td>0</td>\n",
       "      <td>1</td>\n",
       "      <td>DIS_r5_d20_u10</td>\n",
       "    </tr>\n",
       "    <tr>\n",
       "      <th>5</th>\n",
       "      <td>3</td>\n",
       "      <td>7</td>\n",
       "      <td>7</td>\n",
       "      <td>discount</td>\n",
       "      <td>1</td>\n",
       "      <td>1</td>\n",
       "      <td>1</td>\n",
       "      <td>1</td>\n",
       "      <td>DIS_r3_d7_u7</td>\n",
       "    </tr>\n",
       "    <tr>\n",
       "      <th>6</th>\n",
       "      <td>2</td>\n",
       "      <td>10</td>\n",
       "      <td>10</td>\n",
       "      <td>discount</td>\n",
       "      <td>1</td>\n",
       "      <td>1</td>\n",
       "      <td>1</td>\n",
       "      <td>1</td>\n",
       "      <td>DIS_r2_d10_u10</td>\n",
       "    </tr>\n",
       "    <tr>\n",
       "      <th>7</th>\n",
       "      <td>0</td>\n",
       "      <td>0</td>\n",
       "      <td>3</td>\n",
       "      <td>informational</td>\n",
       "      <td>0</td>\n",
       "      <td>1</td>\n",
       "      <td>1</td>\n",
       "      <td>1</td>\n",
       "      <td>INFO_u3</td>\n",
       "    </tr>\n",
       "    <tr>\n",
       "      <th>8</th>\n",
       "      <td>5</td>\n",
       "      <td>5</td>\n",
       "      <td>5</td>\n",
       "      <td>bogo</td>\n",
       "      <td>1</td>\n",
       "      <td>1</td>\n",
       "      <td>1</td>\n",
       "      <td>1</td>\n",
       "      <td>BOGO_r5_d5_u5</td>\n",
       "    </tr>\n",
       "    <tr>\n",
       "      <th>9</th>\n",
       "      <td>2</td>\n",
       "      <td>10</td>\n",
       "      <td>7</td>\n",
       "      <td>discount</td>\n",
       "      <td>1</td>\n",
       "      <td>1</td>\n",
       "      <td>0</td>\n",
       "      <td>1</td>\n",
       "      <td>DIS_r2_d10_u7</td>\n",
       "    </tr>\n",
       "  </tbody>\n",
       "</table>\n",
       "</div>"
      ],
      "text/plain": [
       "   reward  difficulty  duration     offer_type  channel_web  channel_mobile  \\\n",
       "0      10          10         7           bogo            0               1   \n",
       "1      10          10         5           bogo            1               1   \n",
       "2       0           0         4  informational            1               1   \n",
       "3       5           5         7           bogo            1               1   \n",
       "4       5          20        10       discount            1               0   \n",
       "5       3           7         7       discount            1               1   \n",
       "6       2          10        10       discount            1               1   \n",
       "7       0           0         3  informational            0               1   \n",
       "8       5           5         5           bogo            1               1   \n",
       "9       2          10         7       discount            1               1   \n",
       "\n",
       "   channel_social  channel_email         offer_id  \n",
       "0               1              1  BOGO_r10_d10_u7  \n",
       "1               1              1  BOGO_r10_d10_u5  \n",
       "2               0              1          INFO_u4  \n",
       "3               0              1    BOGO_r5_d5_u7  \n",
       "4               0              1   DIS_r5_d20_u10  \n",
       "5               1              1     DIS_r3_d7_u7  \n",
       "6               1              1   DIS_r2_d10_u10  \n",
       "7               1              1          INFO_u3  \n",
       "8               1              1    BOGO_r5_d5_u5  \n",
       "9               0              1    DIS_r2_d10_u7  "
      ]
     },
     "execution_count": 11,
     "metadata": {},
     "output_type": "execute_result"
    }
   ],
   "source": [
    "portfolio_clean"
   ]
  },
  {
   "cell_type": "markdown",
   "metadata": {
    "tags": []
   },
   "source": [
    "### 2.3 Cleaning \"transcript\""
   ]
  },
  {
   "cell_type": "markdown",
   "metadata": {
    "tags": []
   },
   "source": [
    "1. replace person hashvalue with numeric person_id.\n",
    "2. extract information from value column.\n",
    "3. replace offer hashvalue with numeric offer_id."
   ]
  },
  {
   "cell_type": "code",
   "execution_count": 15,
   "metadata": {},
   "outputs": [
    {
     "name": "stdout",
     "output_type": "stream",
     "text": [
      "['offer received' 'offer viewed' 'transaction' 'offer completed']\n",
      "Stored 'elementary_trans' (DataFrame)\n"
     ]
    },
    {
     "data": {
      "text/html": [
       "<div>\n",
       "<style scoped>\n",
       "    .dataframe tbody tr th:only-of-type {\n",
       "        vertical-align: middle;\n",
       "    }\n",
       "\n",
       "    .dataframe tbody tr th {\n",
       "        vertical-align: top;\n",
       "    }\n",
       "\n",
       "    .dataframe thead th {\n",
       "        text-align: right;\n",
       "    }\n",
       "</style>\n",
       "<table border=\"1\" class=\"dataframe\">\n",
       "  <thead>\n",
       "    <tr style=\"text-align: right;\">\n",
       "      <th></th>\n",
       "      <th>event</th>\n",
       "      <th>time</th>\n",
       "      <th>person_id</th>\n",
       "      <th>amount</th>\n",
       "      <th>reward</th>\n",
       "      <th>offer_id</th>\n",
       "    </tr>\n",
       "  </thead>\n",
       "  <tbody>\n",
       "    <tr>\n",
       "      <th>0</th>\n",
       "      <td>offer received</td>\n",
       "      <td>0</td>\n",
       "      <td>3</td>\n",
       "      <td>NaN</td>\n",
       "      <td>NaN</td>\n",
       "      <td>BOGO_r5_d5_u7</td>\n",
       "    </tr>\n",
       "    <tr>\n",
       "      <th>1</th>\n",
       "      <td>offer viewed</td>\n",
       "      <td>6</td>\n",
       "      <td>3</td>\n",
       "      <td>NaN</td>\n",
       "      <td>NaN</td>\n",
       "      <td>BOGO_r5_d5_u7</td>\n",
       "    </tr>\n",
       "    <tr>\n",
       "      <th>2</th>\n",
       "      <td>transaction</td>\n",
       "      <td>132</td>\n",
       "      <td>3</td>\n",
       "      <td>19.89</td>\n",
       "      <td>NaN</td>\n",
       "      <td>NaN</td>\n",
       "    </tr>\n",
       "    <tr>\n",
       "      <th>3</th>\n",
       "      <td>offer completed</td>\n",
       "      <td>132</td>\n",
       "      <td>3</td>\n",
       "      <td>NaN</td>\n",
       "      <td>5.0</td>\n",
       "      <td>BOGO_r5_d5_u7</td>\n",
       "    </tr>\n",
       "    <tr>\n",
       "      <th>4</th>\n",
       "      <td>transaction</td>\n",
       "      <td>144</td>\n",
       "      <td>3</td>\n",
       "      <td>17.78</td>\n",
       "      <td>NaN</td>\n",
       "      <td>NaN</td>\n",
       "    </tr>\n",
       "  </tbody>\n",
       "</table>\n",
       "</div>"
      ],
      "text/plain": [
       "             event  time  person_id  amount  reward       offer_id\n",
       "0   offer received     0          3     NaN     NaN  BOGO_r5_d5_u7\n",
       "1     offer viewed     6          3     NaN     NaN  BOGO_r5_d5_u7\n",
       "2      transaction   132          3   19.89     NaN            NaN\n",
       "3  offer completed   132          3     NaN     5.0  BOGO_r5_d5_u7\n",
       "4      transaction   144          3   17.78     NaN            NaN"
      ]
     },
     "execution_count": 15,
     "metadata": {},
     "output_type": "execute_result"
    }
   ],
   "source": [
    "# Clean ###\n",
    "def elementary_transcript(transcript = transcript, portfolio = portfolio_clean, offer_id_map = offer_id_map, user_id_map = user_id_map):\n",
    "    \"\"\"\n",
    "    clean the transcript data, use person_id, offer_id instead of hash number.\n",
    "    Parameters\n",
    "    ------------\n",
    "    transcript : The transcript DataFrame\n",
    "    portfolio : The cleaned portfolio DataFrame\n",
    "    offer_id_map : The offer id map dataFrame\n",
    "    user_id_map : The user id map dataFrame\n",
    "    Returns\n",
    "    ------------\n",
    "    transcript_clean : The elementary cleaned transcript DataFrame\n",
    "    \"\"\"\n",
    "    \n",
    "    # simplify person to person_id\n",
    "    transcript_clean = transcript.copy()    \n",
    "\n",
    "    transcript_clean = transcript_clean.merge(user_id_map, on = 'person')    \n",
    "    print(transcript_clean.event.unique())\n",
    "    # \n",
    "    \n",
    "    transcript_clean['portfolio_id'] = transcript_clean['value'].apply(\n",
    "        lambda x : x.get('offer_id', np.nan) if (x.get('offer id', np.nan) is np.nan) else x.get('offer id', np.nan)\n",
    "    )\n",
    "\n",
    "\n",
    "    transcript_clean['amount'] = transcript_clean['value'].apply(lambda x :x.get('amount', np.nan))\n",
    "\n",
    "    transcript_clean['reward'] = transcript_clean['value'].apply(lambda x :x.get('reward', np.nan))\n",
    "    transcript_clean = transcript_clean.merge(offer_id_map,how = 'left', on = 'portfolio_id')\n",
    "#    transcript_clean['offer_id'] = transcript_clean['offer_id'].astype('Int64')\n",
    "    transcript_clean.drop(['person','value', 'portfolio_id'], axis = 1, inplace = True)\n",
    "\n",
    "    return transcript_clean\n",
    "\n",
    "elementary_trans = elementary_transcript()\n",
    "%store elementary_trans\n",
    "elementary_trans.head()"
   ]
  },
  {
   "cell_type": "markdown",
   "metadata": {},
   "source": [
    "## 3 Data Explore "
   ]
  },
  {
   "cell_type": "markdown",
   "metadata": {},
   "source": [
    "### 3.1 Basic histogram\n"
   ]
  },
  {
   "cell_type": "code",
   "execution_count": 16,
   "metadata": {},
   "outputs": [
    {
     "data": {
      "image/png": "[encoded data removed]",
      "text/plain": [
       "<Figure size 1296x432 with 3 Axes>"
      ]
     },
     "metadata": {
      "needs_background": "light"
     },
     "output_type": "display_data"
    }
   ],
   "source": [
    "### Visualize ###\n",
    "## plot the histogram of age , income\n",
    "fig, (ax1, ax2, ax3) = plt.subplots(1, 3, figsize=(18,6))\n",
    "sns.histplot(clean_profile, x = 'age', hue = 'gender', ax = ax1, multiple = 'stack' ,bins = range(0, 120, 10))\n",
    "ax1.set_title('Histogram of Age by \"Gender\"')\n",
    "ax1.set_xlabel('Age')\n",
    "\n",
    "sns.histplot(clean_profile, x = 'income', hue = 'gender', ax = ax2, multiple = 'stack' ,bins = 10)\n",
    "ax2.set_title('Histogram of Income by \"Gender\"')\n",
    "ax2.set_xlabel('Income')\n",
    "\n",
    "sns.histplot(clean_profile, x = 'gender', ax = ax3)\n",
    "ax3.set_title('Histogram of Gender')\n",
    "ax3.set_xlabel('Gender')\n",
    "plt.show()"
   ]
  },
  {
   "cell_type": "markdown",
   "metadata": {
    "tags": []
   },
   "source": [
    "### 3.2 Anaylize \n"
   ]
  },
  {
   "cell_type": "markdown",
   "metadata": {},
   "source": [
    "The most important information is how the comsumers responed to offers. So we will dig deeper in \"transaction\" "
   ]
  },
  {
   "cell_type": "code",
   "execution_count": 17,
   "metadata": {},
   "outputs": [
    {
     "name": "stdout",
     "output_type": "stream",
     "text": [
      "Stored 'trans_reward' (DataFrame)\n"
     ]
    },
    {
     "data": {
      "text/html": [
       "<div>\n",
       "<style scoped>\n",
       "    .dataframe tbody tr th:only-of-type {\n",
       "        vertical-align: middle;\n",
       "    }\n",
       "\n",
       "    .dataframe tbody tr th {\n",
       "        vertical-align: top;\n",
       "    }\n",
       "\n",
       "    .dataframe thead th {\n",
       "        text-align: right;\n",
       "    }\n",
       "</style>\n",
       "<table border=\"1\" class=\"dataframe\">\n",
       "  <thead>\n",
       "    <tr style=\"text-align: right;\">\n",
       "      <th></th>\n",
       "      <th>event</th>\n",
       "      <th>time</th>\n",
       "      <th>person_id</th>\n",
       "      <th>amount</th>\n",
       "      <th>reward</th>\n",
       "      <th>BOGO_r10_d10_u5</th>\n",
       "      <th>BOGO_r10_d10_u7</th>\n",
       "      <th>BOGO_r5_d5_u5</th>\n",
       "      <th>BOGO_r5_d5_u7</th>\n",
       "      <th>DIS_r2_d10_u10</th>\n",
       "      <th>DIS_r2_d10_u7</th>\n",
       "      <th>DIS_r3_d7_u7</th>\n",
       "      <th>DIS_r5_d20_u10</th>\n",
       "      <th>offer_used</th>\n",
       "      <th>bogo</th>\n",
       "      <th>discount</th>\n",
       "    </tr>\n",
       "  </thead>\n",
       "  <tbody>\n",
       "    <tr>\n",
       "      <th>0</th>\n",
       "      <td>transaction</td>\n",
       "      <td>132</td>\n",
       "      <td>3</td>\n",
       "      <td>19.89</td>\n",
       "      <td>5.0</td>\n",
       "      <td>NaN</td>\n",
       "      <td>NaN</td>\n",
       "      <td>NaN</td>\n",
       "      <td>1.0</td>\n",
       "      <td>NaN</td>\n",
       "      <td>NaN</td>\n",
       "      <td>NaN</td>\n",
       "      <td>NaN</td>\n",
       "      <td>1.0</td>\n",
       "      <td>True</td>\n",
       "      <td>False</td>\n",
       "    </tr>\n",
       "    <tr>\n",
       "      <th>1</th>\n",
       "      <td>transaction</td>\n",
       "      <td>144</td>\n",
       "      <td>3</td>\n",
       "      <td>17.78</td>\n",
       "      <td>NaN</td>\n",
       "      <td>NaN</td>\n",
       "      <td>NaN</td>\n",
       "      <td>NaN</td>\n",
       "      <td>NaN</td>\n",
       "      <td>NaN</td>\n",
       "      <td>NaN</td>\n",
       "      <td>NaN</td>\n",
       "      <td>NaN</td>\n",
       "      <td>NaN</td>\n",
       "      <td>False</td>\n",
       "      <td>False</td>\n",
       "    </tr>\n",
       "    <tr>\n",
       "      <th>2</th>\n",
       "      <td>transaction</td>\n",
       "      <td>222</td>\n",
       "      <td>3</td>\n",
       "      <td>19.67</td>\n",
       "      <td>NaN</td>\n",
       "      <td>NaN</td>\n",
       "      <td>NaN</td>\n",
       "      <td>NaN</td>\n",
       "      <td>NaN</td>\n",
       "      <td>NaN</td>\n",
       "      <td>NaN</td>\n",
       "      <td>NaN</td>\n",
       "      <td>NaN</td>\n",
       "      <td>NaN</td>\n",
       "      <td>False</td>\n",
       "      <td>False</td>\n",
       "    </tr>\n",
       "    <tr>\n",
       "      <th>3</th>\n",
       "      <td>transaction</td>\n",
       "      <td>240</td>\n",
       "      <td>3</td>\n",
       "      <td>29.72</td>\n",
       "      <td>NaN</td>\n",
       "      <td>NaN</td>\n",
       "      <td>NaN</td>\n",
       "      <td>NaN</td>\n",
       "      <td>NaN</td>\n",
       "      <td>NaN</td>\n",
       "      <td>NaN</td>\n",
       "      <td>NaN</td>\n",
       "      <td>NaN</td>\n",
       "      <td>NaN</td>\n",
       "      <td>False</td>\n",
       "      <td>False</td>\n",
       "    </tr>\n",
       "    <tr>\n",
       "      <th>4</th>\n",
       "      <td>transaction</td>\n",
       "      <td>378</td>\n",
       "      <td>3</td>\n",
       "      <td>23.93</td>\n",
       "      <td>NaN</td>\n",
       "      <td>NaN</td>\n",
       "      <td>NaN</td>\n",
       "      <td>NaN</td>\n",
       "      <td>NaN</td>\n",
       "      <td>NaN</td>\n",
       "      <td>NaN</td>\n",
       "      <td>NaN</td>\n",
       "      <td>NaN</td>\n",
       "      <td>NaN</td>\n",
       "      <td>False</td>\n",
       "      <td>False</td>\n",
       "    </tr>\n",
       "  </tbody>\n",
       "</table>\n",
       "</div>"
      ],
      "text/plain": [
       "         event  time  person_id  amount  reward  BOGO_r10_d10_u5  \\\n",
       "0  transaction   132          3   19.89     5.0              NaN   \n",
       "1  transaction   144          3   17.78     NaN              NaN   \n",
       "2  transaction   222          3   19.67     NaN              NaN   \n",
       "3  transaction   240          3   29.72     NaN              NaN   \n",
       "4  transaction   378          3   23.93     NaN              NaN   \n",
       "\n",
       "   BOGO_r10_d10_u7  BOGO_r5_d5_u5  BOGO_r5_d5_u7  DIS_r2_d10_u10  \\\n",
       "0              NaN            NaN            1.0             NaN   \n",
       "1              NaN            NaN            NaN             NaN   \n",
       "2              NaN            NaN            NaN             NaN   \n",
       "3              NaN            NaN            NaN             NaN   \n",
       "4              NaN            NaN            NaN             NaN   \n",
       "\n",
       "   DIS_r2_d10_u7  DIS_r3_d7_u7  DIS_r5_d20_u10  offer_used   bogo  discount  \n",
       "0            NaN           NaN             NaN         1.0   True     False  \n",
       "1            NaN           NaN             NaN         NaN  False     False  \n",
       "2            NaN           NaN             NaN         NaN  False     False  \n",
       "3            NaN           NaN             NaN         NaN  False     False  \n",
       "4            NaN           NaN             NaN         NaN  False     False  "
      ]
     },
     "execution_count": 17,
     "metadata": {},
     "output_type": "execute_result"
    }
   ],
   "source": [
    "# Clean ###\n",
    "def trans_reward_(transcript=elementary_trans):\n",
    "    \"\"\"\n",
    "    summary the transcript for each transaction. Find out the offer useage and reward for each transaction.\n",
    "    Parameters\n",
    "    ----------\n",
    "    transcript = the Dataframe of transcript after elementary clean\n",
    "    Returns\n",
    "    ----------\n",
    "    trans_reward : The dataframe of the summary of transcript with reward informations.\n",
    "    \"\"\"\n",
    "    \n",
    "    sum_reward = elementary_trans[elementary_trans['event'] == 'offer completed'].groupby(['person_id', 'time']).sum()['reward'].reset_index()\n",
    "\n",
    "    count_complete_offer = elementary_trans[elementary_trans['event'] == 'offer completed'].groupby(['person_id', 'time','offer_id']).count()['reward'].unstack()\n",
    "    count_complete_offer['offer_used'] = count_complete_offer.sum(axis = 1)\n",
    "\n",
    "    trans = elementary_trans[elementary_trans['event'] == 'transaction']\n",
    "    trans = trans.drop(['reward', 'offer_id'], axis = 1)\n",
    "    trans_reward = trans.merge(sum_reward, on = ['person_id','time'], how = 'left')\n",
    "    trans_reward = trans_reward.merge(count_complete_offer, on = ['person_id','time'], how = 'left')\n",
    "    trans_reward['bogo'] = trans_reward.filter(regex = '^BOGO', axis = 1).any(axis = 1)\n",
    "    trans_reward['discount'] = trans_reward.filter(regex = '^DIS', axis = 1).any(axis = 1)\n",
    "\n",
    "    return trans_reward\n",
    "\n",
    "\n",
    "trans_reward = trans_reward_()\n",
    "%store trans_reward\n",
    "trans_reward.head()"
   ]
  },
  {
   "cell_type": "code",
   "execution_count": 18,
   "metadata": {},
   "outputs": [
    {
     "name": "stdout",
     "output_type": "stream",
     "text": [
      "About 5% of the transactions use both BOGO and DISCOUNT. \n"
     ]
    }
   ],
   "source": [
    "#find out are there transactions use both BOGO and DISCOUNT.\n",
    "bogo_or_discount = trans_reward[trans_reward['bogo'] | trans_reward['discount']]\n",
    "bogo_and_discount = bogo_or_discount['bogo'] & bogo_or_discount['discount']\n",
    "print('About {}% of the transactions use both BOGO and DISCOUNT. '.format(round(bogo_and_discount.mean()*100)))"
   ]
  },
  {
   "cell_type": "markdown",
   "metadata": {},
   "source": [
    "About 5% of the transactions use both BOGO and Discount, for better modeling, we will remove those transactions."
   ]
  },
  {
   "cell_type": "code",
   "execution_count": 19,
   "metadata": {},
   "outputs": [
    {
     "data": {
      "text/html": [
       "<div>\n",
       "<style scoped>\n",
       "    .dataframe tbody tr th:only-of-type {\n",
       "        vertical-align: middle;\n",
       "    }\n",
       "\n",
       "    .dataframe tbody tr th {\n",
       "        vertical-align: top;\n",
       "    }\n",
       "\n",
       "    .dataframe thead th {\n",
       "        text-align: right;\n",
       "    }\n",
       "</style>\n",
       "<table border=\"1\" class=\"dataframe\">\n",
       "  <thead>\n",
       "    <tr style=\"text-align: right;\">\n",
       "      <th></th>\n",
       "      <th>event</th>\n",
       "      <th>time</th>\n",
       "      <th>person_id</th>\n",
       "      <th>amount</th>\n",
       "      <th>reward</th>\n",
       "      <th>BOGO_r10_d10_u5</th>\n",
       "      <th>BOGO_r10_d10_u7</th>\n",
       "      <th>BOGO_r5_d5_u5</th>\n",
       "      <th>BOGO_r5_d5_u7</th>\n",
       "      <th>DIS_r2_d10_u10</th>\n",
       "      <th>DIS_r2_d10_u7</th>\n",
       "      <th>DIS_r3_d7_u7</th>\n",
       "      <th>DIS_r5_d20_u10</th>\n",
       "      <th>offer_used</th>\n",
       "      <th>bogo</th>\n",
       "      <th>discount</th>\n",
       "    </tr>\n",
       "  </thead>\n",
       "  <tbody>\n",
       "    <tr>\n",
       "      <th>0</th>\n",
       "      <td>transaction</td>\n",
       "      <td>132</td>\n",
       "      <td>3</td>\n",
       "      <td>19.89</td>\n",
       "      <td>5.0</td>\n",
       "      <td>NaN</td>\n",
       "      <td>NaN</td>\n",
       "      <td>NaN</td>\n",
       "      <td>1.0</td>\n",
       "      <td>NaN</td>\n",
       "      <td>NaN</td>\n",
       "      <td>NaN</td>\n",
       "      <td>NaN</td>\n",
       "      <td>1.0</td>\n",
       "      <td>True</td>\n",
       "      <td>False</td>\n",
       "    </tr>\n",
       "    <tr>\n",
       "      <th>1</th>\n",
       "      <td>transaction</td>\n",
       "      <td>144</td>\n",
       "      <td>3</td>\n",
       "      <td>17.78</td>\n",
       "      <td>NaN</td>\n",
       "      <td>NaN</td>\n",
       "      <td>NaN</td>\n",
       "      <td>NaN</td>\n",
       "      <td>NaN</td>\n",
       "      <td>NaN</td>\n",
       "      <td>NaN</td>\n",
       "      <td>NaN</td>\n",
       "      <td>NaN</td>\n",
       "      <td>NaN</td>\n",
       "      <td>False</td>\n",
       "      <td>False</td>\n",
       "    </tr>\n",
       "    <tr>\n",
       "      <th>2</th>\n",
       "      <td>transaction</td>\n",
       "      <td>222</td>\n",
       "      <td>3</td>\n",
       "      <td>19.67</td>\n",
       "      <td>NaN</td>\n",
       "      <td>NaN</td>\n",
       "      <td>NaN</td>\n",
       "      <td>NaN</td>\n",
       "      <td>NaN</td>\n",
       "      <td>NaN</td>\n",
       "      <td>NaN</td>\n",
       "      <td>NaN</td>\n",
       "      <td>NaN</td>\n",
       "      <td>NaN</td>\n",
       "      <td>False</td>\n",
       "      <td>False</td>\n",
       "    </tr>\n",
       "    <tr>\n",
       "      <th>3</th>\n",
       "      <td>transaction</td>\n",
       "      <td>240</td>\n",
       "      <td>3</td>\n",
       "      <td>29.72</td>\n",
       "      <td>NaN</td>\n",
       "      <td>NaN</td>\n",
       "      <td>NaN</td>\n",
       "      <td>NaN</td>\n",
       "      <td>NaN</td>\n",
       "      <td>NaN</td>\n",
       "      <td>NaN</td>\n",
       "      <td>NaN</td>\n",
       "      <td>NaN</td>\n",
       "      <td>NaN</td>\n",
       "      <td>False</td>\n",
       "      <td>False</td>\n",
       "    </tr>\n",
       "    <tr>\n",
       "      <th>4</th>\n",
       "      <td>transaction</td>\n",
       "      <td>378</td>\n",
       "      <td>3</td>\n",
       "      <td>23.93</td>\n",
       "      <td>NaN</td>\n",
       "      <td>NaN</td>\n",
       "      <td>NaN</td>\n",
       "      <td>NaN</td>\n",
       "      <td>NaN</td>\n",
       "      <td>NaN</td>\n",
       "      <td>NaN</td>\n",
       "      <td>NaN</td>\n",
       "      <td>NaN</td>\n",
       "      <td>NaN</td>\n",
       "      <td>False</td>\n",
       "      <td>False</td>\n",
       "    </tr>\n",
       "  </tbody>\n",
       "</table>\n",
       "</div>"
      ],
      "text/plain": [
       "         event  time  person_id  amount  reward  BOGO_r10_d10_u5  \\\n",
       "0  transaction   132          3   19.89     5.0              NaN   \n",
       "1  transaction   144          3   17.78     NaN              NaN   \n",
       "2  transaction   222          3   19.67     NaN              NaN   \n",
       "3  transaction   240          3   29.72     NaN              NaN   \n",
       "4  transaction   378          3   23.93     NaN              NaN   \n",
       "\n",
       "   BOGO_r10_d10_u7  BOGO_r5_d5_u5  BOGO_r5_d5_u7  DIS_r2_d10_u10  \\\n",
       "0              NaN            NaN            1.0             NaN   \n",
       "1              NaN            NaN            NaN             NaN   \n",
       "2              NaN            NaN            NaN             NaN   \n",
       "3              NaN            NaN            NaN             NaN   \n",
       "4              NaN            NaN            NaN             NaN   \n",
       "\n",
       "   DIS_r2_d10_u7  DIS_r3_d7_u7  DIS_r5_d20_u10  offer_used   bogo  discount  \n",
       "0            NaN           NaN             NaN         1.0   True     False  \n",
       "1            NaN           NaN             NaN         NaN  False     False  \n",
       "2            NaN           NaN             NaN         NaN  False     False  \n",
       "3            NaN           NaN             NaN         NaN  False     False  \n",
       "4            NaN           NaN             NaN         NaN  False     False  "
      ]
     },
     "execution_count": 19,
     "metadata": {},
     "output_type": "execute_result"
    }
   ],
   "source": [
    "# For better analysis and model we remove the infos which use both BOGO and DISCOUNT\n",
    "trans_reward = trans_reward[~(trans_reward['bogo'] & trans_reward['discount'])]\n",
    "trans_reward.head()"
   ]
  },
  {
   "cell_type": "code",
   "execution_count": 20,
   "metadata": {
    "tags": []
   },
   "outputs": [
    {
     "data": {
      "image/png": "[encoded data removed]",
      "text/plain": [
       "<Figure size 1296x432 with 3 Axes>"
      ]
     },
     "metadata": {
      "needs_background": "light"
     },
     "output_type": "display_data"
    }
   ],
   "source": [
    "fig, (ax1, ax2, ax3) = plt.subplots(nrows = 1, ncols = 3, figsize = (18,6))\n",
    "\n",
    "sns.histplot(trans_reward, x = 'amount', bins = 50, ax = ax1, stat = 'percent')\n",
    "ax1.set_title('Histogram of the Price of each order')\n",
    "ax1.set_xlabel('Price of each order')\n",
    "\n",
    "sns.histplot(trans_reward, x = 'amount', bins = range(0, 100,5), ax = ax2, stat = 'percent')\n",
    "ax2.set_title('Histogram of the Price of each order(0-100)')\n",
    "ax2.set_xlabel('Price of each order')\n",
    "\n",
    "sns.histplot(trans_reward, x = 'reward', bins = 20, ax = ax3, stat = 'percent')\n",
    "ax3.set_title('Histogram of Reward of each order')\n",
    "\n",
    "plt.show()"
   ]
  },
  {
   "cell_type": "markdown",
   "metadata": {},
   "source": [
    "Since most of the order are below 100, we will draw a histogram below 100."
   ]
  },
  {
   "cell_type": "markdown",
   "metadata": {},
   "source": [
    "We will try to find out that the use of offer realy change the amount for each order."
   ]
  },
  {
   "cell_type": "code",
   "execution_count": 22,
   "metadata": {},
   "outputs": [
    {
     "name": "stdout",
     "output_type": "stream",
     "text": [
      "Stored 'discount_pvalue_df' (DataFrame)\n",
      "Stored 'bogo_pvalue_df' (DataFrame)\n"
     ]
    }
   ],
   "source": [
    "# Assess ###\n",
    "# T test ###\n",
    "def ttest_user(without_offer, with_offer):\n",
    "\n",
    "    if (len(with_offer) > 1) and (len(without_offer) > 1):\n",
    "        pvalue = stats.ttest_ind(without_offer, with_offer)[1]\n",
    "    elif (len(with_offer) > 0) and (len(without_offer) > 1):\n",
    "        pvalue = stats.ttest_1samp(a=without_offer, popmean = with_offer, alternative = 'two-sided')[1][0]\n",
    "    else:\n",
    "        pvalue = np.nan\n",
    "    return pvalue\n",
    "\n",
    "\n",
    "def ttest_offer(data=trans_reward):\n",
    "    pvalue_df = pd.DataFrame(columns = ['person_id', 'pvalue'])\n",
    "    user_set = data['person_id'].unique()\n",
    "    for user in user_set:\n",
    "        user_data = data[data['person_id'] == user ]\n",
    "        reward_isnan = user_data['reward'].isnull()\n",
    "\n",
    "        if sum(reward_isnan) > 0:\n",
    "            without_offer = user_data.loc[reward_isnan,'amount'].to_numpy()\n",
    "\n",
    "        else:\n",
    "            without_offer = np.array([])\n",
    "        if sum(~reward_isnan) > 0:\n",
    "            with_offer = user_data.loc[~reward_isnan,['amount', 'reward']].sum(axis = 1).to_numpy()\n",
    "            \n",
    "        else:\n",
    "            with_offer = np.array([])\n",
    "\n",
    "        pvalue = ttest_user(without_offer, with_offer)\n",
    "        pvalue_df = pvalue_df.append({'person_id': user,'pvalue':pvalue}, ignore_index = True)\n",
    "\n",
    "    return pvalue_df\n",
    "\n",
    "discount_pvalue_df = ttest_offer(trans_reward[~trans_reward['bogo']])\n",
    "bogo_pvalue_df = ttest_offer(trans_reward[~trans_reward['discount']])\n",
    "%store discount_pvalue_df\n",
    "%store bogo_pvalue_df"
   ]
  },
  {
   "cell_type": "code",
   "execution_count": 23,
   "metadata": {},
   "outputs": [
    {
     "data": {
      "image/png": "[encoded data removed]",
      "text/plain": [
       "<Figure size 864x432 with 2 Axes>"
      ]
     },
     "metadata": {
      "needs_background": "light"
     },
     "output_type": "display_data"
    }
   ],
   "source": [
    "### Visualize ###\n",
    "### For T test ###\n",
    "\n",
    "%store -r discount_pvalue_df\n",
    "%store -r bogo_pvalue_df\n",
    "fig, (ax1, ax2) = plt.subplots(nrows = 1, ncols = 2, figsize = (12, 6))\n",
    "\n",
    "sns.histplot(data = discount_pvalue_df, x = 'pvalue' , stat = 'percent',bins = 20, ax = ax1)\n",
    "ax1.axvline(x = 0.05, color = 'r')\n",
    "ax1.set_xlabel('P value of T test for the comparison of discount useage.')\n",
    "\n",
    "sns.histplot(data = bogo_pvalue_df, x = 'pvalue', stat = 'percent', bins = 20 ,ax = ax2)\n",
    "ax2.axvline(x = 0.05, color = 'r')\n",
    "ax2.set_xlabel('P value of T test for the comparison of BOGO useage.')\n",
    "plt.show()"
   ]
  },
  {
   "cell_type": "markdown",
   "metadata": {},
   "source": [
    "Since we want to find out the effect of discount and bogo offers, we will focus on the difference between offer useage.\n"
   ]
  },
  {
   "cell_type": "markdown",
   "metadata": {},
   "source": [
    "As we can see that nearly 50% people do have a statistical difference when using offers"
   ]
  },
  {
   "cell_type": "code",
   "execution_count": 40,
   "metadata": {},
   "outputs": [
    {
     "name": "stdout",
     "output_type": "stream",
     "text": [
      "Stored 'trans_profit' (DataFrame)\n"
     ]
    },
    {
     "data": {
      "text/html": [
       "<div>\n",
       "<style scoped>\n",
       "    .dataframe tbody tr th:only-of-type {\n",
       "        vertical-align: middle;\n",
       "    }\n",
       "\n",
       "    .dataframe tbody tr th {\n",
       "        vertical-align: top;\n",
       "    }\n",
       "\n",
       "    .dataframe thead th {\n",
       "        text-align: right;\n",
       "    }\n",
       "</style>\n",
       "<table border=\"1\" class=\"dataframe\">\n",
       "  <thead>\n",
       "    <tr style=\"text-align: right;\">\n",
       "      <th></th>\n",
       "      <th>event</th>\n",
       "      <th>time</th>\n",
       "      <th>person_id</th>\n",
       "      <th>amount</th>\n",
       "      <th>reward</th>\n",
       "      <th>BOGO_r10_d10_u5</th>\n",
       "      <th>BOGO_r10_d10_u7</th>\n",
       "      <th>BOGO_r5_d5_u5</th>\n",
       "      <th>BOGO_r5_d5_u7</th>\n",
       "      <th>DIS_r2_d10_u10</th>\n",
       "      <th>...</th>\n",
       "      <th>discount</th>\n",
       "      <th>mean_amount_without_offer</th>\n",
       "      <th>profit</th>\n",
       "      <th>profit_margin_with_offer</th>\n",
       "      <th>profit_diff</th>\n",
       "      <th>amount_diff</th>\n",
       "      <th>gender</th>\n",
       "      <th>age</th>\n",
       "      <th>became_member_on</th>\n",
       "      <th>income</th>\n",
       "    </tr>\n",
       "  </thead>\n",
       "  <tbody>\n",
       "    <tr>\n",
       "      <th>0</th>\n",
       "      <td>transaction</td>\n",
       "      <td>132</td>\n",
       "      <td>3</td>\n",
       "      <td>19.89</td>\n",
       "      <td>5.0</td>\n",
       "      <td>NaN</td>\n",
       "      <td>NaN</td>\n",
       "      <td>NaN</td>\n",
       "      <td>1.0</td>\n",
       "      <td>NaN</td>\n",
       "      <td>...</td>\n",
       "      <td>False</td>\n",
       "      <td>23.532</td>\n",
       "      <td>4.956</td>\n",
       "      <td>0.249170</td>\n",
       "      <td>-4.4568</td>\n",
       "      <td>-3.642</td>\n",
       "      <td>F</td>\n",
       "      <td>75.0</td>\n",
       "      <td>20170509</td>\n",
       "      <td>100000.0</td>\n",
       "    </tr>\n",
       "    <tr>\n",
       "      <th>1</th>\n",
       "      <td>transaction</td>\n",
       "      <td>510</td>\n",
       "      <td>3</td>\n",
       "      <td>21.72</td>\n",
       "      <td>15.0</td>\n",
       "      <td>NaN</td>\n",
       "      <td>1.0</td>\n",
       "      <td>1.0</td>\n",
       "      <td>NaN</td>\n",
       "      <td>NaN</td>\n",
       "      <td>...</td>\n",
       "      <td>False</td>\n",
       "      <td>23.532</td>\n",
       "      <td>-0.312</td>\n",
       "      <td>-0.014365</td>\n",
       "      <td>-9.7248</td>\n",
       "      <td>-1.812</td>\n",
       "      <td>F</td>\n",
       "      <td>75.0</td>\n",
       "      <td>20170509</td>\n",
       "      <td>100000.0</td>\n",
       "    </tr>\n",
       "    <tr>\n",
       "      <th>2</th>\n",
       "      <td>transaction</td>\n",
       "      <td>522</td>\n",
       "      <td>5</td>\n",
       "      <td>18.42</td>\n",
       "      <td>7.0</td>\n",
       "      <td>NaN</td>\n",
       "      <td>NaN</td>\n",
       "      <td>NaN</td>\n",
       "      <td>1.0</td>\n",
       "      <td>1.0</td>\n",
       "      <td>...</td>\n",
       "      <td>True</td>\n",
       "      <td>19.655</td>\n",
       "      <td>3.168</td>\n",
       "      <td>0.171987</td>\n",
       "      <td>-4.6940</td>\n",
       "      <td>-1.235</td>\n",
       "      <td>M</td>\n",
       "      <td>68.0</td>\n",
       "      <td>20180426</td>\n",
       "      <td>70000.0</td>\n",
       "    </tr>\n",
       "    <tr>\n",
       "      <th>3</th>\n",
       "      <td>transaction</td>\n",
       "      <td>60</td>\n",
       "      <td>8</td>\n",
       "      <td>9.54</td>\n",
       "      <td>5.0</td>\n",
       "      <td>NaN</td>\n",
       "      <td>NaN</td>\n",
       "      <td>1.0</td>\n",
       "      <td>NaN</td>\n",
       "      <td>NaN</td>\n",
       "      <td>...</td>\n",
       "      <td>False</td>\n",
       "      <td>NaN</td>\n",
       "      <td>0.816</td>\n",
       "      <td>0.085535</td>\n",
       "      <td>NaN</td>\n",
       "      <td>NaN</td>\n",
       "      <td>M</td>\n",
       "      <td>65.0</td>\n",
       "      <td>20180209</td>\n",
       "      <td>53000.0</td>\n",
       "    </tr>\n",
       "    <tr>\n",
       "      <th>4</th>\n",
       "      <td>transaction</td>\n",
       "      <td>498</td>\n",
       "      <td>8</td>\n",
       "      <td>15.63</td>\n",
       "      <td>7.0</td>\n",
       "      <td>NaN</td>\n",
       "      <td>NaN</td>\n",
       "      <td>NaN</td>\n",
       "      <td>1.0</td>\n",
       "      <td>NaN</td>\n",
       "      <td>...</td>\n",
       "      <td>True</td>\n",
       "      <td>NaN</td>\n",
       "      <td>2.052</td>\n",
       "      <td>0.131286</td>\n",
       "      <td>NaN</td>\n",
       "      <td>NaN</td>\n",
       "      <td>M</td>\n",
       "      <td>65.0</td>\n",
       "      <td>20180209</td>\n",
       "      <td>53000.0</td>\n",
       "    </tr>\n",
       "  </tbody>\n",
       "</table>\n",
       "<p>5 rows × 25 columns</p>\n",
       "</div>"
      ],
      "text/plain": [
       "         event  time  person_id  amount  reward  BOGO_r10_d10_u5  \\\n",
       "0  transaction   132          3   19.89     5.0              NaN   \n",
       "1  transaction   510          3   21.72    15.0              NaN   \n",
       "2  transaction   522          5   18.42     7.0              NaN   \n",
       "3  transaction    60          8    9.54     5.0              NaN   \n",
       "4  transaction   498          8   15.63     7.0              NaN   \n",
       "\n",
       "   BOGO_r10_d10_u7  BOGO_r5_d5_u5  BOGO_r5_d5_u7  DIS_r2_d10_u10  ...  \\\n",
       "0              NaN            NaN            1.0             NaN  ...   \n",
       "1              1.0            1.0            NaN             NaN  ...   \n",
       "2              NaN            NaN            1.0             1.0  ...   \n",
       "3              NaN            1.0            NaN             NaN  ...   \n",
       "4              NaN            NaN            1.0             NaN  ...   \n",
       "\n",
       "   discount  mean_amount_without_offer  profit  profit_margin_with_offer  \\\n",
       "0     False                     23.532   4.956                  0.249170   \n",
       "1     False                     23.532  -0.312                 -0.014365   \n",
       "2      True                     19.655   3.168                  0.171987   \n",
       "3     False                        NaN   0.816                  0.085535   \n",
       "4      True                        NaN   2.052                  0.131286   \n",
       "\n",
       "   profit_diff  amount_diff  gender   age  became_member_on    income  \n",
       "0      -4.4568       -3.642       F  75.0          20170509  100000.0  \n",
       "1      -9.7248       -1.812       F  75.0          20170509  100000.0  \n",
       "2      -4.6940       -1.235       M  68.0          20180426   70000.0  \n",
       "3          NaN          NaN       M  65.0          20180209   53000.0  \n",
       "4          NaN          NaN       M  65.0          20180209   53000.0  \n",
       "\n",
       "[5 rows x 25 columns]"
      ]
     },
     "execution_count": 40,
     "metadata": {},
     "output_type": "execute_result"
    }
   ],
   "source": [
    "def trans_profit(trans_reward = trans_reward, gross_profit_margin=0.3):\n",
    "    \"\"\"\n",
    "    caculate each transaction profit for modeling\n",
    "    \"\"\"\n",
    "    reward_list = trans_reward['reward'].notnull()\n",
    "    \n",
    "    # caculate the mean of the transactions without offer\n",
    "    mean_amount_without_offer = trans_reward[~reward_list].groupby('person_id').mean()['amount'].rename('mean_amount_without_offer')\n",
    "    # caculate the mean of the profit without offer\n",
    "    trans_with_offer = trans_reward[reward_list].copy()\n",
    "    trans_profit = trans_with_offer.merge(mean_amount_without_offer, on = 'person_id', how = 'left')\n",
    "    trans_profit['profit'] = trans_profit['amount'] * gross_profit_margin - trans_profit['reward'] * (1 - gross_profit_margin)\n",
    "    trans_profit['profit_margin_with_offer'] = trans_profit['profit'] / trans_profit['amount']\n",
    "    trans_profit['profit_diff'] = trans_profit['profit'] - trans_profit['mean_amount_without_offer'] * gross_profit_margin\n",
    "    trans_profit['amount_diff'] = trans_profit['amount'] - trans_profit['mean_amount_without_offer']\n",
    "    return trans_profit\n",
    "\n",
    "\n",
    "gross_profit_margin = 0.4\n",
    "trans_profit = trans_profit(gross_profit_margin=gross_profit_margin)\n",
    "trans_profit = trans_profit.merge(clean_profile, on = 'person_id', how = 'left')\n",
    "%store trans_profit\n",
    "trans_profit.head()"
   ]
  },
  {
   "cell_type": "code",
   "execution_count": 41,
   "metadata": {},
   "outputs": [
    {
     "data": {
      "text/plain": [
       "Text(0.5, 1.0, 'Histogram of amount difference from average amout(with offer, GPM= 0.4)')"
      ]
     },
     "execution_count": 41,
     "metadata": {},
     "output_type": "execute_result"
    },
    {
     "data": {
      "image/png": "[encoded data removed]",
      "text/plain": [
       "<Figure size 864x864 with 4 Axes>"
      ]
     },
     "metadata": {
      "needs_background": "light"
     },
     "output_type": "display_data"
    }
   ],
   "source": [
    "%store -r trans_profit\n",
    "fig, ((ax0, ax1),(ax2, ax3)) = plt.subplots(nrows=2, ncols=2,figsize  = (12,12))\n",
    "fig.subplots_adjust(left=0.1, right=0.95, bottom=0.15)\n",
    "sns.histplot(data = trans_profit, x = 'profit', bins = range(-20, 30, 2),stat = 'percent', hue = 'gender',element = 'poly', ax = ax0)\n",
    "ax0.set_xlabel('The Profit of each order(With Offer)')\n",
    "ax0.set_title('Histogram of profit of each order(With Offer, GPM = {})'.format(gross_profit_margin))\n",
    "\n",
    "sns.histplot(data = trans_profit, x = 'profit_margin_with_offer',bins = np.linspace(-1,1, 20), stat = 'percent',hue = 'gender',element = 'poly', ax = ax1)\n",
    "ax1.set_xlabel('The Profit margin of each order(with offer)')\n",
    "ax1.set_title('Histogram of Porfit margin of each order(with offer, GPM= {})'.format(gross_profit_margin))\n",
    "\n",
    "sns.histplot(data = trans_profit, x = 'profit_diff',bins = range(-25,25 ,1), stat = 'percent',hue = 'gender',element = 'poly', ax = ax2)\n",
    "ax2.set_xlabel('The Profit difference from average profit(with offer)')\n",
    "ax2.set_title('Histogram of Porfit difference from average profit(with offer, GPM= {})'.format(gross_profit_margin))\n",
    "\n",
    "sns.histplot(data = trans_profit, x = 'amount_diff',bins = range(-30,30 ,1), stat = 'percent',hue = 'gender',element = 'poly', ax = ax3)\n",
    "ax3.set_xlabel('The amount difference from average amount(with offer)')\n",
    "ax3.set_title('Histogram of amount difference from average amout(with offer, GPM= {})'.format(gross_profit_margin))"
   ]
  },
  {
   "cell_type": "markdown",
   "metadata": {},
   "source": [
    "**1. Female tend to have higher average price.**\n",
    "\n",
    "**2. Male tend to have more orders without offer**\n",
    "\n",
    "**3. Female tend to use offers more.**"
   ]
  },
  {
   "cell_type": "markdown",
   "metadata": {},
   "source": [
    "1. The customers that only come to startbuck if they have offers ,which takes about 2.54%.\n",
    "2. The customers that never use offers, which takes about 22.84%."
   ]
  },
  {
   "cell_type": "markdown",
   "metadata": {
    "tags": []
   },
   "source": [
    "# Section 3: Data Preparation"
   ]
  },
  {
   "cell_type": "markdown",
   "metadata": {},
   "source": [
    "We would build a model to predict the difference "
   ]
  },
  {
   "cell_type": "code",
   "execution_count": 105,
   "metadata": {},
   "outputs": [
    {
     "data": {
      "image/png": "[encoded data removed]",
      "text/plain": [
       "<Figure size 864x864 with 2 Axes>"
      ]
     },
     "metadata": {
      "needs_background": "light"
     },
     "output_type": "display_data"
    }
   ],
   "source": [
    "# remove irrelevant columns\n",
    "df = trans_profit.drop(['event','amount', 'time', 'reward', 'bogo', 'discount', 'profit', 'offer_used','became_member_on', 'person_id'], axis = 1)\n",
    "df = df.dropna(subset = ['profit_diff','age','income'], axis = 0)\n",
    "df['age2'] = df['age'] ** 2\n",
    "df['income2'] = df['income'] ** 2\n",
    "df['mean_amount_without_offer2'] = df['mean_amount_without_offer'] ** 2\n",
    "offer_columns = df.columns.to_series().str.contains('^DIS|BOGO')\n",
    "\n",
    "df.loc[:, offer_columns] = df.loc[:, offer_columns].fillna(0).astype(int)\n",
    "f, ax = plt.subplots(figsize = (12,12))\n",
    "ax = sns.heatmap(df.corr(), annot = True, fmt = \".2f\",square = True)"
   ]
  },
  {
   "cell_type": "markdown",
   "metadata": {},
   "source": [
    "## 1. Cleaning"
   ]
  },
  {
   "cell_type": "markdown",
   "metadata": {},
   "source": [
    "### 1. Fill Nan values and create dummy variables for categorical columns."
   ]
  },
  {
   "cell_type": "code",
   "execution_count": 107,
   "metadata": {},
   "outputs": [],
   "source": [
    "pm_factor = 1\n",
    "amt_factor = 1\n",
    "# y = df_rm_outlier['amount_diff_by_mean'] * df_rm_outlier['profit_diff_per'] - df_rm_outlier['amount_diff_by_mean'] - df_rm_outlier['profit_diff_per'] \n",
    "# y =  0.3* df_rm_outlier['amount_diff'] * df_rm_outlier['profit_diff']\n",
    "# y =  df_rm_outlier['amount_diff']\n",
    "y =  df['profit_diff']\n",
    "x_drop_list = ['profit_diff',  'amount_diff', 'profit_margin_with_offer' ]\n",
    "x = df.drop(x_drop_list, axis = 1)\n",
    "    "
   ]
  },
  {
   "cell_type": "code",
   "execution_count": 74,
   "metadata": {},
   "outputs": [],
   "source": [
    "\n",
    "STDS = StandardScaler()\n",
    "MMS = MinMaxScaler()\n",
    "\n",
    "std_list = ['age', 'income', 'mean_amount_without_offer'\n",
    "             , 'age2', 'income2','mean_amount_without_offer2'\n",
    "            ]\n",
    "offer_list = df.columns[df.columns.str.contains('^BOGO|DIS')]\n",
    "\n",
    "x_train.loc[:, std_list] = STDS.fit_transform(x_train.loc[:, std_list])\n",
    "x_test.loc[:, std_list] = STDS.transform(x_test.loc[:, std_list])\n",
    "\n",
    "x_train.loc[:, offer_list] = MMS.fit_transform(x_train.loc[:, offer_list])\n",
    "x_test.loc[:, offer_list] = MMS.transform(x_test.loc[:, offer_list])"
   ]
  },
  {
   "cell_type": "markdown",
   "metadata": {
    "tags": []
   },
   "source": [
    "# Secsion 4:Modeling"
   ]
  },
  {
   "cell_type": "markdown",
   "metadata": {},
   "source": [
    "## 1. Regression"
   ]
  },
  {
   "cell_type": "markdown",
   "metadata": {
    "tags": []
   },
   "source": [
    "### 1.1 Linear Regression"
   ]
  },
  {
   "cell_type": "code",
   "execution_count": 53,
   "metadata": {},
   "outputs": [],
   "source": [
    "from sklearn.metrics import classification_report\n",
    "from sklearn.metrics import matthews_corrcoef\n",
    "from sklearn.feature_selection import mutual_info_regression\n",
    "from sklearn.feature_selection import chi2\n",
    "from sklearn.feature_selection import f_classif\n",
    "\n",
    "import statsmodels.api as sm"
   ]
  },
  {
   "cell_type": "code",
   "execution_count": 54,
   "metadata": {},
   "outputs": [
    {
     "data": {
      "text/plain": [
       "<AxesSubplot:>"
      ]
     },
     "execution_count": 54,
     "metadata": {},
     "output_type": "execute_result"
    },
    {
     "data": {
      "image/png": "[encoded data removed]",
      "text/plain": [
       "<Figure size 432x288 with 1 Axes>"
      ]
     },
     "metadata": {
      "needs_background": "light"
     },
     "output_type": "display_data"
    }
   ],
   "source": [
    "y_test.hist(bins = range(-10, 20, 2))"
   ]
  },
  {
   "cell_type": "code",
   "execution_count": 55,
   "metadata": {},
   "outputs": [],
   "source": [
    "def two_cate_diff(diff):\n",
    "    if diff < -5:\n",
    "        return 0\n",
    "    else:\n",
    "        return 1\n",
    "    \n",
    "y_train_2 = y_train.apply(two_cate_diff)\n",
    "y_test_2 = y_test.apply(two_cate_diff)\n",
    "\n",
    "def three_cate_diff(diff):\n",
    "    if diff < -5:\n",
    "        return 'Low Neg'\n",
    "    elif diff <0:\n",
    "        return 'light'\n",
    "    else:\n",
    "        return 'Positive'\n",
    "\n",
    "    \n",
    "y_train_3 = y_train.apply(three_cate_diff)\n",
    "y_test_3 = y_test.apply(three_cate_diff)"
   ]
  },
  {
   "cell_type": "code",
   "execution_count": 119,
   "metadata": {},
   "outputs": [],
   "source": [
    "def two_cate_diff(diff):\n",
    "    if diff < 0.5:\n",
    "        return 0\n",
    "    else:\n",
    "        return 1\n",
    "    \n",
    "y_train_2 = y_train.apply(two_cate_diff)\n",
    "y_test_2 = y_test.apply(two_cate_diff)\n",
    "\n",
    "def three_cate_diff(diff):\n",
    "    if diff < 0:\n",
    "        return 'Neg'\n",
    "    elif diff < 5:\n",
    "        return 'little'\n",
    "    else:\n",
    "        return 'much'\n",
    "\n",
    "    \n",
    "y_train_3 = y_train.apply(three_cate_diff)\n",
    "y_test_3 = y_test.apply(three_cate_diff)"
   ]
  },
  {
   "cell_type": "code",
   "execution_count": 136,
   "metadata": {},
   "outputs": [
    {
     "data": {
      "text/plain": [
       "array([0.00274672, 0.00054055, 0.00260936, 0.00031032, 0.00259876,\n",
       "       0.00216801, 0.        , 0.00365054, 0.2010695 , 0.01464708,\n",
       "       0.05302673, 0.01245508, 0.05255945, 0.20152775, 0.00816489])"
      ]
     },
     "execution_count": 136,
     "metadata": {},
     "output_type": "execute_result"
    }
   ],
   "source": [
    "mutual_info_regression(x_train, y_train)"
   ]
  },
  {
   "cell_type": "code",
   "execution_count": 56,
   "metadata": {},
   "outputs": [
    {
     "data": {
      "text/html": [
       "<div>\n",
       "<style scoped>\n",
       "    .dataframe tbody tr th:only-of-type {\n",
       "        vertical-align: middle;\n",
       "    }\n",
       "\n",
       "    .dataframe tbody tr th {\n",
       "        vertical-align: top;\n",
       "    }\n",
       "\n",
       "    .dataframe thead th {\n",
       "        text-align: right;\n",
       "    }\n",
       "</style>\n",
       "<table border=\"1\" class=\"dataframe\">\n",
       "  <thead>\n",
       "    <tr style=\"text-align: right;\">\n",
       "      <th></th>\n",
       "      <th>BOGO_r10_d10_u5</th>\n",
       "      <th>BOGO_r10_d10_u7</th>\n",
       "      <th>BOGO_r5_d5_u5</th>\n",
       "      <th>BOGO_r5_d5_u7</th>\n",
       "      <th>DIS_r2_d10_u10</th>\n",
       "      <th>DIS_r2_d10_u7</th>\n",
       "      <th>DIS_r3_d7_u7</th>\n",
       "      <th>DIS_r5_d20_u10</th>\n",
       "      <th>mean_amount_without_offer</th>\n",
       "      <th>age</th>\n",
       "      <th>income</th>\n",
       "      <th>gender_M</th>\n",
       "    </tr>\n",
       "  </thead>\n",
       "  <tbody>\n",
       "    <tr>\n",
       "      <th>0</th>\n",
       "      <td>1983.223598</td>\n",
       "      <td>2340.459598</td>\n",
       "      <td>2.577886e+01</td>\n",
       "      <td>3.033701e+01</td>\n",
       "      <td>7.610555e+02</td>\n",
       "      <td>5.469740e+02</td>\n",
       "      <td>2.214376e+02</td>\n",
       "      <td>0.134883</td>\n",
       "      <td>3401.968069</td>\n",
       "      <td>6.786818e+01</td>\n",
       "      <td>3.962699e+02</td>\n",
       "      <td>6.687509e+01</td>\n",
       "    </tr>\n",
       "    <tr>\n",
       "      <th>1</th>\n",
       "      <td>0.000000</td>\n",
       "      <td>0.000000</td>\n",
       "      <td>3.864082e-07</td>\n",
       "      <td>3.677515e-08</td>\n",
       "      <td>2.363149e-164</td>\n",
       "      <td>2.577558e-119</td>\n",
       "      <td>8.283175e-50</td>\n",
       "      <td>0.713426</td>\n",
       "      <td>0.000000</td>\n",
       "      <td>1.858088e-16</td>\n",
       "      <td>2.667684e-87</td>\n",
       "      <td>3.069495e-16</td>\n",
       "    </tr>\n",
       "  </tbody>\n",
       "</table>\n",
       "</div>"
      ],
      "text/plain": [
       "   BOGO_r10_d10_u5  BOGO_r10_d10_u7  BOGO_r5_d5_u5  BOGO_r5_d5_u7  \\\n",
       "0      1983.223598      2340.459598   2.577886e+01   3.033701e+01   \n",
       "1         0.000000         0.000000   3.864082e-07   3.677515e-08   \n",
       "\n",
       "   DIS_r2_d10_u10  DIS_r2_d10_u7  DIS_r3_d7_u7  DIS_r5_d20_u10  \\\n",
       "0    7.610555e+02   5.469740e+02  2.214376e+02        0.134883   \n",
       "1   2.363149e-164  2.577558e-119  8.283175e-50        0.713426   \n",
       "\n",
       "   mean_amount_without_offer           age        income      gender_M  \n",
       "0                3401.968069  6.786818e+01  3.962699e+02  6.687509e+01  \n",
       "1                   0.000000  1.858088e-16  2.667684e-87  3.069495e-16  "
      ]
     },
     "execution_count": 56,
     "metadata": {},
     "output_type": "execute_result"
    }
   ],
   "source": [
    "from sklearn.feature_selection import f_regression\n",
    "f_reg = pd.DataFrame(f_regression(x_train,y_train), columns = x_train.columns)\n",
    "f_reg\n"
   ]
  },
  {
   "cell_type": "code",
   "execution_count": 103,
   "metadata": {},
   "outputs": [
    {
     "data": {
      "text/html": [
       "<div>\n",
       "<style scoped>\n",
       "    .dataframe tbody tr th:only-of-type {\n",
       "        vertical-align: middle;\n",
       "    }\n",
       "\n",
       "    .dataframe tbody tr th {\n",
       "        vertical-align: top;\n",
       "    }\n",
       "\n",
       "    .dataframe thead th {\n",
       "        text-align: right;\n",
       "    }\n",
       "</style>\n",
       "<table border=\"1\" class=\"dataframe\">\n",
       "  <thead>\n",
       "    <tr style=\"text-align: right;\">\n",
       "      <th></th>\n",
       "      <th>BOGO_r10_d10_u5</th>\n",
       "      <th>BOGO_r10_d10_u7</th>\n",
       "      <th>BOGO_r5_d5_u5</th>\n",
       "      <th>BOGO_r5_d5_u7</th>\n",
       "      <th>DIS_r2_d10_u10</th>\n",
       "      <th>DIS_r2_d10_u7</th>\n",
       "      <th>DIS_r3_d7_u7</th>\n",
       "      <th>DIS_r5_d20_u10</th>\n",
       "      <th>mean_amount_without_offer</th>\n",
       "      <th>age</th>\n",
       "      <th>income</th>\n",
       "      <th>age2</th>\n",
       "      <th>income2</th>\n",
       "      <th>mean_amount_without_offer2</th>\n",
       "      <th>gender_M</th>\n",
       "    </tr>\n",
       "  </thead>\n",
       "  <tbody>\n",
       "    <tr>\n",
       "      <th>0</th>\n",
       "      <td>2.731836e+02</td>\n",
       "      <td>2.990961e+02</td>\n",
       "      <td>9.066516</td>\n",
       "      <td>7.482746</td>\n",
       "      <td>1.402438e+02</td>\n",
       "      <td>1.371933e+02</td>\n",
       "      <td>13.720045</td>\n",
       "      <td>4.312430e+01</td>\n",
       "      <td>6.719428e+02</td>\n",
       "      <td>1.976679</td>\n",
       "      <td>0.000288</td>\n",
       "      <td>2.108349</td>\n",
       "      <td>0.339862</td>\n",
       "      <td>6.309178e+02</td>\n",
       "      <td>5.571426</td>\n",
       "    </tr>\n",
       "    <tr>\n",
       "      <th>1</th>\n",
       "      <td>6.236020e-61</td>\n",
       "      <td>1.713755e-66</td>\n",
       "      <td>0.002607</td>\n",
       "      <td>0.006235</td>\n",
       "      <td>3.073087e-32</td>\n",
       "      <td>1.411746e-31</td>\n",
       "      <td>0.000213</td>\n",
       "      <td>5.272644e-11</td>\n",
       "      <td>1.426429e-145</td>\n",
       "      <td>0.159757</td>\n",
       "      <td>0.986456</td>\n",
       "      <td>0.146514</td>\n",
       "      <td>0.559916</td>\n",
       "      <td>5.955993e-137</td>\n",
       "      <td>0.018266</td>\n",
       "    </tr>\n",
       "  </tbody>\n",
       "</table>\n",
       "</div>"
      ],
      "text/plain": [
       "   BOGO_r10_d10_u5  BOGO_r10_d10_u7  BOGO_r5_d5_u5  BOGO_r5_d5_u7  \\\n",
       "0     2.731836e+02     2.990961e+02       9.066516       7.482746   \n",
       "1     6.236020e-61     1.713755e-66       0.002607       0.006235   \n",
       "\n",
       "   DIS_r2_d10_u10  DIS_r2_d10_u7  DIS_r3_d7_u7  DIS_r5_d20_u10  \\\n",
       "0    1.402438e+02   1.371933e+02     13.720045    4.312430e+01   \n",
       "1    3.073087e-32   1.411746e-31      0.000213    5.272644e-11   \n",
       "\n",
       "   mean_amount_without_offer       age    income      age2   income2  \\\n",
       "0               6.719428e+02  1.976679  0.000288  2.108349  0.339862   \n",
       "1              1.426429e-145  0.159757  0.986456  0.146514  0.559916   \n",
       "\n",
       "   mean_amount_without_offer2  gender_M  \n",
       "0                6.309178e+02  5.571426  \n",
       "1               5.955993e-137  0.018266  "
      ]
     },
     "execution_count": 103,
     "metadata": {},
     "output_type": "execute_result"
    }
   ],
   "source": [
    "from sklearn.feature_selection import f_classif\n",
    "f_class = pd.DataFrame(f_classif(x_train,y_train_2), columns = x_train.columns)\n",
    "f_class"
   ]
  },
  {
   "cell_type": "code",
   "execution_count": 223,
   "metadata": {},
   "outputs": [
    {
     "data": {
      "text/html": [
       "<div>\n",
       "<style scoped>\n",
       "    .dataframe tbody tr th:only-of-type {\n",
       "        vertical-align: middle;\n",
       "    }\n",
       "\n",
       "    .dataframe tbody tr th {\n",
       "        vertical-align: top;\n",
       "    }\n",
       "\n",
       "    .dataframe thead th {\n",
       "        text-align: right;\n",
       "    }\n",
       "</style>\n",
       "<table border=\"1\" class=\"dataframe\">\n",
       "  <thead>\n",
       "    <tr style=\"text-align: right;\">\n",
       "      <th></th>\n",
       "      <th>BOGO_r10_d10_u5</th>\n",
       "      <th>BOGO_r10_d10_u7</th>\n",
       "      <th>BOGO_r5_d5_u5</th>\n",
       "      <th>BOGO_r5_d5_u7</th>\n",
       "      <th>DIS_r2_d10_u10</th>\n",
       "      <th>DIS_r2_d10_u7</th>\n",
       "      <th>DIS_r3_d7_u7</th>\n",
       "      <th>DIS_r5_d20_u10</th>\n",
       "      <th>mean_amount_without_offer</th>\n",
       "      <th>age</th>\n",
       "      <th>income</th>\n",
       "      <th>age2</th>\n",
       "      <th>income2</th>\n",
       "      <th>mean_amount_without_offer2</th>\n",
       "      <th>gender_M</th>\n",
       "    </tr>\n",
       "  </thead>\n",
       "  <tbody>\n",
       "    <tr>\n",
       "      <th>0</th>\n",
       "      <td>1519.395823</td>\n",
       "      <td>1747.776161</td>\n",
       "      <td>7.067445e+01</td>\n",
       "      <td>5.023691e+01</td>\n",
       "      <td>5.497715e+02</td>\n",
       "      <td>3.980428e+02</td>\n",
       "      <td>2.773926e+02</td>\n",
       "      <td>4.072456e+01</td>\n",
       "      <td>1161.758778</td>\n",
       "      <td>4.137129e+01</td>\n",
       "      <td>2.700166e+02</td>\n",
       "      <td>3.014793e+01</td>\n",
       "      <td>2.415570e+02</td>\n",
       "      <td>1158.612989</td>\n",
       "      <td>2.646537e+01</td>\n",
       "    </tr>\n",
       "    <tr>\n",
       "      <th>1</th>\n",
       "      <td>0.000000</td>\n",
       "      <td>0.000000</td>\n",
       "      <td>2.649169e-31</td>\n",
       "      <td>1.743432e-22</td>\n",
       "      <td>1.152739e-232</td>\n",
       "      <td>5.588400e-170</td>\n",
       "      <td>1.997500e-119</td>\n",
       "      <td>2.250917e-18</td>\n",
       "      <td>0.000000</td>\n",
       "      <td>1.182299e-18</td>\n",
       "      <td>2.581034e-116</td>\n",
       "      <td>8.476262e-14</td>\n",
       "      <td>2.748860e-104</td>\n",
       "      <td>0.000000</td>\n",
       "      <td>3.331515e-12</td>\n",
       "    </tr>\n",
       "  </tbody>\n",
       "</table>\n",
       "</div>"
      ],
      "text/plain": [
       "   BOGO_r10_d10_u5  BOGO_r10_d10_u7  BOGO_r5_d5_u5  BOGO_r5_d5_u7  \\\n",
       "0      1519.395823      1747.776161   7.067445e+01   5.023691e+01   \n",
       "1         0.000000         0.000000   2.649169e-31   1.743432e-22   \n",
       "\n",
       "   DIS_r2_d10_u10  DIS_r2_d10_u7   DIS_r3_d7_u7  DIS_r5_d20_u10  \\\n",
       "0    5.497715e+02   3.980428e+02   2.773926e+02    4.072456e+01   \n",
       "1   1.152739e-232  5.588400e-170  1.997500e-119    2.250917e-18   \n",
       "\n",
       "   mean_amount_without_offer           age         income          age2  \\\n",
       "0                1161.758778  4.137129e+01   2.700166e+02  3.014793e+01   \n",
       "1                   0.000000  1.182299e-18  2.581034e-116  8.476262e-14   \n",
       "\n",
       "         income2  mean_amount_without_offer2      gender_M  \n",
       "0   2.415570e+02                 1158.612989  2.646537e+01  \n",
       "1  2.748860e-104                    0.000000  3.331515e-12  "
      ]
     },
     "execution_count": 223,
     "metadata": {},
     "output_type": "execute_result"
    }
   ],
   "source": [
    "from sklearn.feature_selection import f_classif\n",
    "f_class = pd.DataFrame(f_classif(x_train,y_train_3), columns = x_train.columns)\n",
    "f_class"
   ]
  },
  {
   "cell_type": "code",
   "execution_count": 232,
   "metadata": {},
   "outputs": [
    {
     "data": {
      "text/html": [
       "<div>\n",
       "<style scoped>\n",
       "    .dataframe tbody tr th:only-of-type {\n",
       "        vertical-align: middle;\n",
       "    }\n",
       "\n",
       "    .dataframe tbody tr th {\n",
       "        vertical-align: top;\n",
       "    }\n",
       "\n",
       "    .dataframe thead th {\n",
       "        text-align: right;\n",
       "    }\n",
       "</style>\n",
       "<table border=\"1\" class=\"dataframe\">\n",
       "  <thead>\n",
       "    <tr style=\"text-align: right;\">\n",
       "      <th></th>\n",
       "      <th>BOGO_r10_d10_u5</th>\n",
       "      <th>BOGO_r10_d10_u7</th>\n",
       "      <th>BOGO_r5_d5_u5</th>\n",
       "      <th>BOGO_r5_d5_u7</th>\n",
       "      <th>DIS_r2_d10_u10</th>\n",
       "      <th>DIS_r2_d10_u7</th>\n",
       "      <th>DIS_r3_d7_u7</th>\n",
       "      <th>DIS_r5_d20_u10</th>\n",
       "      <th>mean_amount_without_offer</th>\n",
       "      <th>age</th>\n",
       "      <th>age2</th>\n",
       "      <th>mean_amount_without_offer2</th>\n",
       "      <th>gender_M</th>\n",
       "    </tr>\n",
       "  </thead>\n",
       "  <tbody>\n",
       "    <tr>\n",
       "      <th>0</th>\n",
       "      <td>1999.834768</td>\n",
       "      <td>2437.235525</td>\n",
       "      <td>14.591996</td>\n",
       "      <td>4.033398</td>\n",
       "      <td>3.016468e+02</td>\n",
       "      <td>2.351814e+02</td>\n",
       "      <td>2.954692e+02</td>\n",
       "      <td>1.069137e+02</td>\n",
       "      <td>1934.480084</td>\n",
       "      <td>4.798663e+01</td>\n",
       "      <td>3.824852e+01</td>\n",
       "      <td>2444.419365</td>\n",
       "      <td>3.469407e+01</td>\n",
       "    </tr>\n",
       "    <tr>\n",
       "      <th>1</th>\n",
       "      <td>0.000000</td>\n",
       "      <td>0.000000</td>\n",
       "      <td>0.000134</td>\n",
       "      <td>0.044623</td>\n",
       "      <td>4.904528e-67</td>\n",
       "      <td>9.331186e-53</td>\n",
       "      <td>1.035483e-65</td>\n",
       "      <td>5.438709e-25</td>\n",
       "      <td>0.000000</td>\n",
       "      <td>4.432386e-12</td>\n",
       "      <td>6.359062e-10</td>\n",
       "      <td>0.000000</td>\n",
       "      <td>3.924851e-09</td>\n",
       "    </tr>\n",
       "  </tbody>\n",
       "</table>\n",
       "</div>"
      ],
      "text/plain": [
       "   BOGO_r10_d10_u5  BOGO_r10_d10_u7  BOGO_r5_d5_u5  BOGO_r5_d5_u7  \\\n",
       "0      1999.834768      2437.235525      14.591996       4.033398   \n",
       "1         0.000000         0.000000       0.000134       0.044623   \n",
       "\n",
       "   DIS_r2_d10_u10  DIS_r2_d10_u7  DIS_r3_d7_u7  DIS_r5_d20_u10  \\\n",
       "0    3.016468e+02   2.351814e+02  2.954692e+02    1.069137e+02   \n",
       "1    4.904528e-67   9.331186e-53  1.035483e-65    5.438709e-25   \n",
       "\n",
       "   mean_amount_without_offer           age          age2  \\\n",
       "0                1934.480084  4.798663e+01  3.824852e+01   \n",
       "1                   0.000000  4.432386e-12  6.359062e-10   \n",
       "\n",
       "   mean_amount_without_offer2      gender_M  \n",
       "0                 2444.419365  3.469407e+01  \n",
       "1                    0.000000  3.924851e-09  "
      ]
     },
     "execution_count": 232,
     "metadata": {},
     "output_type": "execute_result"
    }
   ],
   "source": [
    "x_train_new = x_train.drop(['income', 'income2'],axis = 1)\n",
    "x_test_new = x_test.drop(['income', 'income2'],axis = 1)\n",
    "f_class = pd.DataFrame(f_classif(x_train_new,y_train_2), columns = x_train_new.columns)\n",
    "\n",
    "f_class"
   ]
  },
  {
   "cell_type": "code",
   "execution_count": 63,
   "metadata": {},
   "outputs": [
    {
     "name": "stdout",
     "output_type": "stream",
     "text": [
      "                            OLS Regression Results                            \n",
      "==============================================================================\n",
      "Dep. Variable:            profit_diff   R-squared:                       0.444\n",
      "Model:                            OLS   Adj. R-squared:                  0.443\n",
      "Method:                 Least Squares   F-statistic:                     1287.\n",
      "Date:                Thu, 02 Dec 2021   Prob (F-statistic):               0.00\n",
      "Time:                        14:03:03   Log-Likelihood:                -46833.\n",
      "No. Observations:               19362   AIC:                         9.369e+04\n",
      "Df Residuals:                   19349   BIC:                         9.379e+04\n",
      "Df Model:                          12                                         \n",
      "Covariance Type:            nonrobust                                         \n",
      "=============================================================================================\n",
      "                                coef    std err          t      P>|t|      [0.025      0.975]\n",
      "---------------------------------------------------------------------------------------------\n",
      "const                         0.2744      0.077      3.548      0.000       0.123       0.426\n",
      "BOGO_r10_d10_u5              -5.1879      0.087    -59.562      0.000      -5.359      -5.017\n",
      "BOGO_r10_d10_u7              -5.1660      0.083    -62.000      0.000      -5.329      -5.003\n",
      "BOGO_r5_d5_u5                -2.8243      0.084    -33.635      0.000      -2.989      -2.660\n",
      "BOGO_r5_d5_u7                -2.7283      0.081    -33.485      0.000      -2.888      -2.569\n",
      "DIS_r2_d10_u10               -0.9987      0.080    -12.478      0.000      -1.156      -0.842\n",
      "DIS_r2_d10_u7                -0.7507      0.082     -9.125      0.000      -0.912      -0.589\n",
      "DIS_r3_d7_u7                 -1.7600      0.081    -21.768      0.000      -1.918      -1.602\n",
      "DIS_r5_d20_u10               -1.8236      0.080    -22.787      0.000      -1.980      -1.667\n",
      "mean_amount_without_offer    -2.2014      0.031    -71.583      0.000      -2.262      -2.141\n",
      "age                           0.0816      0.021      3.943      0.000       0.041       0.122\n",
      "income                        1.2584      0.031     41.235      0.000       1.199       1.318\n",
      "gender_M                     -0.2641      0.040     -6.574      0.000      -0.343      -0.185\n",
      "==============================================================================\n",
      "Omnibus:                    12262.002   Durbin-Watson:                   2.014\n",
      "Prob(Omnibus):                  0.000   Jarque-Bera (JB):           371792.149\n",
      "Skew:                           2.564   Prob(JB):                         0.00\n",
      "Kurtosis:                      23.846   Cond. No.                         14.3\n",
      "==============================================================================\n",
      "\n",
      "Notes:\n",
      "[1] Standard Errors assume that the covariance matrix of the errors is correctly specified.\n"
     ]
    }
   ],
   "source": [
    "X  = sm.add_constant(x_train)\n",
    "mod = sm.OLS(y_train, X)\n",
    "res = mod.fit()\n",
    "print(res.summary())"
   ]
  },
  {
   "cell_type": "code",
   "execution_count": 113,
   "metadata": {},
   "outputs": [],
   "source": [
    "x_train_new = x_train.drop(['age','income','mean_profit_without_offer'], axis = 1)\n",
    "x_test_new = x_test.drop(['age','income','mean_profit_without_offer'], axis = 1)"
   ]
  },
  {
   "cell_type": "code",
   "execution_count": 114,
   "metadata": {},
   "outputs": [
    {
     "data": {
      "text/html": [
       "<div>\n",
       "<style scoped>\n",
       "    .dataframe tbody tr th:only-of-type {\n",
       "        vertical-align: middle;\n",
       "    }\n",
       "\n",
       "    .dataframe tbody tr th {\n",
       "        vertical-align: top;\n",
       "    }\n",
       "\n",
       "    .dataframe thead th {\n",
       "        text-align: right;\n",
       "    }\n",
       "</style>\n",
       "<table border=\"1\" class=\"dataframe\">\n",
       "  <thead>\n",
       "    <tr style=\"text-align: right;\">\n",
       "      <th></th>\n",
       "      <th>BOGO_r10_d10_u5</th>\n",
       "      <th>BOGO_r10_d10_u7</th>\n",
       "      <th>BOGO_r5_d5_u5</th>\n",
       "      <th>BOGO_r5_d5_u7</th>\n",
       "      <th>DIS_r2_d10_u10</th>\n",
       "      <th>DIS_r2_d10_u7</th>\n",
       "      <th>DIS_r3_d7_u7</th>\n",
       "      <th>DIS_r5_d20_u10</th>\n",
       "      <th>mean_profit_without_offer</th>\n",
       "      <th>age</th>\n",
       "      <th>income</th>\n",
       "      <th>age2</th>\n",
       "      <th>income2</th>\n",
       "      <th>mean_profit_without_offer2</th>\n",
       "      <th>gender_M</th>\n",
       "    </tr>\n",
       "  </thead>\n",
       "  <tbody>\n",
       "    <tr>\n",
       "      <th>16741</th>\n",
       "      <td>0</td>\n",
       "      <td>1</td>\n",
       "      <td>0</td>\n",
       "      <td>0</td>\n",
       "      <td>0</td>\n",
       "      <td>0</td>\n",
       "      <td>0</td>\n",
       "      <td>0</td>\n",
       "      <td>0.411632</td>\n",
       "      <td>1.035850</td>\n",
       "      <td>0.712625</td>\n",
       "      <td>1.043161</td>\n",
       "      <td>0.600197</td>\n",
       "      <td>0.176873</td>\n",
       "      <td>1</td>\n",
       "    </tr>\n",
       "    <tr>\n",
       "      <th>7934</th>\n",
       "      <td>0</td>\n",
       "      <td>0</td>\n",
       "      <td>1</td>\n",
       "      <td>0</td>\n",
       "      <td>0</td>\n",
       "      <td>0</td>\n",
       "      <td>0</td>\n",
       "      <td>0</td>\n",
       "      <td>1.165213</td>\n",
       "      <td>0.031119</td>\n",
       "      <td>0.944480</td>\n",
       "      <td>-0.120796</td>\n",
       "      <td>0.876267</td>\n",
       "      <td>1.153022</td>\n",
       "      <td>0</td>\n",
       "    </tr>\n",
       "    <tr>\n",
       "      <th>28176</th>\n",
       "      <td>0</td>\n",
       "      <td>0</td>\n",
       "      <td>1</td>\n",
       "      <td>0</td>\n",
       "      <td>0</td>\n",
       "      <td>0</td>\n",
       "      <td>0</td>\n",
       "      <td>0</td>\n",
       "      <td>0.822405</td>\n",
       "      <td>1.094952</td>\n",
       "      <td>1.269077</td>\n",
       "      <td>1.121183</td>\n",
       "      <td>1.289573</td>\n",
       "      <td>0.675055</td>\n",
       "      <td>1</td>\n",
       "    </tr>\n",
       "    <tr>\n",
       "      <th>12730</th>\n",
       "      <td>0</td>\n",
       "      <td>0</td>\n",
       "      <td>1</td>\n",
       "      <td>0</td>\n",
       "      <td>0</td>\n",
       "      <td>0</td>\n",
       "      <td>0</td>\n",
       "      <td>0</td>\n",
       "      <td>-0.438234</td>\n",
       "      <td>1.154054</td>\n",
       "      <td>-0.539392</td>\n",
       "      <td>1.200266</td>\n",
       "      <td>-0.614829</td>\n",
       "      <td>-0.595823</td>\n",
       "      <td>0</td>\n",
       "    </tr>\n",
       "    <tr>\n",
       "      <th>27664</th>\n",
       "      <td>0</td>\n",
       "      <td>0</td>\n",
       "      <td>0</td>\n",
       "      <td>0</td>\n",
       "      <td>0</td>\n",
       "      <td>1</td>\n",
       "      <td>0</td>\n",
       "      <td>0</td>\n",
       "      <td>2.642897</td>\n",
       "      <td>1.094952</td>\n",
       "      <td>-1.095844</td>\n",
       "      <td>1.121183</td>\n",
       "      <td>-1.005476</td>\n",
       "      <td>3.861158</td>\n",
       "      <td>1</td>\n",
       "    </tr>\n",
       "    <tr>\n",
       "      <th>...</th>\n",
       "      <td>...</td>\n",
       "      <td>...</td>\n",
       "      <td>...</td>\n",
       "      <td>...</td>\n",
       "      <td>...</td>\n",
       "      <td>...</td>\n",
       "      <td>...</td>\n",
       "      <td>...</td>\n",
       "      <td>...</td>\n",
       "      <td>...</td>\n",
       "      <td>...</td>\n",
       "      <td>...</td>\n",
       "      <td>...</td>\n",
       "      <td>...</td>\n",
       "      <td>...</td>\n",
       "    </tr>\n",
       "    <tr>\n",
       "      <th>23866</th>\n",
       "      <td>0</td>\n",
       "      <td>0</td>\n",
       "      <td>1</td>\n",
       "      <td>0</td>\n",
       "      <td>0</td>\n",
       "      <td>0</td>\n",
       "      <td>0</td>\n",
       "      <td>0</td>\n",
       "      <td>-0.448270</td>\n",
       "      <td>-0.205288</td>\n",
       "      <td>-0.863989</td>\n",
       "      <td>-0.350084</td>\n",
       "      <td>-0.853877</td>\n",
       "      <td>-0.602869</td>\n",
       "      <td>1</td>\n",
       "    </tr>\n",
       "    <tr>\n",
       "      <th>5954</th>\n",
       "      <td>0</td>\n",
       "      <td>0</td>\n",
       "      <td>0</td>\n",
       "      <td>0</td>\n",
       "      <td>0</td>\n",
       "      <td>0</td>\n",
       "      <td>1</td>\n",
       "      <td>0</td>\n",
       "      <td>-0.584896</td>\n",
       "      <td>0.031119</td>\n",
       "      <td>-0.771247</td>\n",
       "      <td>-0.120796</td>\n",
       "      <td>-0.788769</td>\n",
       "      <td>-0.693971</td>\n",
       "      <td>0</td>\n",
       "    </tr>\n",
       "    <tr>\n",
       "      <th>941</th>\n",
       "      <td>0</td>\n",
       "      <td>0</td>\n",
       "      <td>0</td>\n",
       "      <td>0</td>\n",
       "      <td>0</td>\n",
       "      <td>1</td>\n",
       "      <td>0</td>\n",
       "      <td>0</td>\n",
       "      <td>-1.041039</td>\n",
       "      <td>0.858545</td>\n",
       "      <td>-1.559553</td>\n",
       "      <td>0.815465</td>\n",
       "      <td>-1.260800</td>\n",
       "      <td>-0.933008</td>\n",
       "      <td>1</td>\n",
       "    </tr>\n",
       "    <tr>\n",
       "      <th>17510</th>\n",
       "      <td>0</td>\n",
       "      <td>0</td>\n",
       "      <td>0</td>\n",
       "      <td>0</td>\n",
       "      <td>1</td>\n",
       "      <td>0</td>\n",
       "      <td>0</td>\n",
       "      <td>0</td>\n",
       "      <td>-0.291751</td>\n",
       "      <td>-0.264390</td>\n",
       "      <td>-0.910360</td>\n",
       "      <td>-0.404753</td>\n",
       "      <td>-0.885473</td>\n",
       "      <td>-0.487454</td>\n",
       "      <td>0</td>\n",
       "    </tr>\n",
       "    <tr>\n",
       "      <th>26099</th>\n",
       "      <td>0</td>\n",
       "      <td>1</td>\n",
       "      <td>0</td>\n",
       "      <td>0</td>\n",
       "      <td>0</td>\n",
       "      <td>0</td>\n",
       "      <td>0</td>\n",
       "      <td>0</td>\n",
       "      <td>0.946810</td>\n",
       "      <td>-0.973612</td>\n",
       "      <td>1.176335</td>\n",
       "      <td>-0.977973</td>\n",
       "      <td>1.168294</td>\n",
       "      <td>0.841965</td>\n",
       "      <td>1</td>\n",
       "    </tr>\n",
       "  </tbody>\n",
       "</table>\n",
       "<p>18467 rows × 15 columns</p>\n",
       "</div>"
      ],
      "text/plain": [
       "       BOGO_r10_d10_u5  BOGO_r10_d10_u7  BOGO_r5_d5_u5  BOGO_r5_d5_u7  \\\n",
       "16741                0                1              0              0   \n",
       "7934                 0                0              1              0   \n",
       "28176                0                0              1              0   \n",
       "12730                0                0              1              0   \n",
       "27664                0                0              0              0   \n",
       "...                ...              ...            ...            ...   \n",
       "23866                0                0              1              0   \n",
       "5954                 0                0              0              0   \n",
       "941                  0                0              0              0   \n",
       "17510                0                0              0              0   \n",
       "26099                0                1              0              0   \n",
       "\n",
       "       DIS_r2_d10_u10  DIS_r2_d10_u7  DIS_r3_d7_u7  DIS_r5_d20_u10  \\\n",
       "16741               0              0             0               0   \n",
       "7934                0              0             0               0   \n",
       "28176               0              0             0               0   \n",
       "12730               0              0             0               0   \n",
       "27664               0              1             0               0   \n",
       "...               ...            ...           ...             ...   \n",
       "23866               0              0             0               0   \n",
       "5954                0              0             1               0   \n",
       "941                 0              1             0               0   \n",
       "17510               1              0             0               0   \n",
       "26099               0              0             0               0   \n",
       "\n",
       "       mean_profit_without_offer       age    income      age2   income2  \\\n",
       "16741                   0.411632  1.035850  0.712625  1.043161  0.600197   \n",
       "7934                    1.165213  0.031119  0.944480 -0.120796  0.876267   \n",
       "28176                   0.822405  1.094952  1.269077  1.121183  1.289573   \n",
       "12730                  -0.438234  1.154054 -0.539392  1.200266 -0.614829   \n",
       "27664                   2.642897  1.094952 -1.095844  1.121183 -1.005476   \n",
       "...                          ...       ...       ...       ...       ...   \n",
       "23866                  -0.448270 -0.205288 -0.863989 -0.350084 -0.853877   \n",
       "5954                   -0.584896  0.031119 -0.771247 -0.120796 -0.788769   \n",
       "941                    -1.041039  0.858545 -1.559553  0.815465 -1.260800   \n",
       "17510                  -0.291751 -0.264390 -0.910360 -0.404753 -0.885473   \n",
       "26099                   0.946810 -0.973612  1.176335 -0.977973  1.168294   \n",
       "\n",
       "       mean_profit_without_offer2  gender_M  \n",
       "16741                    0.176873         1  \n",
       "7934                     1.153022         0  \n",
       "28176                    0.675055         1  \n",
       "12730                   -0.595823         0  \n",
       "27664                    3.861158         1  \n",
       "...                           ...       ...  \n",
       "23866                   -0.602869         1  \n",
       "5954                    -0.693971         0  \n",
       "941                     -0.933008         1  \n",
       "17510                   -0.487454         0  \n",
       "26099                    0.841965         1  \n",
       "\n",
       "[18467 rows x 15 columns]"
      ]
     },
     "execution_count": 114,
     "metadata": {},
     "output_type": "execute_result"
    }
   ],
   "source": [
    "x_train"
   ]
  },
  {
   "cell_type": "code",
   "execution_count": 230,
   "metadata": {},
   "outputs": [
    {
     "name": "stdout",
     "output_type": "stream",
     "text": [
      ">>> Train set Score:\n",
      "0.5269922629887898\n",
      ">>> Test set Score:\n",
      "0.539973482254718\n",
      "[-5.83986091 -5.86290273 -3.14448096 -3.09723291 -1.08680523 -0.96673856\n",
      " -1.92364879 -2.28351282 -0.1879825   0.31726739 -0.23876868 -0.28697886\n",
      "  1.32599305 -1.74401662 -0.10949538]\n"
     ]
    },
    {
     "name": "stderr",
     "output_type": "stream",
     "text": [
      "/usr/local/lib/python3.9/site-packages/seaborn/_decorators.py:36: FutureWarning: Pass the following variables as keyword args: x, y. From version 0.12, the only valid positional argument will be `data`, and passing other arguments without an explicit keyword will result in an error or misinterpretation.\n",
      "  warnings.warn(\n"
     ]
    },
    {
     "data": {
      "image/png": "[encoded data removed]",
      "text/plain": [
       "<Figure size 432x288 with 1 Axes>"
      ]
     },
     "metadata": {
      "needs_background": "light"
     },
     "output_type": "display_data"
    }
   ],
   "source": [
    "model = LinearRegression()\n",
    "model.fit(x_train,y_train)\n",
    "\n",
    "print('>>> Train set Score:')\n",
    "print(model.score(x_train,y_train))\n",
    "print('>>> Test set Score:')\n",
    "print(model.score(x_test,y_test))\n",
    "print(model.coef_)\n",
    "\n",
    "risdual = model.predict(x_test) - y_test \n",
    "sns.scatterplot(y_test, risdual)\n",
    "plt.show()\n"
   ]
  },
  {
   "cell_type": "code",
   "execution_count": 233,
   "metadata": {},
   "outputs": [
    {
     "name": "stdout",
     "output_type": "stream",
     "text": [
      ">>> Train set Score:\n",
      "0.48109563053754145\n",
      ">>> Test set Score:\n",
      "0.49458134841445933\n",
      "[-5.82514772 -5.86530924 -3.09834234 -3.07549576 -0.99615355 -0.91266518\n",
      " -1.84794836 -2.23968988  0.43433469  0.6491928  -0.51220913 -1.58591928\n",
      " -0.12674041]\n"
     ]
    },
    {
     "name": "stderr",
     "output_type": "stream",
     "text": [
      "/usr/local/lib/python3.9/site-packages/seaborn/_decorators.py:36: FutureWarning: Pass the following variables as keyword args: x, y. From version 0.12, the only valid positional argument will be `data`, and passing other arguments without an explicit keyword will result in an error or misinterpretation.\n",
      "  warnings.warn(\n"
     ]
    },
    {
     "data": {
      "image/png": "[encoded data removed]",
      "text/plain": [
       "<Figure size 432x288 with 1 Axes>"
      ]
     },
     "metadata": {
      "needs_background": "light"
     },
     "output_type": "display_data"
    }
   ],
   "source": [
    "model = LinearRegression()\n",
    "model.fit(x_train_new,y_train)\n",
    "\n",
    "print('>>> Train set Score:')\n",
    "print(model.score(x_train_new,y_train))\n",
    "print('>>> Test set Score:')\n",
    "print(model.score(x_test_new,y_test))\n",
    "print(model.coef_)\n",
    "\n",
    "risdual = model.predict(x_test_new) - y_test \n",
    "sns.scatterplot(y_test, risdual)\n",
    "plt.show()\n"
   ]
  },
  {
   "cell_type": "code",
   "execution_count": 234,
   "metadata": {},
   "outputs": [
    {
     "name": "stdout",
     "output_type": "stream",
     "text": [
      ">>> Train set Score:\n",
      "0.5608235859720218\n",
      ">>> Test set Score:\n",
      "0.5558448566259837\n",
      "28761    0.904448\n",
      "21793    3.658259\n",
      "19584   -2.182497\n",
      "15244   -2.342560\n",
      "17993   -2.911008\n",
      "Name: profit_diff, dtype: float64\n"
     ]
    }
   ],
   "source": [
    "from sklearn.neural_network import MLPRegressor\n",
    "model = MLPRegressor(random_state=42,alpha = 0.5, max_iter=1000)\n",
    "model.fit(x_train,y_train)\n",
    "\n",
    "print('>>> Train set Score:')\n",
    "print(model.score(x_train,y_train))\n",
    "print('>>> Test set Score:')\n",
    "print(model.score(x_test, y_test))\n",
    "\n",
    "risdual = model.predict(x_test) - y_test \n",
    "print(risdual.head())\n",
    "\n",
    "plt.show()"
   ]
  },
  {
   "cell_type": "code",
   "execution_count": 170,
   "metadata": {},
   "outputs": [
    {
     "data": {
      "image/png": "[encoded data removed]",
      "text/plain": [
       "<Figure size 432x288 with 1 Axes>"
      ]
     },
     "metadata": {
      "needs_background": "light"
     },
     "output_type": "display_data"
    }
   ],
   "source": [
    "sns.scatterplot(x = y_test, y = risdual, palette ='light',size = risdual.abs(), sizes = (10,200), alpha = 0.3)\n",
    "plt.show()"
   ]
  },
  {
   "cell_type": "markdown",
   "metadata": {},
   "source": [
    "### 1.2 Random Forest"
   ]
  },
  {
   "cell_type": "code",
   "execution_count": 118,
   "metadata": {},
   "outputs": [
    {
     "name": "stdout",
     "output_type": "stream",
     "text": [
      ">>> Train set Score:\n",
      "0.451121050576881\n",
      ">>> Test set Score:\n",
      "0.4515450789504716\n"
     ]
    }
   ],
   "source": [
    "from sklearn.ensemble import RandomForestRegressor\n",
    "\n",
    "\n",
    "RFR = RandomForestRegressor(random_state = 42, n_estimators = 400, max_depth = 5, min_samples_leaf = 2, min_samples_split = 2)\n",
    "RFR.fit(x_train, y_train)\n",
    "\n",
    "print('>>> Train set Score:')\n",
    "print(RFR.score(x_train,y_train))\n",
    "print('>>> Test set Score:')\n",
    "print(RFR.score(x_test,y_test))"
   ]
  },
  {
   "cell_type": "markdown",
   "metadata": {},
   "source": [
    "R-squared is quite low for an effective model, it may be impossible to predict the exact difference."
   ]
  },
  {
   "cell_type": "code",
   "execution_count": 60,
   "metadata": {},
   "outputs": [
    {
     "name": "stdout",
     "output_type": "stream",
     "text": [
      "              precision    recall  f1-score   support\n",
      "\n",
      "     Low Neg       0.61      0.70      0.66      1816\n",
      "    Positive       0.30      0.65      0.41      1526\n",
      "       light       0.71      0.41      0.52      4957\n",
      "\n",
      "    accuracy                           0.52      8299\n",
      "   macro avg       0.54      0.59      0.53      8299\n",
      "weighted avg       0.61      0.52      0.53      8299\n",
      "\n"
     ]
    },
    {
     "data": {
      "text/plain": [
       "<sklearn.metrics._plot.confusion_matrix.ConfusionMatrixDisplay at 0x12510ce80>"
      ]
     },
     "execution_count": 60,
     "metadata": {},
     "output_type": "execute_result"
    },
    {
     "data": {
      "image/png": "[encoded data removed]",
      "text/plain": [
       "<Figure size 432x288 with 2 Axes>"
      ]
     },
     "metadata": {
      "needs_background": "light"
     },
     "output_type": "display_data"
    }
   ],
   "source": [
    "from sklearn.multiclass import OneVsRestClassifier\n",
    "from sklearn.svm import LinearSVC\n",
    "from sklearn.svm import SVC\n",
    "from sklearn.metrics import ConfusionMatrixDisplay, confusion_matrix\n",
    "MCF = OneVsRestClassifier(LinearSVC(random_state = 42,\n",
    "                                    dual = False, \n",
    "                                    multi_class = 'crammer_singer' , \n",
    "                                    max_iter = 300000, \n",
    "                                    class_weight = 'balanced') )\n",
    "\n",
    "MCF.fit(x_train, y_train_3)\n",
    "\n",
    "y_pred = MCF.predict(x_test)\n",
    "print(classification_report(y_test_3,y_pred, labels = MCF.classes_))\n",
    "\n",
    "ConfusionMatrixDisplay.from_estimator( MCF,x_test, y_test_3, labels = MCF.classes_, normalize = 'true')\n",
    "\n",
    "#cm = confusion_matrix(y_test_new_, y_pred_, labels = MCF.classes_)\n",
    "#dist = ConfusionMatrixDisplay(cm, display_labels=MCF.classes_, )\n",
    "#dist.plot(y.hist())\n",
    "#plt.show()\n"
   ]
  },
  {
   "cell_type": "code",
   "execution_count": 247,
   "metadata": {},
   "outputs": [
    {
     "name": "stdout",
     "output_type": "stream",
     "text": [
      "              precision    recall  f1-score   support\n",
      "\n",
      "           0       0.72      0.66      0.69      1821\n",
      "           1       0.90      0.93      0.91      6111\n",
      "\n",
      "    accuracy                           0.86      7932\n",
      "   macro avg       0.81      0.79      0.80      7932\n",
      "weighted avg       0.86      0.86      0.86      7932\n",
      "\n",
      "0.863464447806354\n"
     ]
    },
    {
     "data": {
      "text/plain": [
       "<sklearn.metrics._plot.confusion_matrix.ConfusionMatrixDisplay at 0x13b5683d0>"
      ]
     },
     "execution_count": 247,
     "metadata": {},
     "output_type": "execute_result"
    },
    {
     "data": {
      "image/png": "[encoded data removed]",
      "text/plain": [
       "<Figure size 432x288 with 2 Axes>"
      ]
     },
     "metadata": {
      "needs_background": "light"
     },
     "output_type": "display_data"
    }
   ],
   "source": [
    "\n",
    "from sklearn.ensemble import RandomForestClassifier\n",
    "RFC = RandomForestClassifier(n_estimators = 400, random_state = 42, class_weight = 'balanced')\n",
    "\n",
    "RFC.fit(x_train, y_train_2)\n",
    "\n",
    "y_pred = RFC.predict(x_test)\n",
    "print(classification_report(y_test_2,y_pred))\n",
    "\n",
    "print(RFC.score(x_test, y_test_2))\n",
    "ConfusionMatrixDisplay.from_estimator( RFC,x_test, y_test_2, normalize = 'pred')\n",
    "#cm = confusion_matrix(y_test_new_, y_pred_, labels = RFC.classes_)\n",
    "#dist = ConfusionMatrixDisplay(cm, display_labels=RFC.classes_, )\n",
    "#dist.plot()\n",
    "#plt.show()"
   ]
  },
  {
   "cell_type": "code",
   "execution_count": 212,
   "metadata": {},
   "outputs": [
    {
     "data": {
      "text/html": [
       "<div>\n",
       "<style scoped>\n",
       "    .dataframe tbody tr th:only-of-type {\n",
       "        vertical-align: middle;\n",
       "    }\n",
       "\n",
       "    .dataframe tbody tr th {\n",
       "        vertical-align: top;\n",
       "    }\n",
       "\n",
       "    .dataframe thead th {\n",
       "        text-align: right;\n",
       "    }\n",
       "</style>\n",
       "<table border=\"1\" class=\"dataframe\">\n",
       "  <thead>\n",
       "    <tr style=\"text-align: right;\">\n",
       "      <th></th>\n",
       "      <th>BOGO_r10_d10_u5</th>\n",
       "      <th>BOGO_r10_d10_u7</th>\n",
       "      <th>BOGO_r5_d5_u5</th>\n",
       "      <th>BOGO_r5_d5_u7</th>\n",
       "      <th>DIS_r2_d10_u10</th>\n",
       "      <th>DIS_r2_d10_u7</th>\n",
       "      <th>DIS_r3_d7_u7</th>\n",
       "      <th>DIS_r5_d20_u10</th>\n",
       "      <th>mean_amount_without_offer</th>\n",
       "      <th>age</th>\n",
       "      <th>income</th>\n",
       "      <th>age2</th>\n",
       "      <th>income2</th>\n",
       "      <th>mean_amount_without_offer2</th>\n",
       "      <th>gender_M</th>\n",
       "    </tr>\n",
       "  </thead>\n",
       "  <tbody>\n",
       "    <tr>\n",
       "      <th>0</th>\n",
       "      <td>0.093512</td>\n",
       "      <td>0.104556</td>\n",
       "      <td>0.014729</td>\n",
       "      <td>0.016485</td>\n",
       "      <td>0.044483</td>\n",
       "      <td>0.037956</td>\n",
       "      <td>0.026257</td>\n",
       "      <td>0.020399</td>\n",
       "      <td>0.168618</td>\n",
       "      <td>0.069723</td>\n",
       "      <td>0.073413</td>\n",
       "      <td>0.069667</td>\n",
       "      <td>0.071441</td>\n",
       "      <td>0.176448</td>\n",
       "      <td>0.012314</td>\n",
       "    </tr>\n",
       "  </tbody>\n",
       "</table>\n",
       "</div>"
      ],
      "text/plain": [
       "   BOGO_r10_d10_u5  BOGO_r10_d10_u7  BOGO_r5_d5_u5  BOGO_r5_d5_u7  \\\n",
       "0         0.093512         0.104556       0.014729       0.016485   \n",
       "\n",
       "   DIS_r2_d10_u10  DIS_r2_d10_u7  DIS_r3_d7_u7  DIS_r5_d20_u10  \\\n",
       "0        0.044483       0.037956      0.026257        0.020399   \n",
       "\n",
       "   mean_amount_without_offer       age    income      age2   income2  \\\n",
       "0                   0.168618  0.069723  0.073413  0.069667  0.071441   \n",
       "\n",
       "   mean_amount_without_offer2  gender_M  \n",
       "0                    0.176448  0.012314  "
      ]
     },
     "execution_count": 212,
     "metadata": {},
     "output_type": "execute_result"
    }
   ],
   "source": [
    "pd.DataFrame(RFC.feature_importances_.reshape(1,-1), columns=RFC.feature_names_in_)"
   ]
  },
  {
   "cell_type": "code",
   "execution_count": 238,
   "metadata": {},
   "outputs": [
    {
     "name": "stdout",
     "output_type": "stream",
     "text": [
      "              precision    recall  f1-score   support\n",
      "\n",
      "           0       0.72      0.66      0.69      1821\n",
      "           1       0.90      0.93      0.91      6111\n",
      "\n",
      "    accuracy                           0.86      7932\n",
      "   macro avg       0.81      0.79      0.80      7932\n",
      "weighted avg       0.86      0.86      0.86      7932\n",
      "\n"
     ]
    },
    {
     "data": {
      "text/plain": [
       "<sklearn.metrics._plot.confusion_matrix.ConfusionMatrixDisplay at 0x13b618790>"
      ]
     },
     "execution_count": 238,
     "metadata": {},
     "output_type": "execute_result"
    },
    {
     "data": {
      "image/png": "[encoded data removed]",
      "text/plain": [
       "<Figure size 432x288 with 2 Axes>"
      ]
     },
     "metadata": {
      "needs_background": "light"
     },
     "output_type": "display_data"
    }
   ],
   "source": [
    "\n",
    "from sklearn.ensemble import RandomForestClassifier\n",
    "RFC = RandomForestClassifier(n_estimators = 400, random_state = 42, class_weight = 'balanced')\n",
    "\n",
    "RFC.fit(x_train, y_train_2)\n",
    "y_pred = RFC.predict(x_test)\n",
    "print(classification_report(y_test_2,y_pred))\n",
    "ConfusionMatrixDisplay.from_estimator(RFC,x_test, y_test_2, normalize = 'pred')"
   ]
  },
  {
   "cell_type": "code",
   "execution_count": null,
   "metadata": {},
   "outputs": [],
   "source": []
  },
  {
   "cell_type": "code",
   "execution_count": 240,
   "metadata": {},
   "outputs": [
    {
     "name": "stdout",
     "output_type": "stream",
     "text": [
      "              precision    recall  f1-score   support\n",
      "\n",
      "           0       0.76      0.67      0.71      1821\n",
      "           1       0.90      0.94      0.92      6111\n",
      "\n",
      "    accuracy                           0.88      7932\n",
      "   macro avg       0.83      0.80      0.82      7932\n",
      "weighted avg       0.87      0.88      0.87      7932\n",
      "\n"
     ]
    },
    {
     "data": {
      "text/plain": [
       "<sklearn.metrics._plot.confusion_matrix.ConfusionMatrixDisplay at 0x123c4cdc0>"
      ]
     },
     "execution_count": 240,
     "metadata": {},
     "output_type": "execute_result"
    },
    {
     "data": {
      "image/png": "[encoded data removed]",
      "text/plain": [
       "<Figure size 432x288 with 1 Axes>"
      ]
     },
     "metadata": {
      "needs_background": "light"
     },
     "output_type": "display_data"
    },
    {
     "data": {
      "image/png": "[encoded data removed]",
      "text/plain": [
       "<Figure size 432x288 with 2 Axes>"
      ]
     },
     "metadata": {
      "needs_background": "light"
     },
     "output_type": "display_data"
    }
   ],
   "source": [
    "from sklearn.linear_model import LogisticRegression\n",
    "from sklearn.metrics import roc_auc_score\n",
    "from sklearn.metrics import RocCurveDisplay\n",
    "from sklearn.metrics import roc_curve\n",
    "LR = LogisticRegression(random_state=42)\n",
    "LR.fit(x_train, y_train_2)\n",
    "y_score = LR.decision_function(x_test)\n",
    "y_pred = LR.predict(x_test)\n",
    "fpr, tpr, _ = roc_curve(y_test_2, y_score, pos_label = LR.classes_[1])\n",
    "roc_display = RocCurveDisplay(fpr=fpr, tpr=tpr).plot()\n",
    "print(classification_report(y_test_2,y_pred))\n",
    "ConfusionMatrixDisplay.from_estimator( LR,x_test, y_test_2, normalize = 'pred')"
   ]
  },
  {
   "cell_type": "code",
   "execution_count": 221,
   "metadata": {},
   "outputs": [
    {
     "data": {
      "text/html": [
       "<div>\n",
       "<style scoped>\n",
       "    .dataframe tbody tr th:only-of-type {\n",
       "        vertical-align: middle;\n",
       "    }\n",
       "\n",
       "    .dataframe tbody tr th {\n",
       "        vertical-align: top;\n",
       "    }\n",
       "\n",
       "    .dataframe thead th {\n",
       "        text-align: right;\n",
       "    }\n",
       "</style>\n",
       "<table border=\"1\" class=\"dataframe\">\n",
       "  <thead>\n",
       "    <tr style=\"text-align: right;\">\n",
       "      <th></th>\n",
       "      <th>BOGO_r10_d10_u5</th>\n",
       "      <th>BOGO_r10_d10_u7</th>\n",
       "      <th>BOGO_r5_d5_u5</th>\n",
       "      <th>BOGO_r5_d5_u7</th>\n",
       "      <th>DIS_r2_d10_u10</th>\n",
       "      <th>DIS_r2_d10_u7</th>\n",
       "      <th>DIS_r3_d7_u7</th>\n",
       "      <th>DIS_r5_d20_u10</th>\n",
       "      <th>mean_amount_without_offer</th>\n",
       "      <th>age</th>\n",
       "      <th>income</th>\n",
       "      <th>age2</th>\n",
       "      <th>income2</th>\n",
       "      <th>mean_amount_without_offer2</th>\n",
       "      <th>gender_M</th>\n",
       "    </tr>\n",
       "  </thead>\n",
       "  <tbody>\n",
       "    <tr>\n",
       "      <th>0</th>\n",
       "      <td>-5.490325</td>\n",
       "      <td>-5.508461</td>\n",
       "      <td>-3.113939</td>\n",
       "      <td>-3.079912</td>\n",
       "      <td>-0.942112</td>\n",
       "      <td>-0.803564</td>\n",
       "      <td>-1.757674</td>\n",
       "      <td>-2.342708</td>\n",
       "      <td>-2.876088</td>\n",
       "      <td>0.308133</td>\n",
       "      <td>1.509469</td>\n",
       "      <td>-0.277025</td>\n",
       "      <td>-0.186831</td>\n",
       "      <td>0.420367</td>\n",
       "      <td>-0.137517</td>\n",
       "    </tr>\n",
       "  </tbody>\n",
       "</table>\n",
       "</div>"
      ],
      "text/plain": [
       "   BOGO_r10_d10_u5  BOGO_r10_d10_u7  BOGO_r5_d5_u5  BOGO_r5_d5_u7  \\\n",
       "0        -5.490325        -5.508461      -3.113939      -3.079912   \n",
       "\n",
       "   DIS_r2_d10_u10  DIS_r2_d10_u7  DIS_r3_d7_u7  DIS_r5_d20_u10  \\\n",
       "0       -0.942112      -0.803564     -1.757674       -2.342708   \n",
       "\n",
       "   mean_amount_without_offer       age    income      age2   income2  \\\n",
       "0                  -2.876088  0.308133  1.509469 -0.277025 -0.186831   \n",
       "\n",
       "   mean_amount_without_offer2  gender_M  \n",
       "0                    0.420367 -0.137517  "
      ]
     },
     "execution_count": 221,
     "metadata": {},
     "output_type": "execute_result"
    }
   ],
   "source": [
    "pd.DataFrame(LR.coef_, columns = x_train.columns)"
   ]
  },
  {
   "cell_type": "code",
   "execution_count": 220,
   "metadata": {},
   "outputs": [],
   "source": [
    "LR.class_weight"
   ]
  },
  {
   "cell_type": "code",
   "execution_count": 178,
   "metadata": {},
   "outputs": [
    {
     "data": {
      "text/plain": [
       "(6761,)"
      ]
     },
     "execution_count": 178,
     "metadata": {},
     "output_type": "execute_result"
    }
   ],
   "source": [
    "y_pred.shape"
   ]
  },
  {
   "cell_type": "code",
   "execution_count": 246,
   "metadata": {},
   "outputs": [
    {
     "name": "stdout",
     "output_type": "stream",
     "text": [
      "0.800302571860817\n",
      "              precision    recall  f1-score   support\n",
      "\n",
      "           0       0.76      0.67      0.71      1821\n",
      "           1       0.90      0.94      0.92      6111\n",
      "\n",
      "    accuracy                           0.88      7932\n",
      "   macro avg       0.83      0.80      0.82      7932\n",
      "weighted avg       0.87      0.88      0.87      7932\n",
      "\n"
     ]
    },
    {
     "data": {
      "text/plain": [
       "<sklearn.metrics._plot.confusion_matrix.ConfusionMatrixDisplay at 0x13ba19b20>"
      ]
     },
     "execution_count": 246,
     "metadata": {},
     "output_type": "execute_result"
    },
    {
     "data": {
      "image/png": "[encoded data removed]",
      "text/plain": [
       "<Figure size 432x288 with 2 Axes>"
      ]
     },
     "metadata": {
      "needs_background": "light"
     },
     "output_type": "display_data"
    }
   ],
   "source": [
    "from sklearn.metrics import confusion_matrix\n",
    "y_prob = LR.predict_proba(x_test)\n",
    "threshold = 0.5\n",
    "y_th_6 = np.where(y_prob[:,1] > threshold, 1, 0) \n",
    "print(np.mean(y_th_6))\n",
    "print(classification_report(y_test_2,y_th_6))\n",
    "cm = confusion_matrix(y_test_2, y_th_6)\n",
    "ConfusionMatrixDisplay(cm).plot()\n",
    "#ConfusionMatrixDisplay(x_test, y_test_two, normalize = 'pred'"
   ]
  },
  {
   "cell_type": "code",
   "execution_count": 180,
   "metadata": {},
   "outputs": [
    {
     "data": {
      "text/plain": [
       "(6761,)"
      ]
     },
     "execution_count": 180,
     "metadata": {},
     "output_type": "execute_result"
    }
   ],
   "source": [
    "y_test_2.shape"
   ]
  },
  {
   "cell_type": "code",
   "execution_count": null,
   "metadata": {},
   "outputs": [],
   "source": [
    "coef = pd.DataFrame(columns = x_train.columns)\n",
    "coef.loc[0,:] = MCF.coef_[0]\n",
    "coef"
   ]
  },
  {
   "cell_type": "code",
   "execution_count": null,
   "metadata": {},
   "outputs": [],
   "source": [
    "pd.Series(MCF.coef_[0])"
   ]
  },
  {
   "cell_type": "code",
   "execution_count": null,
   "metadata": {},
   "outputs": [
    {
     "name": "stdout",
     "output_type": "stream",
     "text": [
      "0.46653478404220244\n",
      "              precision    recall  f1-score   support\n",
      "\n",
      "   Negative2       0.26      0.37      0.30       325\n",
      "   Positive1       0.52      0.42      0.46       911\n",
      "   Positive2       0.52      0.42      0.47      1150\n",
      "   Positive4       0.48      0.66      0.56       647\n",
      "\n",
      "    accuracy                           0.47      3033\n",
      "   macro avg       0.44      0.47      0.45      3033\n",
      "weighted avg       0.48      0.47      0.47      3033\n",
      "\n"
     ]
    },
    {
     "data": {
      "text/plain": [
       "<sklearn.metrics._plot.confusion_matrix.ConfusionMatrixDisplay at 0x7fdac602cca0>"
      ]
     },
     "execution_count": 116,
     "metadata": {},
     "output_type": "execute_result"
    },
    {
     "data": {
      "image/png": "[encoded data removed]",
      "text/plain": [
       "<Figure size 432x288 with 2 Axes>"
      ]
     },
     "metadata": {
      "needs_background": "light"
     },
     "output_type": "display_data"
    }
   ],
   "source": [
    "#MCF = OneVsRestClassifier(LinearSVC(random_state = 42,penalty = 'l1', dual = False ,loss = 'hinge', max_iter = 100000, class_weight = 'balanced') )\n",
    "MCF = OneVsRestClassifier(SVC(random_state = 42, max_iter = 100000, class_weight = 'balanced') )\n",
    "\n",
    "MCF.fit(x_train, y_train_new)\n",
    "print(MCF.score(x_test, y_test_new))\n",
    "y_pred = MCF.predict(x_test)\n",
    "print(classification_report(y_test_new,y_pred, target_names = MCF.classes_))\n",
    "ConfusionMatrixDisplay.from_estimator( MCF,x_test, y_test_new, normalize = 'true')"
   ]
  },
  {
   "cell_type": "code",
   "execution_count": null,
   "metadata": {},
   "outputs": [],
   "source": [
    "y_train_two.describe()"
   ]
  },
  {
   "cell_type": "code",
   "execution_count": 61,
   "metadata": {},
   "outputs": [
    {
     "name": "stdout",
     "output_type": "stream",
     "text": [
      "0.8607061091697795\n",
      "              precision    recall  f1-score   support\n",
      "\n",
      "           0       0.71      0.61      0.66      1816\n",
      "           1       0.89      0.93      0.91      6483\n",
      "\n",
      "    accuracy                           0.86      8299\n",
      "   macro avg       0.80      0.77      0.78      8299\n",
      "weighted avg       0.85      0.86      0.86      8299\n",
      "\n"
     ]
    },
    {
     "data": {
      "text/plain": [
       "<sklearn.metrics._plot.confusion_matrix.ConfusionMatrixDisplay at 0x1251166a0>"
      ]
     },
     "execution_count": 61,
     "metadata": {},
     "output_type": "execute_result"
    },
    {
     "data": {
      "image/png": "[encoded data removed]",
      "text/plain": [
       "<Figure size 432x288 with 2 Axes>"
      ]
     },
     "metadata": {
      "needs_background": "light"
     },
     "output_type": "display_data"
    }
   ],
   "source": [
    "from sklearn.neural_network import MLPClassifier\n",
    "MLP = MLPClassifier(alpha=0.01,random_state = 42,max_iter = 500, activation = 'logistic')\n",
    "MLP.fit(x_train, y_train_2)\n",
    "print(MLP.score(x_test, y_test_2))\n",
    "y_pred = MLP.predict(x_test)\n",
    "print(classification_report(y_test_2,y_pred))\n",
    "ConfusionMatrixDisplay.from_estimator( MLP,x_test, y_test_2, normalize = 'pred')  "
   ]
  },
  {
   "cell_type": "code",
   "execution_count": 259,
   "metadata": {},
   "outputs": [
    {
     "name": "stdout",
     "output_type": "stream",
     "text": [
      "0.8761976802824004\n",
      "<< Matthews Correlation:\n",
      "0.6362352694274408\n",
      "              precision    recall  f1-score   support\n",
      "\n",
      "           0       0.76      0.67      0.71      1821\n",
      "           1       0.90      0.94      0.92      6111\n",
      "\n",
      "    accuracy                           0.88      7932\n",
      "   macro avg       0.83      0.80      0.82      7932\n",
      "weighted avg       0.87      0.88      0.87      7932\n",
      "\n"
     ]
    },
    {
     "data": {
      "text/plain": [
       "<sklearn.metrics._plot.confusion_matrix.ConfusionMatrixDisplay at 0x13bcc47f0>"
      ]
     },
     "execution_count": 259,
     "metadata": {},
     "output_type": "execute_result"
    },
    {
     "data": {
      "image/png": "[encoded data removed]",
      "text/plain": [
       "<Figure size 432x288 with 2 Axes>"
      ]
     },
     "metadata": {
      "needs_background": "light"
     },
     "output_type": "display_data"
    }
   ],
   "source": [
    "MLP = MLPClassifier(alpha=0.4,random_state = 42,max_iter = 500)\n",
    "MLP.fit(x_train, y_train_2)\n",
    "print(MLP.score(x_test, y_test_2))\n",
    "y_pred = MLP.predict(x_test)\n",
    "print('<< Matthews Correlation:')\n",
    "print(matthews_corrcoef(y_test_2, y_pred))\n",
    "print(classification_report(y_test_2,y_pred))\n",
    "ConfusionMatrixDisplay.from_estimator( MLP,x_test, y_test_2, normalize = 'pred')  "
   ]
  },
  {
   "cell_type": "code",
   "execution_count": 260,
   "metadata": {},
   "outputs": [
    {
     "name": "stdout",
     "output_type": "stream",
     "text": [
      "0.7326021180030258\n",
      "<< Matthews Correlation:\n",
      "0.4614772677534903\n",
      "              precision    recall  f1-score   support\n",
      "\n",
      "     Low Neg       0.75      0.71      0.73      1821\n",
      "    Positive       0.81      0.04      0.07      1196\n",
      "       light       0.73      0.91      0.81      4915\n",
      "\n",
      "    accuracy                           0.73      7932\n",
      "   macro avg       0.76      0.55      0.54      7932\n",
      "weighted avg       0.75      0.73      0.68      7932\n",
      "\n"
     ]
    },
    {
     "data": {
      "text/plain": [
       "<sklearn.metrics._plot.confusion_matrix.ConfusionMatrixDisplay at 0x123ec3640>"
      ]
     },
     "execution_count": 260,
     "metadata": {},
     "output_type": "execute_result"
    },
    {
     "data": {
      "image/png": "[encoded data removed]",
      "text/plain": [
       "<Figure size 432x288 with 2 Axes>"
      ]
     },
     "metadata": {
      "needs_background": "light"
     },
     "output_type": "display_data"
    }
   ],
   "source": [
    "MLP = MLPClassifier(alpha=0.4,random_state = 42,max_iter = 500)\n",
    "MLP.fit(x_train, y_train_3)\n",
    "print(MLP.score(x_test, y_test_3))\n",
    "y_pred = MLP.predict(x_test)\n",
    "print('<< Matthews Correlation:')\n",
    "print(matthews_corrcoef(y_test_3, y_pred))\n",
    "print(classification_report(y_test_3,y_pred))\n",
    "ConfusionMatrixDisplay.from_estimator( MLP,x_test, y_test_3, normalize = 'pred')  "
   ]
  },
  {
   "cell_type": "code",
   "execution_count": 62,
   "metadata": {},
   "outputs": [
    {
     "name": "stdout",
     "output_type": "stream",
     "text": [
      "0.6846608025063261\n",
      "<< Matthews Correlation:\n",
      "0.38419764843330095\n",
      "              precision    recall  f1-score   support\n",
      "\n",
      "     Low Neg       0.70      0.61      0.65      1816\n",
      "    Positive       0.66      0.08      0.14      1526\n",
      "       light       0.68      0.90      0.77      4957\n",
      "\n",
      "    accuracy                           0.68      8299\n",
      "   macro avg       0.68      0.53      0.52      8299\n",
      "weighted avg       0.68      0.68      0.63      8299\n",
      "\n"
     ]
    },
    {
     "data": {
      "text/plain": [
       "<sklearn.metrics._plot.confusion_matrix.ConfusionMatrixDisplay at 0x12286c100>"
      ]
     },
     "execution_count": 62,
     "metadata": {},
     "output_type": "execute_result"
    },
    {
     "data": {
      "image/png": "[encoded data removed]",
      "text/plain": [
       "<Figure size 432x288 with 2 Axes>"
      ]
     },
     "metadata": {
      "needs_background": "light"
     },
     "output_type": "display_data"
    }
   ],
   "source": [
    "MLP = MLPClassifier(alpha=0.4,random_state = 42,max_iter = 500)\n",
    "MLP.fit(x_train, y_train_3)\n",
    "print(MLP.score(x_test, y_test_3))\n",
    "y_pred = MLP.predict(x_test)\n",
    "print('<< Matthews Correlation:')\n",
    "print(matthews_corrcoef(y_test_3, y_pred))\n",
    "print(classification_report(y_test_3,y_pred))\n",
    "ConfusionMatrixDisplay.from_estimator( MLP,x_test, y_test_3, normalize = 'pred')  "
   ]
  },
  {
   "cell_type": "markdown",
   "metadata": {},
   "source": [
    "## 2. Classifier"
   ]
  },
  {
   "cell_type": "code",
   "execution_count": 91,
   "metadata": {},
   "outputs": [
    {
     "data": {
      "text/plain": [
       "<AxesSubplot:>"
      ]
     },
     "execution_count": 91,
     "metadata": {},
     "output_type": "execute_result"
    },
    {
     "data": {
      "image/png": "[encoded data removed]",
      "text/plain": [
       "<Figure size 432x288 with 1 Axes>"
      ]
     },
     "metadata": {
      "needs_background": "light"
     },
     "output_type": "display_data"
    }
   ],
   "source": [
    "y.hist()"
   ]
  },
  {
   "cell_type": "code",
   "execution_count": 78,
   "metadata": {},
   "outputs": [],
   "source": [
    "from sklearn.decomposition import PCA\n",
    "pca = PCA(n_components=x_train.shape[1])\n",
    "pca.fit(x_train)\n",
    "x_train_pca = pca.transform(x_train)\n",
    "x_test_pca = pca.transform(x_test)"
   ]
  },
  {
   "cell_type": "code",
   "execution_count": 113,
   "metadata": {},
   "outputs": [],
   "source": [
    "from sklearn.decomposition import PCA\n",
    "from sklearn.preprocessing import StandardScaler\n",
    "Y_3 = y.map(lambda x: '<-5' if x < -5 else ('<0' if x < 0 else '>0' ))\n",
    "Y_2 = y.map(lambda x: 0 if x < 0 else 1)\n",
    "x_train2, x_test2, y_train2, y_test2 = train_test_split(x,Y_2, test_size=0.3, stratify=Y_2, random_state=42)\n",
    "x_train3, x_test3, y_train3, y_test3 = train_test_split(x,Y_3, test_size=0.3, stratify=Y_3, random_state=42)"
   ]
  },
  {
   "cell_type": "code",
   "execution_count": 108,
   "metadata": {},
   "outputs": [
    {
     "data": {
      "text/html": [
       "<div>\n",
       "<style scoped>\n",
       "    .dataframe tbody tr th:only-of-type {\n",
       "        vertical-align: middle;\n",
       "    }\n",
       "\n",
       "    .dataframe tbody tr th {\n",
       "        vertical-align: top;\n",
       "    }\n",
       "\n",
       "    .dataframe thead th {\n",
       "        text-align: right;\n",
       "    }\n",
       "</style>\n",
       "<table border=\"1\" class=\"dataframe\">\n",
       "  <thead>\n",
       "    <tr style=\"text-align: right;\">\n",
       "      <th></th>\n",
       "      <th>BOGO_r10_d10_u5</th>\n",
       "      <th>BOGO_r10_d10_u7</th>\n",
       "      <th>BOGO_r5_d5_u5</th>\n",
       "      <th>BOGO_r5_d5_u7</th>\n",
       "      <th>DIS_r2_d10_u10</th>\n",
       "      <th>DIS_r2_d10_u7</th>\n",
       "      <th>DIS_r3_d7_u7</th>\n",
       "      <th>DIS_r5_d20_u10</th>\n",
       "      <th>mean_amount_without_offer</th>\n",
       "      <th>gender</th>\n",
       "      <th>age</th>\n",
       "      <th>income</th>\n",
       "      <th>age2</th>\n",
       "      <th>income2</th>\n",
       "      <th>mean_amount_without_offer2</th>\n",
       "    </tr>\n",
       "  </thead>\n",
       "  <tbody>\n",
       "    <tr>\n",
       "      <th>0</th>\n",
       "      <td>0</td>\n",
       "      <td>0</td>\n",
       "      <td>0</td>\n",
       "      <td>1</td>\n",
       "      <td>0</td>\n",
       "      <td>0</td>\n",
       "      <td>0</td>\n",
       "      <td>0</td>\n",
       "      <td>23.532000</td>\n",
       "      <td>F</td>\n",
       "      <td>75.0</td>\n",
       "      <td>100000.0</td>\n",
       "      <td>5625.0</td>\n",
       "      <td>1.000000e+10</td>\n",
       "      <td>553.755024</td>\n",
       "    </tr>\n",
       "    <tr>\n",
       "      <th>1</th>\n",
       "      <td>0</td>\n",
       "      <td>1</td>\n",
       "      <td>1</td>\n",
       "      <td>0</td>\n",
       "      <td>0</td>\n",
       "      <td>0</td>\n",
       "      <td>0</td>\n",
       "      <td>0</td>\n",
       "      <td>23.532000</td>\n",
       "      <td>F</td>\n",
       "      <td>75.0</td>\n",
       "      <td>100000.0</td>\n",
       "      <td>5625.0</td>\n",
       "      <td>1.000000e+10</td>\n",
       "      <td>553.755024</td>\n",
       "    </tr>\n",
       "    <tr>\n",
       "      <th>2</th>\n",
       "      <td>0</td>\n",
       "      <td>0</td>\n",
       "      <td>0</td>\n",
       "      <td>1</td>\n",
       "      <td>1</td>\n",
       "      <td>0</td>\n",
       "      <td>0</td>\n",
       "      <td>0</td>\n",
       "      <td>19.655000</td>\n",
       "      <td>M</td>\n",
       "      <td>68.0</td>\n",
       "      <td>70000.0</td>\n",
       "      <td>4624.0</td>\n",
       "      <td>4.900000e+09</td>\n",
       "      <td>386.319025</td>\n",
       "    </tr>\n",
       "    <tr>\n",
       "      <th>7</th>\n",
       "      <td>0</td>\n",
       "      <td>0</td>\n",
       "      <td>0</td>\n",
       "      <td>0</td>\n",
       "      <td>1</td>\n",
       "      <td>0</td>\n",
       "      <td>0</td>\n",
       "      <td>0</td>\n",
       "      <td>2.826667</td>\n",
       "      <td>M</td>\n",
       "      <td>58.0</td>\n",
       "      <td>51000.0</td>\n",
       "      <td>3364.0</td>\n",
       "      <td>2.601000e+09</td>\n",
       "      <td>7.990044</td>\n",
       "    </tr>\n",
       "    <tr>\n",
       "      <th>8</th>\n",
       "      <td>1</td>\n",
       "      <td>0</td>\n",
       "      <td>0</td>\n",
       "      <td>0</td>\n",
       "      <td>0</td>\n",
       "      <td>0</td>\n",
       "      <td>0</td>\n",
       "      <td>0</td>\n",
       "      <td>14.903333</td>\n",
       "      <td>F</td>\n",
       "      <td>61.0</td>\n",
       "      <td>57000.0</td>\n",
       "      <td>3721.0</td>\n",
       "      <td>3.249000e+09</td>\n",
       "      <td>222.109344</td>\n",
       "    </tr>\n",
       "  </tbody>\n",
       "</table>\n",
       "</div>"
      ],
      "text/plain": [
       "   BOGO_r10_d10_u5  BOGO_r10_d10_u7  BOGO_r5_d5_u5  BOGO_r5_d5_u7  \\\n",
       "0                0                0              0              1   \n",
       "1                0                1              1              0   \n",
       "2                0                0              0              1   \n",
       "7                0                0              0              0   \n",
       "8                1                0              0              0   \n",
       "\n",
       "   DIS_r2_d10_u10  DIS_r2_d10_u7  DIS_r3_d7_u7  DIS_r5_d20_u10  \\\n",
       "0               0              0             0               0   \n",
       "1               0              0             0               0   \n",
       "2               1              0             0               0   \n",
       "7               1              0             0               0   \n",
       "8               0              0             0               0   \n",
       "\n",
       "   mean_amount_without_offer gender   age    income    age2       income2  \\\n",
       "0                  23.532000      F  75.0  100000.0  5625.0  1.000000e+10   \n",
       "1                  23.532000      F  75.0  100000.0  5625.0  1.000000e+10   \n",
       "2                  19.655000      M  68.0   70000.0  4624.0  4.900000e+09   \n",
       "7                   2.826667      M  58.0   51000.0  3364.0  2.601000e+09   \n",
       "8                  14.903333      F  61.0   57000.0  3721.0  3.249000e+09   \n",
       "\n",
       "   mean_amount_without_offer2  \n",
       "0                  553.755024  \n",
       "1                  553.755024  \n",
       "2                  386.319025  \n",
       "7                    7.990044  \n",
       "8                  222.109344  "
      ]
     },
     "execution_count": 108,
     "metadata": {},
     "output_type": "execute_result"
    }
   ],
   "source": [
    "x.head()"
   ]
  },
  {
   "cell_type": "code",
   "execution_count": 114,
   "metadata": {},
   "outputs": [
    {
     "ename": "ValueError",
     "evalue": "not enough values to unpack (expected 3, got 2)",
     "output_type": "error",
     "traceback": [
      "\u001b[0;31m---------------------------------------------------------------------------\u001b[0m",
      "\u001b[0;31mValueError\u001b[0m                                Traceback (most recent call last)",
      "\u001b[0;32m/var/folders/30/7315_y354gq6jtmkbnn425cw0000gn/T/ipykernel_10886/1200729410.py\u001b[0m in \u001b[0;36m<module>\u001b[0;34m\u001b[0m\n\u001b[1;32m     27\u001b[0m \u001b[0;34m\u001b[0m\u001b[0m\n\u001b[1;32m     28\u001b[0m \u001b[0mgrid\u001b[0m \u001b[0;34m=\u001b[0m \u001b[0mGridSearchCV\u001b[0m\u001b[0;34m(\u001b[0m\u001b[0mclf\u001b[0m\u001b[0;34m,\u001b[0m \u001b[0mparam_grid\u001b[0m\u001b[0;34m=\u001b[0m\u001b[0mgrid_params\u001b[0m\u001b[0;34m)\u001b[0m\u001b[0;34m\u001b[0m\u001b[0;34m\u001b[0m\u001b[0m\n\u001b[0;32m---> 29\u001b[0;31m \u001b[0mgrid\u001b[0m\u001b[0;34m.\u001b[0m\u001b[0mfit\u001b[0m\u001b[0;34m(\u001b[0m\u001b[0mx_train2\u001b[0m\u001b[0;34m,\u001b[0m \u001b[0my_train2\u001b[0m\u001b[0;34m)\u001b[0m\u001b[0;34m\u001b[0m\u001b[0;34m\u001b[0m\u001b[0m\n\u001b[0m\u001b[1;32m     30\u001b[0m \u001b[0;34m\u001b[0m\u001b[0m\n\u001b[1;32m     31\u001b[0m \u001b[0mnp\u001b[0m\u001b[0;34m.\u001b[0m\u001b[0mvar\u001b[0m\u001b[0;34m(\u001b[0m\u001b[0mx_train_pca\u001b[0m\u001b[0;34m,\u001b[0m\u001b[0maxis\u001b[0m\u001b[0;34m=\u001b[0m\u001b[0;36m0\u001b[0m\u001b[0;34m)\u001b[0m\u001b[0;34m\u001b[0m\u001b[0;34m\u001b[0m\u001b[0m\n",
      "\u001b[0;32m/usr/local/lib/python3.9/site-packages/sklearn/model_selection/_search.py\u001b[0m in \u001b[0;36mfit\u001b[0;34m(self, X, y, groups, **fit_params)\u001b[0m\n\u001b[1;32m    889\u001b[0m                 \u001b[0;32mreturn\u001b[0m \u001b[0mresults\u001b[0m\u001b[0;34m\u001b[0m\u001b[0;34m\u001b[0m\u001b[0m\n\u001b[1;32m    890\u001b[0m \u001b[0;34m\u001b[0m\u001b[0m\n\u001b[0;32m--> 891\u001b[0;31m             \u001b[0mself\u001b[0m\u001b[0;34m.\u001b[0m\u001b[0m_run_search\u001b[0m\u001b[0;34m(\u001b[0m\u001b[0mevaluate_candidates\u001b[0m\u001b[0;34m)\u001b[0m\u001b[0;34m\u001b[0m\u001b[0;34m\u001b[0m\u001b[0m\n\u001b[0m\u001b[1;32m    892\u001b[0m \u001b[0;34m\u001b[0m\u001b[0m\n\u001b[1;32m    893\u001b[0m             \u001b[0;31m# multimetric is determined here because in the case of a callable\u001b[0m\u001b[0;34m\u001b[0m\u001b[0;34m\u001b[0m\u001b[0m\n",
      "\u001b[0;32m/usr/local/lib/python3.9/site-packages/sklearn/model_selection/_search.py\u001b[0m in \u001b[0;36m_run_search\u001b[0;34m(self, evaluate_candidates)\u001b[0m\n\u001b[1;32m   1390\u001b[0m     \u001b[0;32mdef\u001b[0m \u001b[0m_run_search\u001b[0m\u001b[0;34m(\u001b[0m\u001b[0mself\u001b[0m\u001b[0;34m,\u001b[0m \u001b[0mevaluate_candidates\u001b[0m\u001b[0;34m)\u001b[0m\u001b[0;34m:\u001b[0m\u001b[0;34m\u001b[0m\u001b[0;34m\u001b[0m\u001b[0m\n\u001b[1;32m   1391\u001b[0m         \u001b[0;34m\"\"\"Search all candidates in param_grid\"\"\"\u001b[0m\u001b[0;34m\u001b[0m\u001b[0;34m\u001b[0m\u001b[0m\n\u001b[0;32m-> 1392\u001b[0;31m         \u001b[0mevaluate_candidates\u001b[0m\u001b[0;34m(\u001b[0m\u001b[0mParameterGrid\u001b[0m\u001b[0;34m(\u001b[0m\u001b[0mself\u001b[0m\u001b[0;34m.\u001b[0m\u001b[0mparam_grid\u001b[0m\u001b[0;34m)\u001b[0m\u001b[0;34m)\u001b[0m\u001b[0;34m\u001b[0m\u001b[0;34m\u001b[0m\u001b[0m\n\u001b[0m\u001b[1;32m   1393\u001b[0m \u001b[0;34m\u001b[0m\u001b[0m\n\u001b[1;32m   1394\u001b[0m \u001b[0;34m\u001b[0m\u001b[0m\n",
      "\u001b[0;32m/usr/local/lib/python3.9/site-packages/sklearn/model_selection/_search.py\u001b[0m in \u001b[0;36mevaluate_candidates\u001b[0;34m(candidate_params, cv, more_results)\u001b[0m\n\u001b[1;32m    836\u001b[0m                     )\n\u001b[1;32m    837\u001b[0m \u001b[0;34m\u001b[0m\u001b[0m\n\u001b[0;32m--> 838\u001b[0;31m                 out = parallel(\n\u001b[0m\u001b[1;32m    839\u001b[0m                     delayed(_fit_and_score)(\n\u001b[1;32m    840\u001b[0m                         \u001b[0mclone\u001b[0m\u001b[0;34m(\u001b[0m\u001b[0mbase_estimator\u001b[0m\u001b[0;34m)\u001b[0m\u001b[0;34m,\u001b[0m\u001b[0;34m\u001b[0m\u001b[0;34m\u001b[0m\u001b[0m\n",
      "\u001b[0;32m/usr/local/lib/python3.9/site-packages/joblib/parallel.py\u001b[0m in \u001b[0;36m__call__\u001b[0;34m(self, iterable)\u001b[0m\n\u001b[1;32m   1039\u001b[0m             \u001b[0;31m# remaining jobs.\u001b[0m\u001b[0;34m\u001b[0m\u001b[0;34m\u001b[0m\u001b[0m\n\u001b[1;32m   1040\u001b[0m             \u001b[0mself\u001b[0m\u001b[0;34m.\u001b[0m\u001b[0m_iterating\u001b[0m \u001b[0;34m=\u001b[0m \u001b[0;32mFalse\u001b[0m\u001b[0;34m\u001b[0m\u001b[0;34m\u001b[0m\u001b[0m\n\u001b[0;32m-> 1041\u001b[0;31m             \u001b[0;32mif\u001b[0m \u001b[0mself\u001b[0m\u001b[0;34m.\u001b[0m\u001b[0mdispatch_one_batch\u001b[0m\u001b[0;34m(\u001b[0m\u001b[0miterator\u001b[0m\u001b[0;34m)\u001b[0m\u001b[0;34m:\u001b[0m\u001b[0;34m\u001b[0m\u001b[0;34m\u001b[0m\u001b[0m\n\u001b[0m\u001b[1;32m   1042\u001b[0m                 \u001b[0mself\u001b[0m\u001b[0;34m.\u001b[0m\u001b[0m_iterating\u001b[0m \u001b[0;34m=\u001b[0m \u001b[0mself\u001b[0m\u001b[0;34m.\u001b[0m\u001b[0m_original_iterator\u001b[0m \u001b[0;32mis\u001b[0m \u001b[0;32mnot\u001b[0m \u001b[0;32mNone\u001b[0m\u001b[0;34m\u001b[0m\u001b[0;34m\u001b[0m\u001b[0m\n\u001b[1;32m   1043\u001b[0m \u001b[0;34m\u001b[0m\u001b[0m\n",
      "\u001b[0;32m/usr/local/lib/python3.9/site-packages/joblib/parallel.py\u001b[0m in \u001b[0;36mdispatch_one_batch\u001b[0;34m(self, iterator)\u001b[0m\n\u001b[1;32m    857\u001b[0m                 \u001b[0;32mreturn\u001b[0m \u001b[0;32mFalse\u001b[0m\u001b[0;34m\u001b[0m\u001b[0;34m\u001b[0m\u001b[0m\n\u001b[1;32m    858\u001b[0m             \u001b[0;32melse\u001b[0m\u001b[0;34m:\u001b[0m\u001b[0;34m\u001b[0m\u001b[0;34m\u001b[0m\u001b[0m\n\u001b[0;32m--> 859\u001b[0;31m                 \u001b[0mself\u001b[0m\u001b[0;34m.\u001b[0m\u001b[0m_dispatch\u001b[0m\u001b[0;34m(\u001b[0m\u001b[0mtasks\u001b[0m\u001b[0;34m)\u001b[0m\u001b[0;34m\u001b[0m\u001b[0;34m\u001b[0m\u001b[0m\n\u001b[0m\u001b[1;32m    860\u001b[0m                 \u001b[0;32mreturn\u001b[0m \u001b[0;32mTrue\u001b[0m\u001b[0;34m\u001b[0m\u001b[0;34m\u001b[0m\u001b[0m\n\u001b[1;32m    861\u001b[0m \u001b[0;34m\u001b[0m\u001b[0m\n",
      "\u001b[0;32m/usr/local/lib/python3.9/site-packages/joblib/parallel.py\u001b[0m in \u001b[0;36m_dispatch\u001b[0;34m(self, batch)\u001b[0m\n\u001b[1;32m    775\u001b[0m         \u001b[0;32mwith\u001b[0m \u001b[0mself\u001b[0m\u001b[0;34m.\u001b[0m\u001b[0m_lock\u001b[0m\u001b[0;34m:\u001b[0m\u001b[0;34m\u001b[0m\u001b[0;34m\u001b[0m\u001b[0m\n\u001b[1;32m    776\u001b[0m             \u001b[0mjob_idx\u001b[0m \u001b[0;34m=\u001b[0m \u001b[0mlen\u001b[0m\u001b[0;34m(\u001b[0m\u001b[0mself\u001b[0m\u001b[0;34m.\u001b[0m\u001b[0m_jobs\u001b[0m\u001b[0;34m)\u001b[0m\u001b[0;34m\u001b[0m\u001b[0;34m\u001b[0m\u001b[0m\n\u001b[0;32m--> 777\u001b[0;31m             \u001b[0mjob\u001b[0m \u001b[0;34m=\u001b[0m \u001b[0mself\u001b[0m\u001b[0;34m.\u001b[0m\u001b[0m_backend\u001b[0m\u001b[0;34m.\u001b[0m\u001b[0mapply_async\u001b[0m\u001b[0;34m(\u001b[0m\u001b[0mbatch\u001b[0m\u001b[0;34m,\u001b[0m \u001b[0mcallback\u001b[0m\u001b[0;34m=\u001b[0m\u001b[0mcb\u001b[0m\u001b[0;34m)\u001b[0m\u001b[0;34m\u001b[0m\u001b[0;34m\u001b[0m\u001b[0m\n\u001b[0m\u001b[1;32m    778\u001b[0m             \u001b[0;31m# A job can complete so quickly than its callback is\u001b[0m\u001b[0;34m\u001b[0m\u001b[0;34m\u001b[0m\u001b[0m\n\u001b[1;32m    779\u001b[0m             \u001b[0;31m# called before we get here, causing self._jobs to\u001b[0m\u001b[0;34m\u001b[0m\u001b[0;34m\u001b[0m\u001b[0m\n",
      "\u001b[0;32m/usr/local/lib/python3.9/site-packages/joblib/_parallel_backends.py\u001b[0m in \u001b[0;36mapply_async\u001b[0;34m(self, func, callback)\u001b[0m\n\u001b[1;32m    206\u001b[0m     \u001b[0;32mdef\u001b[0m \u001b[0mapply_async\u001b[0m\u001b[0;34m(\u001b[0m\u001b[0mself\u001b[0m\u001b[0;34m,\u001b[0m \u001b[0mfunc\u001b[0m\u001b[0;34m,\u001b[0m \u001b[0mcallback\u001b[0m\u001b[0;34m=\u001b[0m\u001b[0;32mNone\u001b[0m\u001b[0;34m)\u001b[0m\u001b[0;34m:\u001b[0m\u001b[0;34m\u001b[0m\u001b[0;34m\u001b[0m\u001b[0m\n\u001b[1;32m    207\u001b[0m         \u001b[0;34m\"\"\"Schedule a func to be run\"\"\"\u001b[0m\u001b[0;34m\u001b[0m\u001b[0;34m\u001b[0m\u001b[0m\n\u001b[0;32m--> 208\u001b[0;31m         \u001b[0mresult\u001b[0m \u001b[0;34m=\u001b[0m \u001b[0mImmediateResult\u001b[0m\u001b[0;34m(\u001b[0m\u001b[0mfunc\u001b[0m\u001b[0;34m)\u001b[0m\u001b[0;34m\u001b[0m\u001b[0;34m\u001b[0m\u001b[0m\n\u001b[0m\u001b[1;32m    209\u001b[0m         \u001b[0;32mif\u001b[0m \u001b[0mcallback\u001b[0m\u001b[0;34m:\u001b[0m\u001b[0;34m\u001b[0m\u001b[0;34m\u001b[0m\u001b[0m\n\u001b[1;32m    210\u001b[0m             \u001b[0mcallback\u001b[0m\u001b[0;34m(\u001b[0m\u001b[0mresult\u001b[0m\u001b[0;34m)\u001b[0m\u001b[0;34m\u001b[0m\u001b[0;34m\u001b[0m\u001b[0m\n",
      "\u001b[0;32m/usr/local/lib/python3.9/site-packages/joblib/_parallel_backends.py\u001b[0m in \u001b[0;36m__init__\u001b[0;34m(self, batch)\u001b[0m\n\u001b[1;32m    570\u001b[0m         \u001b[0;31m# Don't delay the application, to avoid keeping the input\u001b[0m\u001b[0;34m\u001b[0m\u001b[0;34m\u001b[0m\u001b[0m\n\u001b[1;32m    571\u001b[0m         \u001b[0;31m# arguments in memory\u001b[0m\u001b[0;34m\u001b[0m\u001b[0;34m\u001b[0m\u001b[0m\n\u001b[0;32m--> 572\u001b[0;31m         \u001b[0mself\u001b[0m\u001b[0;34m.\u001b[0m\u001b[0mresults\u001b[0m \u001b[0;34m=\u001b[0m \u001b[0mbatch\u001b[0m\u001b[0;34m(\u001b[0m\u001b[0;34m)\u001b[0m\u001b[0;34m\u001b[0m\u001b[0;34m\u001b[0m\u001b[0m\n\u001b[0m\u001b[1;32m    573\u001b[0m \u001b[0;34m\u001b[0m\u001b[0m\n\u001b[1;32m    574\u001b[0m     \u001b[0;32mdef\u001b[0m \u001b[0mget\u001b[0m\u001b[0;34m(\u001b[0m\u001b[0mself\u001b[0m\u001b[0;34m)\u001b[0m\u001b[0;34m:\u001b[0m\u001b[0;34m\u001b[0m\u001b[0;34m\u001b[0m\u001b[0m\n",
      "\u001b[0;32m/usr/local/lib/python3.9/site-packages/joblib/parallel.py\u001b[0m in \u001b[0;36m__call__\u001b[0;34m(self)\u001b[0m\n\u001b[1;32m    260\u001b[0m         \u001b[0;31m# change the default number of processes to -1\u001b[0m\u001b[0;34m\u001b[0m\u001b[0;34m\u001b[0m\u001b[0m\n\u001b[1;32m    261\u001b[0m         \u001b[0;32mwith\u001b[0m \u001b[0mparallel_backend\u001b[0m\u001b[0;34m(\u001b[0m\u001b[0mself\u001b[0m\u001b[0;34m.\u001b[0m\u001b[0m_backend\u001b[0m\u001b[0;34m,\u001b[0m \u001b[0mn_jobs\u001b[0m\u001b[0;34m=\u001b[0m\u001b[0mself\u001b[0m\u001b[0;34m.\u001b[0m\u001b[0m_n_jobs\u001b[0m\u001b[0;34m)\u001b[0m\u001b[0;34m:\u001b[0m\u001b[0;34m\u001b[0m\u001b[0;34m\u001b[0m\u001b[0m\n\u001b[0;32m--> 262\u001b[0;31m             return [func(*args, **kwargs)\n\u001b[0m\u001b[1;32m    263\u001b[0m                     for func, args, kwargs in self.items]\n\u001b[1;32m    264\u001b[0m \u001b[0;34m\u001b[0m\u001b[0m\n",
      "\u001b[0;32m/usr/local/lib/python3.9/site-packages/joblib/parallel.py\u001b[0m in \u001b[0;36m<listcomp>\u001b[0;34m(.0)\u001b[0m\n\u001b[1;32m    260\u001b[0m         \u001b[0;31m# change the default number of processes to -1\u001b[0m\u001b[0;34m\u001b[0m\u001b[0;34m\u001b[0m\u001b[0m\n\u001b[1;32m    261\u001b[0m         \u001b[0;32mwith\u001b[0m \u001b[0mparallel_backend\u001b[0m\u001b[0;34m(\u001b[0m\u001b[0mself\u001b[0m\u001b[0;34m.\u001b[0m\u001b[0m_backend\u001b[0m\u001b[0;34m,\u001b[0m \u001b[0mn_jobs\u001b[0m\u001b[0;34m=\u001b[0m\u001b[0mself\u001b[0m\u001b[0;34m.\u001b[0m\u001b[0m_n_jobs\u001b[0m\u001b[0;34m)\u001b[0m\u001b[0;34m:\u001b[0m\u001b[0;34m\u001b[0m\u001b[0;34m\u001b[0m\u001b[0m\n\u001b[0;32m--> 262\u001b[0;31m             return [func(*args, **kwargs)\n\u001b[0m\u001b[1;32m    263\u001b[0m                     for func, args, kwargs in self.items]\n\u001b[1;32m    264\u001b[0m \u001b[0;34m\u001b[0m\u001b[0m\n",
      "\u001b[0;32m/usr/local/lib/python3.9/site-packages/sklearn/utils/fixes.py\u001b[0m in \u001b[0;36m__call__\u001b[0;34m(self, *args, **kwargs)\u001b[0m\n\u001b[1;32m    209\u001b[0m     \u001b[0;32mdef\u001b[0m \u001b[0m__call__\u001b[0m\u001b[0;34m(\u001b[0m\u001b[0mself\u001b[0m\u001b[0;34m,\u001b[0m \u001b[0;34m*\u001b[0m\u001b[0margs\u001b[0m\u001b[0;34m,\u001b[0m \u001b[0;34m**\u001b[0m\u001b[0mkwargs\u001b[0m\u001b[0;34m)\u001b[0m\u001b[0;34m:\u001b[0m\u001b[0;34m\u001b[0m\u001b[0;34m\u001b[0m\u001b[0m\n\u001b[1;32m    210\u001b[0m         \u001b[0;32mwith\u001b[0m \u001b[0mconfig_context\u001b[0m\u001b[0;34m(\u001b[0m\u001b[0;34m**\u001b[0m\u001b[0mself\u001b[0m\u001b[0;34m.\u001b[0m\u001b[0mconfig\u001b[0m\u001b[0;34m)\u001b[0m\u001b[0;34m:\u001b[0m\u001b[0;34m\u001b[0m\u001b[0;34m\u001b[0m\u001b[0m\n\u001b[0;32m--> 211\u001b[0;31m             \u001b[0;32mreturn\u001b[0m \u001b[0mself\u001b[0m\u001b[0;34m.\u001b[0m\u001b[0mfunction\u001b[0m\u001b[0;34m(\u001b[0m\u001b[0;34m*\u001b[0m\u001b[0margs\u001b[0m\u001b[0;34m,\u001b[0m \u001b[0;34m**\u001b[0m\u001b[0mkwargs\u001b[0m\u001b[0;34m)\u001b[0m\u001b[0;34m\u001b[0m\u001b[0;34m\u001b[0m\u001b[0m\n\u001b[0m\u001b[1;32m    212\u001b[0m \u001b[0;34m\u001b[0m\u001b[0m\n\u001b[1;32m    213\u001b[0m \u001b[0;34m\u001b[0m\u001b[0m\n",
      "\u001b[0;32m/usr/local/lib/python3.9/site-packages/sklearn/model_selection/_validation.py\u001b[0m in \u001b[0;36m_fit_and_score\u001b[0;34m(estimator, X, y, scorer, train, test, verbose, parameters, fit_params, return_train_score, return_parameters, return_n_test_samples, return_times, return_estimator, split_progress, candidate_progress, error_score)\u001b[0m\n\u001b[1;32m    667\u001b[0m             \u001b[0mcloned_parameters\u001b[0m\u001b[0;34m[\u001b[0m\u001b[0mk\u001b[0m\u001b[0;34m]\u001b[0m \u001b[0;34m=\u001b[0m \u001b[0mclone\u001b[0m\u001b[0;34m(\u001b[0m\u001b[0mv\u001b[0m\u001b[0;34m,\u001b[0m \u001b[0msafe\u001b[0m\u001b[0;34m=\u001b[0m\u001b[0;32mFalse\u001b[0m\u001b[0;34m)\u001b[0m\u001b[0;34m\u001b[0m\u001b[0;34m\u001b[0m\u001b[0m\n\u001b[1;32m    668\u001b[0m \u001b[0;34m\u001b[0m\u001b[0m\n\u001b[0;32m--> 669\u001b[0;31m         \u001b[0mestimator\u001b[0m \u001b[0;34m=\u001b[0m \u001b[0mestimator\u001b[0m\u001b[0;34m.\u001b[0m\u001b[0mset_params\u001b[0m\u001b[0;34m(\u001b[0m\u001b[0;34m**\u001b[0m\u001b[0mcloned_parameters\u001b[0m\u001b[0;34m)\u001b[0m\u001b[0;34m\u001b[0m\u001b[0;34m\u001b[0m\u001b[0m\n\u001b[0m\u001b[1;32m    670\u001b[0m \u001b[0;34m\u001b[0m\u001b[0m\n\u001b[1;32m    671\u001b[0m     \u001b[0mstart_time\u001b[0m \u001b[0;34m=\u001b[0m \u001b[0mtime\u001b[0m\u001b[0;34m.\u001b[0m\u001b[0mtime\u001b[0m\u001b[0;34m(\u001b[0m\u001b[0;34m)\u001b[0m\u001b[0;34m\u001b[0m\u001b[0;34m\u001b[0m\u001b[0m\n",
      "\u001b[0;32m/usr/local/lib/python3.9/site-packages/sklearn/pipeline.py\u001b[0m in \u001b[0;36mset_params\u001b[0;34m(self, **kwargs)\u001b[0m\n\u001b[1;32m    186\u001b[0m             \u001b[0mPipeline\u001b[0m \u001b[0;32mclass\u001b[0m \u001b[0minstance\u001b[0m\u001b[0;34m.\u001b[0m\u001b[0;34m\u001b[0m\u001b[0;34m\u001b[0m\u001b[0m\n\u001b[1;32m    187\u001b[0m         \"\"\"\n\u001b[0;32m--> 188\u001b[0;31m         \u001b[0mself\u001b[0m\u001b[0;34m.\u001b[0m\u001b[0m_set_params\u001b[0m\u001b[0;34m(\u001b[0m\u001b[0;34m\"steps\"\u001b[0m\u001b[0;34m,\u001b[0m \u001b[0;34m**\u001b[0m\u001b[0mkwargs\u001b[0m\u001b[0;34m)\u001b[0m\u001b[0;34m\u001b[0m\u001b[0;34m\u001b[0m\u001b[0m\n\u001b[0m\u001b[1;32m    189\u001b[0m         \u001b[0;32mreturn\u001b[0m \u001b[0mself\u001b[0m\u001b[0;34m\u001b[0m\u001b[0;34m\u001b[0m\u001b[0m\n\u001b[1;32m    190\u001b[0m \u001b[0;34m\u001b[0m\u001b[0m\n",
      "\u001b[0;32m/usr/local/lib/python3.9/site-packages/sklearn/utils/metaestimators.py\u001b[0m in \u001b[0;36m_set_params\u001b[0;34m(self, attr, **params)\u001b[0m\n\u001b[1;32m     52\u001b[0m                 \u001b[0mself\u001b[0m\u001b[0;34m.\u001b[0m\u001b[0m_replace_estimator\u001b[0m\u001b[0;34m(\u001b[0m\u001b[0mattr\u001b[0m\u001b[0;34m,\u001b[0m \u001b[0mname\u001b[0m\u001b[0;34m,\u001b[0m \u001b[0mparams\u001b[0m\u001b[0;34m.\u001b[0m\u001b[0mpop\u001b[0m\u001b[0;34m(\u001b[0m\u001b[0mname\u001b[0m\u001b[0;34m)\u001b[0m\u001b[0;34m)\u001b[0m\u001b[0;34m\u001b[0m\u001b[0;34m\u001b[0m\u001b[0m\n\u001b[1;32m     53\u001b[0m         \u001b[0;31m# 3. Step parameters and other initialisation arguments\u001b[0m\u001b[0;34m\u001b[0m\u001b[0;34m\u001b[0m\u001b[0m\n\u001b[0;32m---> 54\u001b[0;31m         \u001b[0msuper\u001b[0m\u001b[0;34m(\u001b[0m\u001b[0;34m)\u001b[0m\u001b[0;34m.\u001b[0m\u001b[0mset_params\u001b[0m\u001b[0;34m(\u001b[0m\u001b[0;34m**\u001b[0m\u001b[0mparams\u001b[0m\u001b[0;34m)\u001b[0m\u001b[0;34m\u001b[0m\u001b[0;34m\u001b[0m\u001b[0m\n\u001b[0m\u001b[1;32m     55\u001b[0m         \u001b[0;32mreturn\u001b[0m \u001b[0mself\u001b[0m\u001b[0;34m\u001b[0m\u001b[0;34m\u001b[0m\u001b[0m\n\u001b[1;32m     56\u001b[0m \u001b[0;34m\u001b[0m\u001b[0m\n",
      "\u001b[0;32m/usr/local/lib/python3.9/site-packages/sklearn/base.py\u001b[0m in \u001b[0;36mset_params\u001b[0;34m(self, **params)\u001b[0m\n\u001b[1;32m    232\u001b[0m             \u001b[0;31m# Simple optimization to gain speed (inspect is slow)\u001b[0m\u001b[0;34m\u001b[0m\u001b[0;34m\u001b[0m\u001b[0m\n\u001b[1;32m    233\u001b[0m             \u001b[0;32mreturn\u001b[0m \u001b[0mself\u001b[0m\u001b[0;34m\u001b[0m\u001b[0;34m\u001b[0m\u001b[0m\n\u001b[0;32m--> 234\u001b[0;31m         \u001b[0mvalid_params\u001b[0m \u001b[0;34m=\u001b[0m \u001b[0mself\u001b[0m\u001b[0;34m.\u001b[0m\u001b[0mget_params\u001b[0m\u001b[0;34m(\u001b[0m\u001b[0mdeep\u001b[0m\u001b[0;34m=\u001b[0m\u001b[0;32mTrue\u001b[0m\u001b[0;34m)\u001b[0m\u001b[0;34m\u001b[0m\u001b[0;34m\u001b[0m\u001b[0m\n\u001b[0m\u001b[1;32m    235\u001b[0m \u001b[0;34m\u001b[0m\u001b[0m\n\u001b[1;32m    236\u001b[0m         \u001b[0mnested_params\u001b[0m \u001b[0;34m=\u001b[0m \u001b[0mdefaultdict\u001b[0m\u001b[0;34m(\u001b[0m\u001b[0mdict\u001b[0m\u001b[0;34m)\u001b[0m  \u001b[0;31m# grouped by prefix\u001b[0m\u001b[0;34m\u001b[0m\u001b[0;34m\u001b[0m\u001b[0m\n",
      "\u001b[0;32m/usr/local/lib/python3.9/site-packages/sklearn/pipeline.py\u001b[0m in \u001b[0;36mget_params\u001b[0;34m(self, deep)\u001b[0m\n\u001b[1;32m    165\u001b[0m             \u001b[0mParameter\u001b[0m \u001b[0mnames\u001b[0m \u001b[0mmapped\u001b[0m \u001b[0mto\u001b[0m \u001b[0mtheir\u001b[0m \u001b[0mvalues\u001b[0m\u001b[0;34m.\u001b[0m\u001b[0;34m\u001b[0m\u001b[0;34m\u001b[0m\u001b[0m\n\u001b[1;32m    166\u001b[0m         \"\"\"\n\u001b[0;32m--> 167\u001b[0;31m         \u001b[0;32mreturn\u001b[0m \u001b[0mself\u001b[0m\u001b[0;34m.\u001b[0m\u001b[0m_get_params\u001b[0m\u001b[0;34m(\u001b[0m\u001b[0;34m\"steps\"\u001b[0m\u001b[0;34m,\u001b[0m \u001b[0mdeep\u001b[0m\u001b[0;34m=\u001b[0m\u001b[0mdeep\u001b[0m\u001b[0;34m)\u001b[0m\u001b[0;34m\u001b[0m\u001b[0;34m\u001b[0m\u001b[0m\n\u001b[0m\u001b[1;32m    168\u001b[0m \u001b[0;34m\u001b[0m\u001b[0m\n\u001b[1;32m    169\u001b[0m     \u001b[0;32mdef\u001b[0m \u001b[0mset_params\u001b[0m\u001b[0;34m(\u001b[0m\u001b[0mself\u001b[0m\u001b[0;34m,\u001b[0m \u001b[0;34m**\u001b[0m\u001b[0mkwargs\u001b[0m\u001b[0;34m)\u001b[0m\u001b[0;34m:\u001b[0m\u001b[0;34m\u001b[0m\u001b[0;34m\u001b[0m\u001b[0m\n",
      "\u001b[0;32m/usr/local/lib/python3.9/site-packages/sklearn/utils/metaestimators.py\u001b[0m in \u001b[0;36m_get_params\u001b[0;34m(self, attr, deep)\u001b[0m\n\u001b[1;32m     34\u001b[0m         \u001b[0;32mfor\u001b[0m \u001b[0mname\u001b[0m\u001b[0;34m,\u001b[0m \u001b[0mestimator\u001b[0m \u001b[0;32min\u001b[0m \u001b[0mestimators\u001b[0m\u001b[0;34m:\u001b[0m\u001b[0;34m\u001b[0m\u001b[0;34m\u001b[0m\u001b[0m\n\u001b[1;32m     35\u001b[0m             \u001b[0;32mif\u001b[0m \u001b[0mhasattr\u001b[0m\u001b[0;34m(\u001b[0m\u001b[0mestimator\u001b[0m\u001b[0;34m,\u001b[0m \u001b[0;34m\"get_params\"\u001b[0m\u001b[0;34m)\u001b[0m\u001b[0;34m:\u001b[0m\u001b[0;34m\u001b[0m\u001b[0;34m\u001b[0m\u001b[0m\n\u001b[0;32m---> 36\u001b[0;31m                 \u001b[0;32mfor\u001b[0m \u001b[0mkey\u001b[0m\u001b[0;34m,\u001b[0m \u001b[0mvalue\u001b[0m \u001b[0;32min\u001b[0m \u001b[0mestimator\u001b[0m\u001b[0;34m.\u001b[0m\u001b[0mget_params\u001b[0m\u001b[0;34m(\u001b[0m\u001b[0mdeep\u001b[0m\u001b[0;34m=\u001b[0m\u001b[0;32mTrue\u001b[0m\u001b[0;34m)\u001b[0m\u001b[0;34m.\u001b[0m\u001b[0mitems\u001b[0m\u001b[0;34m(\u001b[0m\u001b[0;34m)\u001b[0m\u001b[0;34m:\u001b[0m\u001b[0;34m\u001b[0m\u001b[0;34m\u001b[0m\u001b[0m\n\u001b[0m\u001b[1;32m     37\u001b[0m                     \u001b[0mout\u001b[0m\u001b[0;34m[\u001b[0m\u001b[0;34m\"%s__%s\"\u001b[0m \u001b[0;34m%\u001b[0m \u001b[0;34m(\u001b[0m\u001b[0mname\u001b[0m\u001b[0;34m,\u001b[0m \u001b[0mkey\u001b[0m\u001b[0;34m)\u001b[0m\u001b[0;34m]\u001b[0m \u001b[0;34m=\u001b[0m \u001b[0mvalue\u001b[0m\u001b[0;34m\u001b[0m\u001b[0;34m\u001b[0m\u001b[0m\n\u001b[1;32m     38\u001b[0m         \u001b[0;32mreturn\u001b[0m \u001b[0mout\u001b[0m\u001b[0;34m\u001b[0m\u001b[0;34m\u001b[0m\u001b[0m\n",
      "\u001b[0;32m/usr/local/lib/python3.9/site-packages/sklearn/compose/_column_transformer.py\u001b[0m in \u001b[0;36mget_params\u001b[0;34m(self, deep)\u001b[0m\n\u001b[1;32m    250\u001b[0m             \u001b[0mParameter\u001b[0m \u001b[0mnames\u001b[0m \u001b[0mmapped\u001b[0m \u001b[0mto\u001b[0m \u001b[0mtheir\u001b[0m \u001b[0mvalues\u001b[0m\u001b[0;34m.\u001b[0m\u001b[0;34m\u001b[0m\u001b[0;34m\u001b[0m\u001b[0m\n\u001b[1;32m    251\u001b[0m         \"\"\"\n\u001b[0;32m--> 252\u001b[0;31m         \u001b[0;32mreturn\u001b[0m \u001b[0mself\u001b[0m\u001b[0;34m.\u001b[0m\u001b[0m_get_params\u001b[0m\u001b[0;34m(\u001b[0m\u001b[0;34m\"_transformers\"\u001b[0m\u001b[0;34m,\u001b[0m \u001b[0mdeep\u001b[0m\u001b[0;34m=\u001b[0m\u001b[0mdeep\u001b[0m\u001b[0;34m)\u001b[0m\u001b[0;34m\u001b[0m\u001b[0;34m\u001b[0m\u001b[0m\n\u001b[0m\u001b[1;32m    253\u001b[0m \u001b[0;34m\u001b[0m\u001b[0m\n\u001b[1;32m    254\u001b[0m     \u001b[0;32mdef\u001b[0m \u001b[0mset_params\u001b[0m\u001b[0;34m(\u001b[0m\u001b[0mself\u001b[0m\u001b[0;34m,\u001b[0m \u001b[0;34m**\u001b[0m\u001b[0mkwargs\u001b[0m\u001b[0;34m)\u001b[0m\u001b[0;34m:\u001b[0m\u001b[0;34m\u001b[0m\u001b[0;34m\u001b[0m\u001b[0m\n",
      "\u001b[0;32m/usr/local/lib/python3.9/site-packages/sklearn/utils/metaestimators.py\u001b[0m in \u001b[0;36m_get_params\u001b[0;34m(self, attr, deep)\u001b[0m\n\u001b[1;32m     30\u001b[0m         \u001b[0;32mif\u001b[0m \u001b[0;32mnot\u001b[0m \u001b[0mdeep\u001b[0m\u001b[0;34m:\u001b[0m\u001b[0;34m\u001b[0m\u001b[0;34m\u001b[0m\u001b[0m\n\u001b[1;32m     31\u001b[0m             \u001b[0;32mreturn\u001b[0m \u001b[0mout\u001b[0m\u001b[0;34m\u001b[0m\u001b[0;34m\u001b[0m\u001b[0m\n\u001b[0;32m---> 32\u001b[0;31m         \u001b[0mestimators\u001b[0m \u001b[0;34m=\u001b[0m \u001b[0mgetattr\u001b[0m\u001b[0;34m(\u001b[0m\u001b[0mself\u001b[0m\u001b[0;34m,\u001b[0m \u001b[0mattr\u001b[0m\u001b[0;34m)\u001b[0m\u001b[0;34m\u001b[0m\u001b[0;34m\u001b[0m\u001b[0m\n\u001b[0m\u001b[1;32m     33\u001b[0m         \u001b[0mout\u001b[0m\u001b[0;34m.\u001b[0m\u001b[0mupdate\u001b[0m\u001b[0;34m(\u001b[0m\u001b[0mestimators\u001b[0m\u001b[0;34m)\u001b[0m\u001b[0;34m\u001b[0m\u001b[0;34m\u001b[0m\u001b[0m\n\u001b[1;32m     34\u001b[0m         \u001b[0;32mfor\u001b[0m \u001b[0mname\u001b[0m\u001b[0;34m,\u001b[0m \u001b[0mestimator\u001b[0m \u001b[0;32min\u001b[0m \u001b[0mestimators\u001b[0m\u001b[0;34m:\u001b[0m\u001b[0;34m\u001b[0m\u001b[0;34m\u001b[0m\u001b[0m\n",
      "\u001b[0;32m/usr/local/lib/python3.9/site-packages/sklearn/compose/_column_transformer.py\u001b[0m in \u001b[0;36m_transformers\u001b[0;34m(self)\u001b[0m\n\u001b[1;32m    223\u001b[0m         \u001b[0mof\u001b[0m \u001b[0mtuples\u001b[0m \u001b[0mof\u001b[0m \u001b[0mlen\u001b[0m \u001b[0;36m2.\u001b[0m\u001b[0;34m\u001b[0m\u001b[0;34m\u001b[0m\u001b[0m\n\u001b[1;32m    224\u001b[0m         \"\"\"\n\u001b[0;32m--> 225\u001b[0;31m         \u001b[0;32mreturn\u001b[0m \u001b[0;34m[\u001b[0m\u001b[0;34m(\u001b[0m\u001b[0mname\u001b[0m\u001b[0;34m,\u001b[0m \u001b[0mtrans\u001b[0m\u001b[0;34m)\u001b[0m \u001b[0;32mfor\u001b[0m \u001b[0mname\u001b[0m\u001b[0;34m,\u001b[0m \u001b[0mtrans\u001b[0m\u001b[0;34m,\u001b[0m \u001b[0m_\u001b[0m \u001b[0;32min\u001b[0m \u001b[0mself\u001b[0m\u001b[0;34m.\u001b[0m\u001b[0mtransformers\u001b[0m\u001b[0;34m]\u001b[0m\u001b[0;34m\u001b[0m\u001b[0;34m\u001b[0m\u001b[0m\n\u001b[0m\u001b[1;32m    226\u001b[0m \u001b[0;34m\u001b[0m\u001b[0m\n\u001b[1;32m    227\u001b[0m     \u001b[0;34m@\u001b[0m\u001b[0m_transformers\u001b[0m\u001b[0;34m.\u001b[0m\u001b[0msetter\u001b[0m\u001b[0;34m\u001b[0m\u001b[0;34m\u001b[0m\u001b[0m\n",
      "\u001b[0;32m/usr/local/lib/python3.9/site-packages/sklearn/compose/_column_transformer.py\u001b[0m in \u001b[0;36m<listcomp>\u001b[0;34m(.0)\u001b[0m\n\u001b[1;32m    223\u001b[0m         \u001b[0mof\u001b[0m \u001b[0mtuples\u001b[0m \u001b[0mof\u001b[0m \u001b[0mlen\u001b[0m \u001b[0;36m2.\u001b[0m\u001b[0;34m\u001b[0m\u001b[0;34m\u001b[0m\u001b[0m\n\u001b[1;32m    224\u001b[0m         \"\"\"\n\u001b[0;32m--> 225\u001b[0;31m         \u001b[0;32mreturn\u001b[0m \u001b[0;34m[\u001b[0m\u001b[0;34m(\u001b[0m\u001b[0mname\u001b[0m\u001b[0;34m,\u001b[0m \u001b[0mtrans\u001b[0m\u001b[0;34m)\u001b[0m \u001b[0;32mfor\u001b[0m \u001b[0mname\u001b[0m\u001b[0;34m,\u001b[0m \u001b[0mtrans\u001b[0m\u001b[0;34m,\u001b[0m \u001b[0m_\u001b[0m \u001b[0;32min\u001b[0m \u001b[0mself\u001b[0m\u001b[0;34m.\u001b[0m\u001b[0mtransformers\u001b[0m\u001b[0;34m]\u001b[0m\u001b[0;34m\u001b[0m\u001b[0;34m\u001b[0m\u001b[0m\n\u001b[0m\u001b[1;32m    226\u001b[0m \u001b[0;34m\u001b[0m\u001b[0m\n\u001b[1;32m    227\u001b[0m     \u001b[0;34m@\u001b[0m\u001b[0m_transformers\u001b[0m\u001b[0;34m.\u001b[0m\u001b[0msetter\u001b[0m\u001b[0;34m\u001b[0m\u001b[0;34m\u001b[0m\u001b[0m\n",
      "\u001b[0;31mValueError\u001b[0m: not enough values to unpack (expected 3, got 2)"
     ]
    }
   ],
   "source": [
    "from sklearn.pipeline import Pipeline\n",
    "from sklearn.svm import SVC\n",
    "from sklearn.model_selection import GridSearchCV\n",
    "from sklearn.compose import ColumnTransformer\n",
    "from sklearn.preprocessing import StandardScaler, MinMaxScaler, OneHotEncoder\n",
    "numeric_features = ['age','income','mean_amount_without_offer','age2','income2','mean_amount_without_offer2']\n",
    "offer_features = x.columns[x.columns.str.contains('^DIS|BOGO')].tolist()\n",
    "cat_features = 'gender'\n",
    "preprocessor = ColumnTransformer(\n",
    "    transformers = [\n",
    "        (\"numeric\", StandardScaler(),numeric_features),\n",
    "        (\"count\", MinMaxScaler(),offer_features),\n",
    "        (\"cat\", OneHotEncoder(handle_unknown='ignore'), cate_features)\n",
    "    ]\n",
    ")\n",
    "\n",
    "clf = Pipeline(steps=[\n",
    "    ('preprocess', preprocessor),\n",
    "    ('pca', PCA()),\n",
    "    ('SVM', SVC(random_state=42))\n",
    "])\n",
    "\n",
    "grid_params = {\n",
    "    'pca__n_components':[4,5,6,7,8,9,10],\n",
    "    'SVM__C': [0.1, 1, 10, 50, 100],\n",
    "    'SVM__gamma': [0.001, 0.01, 0.1, 1, 10]\n",
    "}\n",
    "\n",
    "grid = GridSearchCV(clf, param_grid=grid_params)\n",
    "grid.fit(x_train2, y_train2)\n",
    "\n",
    "np.var(x_train_pca,axis=0)"
   ]
  },
  {
   "cell_type": "code",
   "execution_count": 90,
   "metadata": {},
   "outputs": [
    {
     "data": {
      "text/plain": [
       "0.98626049163114"
      ]
     },
     "execution_count": 90,
     "metadata": {},
     "output_type": "execute_result"
    }
   ],
   "source": [
    "pca.explained_variance_ratio_[:10].sum()"
   ]
  },
  {
   "cell_type": "markdown",
   "metadata": {},
   "source": [
    "## 3. Explore Data"
   ]
  },
  {
   "cell_type": "markdown",
   "metadata": {},
   "source": [
    "### 1. The transactions without offer"
   ]
  },
  {
   "cell_type": "markdown",
   "metadata": {},
   "source": [
    "1. The overall effect of offers"
   ]
  },
  {
   "cell_type": "markdown",
   "metadata": {},
   "source": [
    "**Many order is under 5 without offer**\n",
    "\n",
    "**With the help of offers, the average price per customer increase a lot. But we need to look deeper to get the whole picture.**"
   ]
  },
  {
   "cell_type": "markdown",
   "metadata": {},
   "source": [
    "2. Does people behave different beacuse of gender?"
   ]
  },
  {
   "cell_type": "code",
   "execution_count": null,
   "metadata": {},
   "outputs": [],
   "source": [
    "fig, ((ax0, ax1), (ax2, ax3)) = plt.subplots(nrows = 2, ncols = 2,figsize  = (12,12))\n",
    "\n",
    "gender_df = summary_df.loc[:,['gender', 'mean_trans_with_offer','mean_trans_without_offer','count_trans_with_offer','count_trans_without_offer']]\n",
    "gender_df['gender'].replace('F', 'Female', inplace = True)\n",
    "gender_df['gender'].replace('M', 'Male', inplace = True)\n",
    "gender_df['gender'].replace('O', 'Oblivious', inplace = True)\n",
    "\n",
    "\n",
    "\n",
    "\n",
    "sns.histplot(data = gender_df, x = 'mean_trans_with_offer', hue = 'gender',ax = ax0, stat = 'density', bins = range(0,200,10))\n",
    "ax0.set_xlabel('Average Price per Customer(with offer)')\n",
    "\n",
    "\n",
    "\n",
    "\n",
    "sns.histplot(data = gender_df, x = 'mean_trans_without_offer', hue = 'gender',ax = ax1, stat = 'density', bins = range(0,200, 10))\n",
    "\n",
    "ax1.set_xlabel('Average Price per Customer(without offer)')\n",
    "\n",
    "\n",
    "\n",
    "sns.histplot(data = gender_df, x = 'count_trans_with_offer', hue = 'gender',ax = ax2)\n",
    "\n",
    "ax2.set_xlabel('Number of Orders per Customer(with offer)')\n",
    "\n",
    "\n",
    "sns.histplot(data = gender_df, x = 'count_trans_without_offer', hue = 'gender',ax = ax3, bins = range(0, 40,5))\n",
    "\n",
    "\n",
    "ax3.set_xlabel('Number of Orders per Customer(without offer)')\n",
    "\n",
    "plt.show()"
   ]
  },
  {
   "cell_type": "markdown",
   "metadata": {},
   "source": [
    "3. We are more interested in the people who have a increase in price with offers.\n",
    "    As we see that the oder with offer have a information with the offer info at the same time. So we will look at the transactions and offers"
   ]
  },
  {
   "cell_type": "code",
   "execution_count": null,
   "metadata": {},
   "outputs": [],
   "source": [
    "offer_trans = clean_trans[clean_trans['event'].isin(['transaction', 'offer completed'])]\n",
    "offer_trans.head()"
   ]
  },
  {
   "cell_type": "markdown",
   "metadata": {},
   "source": [
    "    Would people use one offer a time or more offers a time"
   ]
  },
  {
   "cell_type": "code",
   "execution_count": null,
   "metadata": {},
   "outputs": [],
   "source": [
    "offer_count_per_order = offer_trans.groupby(['person_id', 'time'])['offer_id'].count()\n",
    "sns.histplot(offer_count_per_order, stat = 'density', binwidth = 1)\n",
    "plt.show()"
   ]
  },
  {
   "cell_type": "markdown",
   "metadata": {},
   "source": [
    "    Let's focus on the order with one offer"
   ]
  },
  {
   "cell_type": "code",
   "execution_count": null,
   "metadata": {},
   "outputs": [],
   "source": [
    "offer_sum_per_order = offer_trans.groupby(['person_id', 'time']).sum()\n",
    "\n",
    "\n",
    "offer_sum_per_order_one_offer = offer_sum_per_order.loc[offer_count_per_order==1,:]\n",
    "offer_sum_per_order_two_offer = offer_sum_per_order.loc[offer_count_per_order==2,:]"
   ]
  },
  {
   "cell_type": "code",
   "execution_count": null,
   "metadata": {},
   "outputs": [],
   "source": [
    "offer_sum_per_order_one_offer.head()"
   ]
  },
  {
   "cell_type": "markdown",
   "metadata": {},
   "source": [
    "3.1. split bogo and discount"
   ]
  },
  {
   "cell_type": "code",
   "execution_count": null,
   "metadata": {},
   "outputs": [],
   "source": [
    "offer_sum_one_offer_bogo = offer_sum_per_order_one_offer[offer_sum_per_order_one_offer['offer_id'].isin([1,11,21,31])]\n",
    "offer_sum_one_offer_discount = offer_sum_per_order_one_offer[offer_sum_per_order_one_offer['offer_id'].isin([101,111,121,131])]\n",
    "offer_sum_one_offer_bogo.head()"
   ]
  },
  {
   "cell_type": "code",
   "execution_count": null,
   "metadata": {},
   "outputs": [],
   "source": [
    "offer_sum_one_offer_bogo = offer_sum_one_offer_bogo.reset_index(level = 'person_id')\n",
    "offer_sum_one_offer_discount = offer_sum_one_offer_discount.reset_index(level = 'person_id')"
   ]
  },
  {
   "cell_type": "code",
   "execution_count": null,
   "metadata": {},
   "outputs": [],
   "source": [
    "offer_mean_one_offer_bogo = offer_sum_one_offer_bogo.groupby('person_id').mean()\n",
    "offer_mean_one_offer_discount = offer_sum_one_offer_discount.groupby('person_id').mean()"
   ]
  },
  {
   "cell_type": "code",
   "execution_count": null,
   "metadata": {},
   "outputs": [],
   "source": [
    "summary_df.head()"
   ]
  },
  {
   "cell_type": "code",
   "execution_count": null,
   "metadata": {},
   "outputs": [],
   "source": [
    "one_offer_bogo_df = offer_mean_one_offer_bogo.merge(summary_df[['mean_trans_without_offer', 'gender', 'age', 'income(k)']], left_index = True, right_index = True, how = 'left')\n",
    "one_offer_discount_df = offer_mean_one_offer_discount.merge(summary_df[['mean_trans_without_offer', 'gender', 'age', 'income(k)']], left_index = True, right_index = True, how = 'left') "
   ]
  },
  {
   "cell_type": "code",
   "execution_count": null,
   "metadata": {},
   "outputs": [],
   "source": [
    "offer_mean_one_offer_bogo_df"
   ]
  },
  {
   "cell_type": "code",
   "execution_count": null,
   "metadata": {},
   "outputs": [],
   "source": [
    "one_offer_bogo_df['offer_diff'] = one_offer_bogo_df['amount'] + one_offer_bogo_df['reward'] - one_offer_bogo_df['mean_trans_without_offer']\n",
    "one_offer_discount_df['offer_diff'] = one_offer_discount_df['amount'] + one_offer_discount_df['reward'] - one_offer_discount_df['mean_trans_without_offer']"
   ]
  },
  {
   "cell_type": "code",
   "execution_count": null,
   "metadata": {},
   "outputs": [],
   "source": [
    "np.nan"
   ]
  },
  {
   "cell_type": "code",
   "execution_count": null,
   "metadata": {},
   "outputs": [],
   "source": [
    "np.isnan(np.nan)"
   ]
  },
  {
   "cell_type": "code",
   "execution_count": null,
   "metadata": {},
   "outputs": [],
   "source": [
    "def my_cate(df, col , by , n = 6):\n",
    "    \"\"\"\n",
    "    create box plot for dataframe , automatic divide dataframe into n part and a NA \n",
    "    \"\"\"\n",
    "\n",
    "    df_new = df.loc[:,[col, by, 'gender']]\n",
    "\n",
    "        \n",
    "    df_new['gender'].replace('M', 'Male', inplace = True)\n",
    "    df_new['gender'].replace('F', 'Female', inplace = True)\n",
    "    df_new['gender'].replace('O', 'Oblivious', inplace = True)\n",
    "    df_new['gender'].fillna('None', inplace = True)\n",
    "    by_max = df_new[by].max()\n",
    "    by_min = df_new[by].min()\n",
    "\n",
    "    by_min_len = len(str(int(round(by_min))))\n",
    "\n",
    "    if by_min_len > 0:\n",
    "        by_bottom = math.floor(by_min/(10** (by_min_len - 1))) * 10** (by_min_len - 1)\n",
    "    else:\n",
    "        by_bottom = 0\n",
    "    \n",
    "    by_step_init = (by_max - by_bottom) / (n )\n",
    "\n",
    "    by_step = math.ceil(by_step_init) \n",
    "\n",
    "    by_border = range(by_bottom, by_bottom + by_step* n+1, by_step)\n",
    "\n",
    "    labels = []\n",
    "    labels.append('Na')\n",
    "    for i in range(0,n):\n",
    "        labels.append('{}-{}'.format(by_border[i], by_border[i+1]))\n",
    "    \n",
    "\n",
    "        \n",
    "    for index, item in df_new[by].items():\n",
    "        if np.isnan(item):\n",
    "            df_new.loc[index, 'by_cate'] = 'Na'\n",
    "        else:\n",
    "            i = 0\n",
    "            while i < n:\n",
    "                if (item < by_border[i+1]):\n",
    "                    df_new.loc[index, 'by_cate'] = '{}-{}'.format(by_border[i],by_border[i+1])\n",
    "                    break\n",
    "                i += 1 \n",
    "\n",
    "\n",
    "    return df_new, labels\n"
   ]
  },
  {
   "cell_type": "markdown",
   "metadata": {},
   "source": []
  },
  {
   "cell_type": "code",
   "execution_count": null,
   "metadata": {},
   "outputs": [],
   "source": [
    "one_offer_bogo_by_income , income_label = my_cate(one_offer_bogo_df, col = 'offer_diff' , by = 'income(k)' )\n",
    "one_offer_discount_by_income , income_label = my_cate(one_offer_discount_df, col = 'offer_diff' , by = 'income(k)' )\n",
    "\n",
    "one_offer_bogo_by_income.rename(columns = {'by_cate':'Income(k) range'}, inplace = True)\n",
    "one_offer_discount_by_income.rename(columns = {'by_cate':'Income(k) range'}, inplace = True)"
   ]
  },
  {
   "cell_type": "code",
   "execution_count": null,
   "metadata": {},
   "outputs": [],
   "source": [
    "one_offer_bogo_by_income.head()"
   ]
  },
  {
   "cell_type": "code",
   "execution_count": null,
   "metadata": {},
   "outputs": [],
   "source": [
    "fig, ((ax0, ax1),(ax2, ax3)) = plt.subplots(nrows =2, ncols = 2, figsize = (18,12))\n",
    "\n",
    "sns.histplot(one_offer_bogo_by_income, x = 'offer_diff' , hue = 'Income(k) range', multiple = 'stack',  bins = range(-50, 50, 5), ax = ax0, hue_order = income_label)\n",
    "ax0.set_xlabel('Mean of the order(with BOGO) + BOGO reward - Mean of order(without offer)')\n",
    "ax0.set_title('Histogram of The Order Mean Price Difference with and without BOGO')\n",
    "ax0.axvline(0, ls = '--')\n",
    "\n",
    "sns.histplot(one_offer_discount_by_income, x = 'offer_diff' , hue = 'Income(k) range', multiple = 'stack',  bins = range(-50, 50, 5), ax = ax1, hue_order = income_label)\n",
    "ax1.set_xlabel('Mean of the order(with DISCOUNT) + DISCOUNT reward - Mean of order(without offer)')\n",
    "ax1.set_title('Histogram of The Order Mean Price Difference with and without DISCOUNT')\n",
    "ax1.axvline(0, ls = '--')\n",
    "\n",
    "sns.boxplot(data = one_offer_bogo_by_income, x = 'Income(k) range', y = 'offer_diff', hue = 'gender', ax = ax2, showfliers = False, hue_order = ['None', 'Female', 'Male', 'Oblivious'],order = income_label)\n",
    "ax2.axhline(0, ls = '--')\n",
    "ax2.set_xlabel('Income(k)')\n",
    "ax2.set_ylabel('Mean of the order(with BOGO) + BOGO reward \\n - Mean of order(without offer)')\n",
    "ax2.set_title('Boxplot of The Order Mean Price Difference with and without BOGO')\n",
    "\n",
    "sns.boxplot(data = one_offer_discount_by_income, x = 'Income(k) range', y = 'offer_diff', hue = 'gender', ax = ax3, showfliers = False,  hue_order = ['None', 'Female', 'Male', 'Oblivious'],order = income_label)\n",
    "ax3.axhline(0, ls = '--')\n",
    "ax3.set_xlabel('Income(k)')\n",
    "ax3.set_ylabel('Mean of the order(with DISCOUNT) + DISCOUNT reward  \\n - Mean of order(without offer)')\n",
    "ax3.set_title('Boxplot of The Order Mean Price Difference with and without DISCOUNT')\n",
    "\n",
    "plt.show()"
   ]
  },
  {
   "cell_type": "markdown",
   "metadata": {},
   "source": [
    "1. BOGO and DISCOUNT both have a positive effort on some customers, BOGO seems do better.\n",
    "\n",
    "2. While with higher income, the order mean price difference begin to decline, even below zero.\n",
    "\n",
    "3. Male have a higer order price difference than female\n",
    "\n",
    "4. We will go deeper with T-test\n"
   ]
  },
  {
   "cell_type": "markdown",
   "metadata": {},
   "source": [
    "Because the standard diviation of mean price without offer is to large, we will use the price under 99 percentile."
   ]
  },
  {
   "cell_type": "code",
   "execution_count": null,
   "metadata": {},
   "outputs": [],
   "source": [
    "bogo_99 = pd.concat([one_offer_bogo_df['mean_trans_without_offer'],one_offer_bogo_df['mean_trans_without_offer']]) .quantile(0.99)\n",
    "bogo_99"
   ]
  },
  {
   "cell_type": "code",
   "execution_count": null,
   "metadata": {},
   "outputs": [],
   "source": [
    "total_99 = pd.concat([one_offer_bogo_df['mean_trans_without_offer'],one_offer_bogo_df['mean_trans_without_offer']]) .quantile(0.99)\n",
    "\n",
    "\n",
    "one_offer_bogo_99_df = one_offer_bogo_df[one_offer_bogo_df['mean_trans_without_offer'] <= total_99]\n",
    "one_offer_discount_99_df = one_offer_discount_df[one_offer_discount_df['mean_trans_without_offer'] <= total_99]\n",
    "\n",
    "one_offer_bogo_by_mean_price , bogo_mean_price_label = my_cate(one_offer_bogo_99_df, col = 'offer_diff' , by = 'mean_trans_without_offer' )\n",
    "one_offer_discount_by_mean_price , discount_mean_price_label = my_cate(one_offer_discount_99_df, col = 'offer_diff' , by = 'mean_trans_without_offer' )\n",
    "\n",
    "one_offer_bogo_by_mean_price.head()"
   ]
  },
  {
   "cell_type": "code",
   "execution_count": null,
   "metadata": {},
   "outputs": [],
   "source": [
    "one_offer_bogo_by_mean_price.rename(columns = {'by_cate':'Mean Price without offer'}, inplace = True)\n",
    "one_offer_discount_by_mean_price.rename(columns = {'by_cate':'Mean Price without offer'}, inplace = True)"
   ]
  },
  {
   "cell_type": "code",
   "execution_count": null,
   "metadata": {},
   "outputs": [],
   "source": [
    "fig, ((ax0, ax1),(ax2, ax3)) = plt.subplots(nrows =2, ncols = 2, figsize = (18,12))\n",
    "\n",
    "sns.histplot(one_offer_bogo_by_mean_price, x = 'offer_diff' , hue = 'Mean Price without offer', multiple = 'stack',bins = range(-50, 50, 5),   ax = ax0, hue_order = bogo_mean_price_label)\n",
    "ax0.set_xlabel('Mean of the order(with BOGO) + BOGO reward - Mean of order(without offer)')\n",
    "ax0.set_title('Histogram of The Order Mean Price Difference with and without BOGO')\n",
    "ax0.axvline(0, ls = '--')\n",
    "\n",
    "\n",
    "\n",
    "sns.histplot(one_offer_discount_by_mean_price, x = 'offer_diff' , hue = 'Mean Price without offer', multiple = 'stack',bins = range(-50, 50, 5), ax = ax1, hue_order = discount_mean_price_label)\n",
    "ax1.set_xlabel('Mean of the order(with DISCOUNT) + DISCOUNT reward - Mean of order(without offer)')\n",
    "ax1.set_title('Histogram of The Order Mean Price Difference with and without DISCOUNT')\n",
    "ax1.axvline(0, ls = '--')\n",
    "\n",
    "sns.boxplot(data = one_offer_bogo_by_mean_price, x = 'Mean Price without offer', y = 'offer_diff', hue = 'gender', ax = ax2, showfliers = False, hue_order = ['None', 'Female', 'Male', 'Oblivious'],order = bogo_mean_price_label)\n",
    "ax2.axhline(0, ls = '--')\n",
    "ax2.set_xlabel('Mean Order Price Without offer')\n",
    "ax2.set_ylabel('Mean of the order(with BOGO) + BOGO reward \\n - Mean of order(without offer)')\n",
    "ax2.set_title('Boxplot of The Order Mean Price Difference with and without BOGO')\n",
    "\n",
    "sns.boxplot(data = one_offer_discount_by_mean_price, x = 'Mean Price without offer', y = 'offer_diff', hue = 'gender', ax = ax3, showfliers = False,  hue_order = ['None', 'Female', 'Male', 'Oblivious'],order = discount_mean_price_label)\n",
    "ax3.axhline(0, ls = '--')\n",
    "ax3.set_xlabel('Mean Order Price Without offer')\n",
    "ax3.set_ylabel('Mean of the order(with DISCOUNT) + DISCOUNT reward  \\n - Mean of order(without offer)')\n",
    "ax3.set_title('Boxplot of The Order Mean Price Difference with and without DISCOUNT')\n",
    "\n",
    "plt.show()"
   ]
  },
  {
   "cell_type": "markdown",
   "metadata": {},
   "source": [
    "1. For the mean order price without offer, offers will have more effective for the people with low mean order price without offer.\n",
    "\n",
    "2. Females are less effective than the other gender.\n"
   ]
  },
  {
   "cell_type": "code",
   "execution_count": null,
   "metadata": {},
   "outputs": [],
   "source": [
    "offer_mean_one_offer_bogo_df"
   ]
  },
  {
   "cell_type": "code",
   "execution_count": null,
   "metadata": {},
   "outputs": [],
   "source": [
    "offer_mean_one_offer_bogo_mean , income_label = my_cate(offer_mean_one_offer_bogo_df, col = 'offer_diff' , by = 'income(k)' )\n",
    "offer_mean_one_offer_discount_df , income_label = my_cate(offer_mean_one_offer_discount_df, col = 'offer_diff' , by = 'income(k)' )"
   ]
  },
  {
   "cell_type": "code",
   "execution_count": null,
   "metadata": {},
   "outputs": [],
   "source": [
    "total_amount = summary_df.loc[:, ['mean_trans_without_offer','count_trans_without_offer', 'gender', 'income(k)']]\n",
    "total_amount['total_amt'] = total_amount['mean_trans_without_offer'] * total_amount['count_trans_without_offer']\n",
    "                                  \n",
    "fig4 = my_boxplot(total_amount, 'total_amt', 'income(k)', log = False, showfliers = False)\n",
    "fig4.title('Boxplot for Total Amount By Income')\n",
    "fig4.xlabel('Income range(k)')\n",
    "fig4.ylabel('Total Amount')\n",
    "plt.show()"
   ]
  },
  {
   "cell_type": "markdown",
   "metadata": {},
   "source": [
    "**The total amount without offers increse with income.**\n",
    "\n",
    "**total amount for Male lower than Female when income below 90k**\n"
   ]
  },
  {
   "cell_type": "code",
   "execution_count": null,
   "metadata": {},
   "outputs": [],
   "source": [
    "mean_diff_df = summary_df.loc[:, ['mean_trans_without_offer','mean_trans_with_offer','reward' ,'gender', 'income(k)']]\n",
    "mean_diff_df['mean_diff'] = mean_diff_df['mean_trans_without_offer']  -  mean_diff_df['mean_trans_with_offer'] \n",
    "mean_diff_df['mean_reward_diff'] = mean_diff_df['mean_trans_without_offer']  -  mean_diff_df['mean_trans_with_offer'] - mean_diff_df['reward'] \n",
    "\n",
    "mean_diff_df\n",
    "fig5 = my_boxplot(mean_diff_df, 'mean_reward_diff', 'income(k)', log = False, showfliers = False)\n",
    "fig5.title('Boxplot for Average price difference with offer By Income')\n",
    "fig5.xlabel('Income range(k)')\n",
    "fig5.ylabel('Average Pirce difference')\n",
    "plt.show()"
   ]
  },
  {
   "cell_type": "code",
   "execution_count": null,
   "metadata": {},
   "outputs": [],
   "source": [
    "sns.histplot(mean_diff_df, x = 'mean_diff', bins = range(-100, 100, 5))\n",
    "plt.show()"
   ]
  },
  {
   "cell_type": "code",
   "execution_count": null,
   "metadata": {},
   "outputs": [],
   "source": [
    "sns.histplot(mean_diff_df, x = 'mean_reward_diff', bins = range(-100, 100, 5))\n",
    "plt.show()"
   ]
  },
  {
   "cell_type": "markdown",
   "metadata": {},
   "source": [
    "5. Does bogo and discount have different pattern"
   ]
  },
  {
   "cell_type": "code",
   "execution_count": null,
   "metadata": {},
   "outputs": [],
   "source": [
    "c_c.head()"
   ]
  },
  {
   "cell_type": "code",
   "execution_count": null,
   "metadata": {},
   "outputs": [],
   "source": [
    "bogo_df = summary_df.loc[bogo_index,:]\n",
    "discount_df = summary_df.loc[discount_index,:]"
   ]
  },
  {
   "cell_type": "code",
   "execution_count": null,
   "metadata": {},
   "outputs": [],
   "source": [
    "bogo_df.describe()"
   ]
  },
  {
   "cell_type": "code",
   "execution_count": null,
   "metadata": {},
   "outputs": [],
   "source": [
    "summary_df.shape"
   ]
  },
  {
   "cell_type": "code",
   "execution_count": null,
   "metadata": {},
   "outputs": [],
   "source": [
    "bogo_mean_diff_df = bogo_df.loc[:, ['mean_trans_without_offer','mean_trans_with_offer','reward' ,'gender', 'income(k)']]\n",
    "bogo_mean_diff_df['mean_diff'] = bogo_mean_diff_df['mean_trans_without_offer']  -  bogo_mean_diff_df['mean_trans_with_offer'] \n",
    "bogo_mean_diff_df['mean_reward_diff'] = bogo_mean_diff_df['mean_trans_without_offer']  -  bogo_mean_diff_df['mean_trans_with_offer'] - bogo_mean_diff_df['reward'] \n",
    "\n",
    "\n",
    "fig5 = my_boxplot(bogo_mean_diff_df, 'mean_reward_diff', 'income(k)', log = False, showfliers = False)\n",
    "fig5.title('Boxplot for Average price difference with offer By Income')\n",
    "fig5.xlabel('Income range(k)')\n",
    "fig5.ylabel('Average Pirce difference')\n",
    "plt.show()"
   ]
  },
  {
   "cell_type": "code",
   "execution_count": null,
   "metadata": {},
   "outputs": [],
   "source": [
    "clean_trans.head()"
   ]
  },
  {
   "cell_type": "code",
   "execution_count": null,
   "metadata": {},
   "outputs": [],
   "source": [
    "trans = clean_trans[clean_trans.duplicated(['time','person_id'], keep = False)]\n",
    "groupbytrans = trans.groupby(['person_id', 'time'])['offer_id'].count()\n"
   ]
  },
  {
   "cell_type": "code",
   "execution_count": null,
   "metadata": {},
   "outputs": [],
   "source": [
    "trans.groupby(['person_id', 'time']).sum()"
   ]
  },
  {
   "cell_type": "code",
   "execution_count": null,
   "metadata": {},
   "outputs": [],
   "source": [
    "trans[trans['person_id'] == 0]"
   ]
  },
  {
   "cell_type": "markdown",
   "metadata": {},
   "source": [
    "**With offers, people are more tend to spend more than usual, even some people spend more than the reward from offers.**"
   ]
  },
  {
   "cell_type": "code",
   "execution_count": null,
   "metadata": {},
   "outputs": [],
   "source": [
    "clean_trans.groupby(['person_id', 'time'])"
   ]
  },
  {
   "cell_type": "code",
   "execution_count": null,
   "metadata": {},
   "outputs": [],
   "source": [
    "summary_df['income(k)'].hist()\n",
    "plt.show()\n",
    "summary_df[['mean_trans_without_offer','gender']].hist(bins = range(0,100, 5))\n",
    "plt.show()\n",
    "summary_df['mean_trans_with_offer'].hist(bins = range(0,100, 5))\n",
    "plt.show()"
   ]
  },
  {
   "cell_type": "code",
   "execution_count": null,
   "metadata": {},
   "outputs": [],
   "source": [
    "(summary_df['mean_trans_without_offer'] *summary_df['count_trans_without_offer']).hist(bins = range(0,1000,5))"
   ]
  },
  {
   "cell_type": "code",
   "execution_count": null,
   "metadata": {},
   "outputs": [],
   "source": [
    "summary_df['count_trans_without_offer'].hist()"
   ]
  },
  {
   "cell_type": "code",
   "execution_count": null,
   "metadata": {},
   "outputs": [],
   "source": [
    "def create_offer_received_completed_matrix(data, profile = profile_new ):\n",
    "    event_offer_cp = data['event'] == 'offer completed'\n",
    "    event_offer_re = data['event'] == 'offer received'\n",
    "    event_offer_vi = data['event'] == 'offer viewed' \n",
    "    event_offer_ta = data['event'] == 'offer transaction' \n",
    "    \n",
    "    trans_offer_tag = data[data['event'].isin(['offer completed', 'transaction'])]\n",
    "    time_duplicated = trans_offer_tag.duplicated(['time', 'person_id'], keep = False)\n",
    "    \n",
    "    # all transaction \n",
    "\n",
    "    # trans with out offer\n",
    "    trans_without_offer_df = trans_offer_tag[~ time_duplicated]\n",
    "    # trans with offer \n",
    "    trans_with_offer_df = trans_offer_tag[time_duplicated]\n",
    "\n",
    "    \n",
    "    \n",
    "    # count completed offer\n",
    "    offer_completed_count = data[event_offer_cp].groupby(['person_id', 'offer_id'])['person_id'].count().unstack(1)\n",
    "\n",
    "    # offer_completed_count = offer_completed_count.add_suffix('_completed')\n",
    "    # count received offer\n",
    "    offer_received_count = data[event_offer_re].groupby(['person_id', 'offer_id'])['person_id'].count().unstack(1)\n",
    "\n",
    "\n",
    "    #offer_received_count = offer_received_count.add_suffix('_received')    \n",
    "\n",
    "    #    offer_received_count = data[event_offer_re].groupby(['person_id', 'offer_id'])['person_id'].count().unstack(1)\n",
    "    # offer_received_count = offer_received_count.add_suffix('_received')    \n",
    "    reward_ = data[event_offer_cp].groupby(['person_id','time'])['reward'].sum()\n",
    "    reward_nozero = reward_[reward_!=0]\n",
    "    mean_reward = reward_nozero.groupby(level = [0]).mean()\n",
    "\n",
    "    # feature_matrix = offer_completed_count.merge(offer_received_count, on = 'person_id')\n",
    "    row = offer_received_count.index\n",
    "    column = offer_received_count.columns\n",
    "    \n",
    "    feature_matrix = pd.DataFrame(np.nan, index = row, columns = column)\n",
    "    for i in row:\n",
    "        for j in column:\n",
    "            try:\n",
    "                if pd.isna(offer_received_count.loc[i,j]):\n",
    "                    feature_matrix.loc[i,j] = np.nan\n",
    "                elif pd.isna(offer_completed_count.loc[i,j]):\n",
    "                    feature_matrix.loc[i,j] = 0\n",
    "                else:\n",
    "                    feature_matrix.loc[i,j] = 100 * offer_completed_count.loc[i,j] / offer_received_count.loc[i,j]\n",
    "            except:\n",
    "                feature_matrix.loc[i,j] = 0\n",
    "                continue\n",
    "    # feature_matrix = offer_completed_count / offer_received_count\n",
    "    \n",
    "\n",
    "    \n",
    "    # get mean amount without offer\n",
    "    trans_mean_without_offer = trans_without_offer_df.groupby(['person_id'])['amount'].mean()\n",
    "    trans_mean_without_offer.rename('mean_trans_without_offer', inplace = True)\n",
    "    # trans_count_without_offer = trans_without_offer_df.groupby(['person_id'])['amount'].count()\n",
    "    # trans_count_without_offer.rename('count_trans_without_offer')\n",
    "    # get mean amount with offer\n",
    "    trans_mean_with_offer = trans_with_offer_df.groupby(['person_id'])['amount'].mean()\n",
    "    \n",
    "    trans_mean_with_offer.rename(\"mean_trans_with_offer\", inplace = True)\n",
    "##    trans_count_with_offer = trans_with_offer_df.groupby(['person_id'])['amount'].count()\n",
    "##    trans_count_with_offer.rename('count_trans_with_offer')    \n",
    "    feature_matrix = feature_matrix.merge(trans_mean_without_offer, how = 'left', on = 'person_id')\n",
    "    feature_matrix = feature_matrix.merge(trans_mean_with_offer, how = 'left', on = 'person_id')\n",
    "    feature_matrix = feature_matrix.merge(mean_reward,how = 'left', on = 'person_id')\n",
    "    feature_matrix = feature_matrix.merge(profile_new,how = 'left', on = 'person_id')\n",
    "    feature_matrix.loc[feature_matrix['gender'] == 'M' , 'gender'] = 100\n",
    "    feature_matrix.loc[feature_matrix['gender'] == 'F' , 'gender'] = 0\n",
    "    feature_matrix.loc[feature_matrix['gender'] == 'O' , 'gender'] = 50\n",
    "    feature_matrix['gender'].fillna(np.nan, inplace = True)\n",
    "    feature_matrix['gender'].astype(float)\n",
    "    feature_matrix.drop(['became_member_on', 'person_id'],axis = 1, inplace = True)\n",
    "    feature_matrix['income'] = feature_matrix['income']/1000\n",
    "    return feature_matrix\n",
    "#trans_feature = create_matrix(clean_trans)\n",
    "trans_df = create_offer_received_completed_matrix(clean_trans)\n",
    "\n",
    "trans_df.head()"
   ]
  },
  {
   "cell_type": "code",
   "execution_count": null,
   "metadata": {},
   "outputs": [],
   "source": [
    "trans_df.describe()"
   ]
  },
  {
   "cell_type": "code",
   "execution_count": null,
   "metadata": {},
   "outputs": [],
   "source": [
    "trans_df[trans_df['mean_trans_without_offer']<= 1]"
   ]
  },
  {
   "cell_type": "code",
   "execution_count": null,
   "metadata": {},
   "outputs": [],
   "source": [
    "trans_df['mean_trans_without_offer'].hist(bins = range(0, 100, 5))"
   ]
  },
  {
   "cell_type": "code",
   "execution_count": null,
   "metadata": {},
   "outputs": [],
   "source": [
    "trans_mat_df = trans_df.drop([2,7],axis = 1)\n",
    "trans_mat = trans_mat_df.to_numpy()\n",
    "trans_mat.shape"
   ]
  },
  {
   "cell_type": "code",
   "execution_count": null,
   "metadata": {},
   "outputs": [],
   "source": [
    "trans_mat_df_funk = trans_mat_df.drop(\n",
    "    ['mean_trans_without_offer',\n",
    "     'mean_trans_with_offer',\n",
    "     'reward', 'gender','age',\n",
    "     'income'],\n",
    "    axis = 1)\n",
    "trans_mat_funk = trans_mat_df_funk.to_numpy()"
   ]
  },
  {
   "cell_type": "code",
   "execution_count": null,
   "metadata": {},
   "outputs": [],
   "source": [
    "trans_mat_df_funk.describe()"
   ]
  },
  {
   "cell_type": "code",
   "execution_count": null,
   "metadata": {},
   "outputs": [],
   "source": [
    "def FunkSVD(trans_mat,latent_features=14,learning_rate=0.0001,iters=100):\n",
    "    '''\n",
    "    This function performs matrix factorization using a basic form of FunkSVD with no regularization\n",
    "    \n",
    "    INPUT:\n",
    "    ratings_mat - (numpy array) a matrix with users as rows, movies as columns, and ratings as values\n",
    "    latent_features - (int) the number of latent features used\n",
    "    learning_rate - (float) the learning rate \n",
    "    iters - (int) the number of iterations\n",
    "    \n",
    "    OUTPUT:\n",
    "    user_mat - (numpy array) a user by latent feature matrix\n",
    "    movie_mat - (numpy array) a latent feature by movie matrix\n",
    "    '''\n",
    "    \n",
    "    # Set up useful values to be used through the rest of the function\n",
    "    n_users = trans_mat.shape[0] # number of rows in the matrix\n",
    "    n_feature = trans_mat.shape[1] # number of movies in the matrix\n",
    "    num_ratings = n_feature*n_users - np.isnan(trans_mat).sum() # total number of ratings in the matrix\n",
    "    \n",
    "    # initialize the user and movie matrices with random values\n",
    "    # helpful link: https://docs.scipy.org/doc/numpy/reference/generated/numpy.random.rand.html\n",
    "    user_mat = np.random.rand(n_users, latent_features).astype('float64') # user matrix filled with random values of shape user x latent \n",
    "    feature_mat = np.random.rand(latent_features, n_feature).astype('float64') # movie matrix filled with random values of shape latent x movies\n",
    "    print(user_mat.dtype)\n",
    "    \n",
    "    # initialize sse at 0 for first iteration\n",
    "    sse_accum=0\n",
    "    \n",
    "    # header for running results\n",
    "    print(\"Optimization Statistics\")\n",
    "    print(\"Iterations | Mean Squared Error \")\n",
    "    \n",
    "    # for each iteration\n",
    "    for i in range(iters):\n",
    "        # update our sse\n",
    "        sse_accum = 0.0\n",
    "        max_error = 0\n",
    "#        print(sse_accum.dtype)\n",
    "        # For each user-movie pair\n",
    "        for row in range(n_users):\n",
    "            for column in range(n_feature):\n",
    "                # if the rating exists\n",
    "                if np.isnan(trans_mat[row,column]) ==False :\n",
    "                    # compute the error as the actual minus the dot product of the user and movie latent features\n",
    "                    error_mat = trans_mat[row,column] - np.dot(user_mat[row,:],feature_mat[:,column])\n",
    "                    # Keep track of the total sum of squared errors for the matrix\n",
    "                    if abs(error_mat) > max_error:\n",
    "                        max_error = abs(error_mat)\n",
    "                    \n",
    "                    sse_accum += error_mat**2\n",
    "                    # update the values in each matrix in the direction of the gradient\n",
    "                    user_mat[row,:] +=  learning_rate*2*error_mat*feature_mat[:,column]\n",
    "                    feature_mat[:,column] += + learning_rate*2*error_mat*user_mat[row,:]\n",
    "                    # print results for iteration\n",
    "        print('SSE for {} iter: {} {}'.format(i+1,max_error, sse_accum))\n",
    "\n",
    "\n",
    "    return user_mat, feature_mat "
   ]
  },
  {
   "cell_type": "code",
   "execution_count": null,
   "metadata": {},
   "outputs": [],
   "source": [
    "user_mat2, feature_mat2 = FunkSVD(trans_mat,latent_features=30, learning_rate = 0.00005,iters = 100)"
   ]
  },
  {
   "cell_type": "markdown",
   "metadata": {},
   "source": [
    "Funk SVD\n"
   ]
  },
  {
   "cell_type": "code",
   "execution_count": null,
   "metadata": {},
   "outputs": [],
   "source": [
    "trans_mat"
   ]
  },
  {
   "cell_type": "code",
   "execution_count": null,
   "metadata": {},
   "outputs": [],
   "source": [
    "pred = np.dot(user_mat,feature_mat)"
   ]
  },
  {
   "cell_type": "code",
   "execution_count": null,
   "metadata": {},
   "outputs": [],
   "source": [
    "pred2 = np.dot(user_mat2,feature_mat2)\n",
    "pred_df2 = pd.DataFrame(pred2, index = trans_mat_df.index, columns = trans_mat_df.columns )\n",
    "pred_df2.head(10)"
   ]
  },
  {
   "cell_type": "code",
   "execution_count": null,
   "metadata": {},
   "outputs": [],
   "source": [
    "trans_mat_df.head(10)"
   ]
  },
  {
   "cell_type": "code",
   "execution_count": null,
   "metadata": {},
   "outputs": [],
   "source": [
    "pred_df = pd.DataFrame(pred, index = trans_mat_df_funk.index, columns = trans_mat_df_funk.columns )\n",
    "pred_df.head()"
   ]
  },
  {
   "cell_type": "code",
   "execution_count": null,
   "metadata": {},
   "outputs": [],
   "source": [
    "trans_mat_df_funk.head()"
   ]
  },
  {
   "cell_type": "code",
   "execution_count": null,
   "metadata": {},
   "outputs": [],
   "source": [
    "trans_mat_df_funk.apply(pd.unique)"
   ]
  },
  {
   "cell_type": "code",
   "execution_count": null,
   "metadata": {},
   "outputs": [],
   "source": []
  }
 ],
 "metadata": {
  "kernelspec": {
   "display_name": "Python 3 (ipykernel)",
   "language": "python",
   "name": "python3"
  },
  "language_info": {
   "codemirror_mode": {
    "name": "ipython",
    "version": 3
   },
   "file_extension": ".py",
   "mimetype": "text/x-python",
   "name": "python",
   "nbconvert_exporter": "python",
   "pygments_lexer": "ipython3",
   "version": "3.9.9"
  }
 },
 "nbformat": 4,
 "nbformat_minor": 4
}
